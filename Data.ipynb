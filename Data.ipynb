{
  "cells": [
    {
      "cell_type": "markdown",
      "id": "20c75553",
      "metadata": {
        "id": "20c75553"
      },
      "source": [
        "# Setup"
      ]
    },
    {
      "cell_type": "markdown",
      "id": "a3a9bf5a",
      "metadata": {
        "id": "a3a9bf5a"
      },
      "source": [
        "## Package Installation"
      ]
    },
    {
      "cell_type": "code",
      "execution_count": 47,
      "id": "767eb3d7",
      "metadata": {
        "colab": {
          "base_uri": "https://localhost:8080/"
        },
        "id": "767eb3d7",
        "outputId": "cfb00201-5d19-498f-fb62-03a0855c0670"
      },
      "outputs": [
        {
          "output_type": "stream",
          "name": "stdout",
          "text": [
            "Requirement already satisfied: torchvision in /usr/local/lib/python3.11/dist-packages (0.21.0+cu124)\n",
            "Requirement already satisfied: numpy in /usr/local/lib/python3.11/dist-packages (from torchvision) (2.0.2)\n",
            "Requirement already satisfied: torch==2.6.0 in /usr/local/lib/python3.11/dist-packages (from torchvision) (2.6.0+cu124)\n",
            "Requirement already satisfied: pillow!=8.3.*,>=5.3.0 in /usr/local/lib/python3.11/dist-packages (from torchvision) (11.1.0)\n",
            "Requirement already satisfied: filelock in /usr/local/lib/python3.11/dist-packages (from torch==2.6.0->torchvision) (3.18.0)\n",
            "Requirement already satisfied: typing-extensions>=4.10.0 in /usr/local/lib/python3.11/dist-packages (from torch==2.6.0->torchvision) (4.13.2)\n",
            "Requirement already satisfied: networkx in /usr/local/lib/python3.11/dist-packages (from torch==2.6.0->torchvision) (3.4.2)\n",
            "Requirement already satisfied: jinja2 in /usr/local/lib/python3.11/dist-packages (from torch==2.6.0->torchvision) (3.1.6)\n",
            "Requirement already satisfied: fsspec in /usr/local/lib/python3.11/dist-packages (from torch==2.6.0->torchvision) (2025.3.2)\n",
            "Requirement already satisfied: nvidia-cuda-nvrtc-cu12==12.4.127 in /usr/local/lib/python3.11/dist-packages (from torch==2.6.0->torchvision) (12.4.127)\n",
            "Requirement already satisfied: nvidia-cuda-runtime-cu12==12.4.127 in /usr/local/lib/python3.11/dist-packages (from torch==2.6.0->torchvision) (12.4.127)\n",
            "Requirement already satisfied: nvidia-cuda-cupti-cu12==12.4.127 in /usr/local/lib/python3.11/dist-packages (from torch==2.6.0->torchvision) (12.4.127)\n",
            "Requirement already satisfied: nvidia-cudnn-cu12==9.1.0.70 in /usr/local/lib/python3.11/dist-packages (from torch==2.6.0->torchvision) (9.1.0.70)\n",
            "Requirement already satisfied: nvidia-cublas-cu12==12.4.5.8 in /usr/local/lib/python3.11/dist-packages (from torch==2.6.0->torchvision) (12.4.5.8)\n",
            "Requirement already satisfied: nvidia-cufft-cu12==11.2.1.3 in /usr/local/lib/python3.11/dist-packages (from torch==2.6.0->torchvision) (11.2.1.3)\n",
            "Requirement already satisfied: nvidia-curand-cu12==10.3.5.147 in /usr/local/lib/python3.11/dist-packages (from torch==2.6.0->torchvision) (10.3.5.147)\n",
            "Requirement already satisfied: nvidia-cusolver-cu12==11.6.1.9 in /usr/local/lib/python3.11/dist-packages (from torch==2.6.0->torchvision) (11.6.1.9)\n",
            "Requirement already satisfied: nvidia-cusparse-cu12==12.3.1.170 in /usr/local/lib/python3.11/dist-packages (from torch==2.6.0->torchvision) (12.3.1.170)\n",
            "Requirement already satisfied: nvidia-cusparselt-cu12==0.6.2 in /usr/local/lib/python3.11/dist-packages (from torch==2.6.0->torchvision) (0.6.2)\n",
            "Requirement already satisfied: nvidia-nccl-cu12==2.21.5 in /usr/local/lib/python3.11/dist-packages (from torch==2.6.0->torchvision) (2.21.5)\n",
            "Requirement already satisfied: nvidia-nvtx-cu12==12.4.127 in /usr/local/lib/python3.11/dist-packages (from torch==2.6.0->torchvision) (12.4.127)\n",
            "Requirement already satisfied: nvidia-nvjitlink-cu12==12.4.127 in /usr/local/lib/python3.11/dist-packages (from torch==2.6.0->torchvision) (12.4.127)\n",
            "Requirement already satisfied: triton==3.2.0 in /usr/local/lib/python3.11/dist-packages (from torch==2.6.0->torchvision) (3.2.0)\n",
            "Requirement already satisfied: sympy==1.13.1 in /usr/local/lib/python3.11/dist-packages (from torch==2.6.0->torchvision) (1.13.1)\n",
            "Requirement already satisfied: mpmath<1.4,>=1.1.0 in /usr/local/lib/python3.11/dist-packages (from sympy==1.13.1->torch==2.6.0->torchvision) (1.3.0)\n",
            "Requirement already satisfied: MarkupSafe>=2.0 in /usr/local/lib/python3.11/dist-packages (from jinja2->torch==2.6.0->torchvision) (3.0.2)\n"
          ]
        }
      ],
      "source": [
        "%pip install torchvision"
      ]
    },
    {
      "cell_type": "code",
      "execution_count": 48,
      "id": "bf332fed",
      "metadata": {
        "colab": {
          "base_uri": "https://localhost:8080/"
        },
        "id": "bf332fed",
        "outputId": "81f25fb8-c78a-44a5-c5a2-b8faf91b4126"
      },
      "outputs": [
        {
          "output_type": "stream",
          "name": "stdout",
          "text": [
            "2.6.0+cu124\n",
            "We are using the device cuda.\n",
            "Device count: 1\n",
            "Device name: Tesla T4\n"
          ]
        }
      ],
      "source": [
        "import numpy as np\n",
        "from torchvision.datasets import CIFAR100\n",
        "from collections import defaultdict\n",
        "import random\n",
        "import pickle\n",
        "from tqdm import tqdm\n",
        "import torch\n",
        "import torch.nn as nn\n",
        "import matplotlib.pyplot as plt\n",
        "from collections import defaultdict\n",
        "from torchvision.models import resnet50, resnet18\n",
        "import gc\n",
        "from PIL import Image\n",
        "from torchvision import transforms\n",
        "\n",
        "print(torch.__version__)\n",
        "device = torch.device(\"cuda\" if torch.cuda.is_available() else \"cpu\")\n",
        "print('We are using the device {}.'.format(device))\n",
        "if torch.cuda.is_available():\n",
        "    print(f\"Device count: {torch.cuda.device_count()}\")\n",
        "    print(f\"Device name: {torch.cuda.get_device_name(0)}\")"
      ]
    },
    {
      "cell_type": "markdown",
      "id": "5a0e37df",
      "metadata": {
        "id": "5a0e37df"
      },
      "source": [
        "## Utils"
      ]
    },
    {
      "cell_type": "code",
      "execution_count": 49,
      "id": "83ccd899",
      "metadata": {
        "id": "83ccd899"
      },
      "outputs": [],
      "source": [
        "def clear_gpu_memory():\n",
        "    gc.collect()\n",
        "    torch.cuda.empty_cache()\n",
        "    torch.cuda.ipc_collect()\n",
        "clear_gpu_memory()"
      ]
    },
    {
      "cell_type": "code",
      "execution_count": 50,
      "id": "f6e86099",
      "metadata": {
        "colab": {
          "base_uri": "https://localhost:8080/"
        },
        "id": "f6e86099",
        "outputId": "460a5414-f495-425e-ed2b-f9b5a084623d"
      },
      "outputs": [
        {
          "output_type": "stream",
          "name": "stdout",
          "text": [
            "Total GPU memory: 14.74 GB\n",
            "Currently allocated: 1.22 GB\n",
            "Cached: 1.67 GB\n"
          ]
        }
      ],
      "source": [
        "def display_gpu_memory():\n",
        "    # Display total GPU memory\n",
        "    print(f\"Total GPU memory: {torch.cuda.get_device_properties(0).total_memory / 1024**3:.2f} GB\")\n",
        "\n",
        "    # Display currently allocated memory\n",
        "    print(f\"Currently allocated: {torch.cuda.memory_allocated(0) / 1024**3:.2f} GB\")\n",
        "\n",
        "    # Display cached memory (reserved by PyTorch but not used)\n",
        "    print(f\"Cached: {torch.cuda.memory_reserved(0) / 1024**3:.2f} GB\")\n",
        "display_gpu_memory()"
      ]
    },
    {
      "cell_type": "markdown",
      "id": "e898be45",
      "metadata": {
        "id": "e898be45"
      },
      "source": [
        "## Dataset"
      ]
    },
    {
      "cell_type": "code",
      "execution_count": 51,
      "id": "8962811b",
      "metadata": {
        "colab": {
          "base_uri": "https://localhost:8080/"
        },
        "id": "8962811b",
        "outputId": "d9932dc9-63f2-43dd-c983-80220674509d"
      },
      "outputs": [
        {
          "output_type": "stream",
          "name": "stdout",
          "text": [
            "Dataset CIFAR100\n",
            "    Number of datapoints: 50000\n",
            "    Root location: ./data\n",
            "    Split: Train\n",
            "{0: b'apple', 1: b'aquarium_fish', 2: b'baby', 3: b'bear', 4: b'beaver', 5: b'bed', 6: b'bee', 7: b'beetle', 8: b'bicycle', 9: b'bottle', 10: b'bowl', 11: b'boy', 12: b'bridge', 13: b'bus', 14: b'butterfly', 15: b'camel', 16: b'can', 17: b'castle', 18: b'caterpillar', 19: b'cattle', 20: b'chair', 21: b'chimpanzee', 22: b'clock', 23: b'cloud', 24: b'cockroach', 25: b'couch', 26: b'crab', 27: b'crocodile', 28: b'cup', 29: b'dinosaur', 30: b'dolphin', 31: b'elephant', 32: b'flatfish', 33: b'forest', 34: b'fox', 35: b'girl', 36: b'hamster', 37: b'house', 38: b'kangaroo', 39: b'keyboard', 40: b'lamp', 41: b'lawn_mower', 42: b'leopard', 43: b'lion', 44: b'lizard', 45: b'lobster', 46: b'man', 47: b'maple_tree', 48: b'motorcycle', 49: b'mountain', 50: b'mouse', 51: b'mushroom', 52: b'oak_tree', 53: b'orange', 54: b'orchid', 55: b'otter', 56: b'palm_tree', 57: b'pear', 58: b'pickup_truck', 59: b'pine_tree', 60: b'plain', 61: b'plate', 62: b'poppy', 63: b'porcupine', 64: b'possum', 65: b'rabbit', 66: b'raccoon', 67: b'ray', 68: b'road', 69: b'rocket', 70: b'rose', 71: b'sea', 72: b'seal', 73: b'shark', 74: b'shrew', 75: b'skunk', 76: b'skyscraper', 77: b'snail', 78: b'snake', 79: b'spider', 80: b'squirrel', 81: b'streetcar', 82: b'sunflower', 83: b'sweet_pepper', 84: b'table', 85: b'tank', 86: b'telephone', 87: b'television', 88: b'tiger', 89: b'tractor', 90: b'train', 91: b'trout', 92: b'tulip', 93: b'turtle', 94: b'wardrobe', 95: b'whale', 96: b'willow_tree', 97: b'wolf', 98: b'woman', 99: b'worm'}\n"
          ]
        }
      ],
      "source": [
        "# Get Dataset\n",
        "dataset = CIFAR100(root='./data', train=True, download=True)\n",
        "print(dataset)\n",
        "\n",
        "with open('data/cifar-100-python/meta', 'rb') as fo:\n",
        "    metadata = pickle.load(fo, encoding='bytes')\n",
        "\n",
        "classLabels = dict(list(enumerate(metadata[b'fine_label_names'])))\n",
        "print(classLabels)"
      ]
    },
    {
      "cell_type": "code",
      "execution_count": 52,
      "id": "6bb303c0",
      "metadata": {
        "id": "6bb303c0"
      },
      "outputs": [],
      "source": [
        "with open('data/cifar-100-python/train', 'rb') as fo:\n",
        "    trainMeta = pickle.load(fo, encoding='bytes')\n",
        "\n",
        "with open('data/cifar-100-python/test', 'rb') as fo:\n",
        "    testMeta = pickle.load(fo, encoding='bytes')\n",
        "\n",
        "\n",
        "totalTest = len(testMeta[b'data'])\n",
        "valNum = 4000\n",
        "\n",
        "# Get training/testing data and labels\n",
        "trainData = trainMeta[b'data']\n",
        "trainData = trainData.reshape((len(trainData), 3, 32, 32))\n",
        "trainLabel = np.array(trainMeta[b'fine_labels'])\n",
        "\n",
        "mask = list(range(valNum))\n",
        "valData = testMeta[b'data'][mask]\n",
        "valData = valData.reshape((len(valData), 3, 32, 32))\n",
        "valLabel = np.array(testMeta[b'fine_labels'])[mask]\n",
        "\n",
        "mask = list(range(valNum, totalTest))\n",
        "testData = testMeta[b'data'][mask]\n",
        "testData = testData.reshape((len(testData), 3, 32, 32))\n",
        "testLabel = np.array(testMeta[b'fine_labels'])[mask]"
      ]
    },
    {
      "cell_type": "code",
      "execution_count": 53,
      "id": "cc7c85e8",
      "metadata": {
        "colab": {
          "base_uri": "https://localhost:8080/",
          "height": 0
        },
        "id": "cc7c85e8",
        "outputId": "202cc1bc-8034-4980-c569-46c3036756a8"
      },
      "outputs": [
        {
          "output_type": "stream",
          "name": "stdout",
          "text": [
            "[500, 485, 470, 456, 442, 429, 416, 404, 392, 380, 369, 358, 347, 337, 327, 317, 308, 298, 290, 281, 272, 264, 256, 249, 241, 234, 227, 220, 214, 207, 201, 195, 189, 184, 178, 173, 168, 163, 158, 153, 149, 144, 140, 136, 132, 128, 124, 120, 116, 113, 110, 106, 103, 100, 97, 94, 91, 89, 86, 83, 81, 78, 76, 74, 72, 69, 67, 65, 63, 61, 60, 58, 56, 54, 53, 51, 50, 48, 47, 45, 44, 43, 41, 40, 39, 38, 37, 35, 34, 33, 32, 31, 30, 29, 29, 28, 27, 26, 25, 25]\n",
            "15907\n"
          ]
        },
        {
          "output_type": "display_data",
          "data": {
            "text/plain": [
              "<Figure size 640x480 with 1 Axes>"
            ],
            "image/png": "[encoded data removed]"
          },
          "metadata": {}
        }
      ],
      "source": [
        "# Get the number of images per class\n",
        "imgPerClass = []\n",
        "\n",
        "for cls in range(100):\n",
        "    num = 500 * (0.05 ** (cls / 99))\n",
        "    imgPerClass.append(int(num))\n",
        "\n",
        "print(imgPerClass)\n",
        "print(np.sum(imgPerClass))\n",
        "plt.plot(imgPerClass)\n",
        "plt.xlabel(\"Class Index\")\n",
        "plt.ylabel(\"Number of Images\")\n",
        "plt.title(\"Long-Tailed Class Distribution (CIFAR-100)\")\n",
        "plt.grid(True)\n",
        "plt.show()"
      ]
    },
    {
      "cell_type": "code",
      "execution_count": 54,
      "id": "1852985b",
      "metadata": {
        "id": "1852985b"
      },
      "outputs": [],
      "source": [
        "# Get LT training data\n",
        "trainDataLT, trainLabelLT = [], []\n",
        "clsList = list(range(100))\n",
        "random.shuffle(clsList)\n",
        "\n",
        "for cls, numImg in enumerate(imgPerClass):\n",
        "    clsIndx = np.where(trainLabel == clsList[cls])[0]\n",
        "    numSampledImages = np.random.choice(clsIndx, numImg, replace=False)\n",
        "\n",
        "    trainDataLT.append(trainData[numSampledImages])\n",
        "    trainLabelLT.append(trainLabel[numSampledImages])\n",
        "\n",
        "trainDataLT, trainLabelLT = np.concatenate(trainDataLT), np.concatenate(trainLabelLT)"
      ]
    },
    {
      "cell_type": "markdown",
      "id": "e177c5f2",
      "metadata": {
        "id": "e177c5f2"
      },
      "source": [
        "# Training"
      ]
    },
    {
      "cell_type": "code",
      "execution_count": 55,
      "id": "173f8838",
      "metadata": {
        "id": "173f8838"
      },
      "outputs": [],
      "source": [
        "def train_model(trainData, valData, epochs: int, model=None, optimizer=None, scheduler=None, lossFunc=None, freq=200) -> None:\n",
        "\n",
        "    for epoch in range(epochs):\n",
        "        model.train()\n",
        "\n",
        "        avgLoss = 0\n",
        "        batchCorrect = 0\n",
        "        batchNum = 0\n",
        "\n",
        "        totalCorrect = 0\n",
        "        totalNum = 0\n",
        "\n",
        "        for i, batch in tqdm(enumerate(trainData)):\n",
        "            data, labels = batch\n",
        "\n",
        "            data = data.to(device)\n",
        "            labels = labels.to(device)\n",
        "\n",
        "            optimizer.zero_grad()\n",
        "            output = model(data)\n",
        "\n",
        "            loss = lossFunc(output, labels)\n",
        "            loss.backward()\n",
        "            optimizer.step()\n",
        "\n",
        "            avgLoss += loss.item()\n",
        "            pred = torch.argmax(output, 1)\n",
        "\n",
        "            batchCorrect += (pred == labels).sum().item()\n",
        "            totalCorrect += (pred == labels).sum().item()\n",
        "            totalNum += labels.size(0)\n",
        "            batchNum += labels.size(0)\n",
        "\n",
        "            if i % freq == 0:    # print every certain number of mini-batches\n",
        "                avgLoss = avgLoss / freq\n",
        "                accuracy = batchCorrect / batchNum\n",
        "                last_lr = scheduler.get_last_lr()[0]\n",
        "                print(f'[{epoch + 1}/{epochs}, {i + 1:5d}/{len(trainData)}] lr: {last_lr:.5f} loss: {avgLoss:.3f} acc: {accuracy:.3f}')\n",
        "                avgLoss = 0.0\n",
        "                batchCorrect = 0.0\n",
        "                batchNum = 0.0\n",
        "\n",
        "        scheduler.step()\n",
        "\n",
        "        valAcc, _, _, _ = test_model(model, valData, True)\n",
        "        trainAcc = totalCorrect / totalNum\n",
        "        print(f'[{epoch + 1}/{epochs}] val acc: {valAcc:.3f} train acc: {trainAcc:.3f}')\n",
        "\n",
        "        totalCorrect = 0\n",
        "        totalNum = 0"
      ]
    },
    {
      "cell_type": "markdown",
      "id": "98da4d4f",
      "metadata": {
        "id": "98da4d4f"
      },
      "source": [
        "# Testing"
      ]
    },
    {
      "cell_type": "code",
      "execution_count": 56,
      "id": "edfd3c78",
      "metadata": {
        "id": "edfd3c78"
      },
      "outputs": [],
      "source": [
        "def test_model(model, dataSet, classAcc=False):\n",
        "\n",
        "    model.eval()\n",
        "    correct = 0\n",
        "    total = 0\n",
        "\n",
        "    classCorrect = defaultdict(int)\n",
        "    classTotal = defaultdict(int)\n",
        "\n",
        "    with torch.no_grad():\n",
        "        for batch_data in dataSet:\n",
        "            images, labels = batch_data\n",
        "\n",
        "            images = images.to(device)\n",
        "            labels = labels.to(device)\n",
        "\n",
        "            output = model(images)\n",
        "            predicted = torch.argmax(output, 1)\n",
        "\n",
        "            for label, pred in zip(labels, predicted):\n",
        "                classTotal[label.item()] += 1\n",
        "                if pred == label:\n",
        "                    classCorrect[label.item()] += 1\n",
        "\n",
        "                total += 1\n",
        "                correct += (pred == label).item()\n",
        "\n",
        "    acc = correct / total\n",
        "\n",
        "    if classAcc:\n",
        "        head = clsList[:30]\n",
        "        mid = clsList[30:70]\n",
        "        tail = clsList[70:]\n",
        "\n",
        "        def groupAcc(group):\n",
        "            return sum(classCorrect[c] for c in group) / sum(classTotal[c] for c in group)\n",
        "\n",
        "        headAcc = groupAcc(head)\n",
        "        midAcc = groupAcc(mid)\n",
        "        tailAcc = groupAcc(tail)\n",
        "\n",
        "        print(f\"Test Accuracy - Overall: {100*acc:.2f}% | Head: {100*headAcc:.2f}% | Mid: {100*midAcc:.2f}% | Tail: {100*tailAcc:.2f}%\")\n",
        "        return acc, headAcc, midAcc, tailAcc\n",
        "\n",
        "    return acc"
      ]
    },
    {
      "cell_type": "markdown",
      "id": "6a4816fb",
      "metadata": {
        "id": "6a4816fb"
      },
      "source": [
        "# Base Model (ResNet-50)"
      ]
    },
    {
      "cell_type": "code",
      "execution_count": null,
      "id": "26d11674",
      "metadata": {
        "id": "26d11674",
        "outputId": "4be2d214-cb5a-4940-aae0-4936d80bd6a7"
      },
      "outputs": [
        {
          "name": "stderr",
          "output_type": "stream",
          "text": [
            "9it [00:00, 42.99it/s]"
          ]
        },
        {
          "name": "stdout",
          "output_type": "stream",
          "text": [
            "[1/20,     1/498] lr: 0.01000 loss: 0.023 acc: 0.000\n"
          ]
        },
        {
          "name": "stderr",
          "output_type": "stream",
          "text": [
            "210it [00:04, 48.04it/s]"
          ]
        },
        {
          "name": "stdout",
          "output_type": "stream",
          "text": [
            "[1/20,   201/498] lr: 0.01000 loss: 5.200 acc: 0.038\n"
          ]
        },
        {
          "name": "stderr",
          "output_type": "stream",
          "text": [
            "410it [00:08, 48.92it/s]"
          ]
        },
        {
          "name": "stdout",
          "output_type": "stream",
          "text": [
            "[1/20,   401/498] lr: 0.01000 loss: 4.050 acc: 0.070\n"
          ]
        },
        {
          "name": "stderr",
          "output_type": "stream",
          "text": [
            "498it [00:10, 47.83it/s]\n"
          ]
        },
        {
          "name": "stdout",
          "output_type": "stream",
          "text": [
            "Test Accuracy - Overall: 3.15% | Head: 10.40% | Mid: 0.00% | Tail: 0.00%\n",
            "[1/20] val acc: 0.032 train acc: 0.064\n"
          ]
        },
        {
          "name": "stderr",
          "output_type": "stream",
          "text": [
            "0it [00:00, ?it/s]"
          ]
        },
        {
          "name": "stdout",
          "output_type": "stream",
          "text": [
            "[2/20,     1/498] lr: 0.00994 loss: 0.019 acc: 0.156\n"
          ]
        },
        {
          "name": "stderr",
          "output_type": "stream",
          "text": [
            "205it [00:04, 41.20it/s]"
          ]
        },
        {
          "name": "stdout",
          "output_type": "stream",
          "text": [
            "[2/20,   201/498] lr: 0.00994 loss: 3.936 acc: 0.083\n"
          ]
        },
        {
          "name": "stderr",
          "output_type": "stream",
          "text": [
            "405it [00:09, 43.68it/s]"
          ]
        },
        {
          "name": "stdout",
          "output_type": "stream",
          "text": [
            "[2/20,   401/498] lr: 0.00994 loss: 3.832 acc: 0.100\n"
          ]
        },
        {
          "name": "stderr",
          "output_type": "stream",
          "text": [
            "498it [00:11, 41.71it/s]\n"
          ]
        },
        {
          "name": "stdout",
          "output_type": "stream",
          "text": [
            "Test Accuracy - Overall: 6.00% | Head: 18.89% | Mid: 0.69% | Tail: 0.00%\n",
            "[2/20] val acc: 0.060 train acc: 0.094\n"
          ]
        },
        {
          "name": "stderr",
          "output_type": "stream",
          "text": [
            "5it [00:00, 41.57it/s]"
          ]
        },
        {
          "name": "stdout",
          "output_type": "stream",
          "text": [
            "[3/20,     1/498] lr: 0.00976 loss: 0.018 acc: 0.125\n"
          ]
        },
        {
          "name": "stderr",
          "output_type": "stream",
          "text": [
            "210it [00:04, 47.73it/s]"
          ]
        },
        {
          "name": "stdout",
          "output_type": "stream",
          "text": [
            "[3/20,   201/498] lr: 0.00976 loss: 3.724 acc: 0.113\n"
          ]
        },
        {
          "name": "stderr",
          "output_type": "stream",
          "text": [
            "410it [00:08, 47.52it/s]"
          ]
        },
        {
          "name": "stdout",
          "output_type": "stream",
          "text": [
            "[3/20,   401/498] lr: 0.00976 loss: 3.684 acc: 0.119\n"
          ]
        },
        {
          "name": "stderr",
          "output_type": "stream",
          "text": [
            "498it [00:10, 47.15it/s]\n"
          ]
        },
        {
          "name": "stdout",
          "output_type": "stream",
          "text": [
            "Test Accuracy - Overall: 5.62% | Head: 17.49% | Mid: 0.81% | Tail: 0.00%\n",
            "[3/20] val acc: 0.056 train acc: 0.119\n"
          ]
        },
        {
          "name": "stderr",
          "output_type": "stream",
          "text": [
            "0it [00:00, ?it/s]"
          ]
        },
        {
          "name": "stdout",
          "output_type": "stream",
          "text": [
            "[4/20,     1/498] lr: 0.00946 loss: 0.017 acc: 0.156\n"
          ]
        },
        {
          "name": "stderr",
          "output_type": "stream",
          "text": [
            "209it [00:04, 46.97it/s]"
          ]
        },
        {
          "name": "stdout",
          "output_type": "stream",
          "text": [
            "[4/20,   201/498] lr: 0.00946 loss: 3.631 acc: 0.128\n"
          ]
        },
        {
          "name": "stderr",
          "output_type": "stream",
          "text": [
            "409it [00:08, 48.12it/s]"
          ]
        },
        {
          "name": "stdout",
          "output_type": "stream",
          "text": [
            "[4/20,   401/498] lr: 0.00946 loss: 3.555 acc: 0.148\n"
          ]
        },
        {
          "name": "stderr",
          "output_type": "stream",
          "text": [
            "498it [00:10, 46.72it/s]\n"
          ]
        },
        {
          "name": "stdout",
          "output_type": "stream",
          "text": [
            "Test Accuracy - Overall: 7.58% | Head: 20.96% | Mid: 3.06% | Tail: 0.00%\n",
            "[4/20] val acc: 0.076 train acc: 0.140\n"
          ]
        },
        {
          "name": "stderr",
          "output_type": "stream",
          "text": [
            "0it [00:00, ?it/s]"
          ]
        },
        {
          "name": "stdout",
          "output_type": "stream",
          "text": [
            "[5/20,     1/498] lr: 0.00905 loss: 0.019 acc: 0.188\n"
          ]
        },
        {
          "name": "stderr",
          "output_type": "stream",
          "text": [
            "210it [00:04, 47.68it/s]"
          ]
        },
        {
          "name": "stdout",
          "output_type": "stream",
          "text": [
            "[5/20,   201/498] lr: 0.00905 loss: 3.487 acc: 0.158\n"
          ]
        },
        {
          "name": "stderr",
          "output_type": "stream",
          "text": [
            "410it [00:08, 48.06it/s]"
          ]
        },
        {
          "name": "stdout",
          "output_type": "stream",
          "text": [
            "[5/20,   401/498] lr: 0.00905 loss: 3.409 acc: 0.175\n"
          ]
        },
        {
          "name": "stderr",
          "output_type": "stream",
          "text": [
            "498it [00:10, 47.34it/s]\n"
          ]
        },
        {
          "name": "stdout",
          "output_type": "stream",
          "text": [
            "Test Accuracy - Overall: 8.95% | Head: 24.17% | Mid: 4.00% | Tail: 0.08%\n",
            "[5/20] val acc: 0.089 train acc: 0.169\n"
          ]
        },
        {
          "name": "stderr",
          "output_type": "stream",
          "text": [
            "0it [00:00, ?it/s]"
          ]
        },
        {
          "name": "stdout",
          "output_type": "stream",
          "text": [
            "[6/20,     1/498] lr: 0.00854 loss: 0.015 acc: 0.188\n"
          ]
        },
        {
          "name": "stderr",
          "output_type": "stream",
          "text": [
            "209it [00:04, 43.81it/s]"
          ]
        },
        {
          "name": "stdout",
          "output_type": "stream",
          "text": [
            "[6/20,   201/498] lr: 0.00854 loss: 3.314 acc: 0.188\n"
          ]
        },
        {
          "name": "stderr",
          "output_type": "stream",
          "text": [
            "409it [00:09, 44.66it/s]"
          ]
        },
        {
          "name": "stdout",
          "output_type": "stream",
          "text": [
            "[6/20,   401/498] lr: 0.00854 loss: 3.274 acc: 0.198\n"
          ]
        },
        {
          "name": "stderr",
          "output_type": "stream",
          "text": [
            "498it [00:11, 43.99it/s]\n"
          ]
        },
        {
          "name": "stdout",
          "output_type": "stream",
          "text": [
            "Test Accuracy - Overall: 11.55% | Head: 25.08% | Mid: 9.61% | Tail: 0.34%\n",
            "[6/20] val acc: 0.116 train acc: 0.195\n"
          ]
        },
        {
          "name": "stderr",
          "output_type": "stream",
          "text": [
            "0it [00:00, ?it/s]"
          ]
        },
        {
          "name": "stdout",
          "output_type": "stream",
          "text": [
            "[7/20,     1/498] lr: 0.00794 loss: 0.016 acc: 0.250\n"
          ]
        },
        {
          "name": "stderr",
          "output_type": "stream",
          "text": [
            "209it [00:04, 40.55it/s]"
          ]
        },
        {
          "name": "stdout",
          "output_type": "stream",
          "text": [
            "[7/20,   201/498] lr: 0.00794 loss: 3.173 acc: 0.210\n"
          ]
        },
        {
          "name": "stderr",
          "output_type": "stream",
          "text": [
            "409it [00:09, 42.01it/s]"
          ]
        },
        {
          "name": "stdout",
          "output_type": "stream",
          "text": [
            "[7/20,   401/498] lr: 0.00794 loss: 3.137 acc: 0.227\n"
          ]
        },
        {
          "name": "stderr",
          "output_type": "stream",
          "text": [
            "498it [00:11, 42.00it/s]\n"
          ]
        },
        {
          "name": "stdout",
          "output_type": "stream",
          "text": [
            "Test Accuracy - Overall: 14.30% | Head: 29.46% | Mid: 11.86% | Tail: 2.11%\n",
            "[7/20] val acc: 0.143 train acc: 0.222\n"
          ]
        },
        {
          "name": "stderr",
          "output_type": "stream",
          "text": [
            "0it [00:00, ?it/s]"
          ]
        },
        {
          "name": "stdout",
          "output_type": "stream",
          "text": [
            "[8/20,     1/498] lr: 0.00727 loss: 0.014 acc: 0.344\n"
          ]
        },
        {
          "name": "stderr",
          "output_type": "stream",
          "text": [
            "205it [00:04, 41.63it/s]"
          ]
        },
        {
          "name": "stdout",
          "output_type": "stream",
          "text": [
            "[8/20,   201/498] lr: 0.00727 loss: 3.024 acc: 0.247\n"
          ]
        },
        {
          "name": "stderr",
          "output_type": "stream",
          "text": [
            "405it [00:09, 41.60it/s]"
          ]
        },
        {
          "name": "stdout",
          "output_type": "stream",
          "text": [
            "[8/20,   401/498] lr: 0.00727 loss: 2.941 acc: 0.260\n"
          ]
        },
        {
          "name": "stderr",
          "output_type": "stream",
          "text": [
            "498it [00:11, 41.63it/s]\n"
          ]
        },
        {
          "name": "stdout",
          "output_type": "stream",
          "text": [
            "Test Accuracy - Overall: 14.62% | Head: 29.46% | Mid: 12.11% | Tail: 2.87%\n",
            "[8/20] val acc: 0.146 train acc: 0.255\n"
          ]
        },
        {
          "name": "stderr",
          "output_type": "stream",
          "text": [
            "0it [00:00, ?it/s]"
          ]
        },
        {
          "name": "stdout",
          "output_type": "stream",
          "text": [
            "[9/20,     1/498] lr: 0.00655 loss: 0.014 acc: 0.250\n"
          ]
        },
        {
          "name": "stderr",
          "output_type": "stream",
          "text": [
            "210it [00:04, 48.26it/s]"
          ]
        },
        {
          "name": "stdout",
          "output_type": "stream",
          "text": [
            "[9/20,   201/498] lr: 0.00655 loss: 2.839 acc: 0.280\n"
          ]
        },
        {
          "name": "stderr",
          "output_type": "stream",
          "text": [
            "410it [00:08, 47.87it/s]"
          ]
        },
        {
          "name": "stdout",
          "output_type": "stream",
          "text": [
            "[9/20,   401/498] lr: 0.00655 loss: 2.822 acc: 0.283\n"
          ]
        },
        {
          "name": "stderr",
          "output_type": "stream",
          "text": [
            "498it [00:10, 46.93it/s]\n"
          ]
        },
        {
          "name": "stdout",
          "output_type": "stream",
          "text": [
            "Test Accuracy - Overall: 15.57% | Head: 33.91% | Mid: 12.11% | Tail: 1.52%\n",
            "[9/20] val acc: 0.156 train acc: 0.282\n"
          ]
        },
        {
          "name": "stderr",
          "output_type": "stream",
          "text": [
            "0it [00:00, ?it/s]"
          ]
        },
        {
          "name": "stdout",
          "output_type": "stream",
          "text": [
            "[10/20,     1/498] lr: 0.00578 loss: 0.012 acc: 0.375\n"
          ]
        },
        {
          "name": "stderr",
          "output_type": "stream",
          "text": [
            "205it [00:04, 40.87it/s]"
          ]
        },
        {
          "name": "stdout",
          "output_type": "stream",
          "text": [
            "[10/20,   201/498] lr: 0.00578 loss: 2.723 acc: 0.306\n"
          ]
        },
        {
          "name": "stderr",
          "output_type": "stream",
          "text": [
            "405it [00:09, 42.93it/s]"
          ]
        },
        {
          "name": "stdout",
          "output_type": "stream",
          "text": [
            "[10/20,   401/498] lr: 0.00578 loss: 2.690 acc: 0.315\n"
          ]
        },
        {
          "name": "stderr",
          "output_type": "stream",
          "text": [
            "498it [00:12, 41.29it/s]\n"
          ]
        },
        {
          "name": "stdout",
          "output_type": "stream",
          "text": [
            "Test Accuracy - Overall: 17.15% | Head: 36.63% | Mid: 13.80% | Tail: 1.77%\n",
            "[10/20] val acc: 0.172 train acc: 0.311\n"
          ]
        },
        {
          "name": "stderr",
          "output_type": "stream",
          "text": [
            "4it [00:00, 36.47it/s]"
          ]
        },
        {
          "name": "stdout",
          "output_type": "stream",
          "text": [
            "[11/20,     1/498] lr: 0.00500 loss: 0.013 acc: 0.250\n"
          ]
        },
        {
          "name": "stderr",
          "output_type": "stream",
          "text": [
            "209it [00:04, 41.38it/s]"
          ]
        },
        {
          "name": "stdout",
          "output_type": "stream",
          "text": [
            "[11/20,   201/498] lr: 0.00500 loss: 2.527 acc: 0.353\n"
          ]
        },
        {
          "name": "stderr",
          "output_type": "stream",
          "text": [
            "409it [00:09, 42.73it/s]"
          ]
        },
        {
          "name": "stdout",
          "output_type": "stream",
          "text": [
            "[11/20,   401/498] lr: 0.00500 loss: 2.530 acc: 0.348\n"
          ]
        },
        {
          "name": "stderr",
          "output_type": "stream",
          "text": [
            "498it [00:11, 42.38it/s]\n"
          ]
        },
        {
          "name": "stdout",
          "output_type": "stream",
          "text": [
            "Test Accuracy - Overall: 20.32% | Head: 34.90% | Mid: 21.29% | Tail: 4.13%\n",
            "[11/20] val acc: 0.203 train acc: 0.350\n"
          ]
        },
        {
          "name": "stderr",
          "output_type": "stream",
          "text": [
            "4it [00:00, 39.20it/s]"
          ]
        },
        {
          "name": "stdout",
          "output_type": "stream",
          "text": [
            "[12/20,     1/498] lr: 0.00422 loss: 0.013 acc: 0.344\n"
          ]
        },
        {
          "name": "stderr",
          "output_type": "stream",
          "text": [
            "209it [00:04, 44.39it/s]"
          ]
        },
        {
          "name": "stdout",
          "output_type": "stream",
          "text": [
            "[12/20,   201/498] lr: 0.00422 loss: 2.318 acc: 0.389\n"
          ]
        },
        {
          "name": "stderr",
          "output_type": "stream",
          "text": [
            "409it [00:09, 44.31it/s]"
          ]
        },
        {
          "name": "stdout",
          "output_type": "stream",
          "text": [
            "[12/20,   401/498] lr: 0.00422 loss: 2.317 acc: 0.390\n"
          ]
        },
        {
          "name": "stderr",
          "output_type": "stream",
          "text": [
            "498it [00:11, 43.91it/s]\n"
          ]
        },
        {
          "name": "stdout",
          "output_type": "stream",
          "text": [
            "Test Accuracy - Overall: 20.70% | Head: 36.80% | Mid: 19.98% | Tail: 5.23%\n",
            "[12/20] val acc: 0.207 train acc: 0.388\n"
          ]
        },
        {
          "name": "stderr",
          "output_type": "stream",
          "text": [
            "4it [00:00, 33.66it/s]"
          ]
        },
        {
          "name": "stdout",
          "output_type": "stream",
          "text": [
            "[13/20,     1/498] lr: 0.00345 loss: 0.010 acc: 0.406\n"
          ]
        },
        {
          "name": "stderr",
          "output_type": "stream",
          "text": [
            "209it [00:04, 41.55it/s]"
          ]
        },
        {
          "name": "stdout",
          "output_type": "stream",
          "text": [
            "[13/20,   201/498] lr: 0.00345 loss: 2.093 acc: 0.435\n"
          ]
        },
        {
          "name": "stderr",
          "output_type": "stream",
          "text": [
            "409it [00:09, 43.42it/s]"
          ]
        },
        {
          "name": "stdout",
          "output_type": "stream",
          "text": [
            "[13/20,   401/498] lr: 0.00345 loss: 2.122 acc: 0.435\n"
          ]
        },
        {
          "name": "stderr",
          "output_type": "stream",
          "text": [
            "498it [00:11, 42.48it/s]\n"
          ]
        },
        {
          "name": "stdout",
          "output_type": "stream",
          "text": [
            "Test Accuracy - Overall: 24.15% | Head: 40.35% | Mid: 24.09% | Tail: 7.67%\n",
            "[13/20] val acc: 0.241 train acc: 0.436\n"
          ]
        },
        {
          "name": "stderr",
          "output_type": "stream",
          "text": [
            "0it [00:00, ?it/s]"
          ]
        },
        {
          "name": "stdout",
          "output_type": "stream",
          "text": [
            "[14/20,     1/498] lr: 0.00273 loss: 0.009 acc: 0.469\n"
          ]
        },
        {
          "name": "stderr",
          "output_type": "stream",
          "text": [
            "209it [00:04, 44.31it/s]"
          ]
        },
        {
          "name": "stdout",
          "output_type": "stream",
          "text": [
            "[14/20,   201/498] lr: 0.00273 loss: 1.820 acc: 0.507\n"
          ]
        },
        {
          "name": "stderr",
          "output_type": "stream",
          "text": [
            "409it [00:09, 43.74it/s]"
          ]
        },
        {
          "name": "stdout",
          "output_type": "stream",
          "text": [
            "[14/20,   401/498] lr: 0.00273 loss: 1.821 acc: 0.500\n"
          ]
        },
        {
          "name": "stderr",
          "output_type": "stream",
          "text": [
            "498it [00:11, 43.42it/s]\n"
          ]
        },
        {
          "name": "stdout",
          "output_type": "stream",
          "text": [
            "Test Accuracy - Overall: 24.75% | Head: 41.67% | Mid: 23.91% | Tail: 8.60%\n",
            "[14/20] val acc: 0.247 train acc: 0.502\n"
          ]
        },
        {
          "name": "stderr",
          "output_type": "stream",
          "text": [
            "0it [00:00, ?it/s]"
          ]
        },
        {
          "name": "stdout",
          "output_type": "stream",
          "text": [
            "[15/20,     1/498] lr: 0.00206 loss: 0.008 acc: 0.531\n"
          ]
        },
        {
          "name": "stderr",
          "output_type": "stream",
          "text": [
            "209it [00:04, 44.56it/s]"
          ]
        },
        {
          "name": "stdout",
          "output_type": "stream",
          "text": [
            "[15/20,   201/498] lr: 0.00206 loss: 1.484 acc: 0.586\n"
          ]
        },
        {
          "name": "stderr",
          "output_type": "stream",
          "text": [
            "409it [00:09, 44.66it/s]"
          ]
        },
        {
          "name": "stdout",
          "output_type": "stream",
          "text": [
            "[15/20,   401/498] lr: 0.00206 loss: 1.515 acc: 0.572\n"
          ]
        },
        {
          "name": "stderr",
          "output_type": "stream",
          "text": [
            "498it [00:11, 43.92it/s]\n"
          ]
        },
        {
          "name": "stdout",
          "output_type": "stream",
          "text": [
            "Test Accuracy - Overall: 24.80% | Head: 41.34% | Mid: 24.84% | Tail: 7.84%\n",
            "[15/20] val acc: 0.248 train acc: 0.577\n"
          ]
        },
        {
          "name": "stderr",
          "output_type": "stream",
          "text": [
            "0it [00:00, ?it/s]"
          ]
        },
        {
          "name": "stdout",
          "output_type": "stream",
          "text": [
            "[16/20,     1/498] lr: 0.00146 loss: 0.005 acc: 0.781\n"
          ]
        },
        {
          "name": "stderr",
          "output_type": "stream",
          "text": [
            "209it [00:05, 41.57it/s]"
          ]
        },
        {
          "name": "stdout",
          "output_type": "stream",
          "text": [
            "[16/20,   201/498] lr: 0.00146 loss: 1.116 acc: 0.695\n"
          ]
        },
        {
          "name": "stderr",
          "output_type": "stream",
          "text": [
            "409it [00:09, 44.66it/s]"
          ]
        },
        {
          "name": "stdout",
          "output_type": "stream",
          "text": [
            "[16/20,   401/498] lr: 0.00146 loss: 1.127 acc: 0.680\n"
          ]
        },
        {
          "name": "stderr",
          "output_type": "stream",
          "text": [
            "498it [00:11, 42.40it/s]\n"
          ]
        },
        {
          "name": "stdout",
          "output_type": "stream",
          "text": [
            "Test Accuracy - Overall: 25.25% | Head: 42.90% | Mid: 24.72% | Tail: 7.93%\n",
            "[16/20] val acc: 0.253 train acc: 0.687\n"
          ]
        },
        {
          "name": "stderr",
          "output_type": "stream",
          "text": [
            "5it [00:00, 44.03it/s]"
          ]
        },
        {
          "name": "stdout",
          "output_type": "stream",
          "text": [
            "[17/20,     1/498] lr: 0.00095 loss: 0.003 acc: 0.906\n"
          ]
        },
        {
          "name": "stderr",
          "output_type": "stream",
          "text": [
            "205it [00:04, 42.25it/s]"
          ]
        },
        {
          "name": "stdout",
          "output_type": "stream",
          "text": [
            "[17/20,   201/498] lr: 0.00095 loss: 0.770 acc: 0.800\n"
          ]
        },
        {
          "name": "stderr",
          "output_type": "stream",
          "text": [
            "405it [00:09, 43.27it/s]"
          ]
        },
        {
          "name": "stdout",
          "output_type": "stream",
          "text": [
            "[17/20,   401/498] lr: 0.00095 loss: 0.766 acc: 0.790\n"
          ]
        },
        {
          "name": "stderr",
          "output_type": "stream",
          "text": [
            "498it [00:11, 43.23it/s]\n"
          ]
        },
        {
          "name": "stdout",
          "output_type": "stream",
          "text": [
            "Test Accuracy - Overall: 25.37% | Head: 40.92% | Mid: 25.66% | Tail: 9.11%\n",
            "[17/20] val acc: 0.254 train acc: 0.793\n"
          ]
        },
        {
          "name": "stderr",
          "output_type": "stream",
          "text": [
            "0it [00:00, ?it/s]"
          ]
        },
        {
          "name": "stdout",
          "output_type": "stream",
          "text": [
            "[18/20,     1/498] lr: 0.00054 loss: 0.004 acc: 0.719\n"
          ]
        },
        {
          "name": "stderr",
          "output_type": "stream",
          "text": [
            "209it [00:04, 43.61it/s]"
          ]
        },
        {
          "name": "stdout",
          "output_type": "stream",
          "text": [
            "[18/20,   201/498] lr: 0.00054 loss: 0.530 acc: 0.874\n"
          ]
        },
        {
          "name": "stderr",
          "output_type": "stream",
          "text": [
            "409it [00:09, 44.91it/s]"
          ]
        },
        {
          "name": "stdout",
          "output_type": "stream",
          "text": [
            "[18/20,   401/498] lr: 0.00054 loss: 0.508 acc: 0.871\n"
          ]
        },
        {
          "name": "stderr",
          "output_type": "stream",
          "text": [
            "498it [00:11, 43.77it/s]\n"
          ]
        },
        {
          "name": "stdout",
          "output_type": "stream",
          "text": [
            "Test Accuracy - Overall: 25.92% | Head: 41.67% | Mid: 25.84% | Tail: 9.95%\n",
            "[18/20] val acc: 0.259 train acc: 0.872\n"
          ]
        },
        {
          "name": "stderr",
          "output_type": "stream",
          "text": [
            "0it [00:00, ?it/s]"
          ]
        },
        {
          "name": "stdout",
          "output_type": "stream",
          "text": [
            "[19/20,     1/498] lr: 0.00024 loss: 0.003 acc: 0.875\n"
          ]
        },
        {
          "name": "stderr",
          "output_type": "stream",
          "text": [
            "209it [00:04, 44.09it/s]"
          ]
        },
        {
          "name": "stdout",
          "output_type": "stream",
          "text": [
            "[19/20,   201/498] lr: 0.00024 loss: 0.357 acc: 0.929\n"
          ]
        },
        {
          "name": "stderr",
          "output_type": "stream",
          "text": [
            "409it [00:09, 44.81it/s]"
          ]
        },
        {
          "name": "stdout",
          "output_type": "stream",
          "text": [
            "[19/20,   401/498] lr: 0.00024 loss: 0.361 acc: 0.923\n"
          ]
        },
        {
          "name": "stderr",
          "output_type": "stream",
          "text": [
            "498it [00:11, 43.71it/s]\n"
          ]
        },
        {
          "name": "stdout",
          "output_type": "stream",
          "text": [
            "Test Accuracy - Overall: 25.97% | Head: 43.15% | Mid: 25.66% | Tail: 8.85%\n",
            "[19/20] val acc: 0.260 train acc: 0.925\n"
          ]
        },
        {
          "name": "stderr",
          "output_type": "stream",
          "text": [
            "4it [00:00, 38.77it/s]"
          ]
        },
        {
          "name": "stdout",
          "output_type": "stream",
          "text": [
            "[20/20,     1/498] lr: 0.00006 loss: 0.002 acc: 0.969\n"
          ]
        },
        {
          "name": "stderr",
          "output_type": "stream",
          "text": [
            "209it [00:04, 44.97it/s]"
          ]
        },
        {
          "name": "stdout",
          "output_type": "stream",
          "text": [
            "[20/20,   201/498] lr: 0.00006 loss: 0.303 acc: 0.943\n"
          ]
        },
        {
          "name": "stderr",
          "output_type": "stream",
          "text": [
            "409it [00:09, 44.99it/s]"
          ]
        },
        {
          "name": "stdout",
          "output_type": "stream",
          "text": [
            "[20/20,   401/498] lr: 0.00006 loss: 0.300 acc: 0.947\n"
          ]
        },
        {
          "name": "stderr",
          "output_type": "stream",
          "text": [
            "498it [00:11, 44.36it/s]\n"
          ]
        },
        {
          "name": "stdout",
          "output_type": "stream",
          "text": [
            "Test Accuracy - Overall: 25.57% | Head: 42.33% | Mid: 25.28% | Tail: 8.85%\n",
            "[20/20] val acc: 0.256 train acc: 0.944\n"
          ]
        }
      ],
      "source": [
        "# Cifar-100 LT Accuracy\n",
        "\n",
        "# Model\n",
        "model = resnet50(num_classes=100)\n",
        "model.conv1 = nn.Conv2d(3, 64, kernel_size=3, stride=1, padding=1, bias=False)\n",
        "model.maxpool = nn.Identity()\n",
        "\n",
        "# Train/Val Set\n",
        "trainSet = torch.utils.data.TensorDataset(torch.Tensor(trainDataLT), torch.Tensor(trainLabelLT).long())\n",
        "trainLoader = torch.utils.data.DataLoader(trainSet, batch_size=32, shuffle=True, num_workers=2)\n",
        "valSet = torch.utils.data.TensorDataset(torch.Tensor(valData), torch.Tensor(valLabel))\n",
        "valLoader = torch.utils.data.DataLoader(valSet, batch_size=32, shuffle=True, num_workers=2)\n",
        "\n",
        "# Params\n",
        "optimizer = torch.optim.Adam(model.parameters(), lr=0.01)\n",
        "scheduler = torch.optim.lr_scheduler.CosineAnnealingLR(optimizer, T_max=20)\n",
        "loss = nn.CrossEntropyLoss()\n",
        "\n",
        "# Train\n",
        "model.to(device)\n",
        "train_model(trainLoader, valLoader, 20, model, optimizer, scheduler, loss)"
      ]
    },
    {
      "cell_type": "code",
      "execution_count": null,
      "id": "48a6c5a2",
      "metadata": {
        "id": "48a6c5a2",
        "outputId": "1d0ad075-a868-4c86-f1a3-6b4ffe887d94"
      },
      "outputs": [
        {
          "name": "stderr",
          "output_type": "stream",
          "text": [
            "9it [00:00, 40.17it/s]"
          ]
        },
        {
          "name": "stdout",
          "output_type": "stream",
          "text": [
            "[1/20,     1/1563] lr: 0.01000 loss: 0.024 acc: 0.000\n"
          ]
        },
        {
          "name": "stderr",
          "output_type": "stream",
          "text": [
            "209it [00:04, 47.77it/s]"
          ]
        },
        {
          "name": "stdout",
          "output_type": "stream",
          "text": [
            "[1/20,   201/1563] lr: 0.01000 loss: 5.207 acc: 0.022\n"
          ]
        },
        {
          "name": "stderr",
          "output_type": "stream",
          "text": [
            "409it [00:08, 48.04it/s]"
          ]
        },
        {
          "name": "stdout",
          "output_type": "stream",
          "text": [
            "[1/20,   401/1563] lr: 0.01000 loss: 4.499 acc: 0.023\n"
          ]
        },
        {
          "name": "stderr",
          "output_type": "stream",
          "text": [
            "609it [00:12, 45.58it/s]"
          ]
        },
        {
          "name": "stdout",
          "output_type": "stream",
          "text": [
            "[1/20,   601/1563] lr: 0.01000 loss: 4.399 acc: 0.032\n"
          ]
        },
        {
          "name": "stderr",
          "output_type": "stream",
          "text": [
            "809it [00:17, 45.60it/s]"
          ]
        },
        {
          "name": "stdout",
          "output_type": "stream",
          "text": [
            "[1/20,   801/1563] lr: 0.01000 loss: 4.306 acc: 0.042\n"
          ]
        },
        {
          "name": "stderr",
          "output_type": "stream",
          "text": [
            "1006it [00:21, 46.73it/s]"
          ]
        },
        {
          "name": "stdout",
          "output_type": "stream",
          "text": [
            "[1/20,  1001/1563] lr: 0.01000 loss: 4.190 acc: 0.050\n"
          ]
        },
        {
          "name": "stderr",
          "output_type": "stream",
          "text": [
            "1206it [00:25, 47.96it/s]"
          ]
        },
        {
          "name": "stdout",
          "output_type": "stream",
          "text": [
            "[1/20,  1201/1563] lr: 0.01000 loss: 4.109 acc: 0.059\n"
          ]
        },
        {
          "name": "stderr",
          "output_type": "stream",
          "text": [
            "1406it [00:29, 42.75it/s]"
          ]
        },
        {
          "name": "stdout",
          "output_type": "stream",
          "text": [
            "[1/20,  1401/1563] lr: 0.01000 loss: 4.023 acc: 0.068\n"
          ]
        },
        {
          "name": "stderr",
          "output_type": "stream",
          "text": [
            "1563it [00:33, 46.44it/s]\n"
          ]
        },
        {
          "name": "stdout",
          "output_type": "stream",
          "text": [
            "Test Accuracy - Overall: 8.05% | Head: 9.82% | Mid: 6.87% | Tail: 7.84%\n",
            "[1/20] val acc: 0.081 train acc: 0.046\n"
          ]
        },
        {
          "name": "stderr",
          "output_type": "stream",
          "text": [
            "7it [00:00, 32.75it/s]"
          ]
        },
        {
          "name": "stdout",
          "output_type": "stream",
          "text": [
            "[2/20,     1/1563] lr: 0.00994 loss: 0.018 acc: 0.094\n"
          ]
        },
        {
          "name": "stderr",
          "output_type": "stream",
          "text": [
            "206it [00:05, 40.97it/s]"
          ]
        },
        {
          "name": "stdout",
          "output_type": "stream",
          "text": [
            "[2/20,   201/1563] lr: 0.00994 loss: 3.950 acc: 0.083\n"
          ]
        },
        {
          "name": "stderr",
          "output_type": "stream",
          "text": [
            "406it [00:09, 40.87it/s]"
          ]
        },
        {
          "name": "stdout",
          "output_type": "stream",
          "text": [
            "[2/20,   401/1563] lr: 0.00994 loss: 3.892 acc: 0.088\n"
          ]
        },
        {
          "name": "stderr",
          "output_type": "stream",
          "text": [
            "606it [00:14, 41.34it/s]"
          ]
        },
        {
          "name": "stdout",
          "output_type": "stream",
          "text": [
            "[2/20,   601/1563] lr: 0.00994 loss: 3.878 acc: 0.089\n"
          ]
        },
        {
          "name": "stderr",
          "output_type": "stream",
          "text": [
            "806it [00:19, 40.76it/s]"
          ]
        },
        {
          "name": "stdout",
          "output_type": "stream",
          "text": [
            "[2/20,   801/1563] lr: 0.00994 loss: 3.815 acc: 0.098\n"
          ]
        },
        {
          "name": "stderr",
          "output_type": "stream",
          "text": [
            "1006it [00:24, 41.65it/s]"
          ]
        },
        {
          "name": "stdout",
          "output_type": "stream",
          "text": [
            "[2/20,  1001/1563] lr: 0.00994 loss: 3.774 acc: 0.103\n"
          ]
        },
        {
          "name": "stderr",
          "output_type": "stream",
          "text": [
            "1206it [00:29, 41.53it/s]"
          ]
        },
        {
          "name": "stdout",
          "output_type": "stream",
          "text": [
            "[2/20,  1201/1563] lr: 0.00994 loss: 3.747 acc: 0.117\n"
          ]
        },
        {
          "name": "stderr",
          "output_type": "stream",
          "text": [
            "1406it [00:34, 41.24it/s]"
          ]
        },
        {
          "name": "stdout",
          "output_type": "stream",
          "text": [
            "[2/20,  1401/1563] lr: 0.00994 loss: 3.722 acc: 0.120\n"
          ]
        },
        {
          "name": "stderr",
          "output_type": "stream",
          "text": [
            "1563it [00:37, 41.19it/s]\n"
          ]
        },
        {
          "name": "stdout",
          "output_type": "stream",
          "text": [
            "Test Accuracy - Overall: 14.37% | Head: 13.37% | Mid: 14.98% | Tail: 14.59%\n",
            "[2/20] val acc: 0.144 train acc: 0.103\n"
          ]
        },
        {
          "name": "stderr",
          "output_type": "stream",
          "text": [
            "0it [00:00, ?it/s]"
          ]
        },
        {
          "name": "stdout",
          "output_type": "stream",
          "text": [
            "[3/20,     1/1563] lr: 0.00976 loss: 0.022 acc: 0.062\n"
          ]
        },
        {
          "name": "stderr",
          "output_type": "stream",
          "text": [
            "209it [00:04, 48.28it/s]"
          ]
        },
        {
          "name": "stdout",
          "output_type": "stream",
          "text": [
            "[3/20,   201/1563] lr: 0.00976 loss: 3.655 acc: 0.133\n"
          ]
        },
        {
          "name": "stderr",
          "output_type": "stream",
          "text": [
            "410it [00:08, 48.30it/s]"
          ]
        },
        {
          "name": "stdout",
          "output_type": "stream",
          "text": [
            "[3/20,   401/1563] lr: 0.00976 loss: 3.607 acc: 0.138\n"
          ]
        },
        {
          "name": "stderr",
          "output_type": "stream",
          "text": [
            "609it [00:12, 49.95it/s]"
          ]
        },
        {
          "name": "stdout",
          "output_type": "stream",
          "text": [
            "[3/20,   601/1563] lr: 0.00976 loss: 3.578 acc: 0.145\n"
          ]
        },
        {
          "name": "stderr",
          "output_type": "stream",
          "text": [
            "809it [00:17, 48.22it/s]"
          ]
        },
        {
          "name": "stdout",
          "output_type": "stream",
          "text": [
            "[3/20,   801/1563] lr: 0.00976 loss: 3.525 acc: 0.154\n"
          ]
        },
        {
          "name": "stderr",
          "output_type": "stream",
          "text": [
            "1009it [00:21, 45.94it/s]"
          ]
        },
        {
          "name": "stdout",
          "output_type": "stream",
          "text": [
            "[3/20,  1001/1563] lr: 0.00976 loss: 3.533 acc: 0.154\n"
          ]
        },
        {
          "name": "stderr",
          "output_type": "stream",
          "text": [
            "1209it [00:25, 48.27it/s]"
          ]
        },
        {
          "name": "stdout",
          "output_type": "stream",
          "text": [
            "[3/20,  1201/1563] lr: 0.00976 loss: 3.471 acc: 0.170\n"
          ]
        },
        {
          "name": "stderr",
          "output_type": "stream",
          "text": [
            "1409it [00:30, 41.81it/s]"
          ]
        },
        {
          "name": "stdout",
          "output_type": "stream",
          "text": [
            "[3/20,  1401/1563] lr: 0.00976 loss: 3.473 acc: 0.163\n"
          ]
        },
        {
          "name": "stderr",
          "output_type": "stream",
          "text": [
            "1563it [00:33, 46.02it/s]\n"
          ]
        },
        {
          "name": "stdout",
          "output_type": "stream",
          "text": [
            "Test Accuracy - Overall: 17.85% | Head: 15.26% | Mid: 19.10% | Tail: 18.80%\n",
            "[3/20] val acc: 0.178 train acc: 0.153\n"
          ]
        },
        {
          "name": "stderr",
          "output_type": "stream",
          "text": [
            "0it [00:00, ?it/s]"
          ]
        },
        {
          "name": "stdout",
          "output_type": "stream",
          "text": [
            "[4/20,     1/1563] lr: 0.00946 loss: 0.020 acc: 0.000\n"
          ]
        },
        {
          "name": "stderr",
          "output_type": "stream",
          "text": [
            "209it [00:04, 42.68it/s]"
          ]
        },
        {
          "name": "stdout",
          "output_type": "stream",
          "text": [
            "[4/20,   201/1563] lr: 0.00946 loss: 3.362 acc: 0.182\n"
          ]
        },
        {
          "name": "stderr",
          "output_type": "stream",
          "text": [
            "409it [00:09, 45.76it/s]"
          ]
        },
        {
          "name": "stdout",
          "output_type": "stream",
          "text": [
            "[4/20,   401/1563] lr: 0.00946 loss: 3.294 acc: 0.193\n"
          ]
        },
        {
          "name": "stderr",
          "output_type": "stream",
          "text": [
            "609it [00:13, 48.01it/s]"
          ]
        },
        {
          "name": "stdout",
          "output_type": "stream",
          "text": [
            "[4/20,   601/1563] lr: 0.00946 loss: 3.288 acc: 0.192\n"
          ]
        },
        {
          "name": "stderr",
          "output_type": "stream",
          "text": [
            "809it [00:17, 45.67it/s]"
          ]
        },
        {
          "name": "stdout",
          "output_type": "stream",
          "text": [
            "[4/20,   801/1563] lr: 0.00946 loss: 3.258 acc: 0.195\n"
          ]
        },
        {
          "name": "stderr",
          "output_type": "stream",
          "text": [
            "1009it [00:22, 42.94it/s]"
          ]
        },
        {
          "name": "stdout",
          "output_type": "stream",
          "text": [
            "[4/20,  1001/1563] lr: 0.00946 loss: 3.196 acc: 0.215\n"
          ]
        },
        {
          "name": "stderr",
          "output_type": "stream",
          "text": [
            "1209it [00:27, 41.59it/s]"
          ]
        },
        {
          "name": "stdout",
          "output_type": "stream",
          "text": [
            "[4/20,  1201/1563] lr: 0.00946 loss: 3.208 acc: 0.207\n"
          ]
        },
        {
          "name": "stderr",
          "output_type": "stream",
          "text": [
            "1410it [00:31, 45.82it/s]"
          ]
        },
        {
          "name": "stdout",
          "output_type": "stream",
          "text": [
            "[4/20,  1401/1563] lr: 0.00946 loss: 3.136 acc: 0.221\n"
          ]
        },
        {
          "name": "stderr",
          "output_type": "stream",
          "text": [
            "1563it [00:35, 44.32it/s]\n"
          ]
        },
        {
          "name": "stdout",
          "output_type": "stream",
          "text": [
            "Test Accuracy - Overall: 24.55% | Head: 21.20% | Mid: 27.40% | Tail: 24.11%\n",
            "[4/20] val acc: 0.245 train acc: 0.204\n"
          ]
        },
        {
          "name": "stderr",
          "output_type": "stream",
          "text": [
            "9it [00:00, 39.08it/s]"
          ]
        },
        {
          "name": "stdout",
          "output_type": "stream",
          "text": [
            "[5/20,     1/1563] lr: 0.00905 loss: 0.013 acc: 0.312\n"
          ]
        },
        {
          "name": "stderr",
          "output_type": "stream",
          "text": [
            "209it [00:05, 41.33it/s]"
          ]
        },
        {
          "name": "stdout",
          "output_type": "stream",
          "text": [
            "[5/20,   201/1563] lr: 0.00905 loss: 3.036 acc: 0.240\n"
          ]
        },
        {
          "name": "stderr",
          "output_type": "stream",
          "text": [
            "409it [00:09, 41.59it/s]"
          ]
        },
        {
          "name": "stdout",
          "output_type": "stream",
          "text": [
            "[5/20,   401/1563] lr: 0.00905 loss: 3.034 acc: 0.252\n"
          ]
        },
        {
          "name": "stderr",
          "output_type": "stream",
          "text": [
            "609it [00:14, 43.92it/s]"
          ]
        },
        {
          "name": "stdout",
          "output_type": "stream",
          "text": [
            "[5/20,   601/1563] lr: 0.00905 loss: 2.986 acc: 0.255\n"
          ]
        },
        {
          "name": "stderr",
          "output_type": "stream",
          "text": [
            "809it [00:19, 44.50it/s]"
          ]
        },
        {
          "name": "stdout",
          "output_type": "stream",
          "text": [
            "[5/20,   801/1563] lr: 0.00905 loss: 2.907 acc: 0.272\n"
          ]
        },
        {
          "name": "stderr",
          "output_type": "stream",
          "text": [
            "1009it [00:23, 44.81it/s]"
          ]
        },
        {
          "name": "stdout",
          "output_type": "stream",
          "text": [
            "[5/20,  1001/1563] lr: 0.00905 loss: 2.879 acc: 0.279\n"
          ]
        },
        {
          "name": "stderr",
          "output_type": "stream",
          "text": [
            "1209it [00:27, 46.48it/s]"
          ]
        },
        {
          "name": "stdout",
          "output_type": "stream",
          "text": [
            "[5/20,  1201/1563] lr: 0.00905 loss: 2.879 acc: 0.269\n"
          ]
        },
        {
          "name": "stderr",
          "output_type": "stream",
          "text": [
            "1409it [00:32, 47.56it/s]"
          ]
        },
        {
          "name": "stdout",
          "output_type": "stream",
          "text": [
            "[5/20,  1401/1563] lr: 0.00905 loss: 2.820 acc: 0.280\n"
          ]
        },
        {
          "name": "stderr",
          "output_type": "stream",
          "text": [
            "1563it [00:35, 44.12it/s]\n"
          ]
        },
        {
          "name": "stdout",
          "output_type": "stream",
          "text": [
            "Test Accuracy - Overall: 29.80% | Head: 24.67% | Mid: 31.65% | Tail: 32.55%\n",
            "[5/20] val acc: 0.298 train acc: 0.266\n"
          ]
        },
        {
          "name": "stderr",
          "output_type": "stream",
          "text": [
            "0it [00:00, ?it/s]"
          ]
        },
        {
          "name": "stdout",
          "output_type": "stream",
          "text": [
            "[6/20,     1/1563] lr: 0.00854 loss: 0.015 acc: 0.281\n"
          ]
        },
        {
          "name": "stderr",
          "output_type": "stream",
          "text": [
            "207it [00:05, 42.06it/s]"
          ]
        },
        {
          "name": "stdout",
          "output_type": "stream",
          "text": [
            "[6/20,   201/1563] lr: 0.00854 loss: 2.611 acc: 0.325\n"
          ]
        },
        {
          "name": "stderr",
          "output_type": "stream",
          "text": [
            "407it [00:09, 42.45it/s]"
          ]
        },
        {
          "name": "stdout",
          "output_type": "stream",
          "text": [
            "[6/20,   401/1563] lr: 0.00854 loss: 2.640 acc: 0.322\n"
          ]
        },
        {
          "name": "stderr",
          "output_type": "stream",
          "text": [
            "607it [00:14, 41.07it/s]"
          ]
        },
        {
          "name": "stdout",
          "output_type": "stream",
          "text": [
            "[6/20,   601/1563] lr: 0.00854 loss: 2.639 acc: 0.315\n"
          ]
        },
        {
          "name": "stderr",
          "output_type": "stream",
          "text": [
            "807it [00:19, 42.33it/s]"
          ]
        },
        {
          "name": "stdout",
          "output_type": "stream",
          "text": [
            "[6/20,   801/1563] lr: 0.00854 loss: 2.582 acc: 0.334\n"
          ]
        },
        {
          "name": "stderr",
          "output_type": "stream",
          "text": [
            "1007it [00:24, 41.42it/s]"
          ]
        },
        {
          "name": "stdout",
          "output_type": "stream",
          "text": [
            "[6/20,  1001/1563] lr: 0.00854 loss: 2.571 acc: 0.329\n"
          ]
        },
        {
          "name": "stderr",
          "output_type": "stream",
          "text": [
            "1207it [00:28, 46.82it/s]"
          ]
        },
        {
          "name": "stdout",
          "output_type": "stream",
          "text": [
            "[6/20,  1201/1563] lr: 0.00854 loss: 2.601 acc: 0.323\n"
          ]
        },
        {
          "name": "stderr",
          "output_type": "stream",
          "text": [
            "1407it [00:32, 46.50it/s]"
          ]
        },
        {
          "name": "stdout",
          "output_type": "stream",
          "text": [
            "[6/20,  1401/1563] lr: 0.00854 loss: 2.516 acc: 0.347\n"
          ]
        },
        {
          "name": "stderr",
          "output_type": "stream",
          "text": [
            "1563it [00:36, 43.02it/s]\n"
          ]
        },
        {
          "name": "stdout",
          "output_type": "stream",
          "text": [
            "Test Accuracy - Overall: 33.15% | Head: 26.73% | Mid: 36.33% | Tail: 35.41%\n",
            "[6/20] val acc: 0.332 train acc: 0.329\n"
          ]
        },
        {
          "name": "stderr",
          "output_type": "stream",
          "text": [
            "0it [00:00, ?it/s]"
          ]
        },
        {
          "name": "stdout",
          "output_type": "stream",
          "text": [
            "[7/20,     1/1563] lr: 0.00794 loss: 0.012 acc: 0.281\n"
          ]
        },
        {
          "name": "stderr",
          "output_type": "stream",
          "text": [
            "209it [00:04, 41.78it/s]"
          ]
        },
        {
          "name": "stdout",
          "output_type": "stream",
          "text": [
            "[7/20,   201/1563] lr: 0.00794 loss: 2.327 acc: 0.382\n"
          ]
        },
        {
          "name": "stderr",
          "output_type": "stream",
          "text": [
            "409it [00:09, 41.79it/s]"
          ]
        },
        {
          "name": "stdout",
          "output_type": "stream",
          "text": [
            "[7/20,   401/1563] lr: 0.00794 loss: 2.358 acc: 0.372\n"
          ]
        },
        {
          "name": "stderr",
          "output_type": "stream",
          "text": [
            "609it [00:14, 41.23it/s]"
          ]
        },
        {
          "name": "stdout",
          "output_type": "stream",
          "text": [
            "[7/20,   601/1563] lr: 0.00794 loss: 2.319 acc: 0.388\n"
          ]
        },
        {
          "name": "stderr",
          "output_type": "stream",
          "text": [
            "809it [00:19, 41.04it/s]"
          ]
        },
        {
          "name": "stdout",
          "output_type": "stream",
          "text": [
            "[7/20,   801/1563] lr: 0.00794 loss: 2.348 acc: 0.372\n"
          ]
        },
        {
          "name": "stderr",
          "output_type": "stream",
          "text": [
            "1009it [00:24, 41.06it/s]"
          ]
        },
        {
          "name": "stdout",
          "output_type": "stream",
          "text": [
            "[7/20,  1001/1563] lr: 0.00794 loss: 2.335 acc: 0.376\n"
          ]
        },
        {
          "name": "stderr",
          "output_type": "stream",
          "text": [
            "1209it [00:28, 42.96it/s]"
          ]
        },
        {
          "name": "stdout",
          "output_type": "stream",
          "text": [
            "[7/20,  1201/1563] lr: 0.00794 loss: 2.299 acc: 0.393\n"
          ]
        },
        {
          "name": "stderr",
          "output_type": "stream",
          "text": [
            "1409it [00:33, 40.67it/s]"
          ]
        },
        {
          "name": "stdout",
          "output_type": "stream",
          "text": [
            "[7/20,  1401/1563] lr: 0.00794 loss: 2.315 acc: 0.396\n"
          ]
        },
        {
          "name": "stderr",
          "output_type": "stream",
          "text": [
            "1563it [00:37, 41.52it/s]\n"
          ]
        },
        {
          "name": "stdout",
          "output_type": "stream",
          "text": [
            "Test Accuracy - Overall: 39.35% | Head: 33.25% | Mid: 42.07% | Tail: 41.91%\n",
            "[7/20] val acc: 0.394 train acc: 0.384\n"
          ]
        },
        {
          "name": "stderr",
          "output_type": "stream",
          "text": [
            "0it [00:00, ?it/s]"
          ]
        },
        {
          "name": "stdout",
          "output_type": "stream",
          "text": [
            "[8/20,     1/1563] lr: 0.00727 loss: 0.009 acc: 0.375\n"
          ]
        },
        {
          "name": "stderr",
          "output_type": "stream",
          "text": [
            "209it [00:04, 46.22it/s]"
          ]
        },
        {
          "name": "stdout",
          "output_type": "stream",
          "text": [
            "[8/20,   201/1563] lr: 0.00727 loss: 2.072 acc: 0.444\n"
          ]
        },
        {
          "name": "stderr",
          "output_type": "stream",
          "text": [
            "409it [00:08, 46.11it/s]"
          ]
        },
        {
          "name": "stdout",
          "output_type": "stream",
          "text": [
            "[8/20,   401/1563] lr: 0.00727 loss: 2.078 acc: 0.434\n"
          ]
        },
        {
          "name": "stderr",
          "output_type": "stream",
          "text": [
            "610it [00:13, 45.12it/s]"
          ]
        },
        {
          "name": "stdout",
          "output_type": "stream",
          "text": [
            "[8/20,   601/1563] lr: 0.00727 loss: 2.089 acc: 0.438\n"
          ]
        },
        {
          "name": "stderr",
          "output_type": "stream",
          "text": [
            "810it [00:17, 48.39it/s]"
          ]
        },
        {
          "name": "stdout",
          "output_type": "stream",
          "text": [
            "[8/20,   801/1563] lr: 0.00727 loss: 2.080 acc: 0.431\n"
          ]
        },
        {
          "name": "stderr",
          "output_type": "stream",
          "text": [
            "1010it [00:21, 47.97it/s]"
          ]
        },
        {
          "name": "stdout",
          "output_type": "stream",
          "text": [
            "[8/20,  1001/1563] lr: 0.00727 loss: 2.089 acc: 0.428\n"
          ]
        },
        {
          "name": "stderr",
          "output_type": "stream",
          "text": [
            "1210it [00:25, 48.06it/s]"
          ]
        },
        {
          "name": "stdout",
          "output_type": "stream",
          "text": [
            "[8/20,  1201/1563] lr: 0.00727 loss: 2.027 acc: 0.443\n"
          ]
        },
        {
          "name": "stderr",
          "output_type": "stream",
          "text": [
            "1410it [00:29, 48.22it/s]"
          ]
        },
        {
          "name": "stdout",
          "output_type": "stream",
          "text": [
            "[8/20,  1401/1563] lr: 0.00727 loss: 2.074 acc: 0.438\n"
          ]
        },
        {
          "name": "stderr",
          "output_type": "stream",
          "text": [
            "1563it [00:33, 47.22it/s]\n"
          ]
        },
        {
          "name": "stdout",
          "output_type": "stream",
          "text": [
            "Test Accuracy - Overall: 40.33% | Head: 35.15% | Mid: 42.88% | Tail: 42.16%\n",
            "[8/20] val acc: 0.403 train acc: 0.438\n"
          ]
        },
        {
          "name": "stderr",
          "output_type": "stream",
          "text": [
            "0it [00:00, ?it/s]"
          ]
        },
        {
          "name": "stdout",
          "output_type": "stream",
          "text": [
            "[9/20,     1/1563] lr: 0.00655 loss: 0.009 acc: 0.500\n"
          ]
        },
        {
          "name": "stderr",
          "output_type": "stream",
          "text": [
            "209it [00:04, 43.79it/s]"
          ]
        },
        {
          "name": "stdout",
          "output_type": "stream",
          "text": [
            "[9/20,   201/1563] lr: 0.00655 loss: 1.793 acc: 0.500\n"
          ]
        },
        {
          "name": "stderr",
          "output_type": "stream",
          "text": [
            "409it [00:09, 43.04it/s]"
          ]
        },
        {
          "name": "stdout",
          "output_type": "stream",
          "text": [
            "[9/20,   401/1563] lr: 0.00655 loss: 1.811 acc: 0.504\n"
          ]
        },
        {
          "name": "stderr",
          "output_type": "stream",
          "text": [
            "609it [00:14, 42.89it/s]"
          ]
        },
        {
          "name": "stdout",
          "output_type": "stream",
          "text": [
            "[9/20,   601/1563] lr: 0.00655 loss: 1.808 acc: 0.497\n"
          ]
        },
        {
          "name": "stderr",
          "output_type": "stream",
          "text": [
            "809it [00:18, 43.89it/s]"
          ]
        },
        {
          "name": "stdout",
          "output_type": "stream",
          "text": [
            "[9/20,   801/1563] lr: 0.00655 loss: 1.831 acc: 0.495\n"
          ]
        },
        {
          "name": "stderr",
          "output_type": "stream",
          "text": [
            "1009it [00:23, 42.04it/s]"
          ]
        },
        {
          "name": "stdout",
          "output_type": "stream",
          "text": [
            "[9/20,  1001/1563] lr: 0.00655 loss: 1.832 acc: 0.494\n"
          ]
        },
        {
          "name": "stderr",
          "output_type": "stream",
          "text": [
            "1209it [00:28, 41.40it/s]"
          ]
        },
        {
          "name": "stdout",
          "output_type": "stream",
          "text": [
            "[9/20,  1201/1563] lr: 0.00655 loss: 1.808 acc: 0.500\n"
          ]
        },
        {
          "name": "stderr",
          "output_type": "stream",
          "text": [
            "1409it [00:32, 43.57it/s]"
          ]
        },
        {
          "name": "stdout",
          "output_type": "stream",
          "text": [
            "[9/20,  1401/1563] lr: 0.00655 loss: 1.797 acc: 0.504\n"
          ]
        },
        {
          "name": "stderr",
          "output_type": "stream",
          "text": [
            "1563it [00:36, 42.78it/s]\n"
          ]
        },
        {
          "name": "stdout",
          "output_type": "stream",
          "text": [
            "Test Accuracy - Overall: 45.70% | Head: 38.70% | Mid: 47.63% | Tail: 50.25%\n",
            "[9/20] val acc: 0.457 train acc: 0.500\n"
          ]
        },
        {
          "name": "stderr",
          "output_type": "stream",
          "text": [
            "0it [00:00, ?it/s]"
          ]
        },
        {
          "name": "stdout",
          "output_type": "stream",
          "text": [
            "[10/20,     1/1563] lr: 0.00578 loss: 0.005 acc: 0.625\n"
          ]
        },
        {
          "name": "stderr",
          "output_type": "stream",
          "text": [
            "207it [00:04, 43.61it/s]"
          ]
        },
        {
          "name": "stdout",
          "output_type": "stream",
          "text": [
            "[10/20,   201/1563] lr: 0.00578 loss: 1.527 acc: 0.565\n"
          ]
        },
        {
          "name": "stderr",
          "output_type": "stream",
          "text": [
            "407it [00:09, 44.09it/s]"
          ]
        },
        {
          "name": "stdout",
          "output_type": "stream",
          "text": [
            "[10/20,   401/1563] lr: 0.00578 loss: 1.528 acc: 0.570\n"
          ]
        },
        {
          "name": "stderr",
          "output_type": "stream",
          "text": [
            "607it [00:13, 44.17it/s]"
          ]
        },
        {
          "name": "stdout",
          "output_type": "stream",
          "text": [
            "[10/20,   601/1563] lr: 0.00578 loss: 1.542 acc: 0.561\n"
          ]
        },
        {
          "name": "stderr",
          "output_type": "stream",
          "text": [
            "807it [00:18, 43.83it/s]"
          ]
        },
        {
          "name": "stdout",
          "output_type": "stream",
          "text": [
            "[10/20,   801/1563] lr: 0.00578 loss: 1.552 acc: 0.564\n"
          ]
        },
        {
          "name": "stderr",
          "output_type": "stream",
          "text": [
            "1007it [00:23, 44.92it/s]"
          ]
        },
        {
          "name": "stdout",
          "output_type": "stream",
          "text": [
            "[10/20,  1001/1563] lr: 0.00578 loss: 1.585 acc: 0.552\n"
          ]
        },
        {
          "name": "stderr",
          "output_type": "stream",
          "text": [
            "1207it [00:27, 44.65it/s]"
          ]
        },
        {
          "name": "stdout",
          "output_type": "stream",
          "text": [
            "[10/20,  1201/1563] lr: 0.00578 loss: 1.537 acc: 0.563\n"
          ]
        },
        {
          "name": "stderr",
          "output_type": "stream",
          "text": [
            "1407it [00:32, 43.06it/s]"
          ]
        },
        {
          "name": "stdout",
          "output_type": "stream",
          "text": [
            "[10/20,  1401/1563] lr: 0.00578 loss: 1.570 acc: 0.557\n"
          ]
        },
        {
          "name": "stderr",
          "output_type": "stream",
          "text": [
            "1563it [00:35, 43.61it/s]\n"
          ]
        },
        {
          "name": "stdout",
          "output_type": "stream",
          "text": [
            "Test Accuracy - Overall: 47.25% | Head: 42.24% | Mid: 48.69% | Tail: 50.42%\n",
            "[10/20] val acc: 0.472 train acc: 0.562\n"
          ]
        },
        {
          "name": "stderr",
          "output_type": "stream",
          "text": [
            "9it [00:00, 42.32it/s]"
          ]
        },
        {
          "name": "stdout",
          "output_type": "stream",
          "text": [
            "[11/20,     1/1563] lr: 0.00500 loss: 0.005 acc: 0.719\n"
          ]
        },
        {
          "name": "stderr",
          "output_type": "stream",
          "text": [
            "209it [00:04, 48.44it/s]"
          ]
        },
        {
          "name": "stdout",
          "output_type": "stream",
          "text": [
            "[11/20,   201/1563] lr: 0.00500 loss: 1.200 acc: 0.649\n"
          ]
        },
        {
          "name": "stderr",
          "output_type": "stream",
          "text": [
            "409it [00:08, 48.95it/s]"
          ]
        },
        {
          "name": "stdout",
          "output_type": "stream",
          "text": [
            "[11/20,   401/1563] lr: 0.00500 loss: 1.239 acc: 0.643\n"
          ]
        },
        {
          "name": "stderr",
          "output_type": "stream",
          "text": [
            "609it [00:12, 48.78it/s]"
          ]
        },
        {
          "name": "stdout",
          "output_type": "stream",
          "text": [
            "[11/20,   601/1563] lr: 0.00500 loss: 1.255 acc: 0.628\n"
          ]
        },
        {
          "name": "stderr",
          "output_type": "stream",
          "text": [
            "809it [00:17, 40.89it/s]"
          ]
        },
        {
          "name": "stdout",
          "output_type": "stream",
          "text": [
            "[11/20,   801/1563] lr: 0.00500 loss: 1.277 acc: 0.633\n"
          ]
        },
        {
          "name": "stderr",
          "output_type": "stream",
          "text": [
            "1009it [00:21, 43.44it/s]"
          ]
        },
        {
          "name": "stdout",
          "output_type": "stream",
          "text": [
            "[11/20,  1001/1563] lr: 0.00500 loss: 1.267 acc: 0.636\n"
          ]
        },
        {
          "name": "stderr",
          "output_type": "stream",
          "text": [
            "1209it [00:26, 42.37it/s]"
          ]
        },
        {
          "name": "stdout",
          "output_type": "stream",
          "text": [
            "[11/20,  1201/1563] lr: 0.00500 loss: 1.304 acc: 0.625\n"
          ]
        },
        {
          "name": "stderr",
          "output_type": "stream",
          "text": [
            "1409it [00:31, 40.93it/s]"
          ]
        },
        {
          "name": "stdout",
          "output_type": "stream",
          "text": [
            "[11/20,  1401/1563] lr: 0.00500 loss: 1.320 acc: 0.624\n"
          ]
        },
        {
          "name": "stderr",
          "output_type": "stream",
          "text": [
            "1563it [00:34, 44.73it/s]\n"
          ]
        },
        {
          "name": "stdout",
          "output_type": "stream",
          "text": [
            "Test Accuracy - Overall: 49.68% | Head: 42.33% | Mid: 51.50% | Tail: 54.72%\n",
            "[11/20] val acc: 0.497 train acc: 0.633\n"
          ]
        },
        {
          "name": "stderr",
          "output_type": "stream",
          "text": [
            "0it [00:00, ?it/s]"
          ]
        },
        {
          "name": "stdout",
          "output_type": "stream",
          "text": [
            "[12/20,     1/1563] lr: 0.00422 loss: 0.005 acc: 0.688\n"
          ]
        },
        {
          "name": "stderr",
          "output_type": "stream",
          "text": [
            "209it [00:04, 41.69it/s]"
          ]
        },
        {
          "name": "stdout",
          "output_type": "stream",
          "text": [
            "[12/20,   201/1563] lr: 0.00422 loss: 0.912 acc: 0.737\n"
          ]
        },
        {
          "name": "stderr",
          "output_type": "stream",
          "text": [
            "409it [00:09, 42.59it/s]"
          ]
        },
        {
          "name": "stdout",
          "output_type": "stream",
          "text": [
            "[12/20,   401/1563] lr: 0.00422 loss: 0.894 acc: 0.733\n"
          ]
        },
        {
          "name": "stderr",
          "output_type": "stream",
          "text": [
            "609it [00:14, 41.31it/s]"
          ]
        },
        {
          "name": "stdout",
          "output_type": "stream",
          "text": [
            "[12/20,   601/1563] lr: 0.00422 loss: 0.940 acc: 0.729\n"
          ]
        },
        {
          "name": "stderr",
          "output_type": "stream",
          "text": [
            "809it [00:19, 42.17it/s]"
          ]
        },
        {
          "name": "stdout",
          "output_type": "stream",
          "text": [
            "[12/20,   801/1563] lr: 0.00422 loss: 0.934 acc: 0.720\n"
          ]
        },
        {
          "name": "stderr",
          "output_type": "stream",
          "text": [
            "1009it [00:23, 44.84it/s]"
          ]
        },
        {
          "name": "stdout",
          "output_type": "stream",
          "text": [
            "[12/20,  1001/1563] lr: 0.00422 loss: 1.001 acc: 0.697\n"
          ]
        },
        {
          "name": "stderr",
          "output_type": "stream",
          "text": [
            "1209it [00:28, 43.14it/s]"
          ]
        },
        {
          "name": "stdout",
          "output_type": "stream",
          "text": [
            "[12/20,  1201/1563] lr: 0.00422 loss: 1.007 acc: 0.703\n"
          ]
        },
        {
          "name": "stderr",
          "output_type": "stream",
          "text": [
            "1409it [00:33, 41.40it/s]"
          ]
        },
        {
          "name": "stdout",
          "output_type": "stream",
          "text": [
            "[12/20,  1401/1563] lr: 0.00422 loss: 1.004 acc: 0.706\n"
          ]
        },
        {
          "name": "stderr",
          "output_type": "stream",
          "text": [
            "1563it [00:36, 42.39it/s]\n"
          ]
        },
        {
          "name": "stdout",
          "output_type": "stream",
          "text": [
            "Test Accuracy - Overall: 49.93% | Head: 42.49% | Mid: 51.50% | Tail: 55.40%\n",
            "[12/20] val acc: 0.499 train acc: 0.716\n"
          ]
        },
        {
          "name": "stderr",
          "output_type": "stream",
          "text": [
            "0it [00:00, ?it/s]"
          ]
        },
        {
          "name": "stdout",
          "output_type": "stream",
          "text": [
            "[13/20,     1/1563] lr: 0.00345 loss: 0.002 acc: 0.844\n"
          ]
        },
        {
          "name": "stderr",
          "output_type": "stream",
          "text": [
            "208it [00:04, 42.65it/s]"
          ]
        },
        {
          "name": "stdout",
          "output_type": "stream",
          "text": [
            "[13/20,   201/1563] lr: 0.00345 loss: 0.636 acc: 0.812\n"
          ]
        },
        {
          "name": "stderr",
          "output_type": "stream",
          "text": [
            "408it [00:09, 40.09it/s]"
          ]
        },
        {
          "name": "stdout",
          "output_type": "stream",
          "text": [
            "[13/20,   401/1563] lr: 0.00345 loss: 0.632 acc: 0.810\n"
          ]
        },
        {
          "name": "stderr",
          "output_type": "stream",
          "text": [
            "608it [00:14, 44.58it/s]"
          ]
        },
        {
          "name": "stdout",
          "output_type": "stream",
          "text": [
            "[13/20,   601/1563] lr: 0.00345 loss: 0.643 acc: 0.805\n"
          ]
        },
        {
          "name": "stderr",
          "output_type": "stream",
          "text": [
            "808it [00:18, 42.89it/s]"
          ]
        },
        {
          "name": "stdout",
          "output_type": "stream",
          "text": [
            "[13/20,   801/1563] lr: 0.00345 loss: 0.673 acc: 0.796\n"
          ]
        },
        {
          "name": "stderr",
          "output_type": "stream",
          "text": [
            "1008it [00:23, 43.16it/s]"
          ]
        },
        {
          "name": "stdout",
          "output_type": "stream",
          "text": [
            "[13/20,  1001/1563] lr: 0.00345 loss: 0.655 acc: 0.803\n"
          ]
        },
        {
          "name": "stderr",
          "output_type": "stream",
          "text": [
            "1208it [00:28, 43.13it/s]"
          ]
        },
        {
          "name": "stdout",
          "output_type": "stream",
          "text": [
            "[13/20,  1201/1563] lr: 0.00345 loss: 0.694 acc: 0.787\n"
          ]
        },
        {
          "name": "stderr",
          "output_type": "stream",
          "text": [
            "1408it [00:33, 41.47it/s]"
          ]
        },
        {
          "name": "stdout",
          "output_type": "stream",
          "text": [
            "[13/20,  1401/1563] lr: 0.00345 loss: 0.705 acc: 0.787\n"
          ]
        },
        {
          "name": "stderr",
          "output_type": "stream",
          "text": [
            "1563it [00:36, 42.39it/s]\n"
          ]
        },
        {
          "name": "stdout",
          "output_type": "stream",
          "text": [
            "Test Accuracy - Overall: 50.12% | Head: 44.97% | Mid: 51.12% | Tail: 54.05%\n",
            "[13/20] val acc: 0.501 train acc: 0.798\n"
          ]
        },
        {
          "name": "stderr",
          "output_type": "stream",
          "text": [
            "0it [00:00, ?it/s]"
          ]
        },
        {
          "name": "stdout",
          "output_type": "stream",
          "text": [
            "[14/20,     1/1563] lr: 0.00273 loss: 0.001 acc: 0.906\n"
          ]
        },
        {
          "name": "stderr",
          "output_type": "stream",
          "text": [
            "209it [00:04, 45.17it/s]"
          ]
        },
        {
          "name": "stdout",
          "output_type": "stream",
          "text": [
            "[14/20,   201/1563] lr: 0.00273 loss: 0.399 acc: 0.887\n"
          ]
        },
        {
          "name": "stderr",
          "output_type": "stream",
          "text": [
            "409it [00:09, 44.92it/s]"
          ]
        },
        {
          "name": "stdout",
          "output_type": "stream",
          "text": [
            "[14/20,   401/1563] lr: 0.00273 loss: 0.384 acc: 0.885\n"
          ]
        },
        {
          "name": "stderr",
          "output_type": "stream",
          "text": [
            "606it [00:13, 46.82it/s]"
          ]
        },
        {
          "name": "stdout",
          "output_type": "stream",
          "text": [
            "[14/20,   601/1563] lr: 0.00273 loss: 0.419 acc: 0.880\n"
          ]
        },
        {
          "name": "stderr",
          "output_type": "stream",
          "text": [
            "806it [00:17, 47.85it/s]"
          ]
        },
        {
          "name": "stdout",
          "output_type": "stream",
          "text": [
            "[14/20,   801/1563] lr: 0.00273 loss: 0.403 acc: 0.883\n"
          ]
        },
        {
          "name": "stderr",
          "output_type": "stream",
          "text": [
            "1006it [00:21, 44.96it/s]"
          ]
        },
        {
          "name": "stdout",
          "output_type": "stream",
          "text": [
            "[14/20,  1001/1563] lr: 0.00273 loss: 0.419 acc: 0.876\n"
          ]
        },
        {
          "name": "stderr",
          "output_type": "stream",
          "text": [
            "1206it [00:26, 44.95it/s]"
          ]
        },
        {
          "name": "stdout",
          "output_type": "stream",
          "text": [
            "[14/20,  1201/1563] lr: 0.00273 loss: 0.417 acc: 0.872\n"
          ]
        },
        {
          "name": "stderr",
          "output_type": "stream",
          "text": [
            "1406it [00:30, 47.75it/s]"
          ]
        },
        {
          "name": "stdout",
          "output_type": "stream",
          "text": [
            "[14/20,  1401/1563] lr: 0.00273 loss: 0.427 acc: 0.870\n"
          ]
        },
        {
          "name": "stderr",
          "output_type": "stream",
          "text": [
            "1563it [00:34, 45.79it/s]\n"
          ]
        },
        {
          "name": "stdout",
          "output_type": "stream",
          "text": [
            "Test Accuracy - Overall: 49.45% | Head: 41.58% | Mid: 52.12% | Tail: 53.88%\n",
            "[14/20] val acc: 0.494 train acc: 0.876\n"
          ]
        },
        {
          "name": "stderr",
          "output_type": "stream",
          "text": [
            "8it [00:00, 36.97it/s]"
          ]
        },
        {
          "name": "stdout",
          "output_type": "stream",
          "text": [
            "[15/20,     1/1563] lr: 0.00206 loss: 0.001 acc: 0.938\n"
          ]
        },
        {
          "name": "stderr",
          "output_type": "stream",
          "text": [
            "207it [00:04, 43.03it/s]"
          ]
        },
        {
          "name": "stdout",
          "output_type": "stream",
          "text": [
            "[15/20,   201/1563] lr: 0.00206 loss: 0.237 acc: 0.937\n"
          ]
        },
        {
          "name": "stderr",
          "output_type": "stream",
          "text": [
            "407it [00:09, 43.34it/s]"
          ]
        },
        {
          "name": "stdout",
          "output_type": "stream",
          "text": [
            "[15/20,   401/1563] lr: 0.00206 loss: 0.215 acc: 0.944\n"
          ]
        },
        {
          "name": "stderr",
          "output_type": "stream",
          "text": [
            "607it [00:14, 42.93it/s]"
          ]
        },
        {
          "name": "stdout",
          "output_type": "stream",
          "text": [
            "[15/20,   601/1563] lr: 0.00206 loss: 0.221 acc: 0.938\n"
          ]
        },
        {
          "name": "stderr",
          "output_type": "stream",
          "text": [
            "807it [00:19, 42.58it/s]"
          ]
        },
        {
          "name": "stdout",
          "output_type": "stream",
          "text": [
            "[15/20,   801/1563] lr: 0.00206 loss: 0.226 acc: 0.938\n"
          ]
        },
        {
          "name": "stderr",
          "output_type": "stream",
          "text": [
            "1007it [00:23, 42.15it/s]"
          ]
        },
        {
          "name": "stdout",
          "output_type": "stream",
          "text": [
            "[15/20,  1001/1563] lr: 0.00206 loss: 0.240 acc: 0.929\n"
          ]
        },
        {
          "name": "stderr",
          "output_type": "stream",
          "text": [
            "1207it [00:28, 40.54it/s]"
          ]
        },
        {
          "name": "stdout",
          "output_type": "stream",
          "text": [
            "[15/20,  1201/1563] lr: 0.00206 loss: 0.251 acc: 0.928\n"
          ]
        },
        {
          "name": "stderr",
          "output_type": "stream",
          "text": [
            "1407it [00:33, 42.40it/s]"
          ]
        },
        {
          "name": "stdout",
          "output_type": "stream",
          "text": [
            "[15/20,  1401/1563] lr: 0.00206 loss: 0.240 acc: 0.931\n"
          ]
        },
        {
          "name": "stderr",
          "output_type": "stream",
          "text": [
            "1563it [00:37, 41.95it/s]\n"
          ]
        },
        {
          "name": "stdout",
          "output_type": "stream",
          "text": [
            "Test Accuracy - Overall: 49.93% | Head: 43.98% | Mid: 50.19% | Tail: 55.65%\n",
            "[15/20] val acc: 0.499 train acc: 0.934\n"
          ]
        },
        {
          "name": "stderr",
          "output_type": "stream",
          "text": [
            "0it [00:00, ?it/s]"
          ]
        },
        {
          "name": "stdout",
          "output_type": "stream",
          "text": [
            "[16/20,     1/1563] lr: 0.00146 loss: 0.000 acc: 1.000\n"
          ]
        },
        {
          "name": "stderr",
          "output_type": "stream",
          "text": [
            "205it [00:04, 41.04it/s]"
          ]
        },
        {
          "name": "stdout",
          "output_type": "stream",
          "text": [
            "[16/20,   201/1563] lr: 0.00146 loss: 0.133 acc: 0.968\n"
          ]
        },
        {
          "name": "stderr",
          "output_type": "stream",
          "text": [
            "405it [00:09, 43.12it/s]"
          ]
        },
        {
          "name": "stdout",
          "output_type": "stream",
          "text": [
            "[16/20,   401/1563] lr: 0.00146 loss: 0.122 acc: 0.972\n"
          ]
        },
        {
          "name": "stderr",
          "output_type": "stream",
          "text": [
            "607it [00:14, 47.52it/s]"
          ]
        },
        {
          "name": "stdout",
          "output_type": "stream",
          "text": [
            "[16/20,   601/1563] lr: 0.00146 loss: 0.121 acc: 0.971\n"
          ]
        },
        {
          "name": "stderr",
          "output_type": "stream",
          "text": [
            "807it [00:18, 41.21it/s]"
          ]
        },
        {
          "name": "stdout",
          "output_type": "stream",
          "text": [
            "[16/20,   801/1563] lr: 0.00146 loss: 0.132 acc: 0.967\n"
          ]
        },
        {
          "name": "stderr",
          "output_type": "stream",
          "text": [
            "1007it [00:23, 43.63it/s]"
          ]
        },
        {
          "name": "stdout",
          "output_type": "stream",
          "text": [
            "[16/20,  1001/1563] lr: 0.00146 loss: 0.116 acc: 0.971\n"
          ]
        },
        {
          "name": "stderr",
          "output_type": "stream",
          "text": [
            "1207it [00:28, 39.75it/s]"
          ]
        },
        {
          "name": "stdout",
          "output_type": "stream",
          "text": [
            "[16/20,  1201/1563] lr: 0.00146 loss: 0.144 acc: 0.961\n"
          ]
        },
        {
          "name": "stderr",
          "output_type": "stream",
          "text": [
            "1407it [00:32, 47.20it/s]"
          ]
        },
        {
          "name": "stdout",
          "output_type": "stream",
          "text": [
            "[16/20,  1401/1563] lr: 0.00146 loss: 0.132 acc: 0.964\n"
          ]
        },
        {
          "name": "stderr",
          "output_type": "stream",
          "text": [
            "1563it [00:36, 43.35it/s]\n"
          ]
        },
        {
          "name": "stdout",
          "output_type": "stream",
          "text": [
            "Test Accuracy - Overall: 50.48% | Head: 44.47% | Mid: 51.19% | Tail: 55.65%\n",
            "[16/20] val acc: 0.505 train acc: 0.967\n"
          ]
        },
        {
          "name": "stderr",
          "output_type": "stream",
          "text": [
            "0it [00:00, ?it/s]"
          ]
        },
        {
          "name": "stdout",
          "output_type": "stream",
          "text": [
            "[17/20,     1/1563] lr: 0.00095 loss: 0.000 acc: 1.000\n"
          ]
        },
        {
          "name": "stderr",
          "output_type": "stream",
          "text": [
            "209it [00:04, 47.75it/s]"
          ]
        },
        {
          "name": "stdout",
          "output_type": "stream",
          "text": [
            "[17/20,   201/1563] lr: 0.00095 loss: 0.076 acc: 0.985\n"
          ]
        },
        {
          "name": "stderr",
          "output_type": "stream",
          "text": [
            "409it [00:08, 47.68it/s]"
          ]
        },
        {
          "name": "stdout",
          "output_type": "stream",
          "text": [
            "[17/20,   401/1563] lr: 0.00095 loss: 0.068 acc: 0.987\n"
          ]
        },
        {
          "name": "stderr",
          "output_type": "stream",
          "text": [
            "609it [00:13, 47.10it/s]"
          ]
        },
        {
          "name": "stdout",
          "output_type": "stream",
          "text": [
            "[17/20,   601/1563] lr: 0.00095 loss: 0.070 acc: 0.987\n"
          ]
        },
        {
          "name": "stderr",
          "output_type": "stream",
          "text": [
            "809it [00:17, 48.50it/s]"
          ]
        },
        {
          "name": "stdout",
          "output_type": "stream",
          "text": [
            "[17/20,   801/1563] lr: 0.00095 loss: 0.069 acc: 0.985\n"
          ]
        },
        {
          "name": "stderr",
          "output_type": "stream",
          "text": [
            "1009it [00:21, 46.34it/s]"
          ]
        },
        {
          "name": "stdout",
          "output_type": "stream",
          "text": [
            "[17/20,  1001/1563] lr: 0.00095 loss: 0.064 acc: 0.988\n"
          ]
        },
        {
          "name": "stderr",
          "output_type": "stream",
          "text": [
            "1209it [00:25, 47.37it/s]"
          ]
        },
        {
          "name": "stdout",
          "output_type": "stream",
          "text": [
            "[17/20,  1201/1563] lr: 0.00095 loss: 0.064 acc: 0.989\n"
          ]
        },
        {
          "name": "stderr",
          "output_type": "stream",
          "text": [
            "1409it [00:29, 47.26it/s]"
          ]
        },
        {
          "name": "stdout",
          "output_type": "stream",
          "text": [
            "[17/20,  1401/1563] lr: 0.00095 loss: 0.073 acc: 0.985\n"
          ]
        },
        {
          "name": "stderr",
          "output_type": "stream",
          "text": [
            "1563it [00:33, 46.85it/s]\n"
          ]
        },
        {
          "name": "stdout",
          "output_type": "stream",
          "text": [
            "Test Accuracy - Overall: 50.85% | Head: 44.64% | Mid: 51.87% | Tail: 55.82%\n",
            "[17/20] val acc: 0.508 train acc: 0.987\n"
          ]
        },
        {
          "name": "stderr",
          "output_type": "stream",
          "text": [
            "8it [00:00, 37.02it/s]"
          ]
        },
        {
          "name": "stdout",
          "output_type": "stream",
          "text": [
            "[18/20,     1/1563] lr: 0.00054 loss: 0.000 acc: 1.000\n"
          ]
        },
        {
          "name": "stderr",
          "output_type": "stream",
          "text": [
            "206it [00:05, 39.75it/s]"
          ]
        },
        {
          "name": "stdout",
          "output_type": "stream",
          "text": [
            "[18/20,   201/1563] lr: 0.00054 loss: 0.046 acc: 0.993\n"
          ]
        },
        {
          "name": "stderr",
          "output_type": "stream",
          "text": [
            "407it [00:10, 42.00it/s]"
          ]
        },
        {
          "name": "stdout",
          "output_type": "stream",
          "text": [
            "[18/20,   401/1563] lr: 0.00054 loss: 0.047 acc: 0.993\n"
          ]
        },
        {
          "name": "stderr",
          "output_type": "stream",
          "text": [
            "607it [00:14, 41.27it/s]"
          ]
        },
        {
          "name": "stdout",
          "output_type": "stream",
          "text": [
            "[18/20,   601/1563] lr: 0.00054 loss: 0.043 acc: 0.993\n"
          ]
        },
        {
          "name": "stderr",
          "output_type": "stream",
          "text": [
            "807it [00:19, 42.75it/s]"
          ]
        },
        {
          "name": "stdout",
          "output_type": "stream",
          "text": [
            "[18/20,   801/1563] lr: 0.00054 loss: 0.041 acc: 0.993\n"
          ]
        },
        {
          "name": "stderr",
          "output_type": "stream",
          "text": [
            "1007it [00:24, 43.81it/s]"
          ]
        },
        {
          "name": "stdout",
          "output_type": "stream",
          "text": [
            "[18/20,  1001/1563] lr: 0.00054 loss: 0.042 acc: 0.994\n"
          ]
        },
        {
          "name": "stderr",
          "output_type": "stream",
          "text": [
            "1207it [00:28, 43.38it/s]"
          ]
        },
        {
          "name": "stdout",
          "output_type": "stream",
          "text": [
            "[18/20,  1201/1563] lr: 0.00054 loss: 0.045 acc: 0.992\n"
          ]
        },
        {
          "name": "stderr",
          "output_type": "stream",
          "text": [
            "1407it [00:33, 40.82it/s]"
          ]
        },
        {
          "name": "stdout",
          "output_type": "stream",
          "text": [
            "[18/20,  1401/1563] lr: 0.00054 loss: 0.045 acc: 0.993\n"
          ]
        },
        {
          "name": "stderr",
          "output_type": "stream",
          "text": [
            "1563it [00:37, 41.56it/s]\n"
          ]
        },
        {
          "name": "stdout",
          "output_type": "stream",
          "text": [
            "Test Accuracy - Overall: 51.08% | Head: 45.13% | Mid: 52.06% | Tail: 55.82%\n",
            "[18/20] val acc: 0.511 train acc: 0.993\n"
          ]
        },
        {
          "name": "stderr",
          "output_type": "stream",
          "text": [
            "0it [00:00, ?it/s]"
          ]
        },
        {
          "name": "stdout",
          "output_type": "stream",
          "text": [
            "[19/20,     1/1563] lr: 0.00024 loss: 0.000 acc: 1.000\n"
          ]
        },
        {
          "name": "stderr",
          "output_type": "stream",
          "text": [
            "209it [00:04, 42.29it/s]"
          ]
        },
        {
          "name": "stdout",
          "output_type": "stream",
          "text": [
            "[19/20,   201/1563] lr: 0.00024 loss: 0.037 acc: 0.993\n"
          ]
        },
        {
          "name": "stderr",
          "output_type": "stream",
          "text": [
            "409it [00:09, 43.18it/s]"
          ]
        },
        {
          "name": "stdout",
          "output_type": "stream",
          "text": [
            "[19/20,   401/1563] lr: 0.00024 loss: 0.031 acc: 0.997\n"
          ]
        },
        {
          "name": "stderr",
          "output_type": "stream",
          "text": [
            "609it [00:14, 41.83it/s]"
          ]
        },
        {
          "name": "stdout",
          "output_type": "stream",
          "text": [
            "[19/20,   601/1563] lr: 0.00024 loss: 0.030 acc: 0.997\n"
          ]
        },
        {
          "name": "stderr",
          "output_type": "stream",
          "text": [
            "809it [00:19, 41.72it/s]"
          ]
        },
        {
          "name": "stdout",
          "output_type": "stream",
          "text": [
            "[19/20,   801/1563] lr: 0.00024 loss: 0.032 acc: 0.995\n"
          ]
        },
        {
          "name": "stderr",
          "output_type": "stream",
          "text": [
            "1004it [00:23, 40.44it/s]"
          ]
        },
        {
          "name": "stdout",
          "output_type": "stream",
          "text": [
            "[19/20,  1001/1563] lr: 0.00024 loss: 0.029 acc: 0.997\n"
          ]
        },
        {
          "name": "stderr",
          "output_type": "stream",
          "text": [
            "1209it [00:28, 44.33it/s]"
          ]
        },
        {
          "name": "stdout",
          "output_type": "stream",
          "text": [
            "[19/20,  1201/1563] lr: 0.00024 loss: 0.031 acc: 0.995\n"
          ]
        },
        {
          "name": "stderr",
          "output_type": "stream",
          "text": [
            "1409it [00:33, 44.48it/s]"
          ]
        },
        {
          "name": "stdout",
          "output_type": "stream",
          "text": [
            "[19/20,  1401/1563] lr: 0.00024 loss: 0.033 acc: 0.996\n"
          ]
        },
        {
          "name": "stderr",
          "output_type": "stream",
          "text": [
            "1563it [00:37, 42.22it/s]\n"
          ]
        },
        {
          "name": "stdout",
          "output_type": "stream",
          "text": [
            "Test Accuracy - Overall: 50.72% | Head: 44.14% | Mid: 52.43% | Tail: 55.14%\n",
            "[19/20] val acc: 0.507 train acc: 0.996\n"
          ]
        },
        {
          "name": "stderr",
          "output_type": "stream",
          "text": [
            "0it [00:00, ?it/s]"
          ]
        },
        {
          "name": "stdout",
          "output_type": "stream",
          "text": [
            "[20/20,     1/1563] lr: 0.00006 loss: 0.000 acc: 1.000\n"
          ]
        },
        {
          "name": "stderr",
          "output_type": "stream",
          "text": [
            "207it [00:04, 47.54it/s]"
          ]
        },
        {
          "name": "stdout",
          "output_type": "stream",
          "text": [
            "[20/20,   201/1563] lr: 0.00006 loss: 0.024 acc: 0.998\n"
          ]
        },
        {
          "name": "stderr",
          "output_type": "stream",
          "text": [
            "409it [00:08, 43.44it/s]"
          ]
        },
        {
          "name": "stdout",
          "output_type": "stream",
          "text": [
            "[20/20,   401/1563] lr: 0.00006 loss: 0.025 acc: 0.998\n"
          ]
        },
        {
          "name": "stderr",
          "output_type": "stream",
          "text": [
            "609it [00:13, 45.91it/s]"
          ]
        },
        {
          "name": "stdout",
          "output_type": "stream",
          "text": [
            "[20/20,   601/1563] lr: 0.00006 loss: 0.028 acc: 0.997\n"
          ]
        },
        {
          "name": "stderr",
          "output_type": "stream",
          "text": [
            "809it [00:17, 40.48it/s]"
          ]
        },
        {
          "name": "stdout",
          "output_type": "stream",
          "text": [
            "[20/20,   801/1563] lr: 0.00006 loss: 0.027 acc: 0.998\n"
          ]
        },
        {
          "name": "stderr",
          "output_type": "stream",
          "text": [
            "1009it [00:22, 42.31it/s]"
          ]
        },
        {
          "name": "stdout",
          "output_type": "stream",
          "text": [
            "[20/20,  1001/1563] lr: 0.00006 loss: 0.025 acc: 0.997\n"
          ]
        },
        {
          "name": "stderr",
          "output_type": "stream",
          "text": [
            "1207it [00:27, 43.39it/s]"
          ]
        },
        {
          "name": "stdout",
          "output_type": "stream",
          "text": [
            "[20/20,  1201/1563] lr: 0.00006 loss: 0.024 acc: 0.998\n"
          ]
        },
        {
          "name": "stderr",
          "output_type": "stream",
          "text": [
            "1407it [00:31, 44.43it/s]"
          ]
        },
        {
          "name": "stdout",
          "output_type": "stream",
          "text": [
            "[20/20,  1401/1563] lr: 0.00006 loss: 0.027 acc: 0.997\n"
          ]
        },
        {
          "name": "stderr",
          "output_type": "stream",
          "text": [
            "1563it [00:35, 44.36it/s]\n"
          ]
        },
        {
          "name": "stdout",
          "output_type": "stream",
          "text": [
            "Test Accuracy - Overall: 50.82% | Head: 44.14% | Mid: 52.43% | Tail: 55.48%\n",
            "[20/20] val acc: 0.508 train acc: 0.997\n"
          ]
        }
      ],
      "source": [
        "# Cifar-100 Accuracy\n",
        "\n",
        "# Model\n",
        "model = resnet50(num_classes=100)\n",
        "model.conv1 = nn.Conv2d(3, 64, kernel_size=3, stride=1, padding=1, bias=False)\n",
        "model.maxpool = nn.Identity()\n",
        "\n",
        "# Train/Val Set\n",
        "trainSet = torch.utils.data.TensorDataset(torch.Tensor(trainData), torch.Tensor(trainLabel).long())\n",
        "trainLoader = torch.utils.data.DataLoader(trainSet, batch_size=32, shuffle=True, num_workers=2)\n",
        "valSet = torch.utils.data.TensorDataset(torch.Tensor(valData), torch.Tensor(valLabel))\n",
        "valLoader = torch.utils.data.DataLoader(valSet, batch_size=32, shuffle=True, num_workers=2)\n",
        "\n",
        "# Params\n",
        "optimizer = torch.optim.Adam(model.parameters(), lr=0.01)\n",
        "scheduler = torch.optim.lr_scheduler.CosineAnnealingLR(optimizer, T_max=20)\n",
        "loss = nn.CrossEntropyLoss()\n",
        "\n",
        "# Train\n",
        "model.to(device)\n",
        "train_model(trainLoader, valLoader, 20, model, optimizer, scheduler, loss)"
      ]
    },
    {
      "cell_type": "markdown",
      "id": "44f89bd2",
      "metadata": {
        "id": "44f89bd2"
      },
      "source": [
        "# CNN"
      ]
    },
    {
      "cell_type": "markdown",
      "id": "773890a7",
      "metadata": {
        "id": "773890a7"
      },
      "source": [
        "# Data Augmentation"
      ]
    },
    {
      "cell_type": "code",
      "execution_count": 57,
      "id": "896e612b",
      "metadata": {
        "id": "896e612b"
      },
      "outputs": [],
      "source": [
        "transform = transforms.Compose([\n",
        "    transforms.RandomCrop(32, padding=4),\n",
        "    transforms.RandomHorizontalFlip(),\n",
        "    transforms.ToTensor(),\n",
        "    transforms.Normalize((0.5071, 0.4867, 0.4408), (0.2675, 0.2565, 0.2761))\n",
        "])\n",
        "\n",
        "\n",
        "def augmentImage(baseImg):\n",
        "    img = Image.fromarray(np.transpose(baseImg, (1, 2, 0)).astype(np.uint8))\n",
        "    imgAug = transform(img)\n",
        "    return imgAug"
      ]
    },
    {
      "cell_type": "code",
      "execution_count": 58,
      "id": "e2eefa82",
      "metadata": {
        "id": "e2eefa82"
      },
      "outputs": [],
      "source": [
        "augmented = [augmentImage(img) for img in trainDataLT]\n",
        "augmented = torch.stack(augmented)\n",
        "augmentedImage = augmented.numpy()\n",
        "augmentedLabels = np.array(trainLabelLT)"
      ]
    },
    {
      "cell_type": "code",
      "execution_count": 59,
      "id": "2e8c92ef",
      "metadata": {
        "colab": {
          "base_uri": "https://localhost:8080/"
        },
        "id": "2e8c92ef",
        "outputId": "8355a95c-6a5d-4ce7-914e-86104fb61acc"
      },
      "outputs": [
        {
          "output_type": "stream",
          "name": "stdout",
          "text": [
            "(31814, 3, 32, 32) (31814,)\n"
          ]
        }
      ],
      "source": [
        "augmentedLT = np.concatenate([trainDataLT, augmented], axis=0)\n",
        "augmentedLabelsLT = np.concatenate([trainLabelLT, augmentedLabels], axis=0)\n",
        "print(augmentedLT.shape, augmentedLabelsLT.shape)"
      ]
    },
    {
      "cell_type": "code",
      "execution_count": null,
      "id": "1d4f0c55",
      "metadata": {
        "id": "1d4f0c55",
        "outputId": "fa8e2f4b-91f8-4f38-80a2-998c6b2e1c9e"
      },
      "outputs": [
        {
          "name": "stderr",
          "output_type": "stream",
          "text": [
            "2it [00:01,  1.42it/s]"
          ]
        },
        {
          "name": "stdout",
          "output_type": "stream",
          "text": [
            "[1/20,     1/995] lr: 0.01000 loss: 0.025 acc: 0.000\n"
          ]
        },
        {
          "name": "stderr",
          "output_type": "stream",
          "text": [
            "202it [00:23,  8.88it/s]"
          ]
        },
        {
          "name": "stdout",
          "output_type": "stream",
          "text": [
            "[1/20,   201/995] lr: 0.01000 loss: 4.966 acc: 0.033\n"
          ]
        },
        {
          "name": "stderr",
          "output_type": "stream",
          "text": [
            "402it [00:47,  8.44it/s]"
          ]
        },
        {
          "name": "stdout",
          "output_type": "stream",
          "text": [
            "[1/20,   401/995] lr: 0.01000 loss: 4.291 acc: 0.035\n"
          ]
        },
        {
          "name": "stderr",
          "output_type": "stream",
          "text": [
            "602it [01:11,  8.14it/s]"
          ]
        },
        {
          "name": "stdout",
          "output_type": "stream",
          "text": [
            "[1/20,   601/995] lr: 0.01000 loss: 4.261 acc: 0.040\n"
          ]
        },
        {
          "name": "stderr",
          "output_type": "stream",
          "text": [
            "802it [01:35,  8.25it/s]"
          ]
        },
        {
          "name": "stdout",
          "output_type": "stream",
          "text": [
            "[1/20,   801/995] lr: 0.01000 loss: 4.165 acc: 0.053\n"
          ]
        },
        {
          "name": "stderr",
          "output_type": "stream",
          "text": [
            "995it [01:59,  8.36it/s]\n"
          ]
        },
        {
          "name": "stdout",
          "output_type": "stream",
          "text": [
            "Test Accuracy - Overall: 0.95% | Head: 3.25% | Mid: 0.00% | Tail: 0.00%\n",
            "[1/20] val acc: 0.009 train acc: 0.043\n"
          ]
        },
        {
          "name": "stderr",
          "output_type": "stream",
          "text": [
            "1it [00:00,  7.88it/s]"
          ]
        },
        {
          "name": "stdout",
          "output_type": "stream",
          "text": [
            "[2/20,     1/995] lr: 0.00994 loss: 0.022 acc: 0.031\n"
          ]
        },
        {
          "name": "stderr",
          "output_type": "stream",
          "text": [
            "202it [00:24,  8.26it/s]"
          ]
        },
        {
          "name": "stdout",
          "output_type": "stream",
          "text": [
            "[2/20,   201/995] lr: 0.00994 loss: 4.160 acc: 0.051\n"
          ]
        },
        {
          "name": "stderr",
          "output_type": "stream",
          "text": [
            "402it [00:48,  8.24it/s]"
          ]
        },
        {
          "name": "stdout",
          "output_type": "stream",
          "text": [
            "[2/20,   401/995] lr: 0.00994 loss: 4.091 acc: 0.059\n"
          ]
        },
        {
          "name": "stderr",
          "output_type": "stream",
          "text": [
            "602it [01:12,  8.33it/s]"
          ]
        },
        {
          "name": "stdout",
          "output_type": "stream",
          "text": [
            "[2/20,   601/995] lr: 0.00994 loss: 4.019 acc: 0.072\n"
          ]
        },
        {
          "name": "stderr",
          "output_type": "stream",
          "text": [
            "802it [01:36,  8.28it/s]"
          ]
        },
        {
          "name": "stdout",
          "output_type": "stream",
          "text": [
            "[2/20,   801/995] lr: 0.00994 loss: 4.007 acc: 0.075\n"
          ]
        },
        {
          "name": "stderr",
          "output_type": "stream",
          "text": [
            "995it [02:00,  8.29it/s]\n"
          ]
        },
        {
          "name": "stdout",
          "output_type": "stream",
          "text": [
            "Test Accuracy - Overall: 4.00% | Head: 12.74% | Mid: 0.67% | Tail: 0.00%\n",
            "[2/20] val acc: 0.040 train acc: 0.065\n"
          ]
        },
        {
          "name": "stderr",
          "output_type": "stream",
          "text": [
            "1it [00:00,  8.33it/s]"
          ]
        },
        {
          "name": "stdout",
          "output_type": "stream",
          "text": [
            "[3/20,     1/995] lr: 0.00976 loss: 0.018 acc: 0.062\n"
          ]
        },
        {
          "name": "stderr",
          "output_type": "stream",
          "text": [
            "202it [00:24,  8.26it/s]"
          ]
        },
        {
          "name": "stdout",
          "output_type": "stream",
          "text": [
            "[3/20,   201/995] lr: 0.00976 loss: 3.947 acc: 0.080\n"
          ]
        },
        {
          "name": "stderr",
          "output_type": "stream",
          "text": [
            "402it [00:48,  8.27it/s]"
          ]
        },
        {
          "name": "stdout",
          "output_type": "stream",
          "text": [
            "[3/20,   401/995] lr: 0.00976 loss: 3.931 acc: 0.084\n"
          ]
        },
        {
          "name": "stderr",
          "output_type": "stream",
          "text": [
            "602it [01:12,  8.22it/s]"
          ]
        },
        {
          "name": "stdout",
          "output_type": "stream",
          "text": [
            "[3/20,   601/995] lr: 0.00976 loss: 3.929 acc: 0.086\n"
          ]
        },
        {
          "name": "stderr",
          "output_type": "stream",
          "text": [
            "802it [01:37,  8.30it/s]"
          ]
        },
        {
          "name": "stdout",
          "output_type": "stream",
          "text": [
            "[3/20,   801/995] lr: 0.00976 loss: 3.900 acc: 0.091\n"
          ]
        },
        {
          "name": "stderr",
          "output_type": "stream",
          "text": [
            "995it [02:00,  8.26it/s]\n"
          ]
        },
        {
          "name": "stdout",
          "output_type": "stream",
          "text": [
            "Test Accuracy - Overall: 5.33% | Head: 15.90% | Mid: 1.58% | Tail: 0.08%\n",
            "[3/20] val acc: 0.053 train acc: 0.088\n"
          ]
        },
        {
          "name": "stderr",
          "output_type": "stream",
          "text": [
            "1it [00:00,  8.28it/s]"
          ]
        },
        {
          "name": "stdout",
          "output_type": "stream",
          "text": [
            "[4/20,     1/995] lr: 0.00946 loss: 0.018 acc: 0.125\n"
          ]
        },
        {
          "name": "stderr",
          "output_type": "stream",
          "text": [
            "202it [00:24,  8.24it/s]"
          ]
        },
        {
          "name": "stdout",
          "output_type": "stream",
          "text": [
            "[4/20,   201/995] lr: 0.00946 loss: 3.854 acc: 0.098\n"
          ]
        },
        {
          "name": "stderr",
          "output_type": "stream",
          "text": [
            "402it [00:48,  8.32it/s]"
          ]
        },
        {
          "name": "stdout",
          "output_type": "stream",
          "text": [
            "[4/20,   401/995] lr: 0.00946 loss: 3.809 acc: 0.101\n"
          ]
        },
        {
          "name": "stderr",
          "output_type": "stream",
          "text": [
            "602it [01:12,  8.31it/s]"
          ]
        },
        {
          "name": "stdout",
          "output_type": "stream",
          "text": [
            "[4/20,   601/995] lr: 0.00946 loss: 3.802 acc: 0.115\n"
          ]
        },
        {
          "name": "stderr",
          "output_type": "stream",
          "text": [
            "802it [01:36,  8.31it/s]"
          ]
        },
        {
          "name": "stdout",
          "output_type": "stream",
          "text": [
            "[4/20,   801/995] lr: 0.00946 loss: 3.768 acc: 0.115\n"
          ]
        },
        {
          "name": "stderr",
          "output_type": "stream",
          "text": [
            "995it [02:00,  8.28it/s]\n"
          ]
        },
        {
          "name": "stdout",
          "output_type": "stream",
          "text": [
            "Test Accuracy - Overall: 6.80% | Head: 21.03% | Mid: 1.58% | Tail: 0.00%\n",
            "[4/20] val acc: 0.068 train acc: 0.108\n"
          ]
        },
        {
          "name": "stderr",
          "output_type": "stream",
          "text": [
            "1it [00:00,  8.55it/s]"
          ]
        },
        {
          "name": "stdout",
          "output_type": "stream",
          "text": [
            "[5/20,     1/995] lr: 0.00905 loss: 0.019 acc: 0.031\n"
          ]
        },
        {
          "name": "stderr",
          "output_type": "stream",
          "text": [
            "202it [00:24,  8.30it/s]"
          ]
        },
        {
          "name": "stdout",
          "output_type": "stream",
          "text": [
            "[5/20,   201/995] lr: 0.00905 loss: 3.726 acc: 0.120\n"
          ]
        },
        {
          "name": "stderr",
          "output_type": "stream",
          "text": [
            "402it [00:48,  8.26it/s]"
          ]
        },
        {
          "name": "stdout",
          "output_type": "stream",
          "text": [
            "[5/20,   401/995] lr: 0.00905 loss: 3.683 acc: 0.133\n"
          ]
        },
        {
          "name": "stderr",
          "output_type": "stream",
          "text": [
            "602it [01:12,  8.27it/s]"
          ]
        },
        {
          "name": "stdout",
          "output_type": "stream",
          "text": [
            "[5/20,   601/995] lr: 0.00905 loss: 3.641 acc: 0.134\n"
          ]
        },
        {
          "name": "stderr",
          "output_type": "stream",
          "text": [
            "802it [01:36,  8.31it/s]"
          ]
        },
        {
          "name": "stdout",
          "output_type": "stream",
          "text": [
            "[5/20,   801/995] lr: 0.00905 loss: 3.596 acc: 0.151\n"
          ]
        },
        {
          "name": "stderr",
          "output_type": "stream",
          "text": [
            "995it [02:00,  8.28it/s]\n"
          ]
        },
        {
          "name": "stdout",
          "output_type": "stream",
          "text": [
            "Test Accuracy - Overall: 7.75% | Head: 21.79% | Mid: 3.04% | Tail: 0.42%\n",
            "[5/20] val acc: 0.077 train acc: 0.138\n"
          ]
        },
        {
          "name": "stderr",
          "output_type": "stream",
          "text": [
            "1it [00:00,  8.08it/s]"
          ]
        },
        {
          "name": "stdout",
          "output_type": "stream",
          "text": [
            "[6/20,     1/995] lr: 0.00854 loss: 0.019 acc: 0.156\n"
          ]
        },
        {
          "name": "stderr",
          "output_type": "stream",
          "text": [
            "202it [00:24,  8.35it/s]"
          ]
        },
        {
          "name": "stdout",
          "output_type": "stream",
          "text": [
            "[6/20,   201/995] lr: 0.00854 loss: 3.515 acc: 0.161\n"
          ]
        },
        {
          "name": "stderr",
          "output_type": "stream",
          "text": [
            "402it [00:48,  8.22it/s]"
          ]
        },
        {
          "name": "stdout",
          "output_type": "stream",
          "text": [
            "[6/20,   401/995] lr: 0.00854 loss: 3.503 acc: 0.165\n"
          ]
        },
        {
          "name": "stderr",
          "output_type": "stream",
          "text": [
            "602it [01:12,  8.26it/s]"
          ]
        },
        {
          "name": "stdout",
          "output_type": "stream",
          "text": [
            "[6/20,   601/995] lr: 0.00854 loss: 3.467 acc: 0.174\n"
          ]
        },
        {
          "name": "stderr",
          "output_type": "stream",
          "text": [
            "802it [01:36,  8.30it/s]"
          ]
        },
        {
          "name": "stdout",
          "output_type": "stream",
          "text": [
            "[6/20,   801/995] lr: 0.00854 loss: 3.427 acc: 0.176\n"
          ]
        },
        {
          "name": "stderr",
          "output_type": "stream",
          "text": [
            "995it [02:00,  8.28it/s]\n"
          ]
        },
        {
          "name": "stdout",
          "output_type": "stream",
          "text": [
            "Test Accuracy - Overall: 11.05% | Head: 26.50% | Mid: 6.70% | Tail: 1.85%\n",
            "[6/20] val acc: 0.111 train acc: 0.173\n"
          ]
        },
        {
          "name": "stderr",
          "output_type": "stream",
          "text": [
            "1it [00:00,  8.28it/s]"
          ]
        },
        {
          "name": "stdout",
          "output_type": "stream",
          "text": [
            "[7/20,     1/995] lr: 0.00794 loss: 0.016 acc: 0.219\n"
          ]
        },
        {
          "name": "stderr",
          "output_type": "stream",
          "text": [
            "202it [00:24,  8.36it/s]"
          ]
        },
        {
          "name": "stdout",
          "output_type": "stream",
          "text": [
            "[7/20,   201/995] lr: 0.00794 loss: 3.318 acc: 0.200\n"
          ]
        },
        {
          "name": "stderr",
          "output_type": "stream",
          "text": [
            "402it [00:48,  8.24it/s]"
          ]
        },
        {
          "name": "stdout",
          "output_type": "stream",
          "text": [
            "[7/20,   401/995] lr: 0.00794 loss: 3.278 acc: 0.203\n"
          ]
        },
        {
          "name": "stderr",
          "output_type": "stream",
          "text": [
            "602it [01:12,  8.27it/s]"
          ]
        },
        {
          "name": "stdout",
          "output_type": "stream",
          "text": [
            "[7/20,   601/995] lr: 0.00794 loss: 3.250 acc: 0.212\n"
          ]
        },
        {
          "name": "stderr",
          "output_type": "stream",
          "text": [
            "802it [01:36,  8.27it/s]"
          ]
        },
        {
          "name": "stdout",
          "output_type": "stream",
          "text": [
            "[7/20,   801/995] lr: 0.00794 loss: 3.214 acc: 0.223\n"
          ]
        },
        {
          "name": "stderr",
          "output_type": "stream",
          "text": [
            "995it [02:00,  8.28it/s]\n"
          ]
        },
        {
          "name": "stdout",
          "output_type": "stream",
          "text": [
            "Test Accuracy - Overall: 14.62% | Head: 34.87% | Mid: 9.25% | Tail: 2.11%\n",
            "[7/20] val acc: 0.146 train acc: 0.211\n"
          ]
        },
        {
          "name": "stderr",
          "output_type": "stream",
          "text": [
            "1it [00:00,  8.54it/s]"
          ]
        },
        {
          "name": "stdout",
          "output_type": "stream",
          "text": [
            "[8/20,     1/995] lr: 0.00727 loss: 0.017 acc: 0.250\n"
          ]
        },
        {
          "name": "stderr",
          "output_type": "stream",
          "text": [
            "202it [00:24,  8.24it/s]"
          ]
        },
        {
          "name": "stdout",
          "output_type": "stream",
          "text": [
            "[8/20,   201/995] lr: 0.00727 loss: 3.099 acc: 0.240\n"
          ]
        },
        {
          "name": "stderr",
          "output_type": "stream",
          "text": [
            "402it [00:48,  8.31it/s]"
          ]
        },
        {
          "name": "stdout",
          "output_type": "stream",
          "text": [
            "[8/20,   401/995] lr: 0.00727 loss: 3.066 acc: 0.252\n"
          ]
        },
        {
          "name": "stderr",
          "output_type": "stream",
          "text": [
            "602it [01:12,  8.28it/s]"
          ]
        },
        {
          "name": "stdout",
          "output_type": "stream",
          "text": [
            "[8/20,   601/995] lr: 0.00727 loss: 3.043 acc: 0.252\n"
          ]
        },
        {
          "name": "stderr",
          "output_type": "stream",
          "text": [
            "802it [01:36,  8.22it/s]"
          ]
        },
        {
          "name": "stdout",
          "output_type": "stream",
          "text": [
            "[8/20,   801/995] lr: 0.00727 loss: 3.042 acc: 0.251\n"
          ]
        },
        {
          "name": "stderr",
          "output_type": "stream",
          "text": [
            "995it [02:00,  8.29it/s]\n"
          ]
        },
        {
          "name": "stdout",
          "output_type": "stream",
          "text": [
            "Test Accuracy - Overall: 17.35% | Head: 36.75% | Mid: 13.94% | Tail: 2.95%\n",
            "[8/20] val acc: 0.173 train acc: 0.251\n"
          ]
        },
        {
          "name": "stderr",
          "output_type": "stream",
          "text": [
            "1it [00:00,  8.31it/s]"
          ]
        },
        {
          "name": "stdout",
          "output_type": "stream",
          "text": [
            "[9/20,     1/995] lr: 0.00655 loss: 0.014 acc: 0.344\n"
          ]
        },
        {
          "name": "stderr",
          "output_type": "stream",
          "text": [
            "202it [00:24,  8.34it/s]"
          ]
        },
        {
          "name": "stdout",
          "output_type": "stream",
          "text": [
            "[9/20,   201/995] lr: 0.00655 loss: 2.895 acc: 0.282\n"
          ]
        },
        {
          "name": "stderr",
          "output_type": "stream",
          "text": [
            "402it [00:48,  8.32it/s]"
          ]
        },
        {
          "name": "stdout",
          "output_type": "stream",
          "text": [
            "[9/20,   401/995] lr: 0.00655 loss: 2.867 acc: 0.288\n"
          ]
        },
        {
          "name": "stderr",
          "output_type": "stream",
          "text": [
            "602it [01:12,  8.35it/s]"
          ]
        },
        {
          "name": "stdout",
          "output_type": "stream",
          "text": [
            "[9/20,   601/995] lr: 0.00655 loss: 2.843 acc: 0.294\n"
          ]
        },
        {
          "name": "stderr",
          "output_type": "stream",
          "text": [
            "802it [01:36,  8.31it/s]"
          ]
        },
        {
          "name": "stdout",
          "output_type": "stream",
          "text": [
            "[9/20,   801/995] lr: 0.00655 loss: 2.849 acc: 0.297\n"
          ]
        },
        {
          "name": "stderr",
          "output_type": "stream",
          "text": [
            "995it [01:59,  8.30it/s]\n"
          ]
        },
        {
          "name": "stdout",
          "output_type": "stream",
          "text": [
            "Test Accuracy - Overall: 21.30% | Head: 42.65% | Mid: 18.56% | Tail: 4.04%\n",
            "[9/20] val acc: 0.213 train acc: 0.292\n"
          ]
        },
        {
          "name": "stderr",
          "output_type": "stream",
          "text": [
            "1it [00:00,  8.36it/s]"
          ]
        },
        {
          "name": "stdout",
          "output_type": "stream",
          "text": [
            "[10/20,     1/995] lr: 0.00578 loss: 0.013 acc: 0.250\n"
          ]
        },
        {
          "name": "stderr",
          "output_type": "stream",
          "text": [
            "202it [00:24,  8.33it/s]"
          ]
        },
        {
          "name": "stdout",
          "output_type": "stream",
          "text": [
            "[10/20,   201/995] lr: 0.00578 loss: 2.637 acc: 0.335\n"
          ]
        },
        {
          "name": "stderr",
          "output_type": "stream",
          "text": [
            "402it [00:48,  8.24it/s]"
          ]
        },
        {
          "name": "stdout",
          "output_type": "stream",
          "text": [
            "[10/20,   401/995] lr: 0.00578 loss: 2.662 acc: 0.327\n"
          ]
        },
        {
          "name": "stderr",
          "output_type": "stream",
          "text": [
            "602it [01:12,  8.23it/s]"
          ]
        },
        {
          "name": "stdout",
          "output_type": "stream",
          "text": [
            "[10/20,   601/995] lr: 0.00578 loss: 2.676 acc: 0.325\n"
          ]
        },
        {
          "name": "stderr",
          "output_type": "stream",
          "text": [
            "802it [01:36,  8.24it/s]"
          ]
        },
        {
          "name": "stdout",
          "output_type": "stream",
          "text": [
            "[10/20,   801/995] lr: 0.00578 loss: 2.620 acc: 0.338\n"
          ]
        },
        {
          "name": "stderr",
          "output_type": "stream",
          "text": [
            "995it [02:00,  8.28it/s]\n"
          ]
        },
        {
          "name": "stdout",
          "output_type": "stream",
          "text": [
            "Test Accuracy - Overall: 22.10% | Head: 44.87% | Mid: 18.56% | Tail: 4.55%\n",
            "[10/20] val acc: 0.221 train acc: 0.333\n"
          ]
        },
        {
          "name": "stderr",
          "output_type": "stream",
          "text": [
            "1it [00:00,  7.73it/s]"
          ]
        },
        {
          "name": "stdout",
          "output_type": "stream",
          "text": [
            "[11/20,     1/995] lr: 0.00500 loss: 0.012 acc: 0.312\n"
          ]
        },
        {
          "name": "stderr",
          "output_type": "stream",
          "text": [
            "202it [00:24,  8.30it/s]"
          ]
        },
        {
          "name": "stdout",
          "output_type": "stream",
          "text": [
            "[11/20,   201/995] lr: 0.00500 loss: 2.399 acc: 0.385\n"
          ]
        },
        {
          "name": "stderr",
          "output_type": "stream",
          "text": [
            "402it [00:48,  8.26it/s]"
          ]
        },
        {
          "name": "stdout",
          "output_type": "stream",
          "text": [
            "[11/20,   401/995] lr: 0.00500 loss: 2.412 acc: 0.373\n"
          ]
        },
        {
          "name": "stderr",
          "output_type": "stream",
          "text": [
            "602it [01:12,  8.29it/s]"
          ]
        },
        {
          "name": "stdout",
          "output_type": "stream",
          "text": [
            "[11/20,   601/995] lr: 0.00500 loss: 2.421 acc: 0.385\n"
          ]
        },
        {
          "name": "stderr",
          "output_type": "stream",
          "text": [
            "802it [01:36,  8.28it/s]"
          ]
        },
        {
          "name": "stdout",
          "output_type": "stream",
          "text": [
            "[11/20,   801/995] lr: 0.00500 loss: 2.400 acc: 0.388\n"
          ]
        },
        {
          "name": "stderr",
          "output_type": "stream",
          "text": [
            "995it [02:00,  8.29it/s]\n"
          ]
        },
        {
          "name": "stdout",
          "output_type": "stream",
          "text": [
            "Test Accuracy - Overall: 23.62% | Head: 45.73% | Mid: 19.90% | Tail: 6.99%\n",
            "[11/20] val acc: 0.236 train acc: 0.384\n"
          ]
        },
        {
          "name": "stderr",
          "output_type": "stream",
          "text": [
            "1it [00:00,  7.98it/s]"
          ]
        },
        {
          "name": "stdout",
          "output_type": "stream",
          "text": [
            "[12/20,     1/995] lr: 0.00422 loss: 0.011 acc: 0.375\n"
          ]
        },
        {
          "name": "stderr",
          "output_type": "stream",
          "text": [
            "202it [00:24,  8.31it/s]"
          ]
        },
        {
          "name": "stdout",
          "output_type": "stream",
          "text": [
            "[12/20,   201/995] lr: 0.00422 loss: 2.177 acc: 0.437\n"
          ]
        },
        {
          "name": "stderr",
          "output_type": "stream",
          "text": [
            "402it [00:48,  8.24it/s]"
          ]
        },
        {
          "name": "stdout",
          "output_type": "stream",
          "text": [
            "[12/20,   401/995] lr: 0.00422 loss: 2.132 acc: 0.440\n"
          ]
        },
        {
          "name": "stderr",
          "output_type": "stream",
          "text": [
            "602it [01:12,  8.31it/s]"
          ]
        },
        {
          "name": "stdout",
          "output_type": "stream",
          "text": [
            "[12/20,   601/995] lr: 0.00422 loss: 2.117 acc: 0.454\n"
          ]
        },
        {
          "name": "stderr",
          "output_type": "stream",
          "text": [
            "802it [01:36,  8.26it/s]"
          ]
        },
        {
          "name": "stdout",
          "output_type": "stream",
          "text": [
            "[12/20,   801/995] lr: 0.00422 loss: 2.144 acc: 0.443\n"
          ]
        },
        {
          "name": "stderr",
          "output_type": "stream",
          "text": [
            "995it [02:00,  8.29it/s]\n"
          ]
        },
        {
          "name": "stdout",
          "output_type": "stream",
          "text": [
            "Test Accuracy - Overall: 24.98% | Head: 46.84% | Mid: 21.42% | Tail: 8.34%\n",
            "[12/20] val acc: 0.250 train acc: 0.444\n"
          ]
        },
        {
          "name": "stderr",
          "output_type": "stream",
          "text": [
            "1it [00:00,  8.15it/s]"
          ]
        },
        {
          "name": "stdout",
          "output_type": "stream",
          "text": [
            "[13/20,     1/995] lr: 0.00345 loss: 0.010 acc: 0.500\n"
          ]
        },
        {
          "name": "stderr",
          "output_type": "stream",
          "text": [
            "202it [00:24,  8.32it/s]"
          ]
        },
        {
          "name": "stdout",
          "output_type": "stream",
          "text": [
            "[13/20,   201/995] lr: 0.00345 loss: 1.849 acc: 0.503\n"
          ]
        },
        {
          "name": "stderr",
          "output_type": "stream",
          "text": [
            "402it [00:48,  8.31it/s]"
          ]
        },
        {
          "name": "stdout",
          "output_type": "stream",
          "text": [
            "[13/20,   401/995] lr: 0.00345 loss: 1.818 acc: 0.512\n"
          ]
        },
        {
          "name": "stderr",
          "output_type": "stream",
          "text": [
            "602it [01:12,  8.35it/s]"
          ]
        },
        {
          "name": "stdout",
          "output_type": "stream",
          "text": [
            "[13/20,   601/995] lr: 0.00345 loss: 1.843 acc: 0.505\n"
          ]
        },
        {
          "name": "stderr",
          "output_type": "stream",
          "text": [
            "802it [01:36,  8.37it/s]"
          ]
        },
        {
          "name": "stdout",
          "output_type": "stream",
          "text": [
            "[13/20,   801/995] lr: 0.00345 loss: 1.841 acc: 0.509\n"
          ]
        },
        {
          "name": "stderr",
          "output_type": "stream",
          "text": [
            "995it [02:00,  8.28it/s]\n"
          ]
        },
        {
          "name": "stdout",
          "output_type": "stream",
          "text": [
            "Test Accuracy - Overall: 27.82% | Head: 47.52% | Mid: 26.17% | Tail: 10.70%\n",
            "[13/20] val acc: 0.278 train acc: 0.508\n"
          ]
        },
        {
          "name": "stderr",
          "output_type": "stream",
          "text": [
            "1it [00:00,  8.21it/s]"
          ]
        },
        {
          "name": "stdout",
          "output_type": "stream",
          "text": [
            "[14/20,     1/995] lr: 0.00273 loss: 0.009 acc: 0.375\n"
          ]
        },
        {
          "name": "stderr",
          "output_type": "stream",
          "text": [
            "202it [00:24,  8.28it/s]"
          ]
        },
        {
          "name": "stdout",
          "output_type": "stream",
          "text": [
            "[14/20,   201/995] lr: 0.00273 loss: 1.493 acc: 0.593\n"
          ]
        },
        {
          "name": "stderr",
          "output_type": "stream",
          "text": [
            "402it [00:48,  8.29it/s]"
          ]
        },
        {
          "name": "stdout",
          "output_type": "stream",
          "text": [
            "[14/20,   401/995] lr: 0.00273 loss: 1.483 acc: 0.599\n"
          ]
        },
        {
          "name": "stderr",
          "output_type": "stream",
          "text": [
            "602it [01:12,  8.27it/s]"
          ]
        },
        {
          "name": "stdout",
          "output_type": "stream",
          "text": [
            "[14/20,   601/995] lr: 0.00273 loss: 1.532 acc: 0.584\n"
          ]
        },
        {
          "name": "stderr",
          "output_type": "stream",
          "text": [
            "802it [01:36,  8.25it/s]"
          ]
        },
        {
          "name": "stdout",
          "output_type": "stream",
          "text": [
            "[14/20,   801/995] lr: 0.00273 loss: 1.527 acc: 0.581\n"
          ]
        },
        {
          "name": "stderr",
          "output_type": "stream",
          "text": [
            "995it [01:59,  8.29it/s]\n"
          ]
        },
        {
          "name": "stdout",
          "output_type": "stream",
          "text": [
            "Test Accuracy - Overall: 28.88% | Head: 49.40% | Mid: 27.02% | Tail: 11.20%\n",
            "[14/20] val acc: 0.289 train acc: 0.588\n"
          ]
        },
        {
          "name": "stderr",
          "output_type": "stream",
          "text": [
            "1it [00:00,  7.95it/s]"
          ]
        },
        {
          "name": "stdout",
          "output_type": "stream",
          "text": [
            "[15/20,     1/995] lr: 0.00206 loss: 0.005 acc: 0.719\n"
          ]
        },
        {
          "name": "stderr",
          "output_type": "stream",
          "text": [
            "202it [00:24,  8.23it/s]"
          ]
        },
        {
          "name": "stdout",
          "output_type": "stream",
          "text": [
            "[15/20,   201/995] lr: 0.00206 loss: 1.165 acc: 0.681\n"
          ]
        },
        {
          "name": "stderr",
          "output_type": "stream",
          "text": [
            "402it [00:48,  8.25it/s]"
          ]
        },
        {
          "name": "stdout",
          "output_type": "stream",
          "text": [
            "[15/20,   401/995] lr: 0.00206 loss: 1.145 acc: 0.686\n"
          ]
        },
        {
          "name": "stderr",
          "output_type": "stream",
          "text": [
            "602it [01:12,  8.26it/s]"
          ]
        },
        {
          "name": "stdout",
          "output_type": "stream",
          "text": [
            "[15/20,   601/995] lr: 0.00206 loss: 1.159 acc: 0.675\n"
          ]
        },
        {
          "name": "stderr",
          "output_type": "stream",
          "text": [
            "802it [01:36,  8.34it/s]"
          ]
        },
        {
          "name": "stdout",
          "output_type": "stream",
          "text": [
            "[15/20,   801/995] lr: 0.00206 loss: 1.181 acc: 0.668\n"
          ]
        },
        {
          "name": "stderr",
          "output_type": "stream",
          "text": [
            "995it [01:59,  8.29it/s]\n"
          ]
        },
        {
          "name": "stdout",
          "output_type": "stream",
          "text": [
            "Test Accuracy - Overall: 28.57% | Head: 49.74% | Mid: 27.57% | Tail: 9.10%\n",
            "[15/20] val acc: 0.286 train acc: 0.677\n"
          ]
        },
        {
          "name": "stderr",
          "output_type": "stream",
          "text": [
            "1it [00:00,  8.27it/s]"
          ]
        },
        {
          "name": "stdout",
          "output_type": "stream",
          "text": [
            "[16/20,     1/995] lr: 0.00146 loss: 0.004 acc: 0.781\n"
          ]
        },
        {
          "name": "stderr",
          "output_type": "stream",
          "text": [
            "202it [00:24,  8.32it/s]"
          ]
        },
        {
          "name": "stdout",
          "output_type": "stream",
          "text": [
            "[16/20,   201/995] lr: 0.00146 loss: 0.836 acc: 0.771\n"
          ]
        },
        {
          "name": "stderr",
          "output_type": "stream",
          "text": [
            "402it [00:48,  8.27it/s]"
          ]
        },
        {
          "name": "stdout",
          "output_type": "stream",
          "text": [
            "[16/20,   401/995] lr: 0.00146 loss: 0.826 acc: 0.776\n"
          ]
        },
        {
          "name": "stderr",
          "output_type": "stream",
          "text": [
            "602it [01:12,  8.34it/s]"
          ]
        },
        {
          "name": "stdout",
          "output_type": "stream",
          "text": [
            "[16/20,   601/995] lr: 0.00146 loss: 0.871 acc: 0.765\n"
          ]
        },
        {
          "name": "stderr",
          "output_type": "stream",
          "text": [
            "802it [01:36,  8.30it/s]"
          ]
        },
        {
          "name": "stdout",
          "output_type": "stream",
          "text": [
            "[16/20,   801/995] lr: 0.00146 loss: 0.828 acc: 0.768\n"
          ]
        },
        {
          "name": "stderr",
          "output_type": "stream",
          "text": [
            "995it [02:00,  8.29it/s]\n"
          ]
        },
        {
          "name": "stdout",
          "output_type": "stream",
          "text": [
            "Test Accuracy - Overall: 29.12% | Head: 49.91% | Mid: 27.75% | Tail: 10.53%\n",
            "[16/20] val acc: 0.291 train acc: 0.770\n"
          ]
        },
        {
          "name": "stderr",
          "output_type": "stream",
          "text": [
            "1it [00:00,  8.17it/s]"
          ]
        },
        {
          "name": "stdout",
          "output_type": "stream",
          "text": [
            "[17/20,     1/995] lr: 0.00095 loss: 0.003 acc: 0.844\n"
          ]
        },
        {
          "name": "stderr",
          "output_type": "stream",
          "text": [
            "202it [00:24,  8.33it/s]"
          ]
        },
        {
          "name": "stdout",
          "output_type": "stream",
          "text": [
            "[17/20,   201/995] lr: 0.00095 loss: 0.599 acc: 0.844\n"
          ]
        },
        {
          "name": "stderr",
          "output_type": "stream",
          "text": [
            "402it [00:48,  8.34it/s]"
          ]
        },
        {
          "name": "stdout",
          "output_type": "stream",
          "text": [
            "[17/20,   401/995] lr: 0.00095 loss: 0.568 acc: 0.859\n"
          ]
        },
        {
          "name": "stderr",
          "output_type": "stream",
          "text": [
            "602it [01:12,  8.34it/s]"
          ]
        },
        {
          "name": "stdout",
          "output_type": "stream",
          "text": [
            "[17/20,   601/995] lr: 0.00095 loss: 0.586 acc: 0.851\n"
          ]
        },
        {
          "name": "stderr",
          "output_type": "stream",
          "text": [
            "802it [01:36,  8.23it/s]"
          ]
        },
        {
          "name": "stdout",
          "output_type": "stream",
          "text": [
            "[17/20,   801/995] lr: 0.00095 loss: 0.573 acc: 0.846\n"
          ]
        },
        {
          "name": "stderr",
          "output_type": "stream",
          "text": [
            "995it [02:00,  8.29it/s]\n"
          ]
        },
        {
          "name": "stdout",
          "output_type": "stream",
          "text": [
            "Test Accuracy - Overall: 28.52% | Head: 49.91% | Mid: 26.17% | Tail: 10.70%\n",
            "[17/20] val acc: 0.285 train acc: 0.849\n"
          ]
        },
        {
          "name": "stderr",
          "output_type": "stream",
          "text": [
            "1it [00:00,  8.25it/s]"
          ]
        },
        {
          "name": "stdout",
          "output_type": "stream",
          "text": [
            "[18/20,     1/995] lr: 0.00054 loss: 0.003 acc: 0.906\n"
          ]
        },
        {
          "name": "stderr",
          "output_type": "stream",
          "text": [
            "202it [00:24,  8.27it/s]"
          ]
        },
        {
          "name": "stdout",
          "output_type": "stream",
          "text": [
            "[18/20,   201/995] lr: 0.00054 loss: 0.432 acc: 0.895\n"
          ]
        },
        {
          "name": "stderr",
          "output_type": "stream",
          "text": [
            "402it [00:48,  8.33it/s]"
          ]
        },
        {
          "name": "stdout",
          "output_type": "stream",
          "text": [
            "[18/20,   401/995] lr: 0.00054 loss: 0.413 acc: 0.907\n"
          ]
        },
        {
          "name": "stderr",
          "output_type": "stream",
          "text": [
            "602it [01:12,  8.36it/s]"
          ]
        },
        {
          "name": "stdout",
          "output_type": "stream",
          "text": [
            "[18/20,   601/995] lr: 0.00054 loss: 0.415 acc: 0.903\n"
          ]
        },
        {
          "name": "stderr",
          "output_type": "stream",
          "text": [
            "802it [01:36,  8.28it/s]"
          ]
        },
        {
          "name": "stdout",
          "output_type": "stream",
          "text": [
            "[18/20,   801/995] lr: 0.00054 loss: 0.409 acc: 0.905\n"
          ]
        },
        {
          "name": "stderr",
          "output_type": "stream",
          "text": [
            "995it [02:00,  8.29it/s]\n"
          ]
        },
        {
          "name": "stdout",
          "output_type": "stream",
          "text": [
            "Test Accuracy - Overall: 28.68% | Head: 48.97% | Mid: 27.08% | Tail: 10.87%\n",
            "[18/20] val acc: 0.287 train acc: 0.901\n"
          ]
        },
        {
          "name": "stderr",
          "output_type": "stream",
          "text": [
            "1it [00:00,  7.91it/s]"
          ]
        },
        {
          "name": "stdout",
          "output_type": "stream",
          "text": [
            "[19/20,     1/995] lr: 0.00024 loss: 0.002 acc: 0.906\n"
          ]
        },
        {
          "name": "stderr",
          "output_type": "stream",
          "text": [
            "202it [00:24,  8.27it/s]"
          ]
        },
        {
          "name": "stdout",
          "output_type": "stream",
          "text": [
            "[19/20,   201/995] lr: 0.00024 loss: 0.338 acc: 0.931\n"
          ]
        },
        {
          "name": "stderr",
          "output_type": "stream",
          "text": [
            "402it [00:48,  8.26it/s]"
          ]
        },
        {
          "name": "stdout",
          "output_type": "stream",
          "text": [
            "[19/20,   401/995] lr: 0.00024 loss: 0.314 acc: 0.935\n"
          ]
        },
        {
          "name": "stderr",
          "output_type": "stream",
          "text": [
            "602it [01:12,  8.26it/s]"
          ]
        },
        {
          "name": "stdout",
          "output_type": "stream",
          "text": [
            "[19/20,   601/995] lr: 0.00024 loss: 0.310 acc: 0.938\n"
          ]
        },
        {
          "name": "stderr",
          "output_type": "stream",
          "text": [
            "802it [01:36,  8.32it/s]"
          ]
        },
        {
          "name": "stdout",
          "output_type": "stream",
          "text": [
            "[19/20,   801/995] lr: 0.00024 loss: 0.310 acc: 0.934\n"
          ]
        },
        {
          "name": "stderr",
          "output_type": "stream",
          "text": [
            "995it [02:00,  8.28it/s]\n"
          ]
        },
        {
          "name": "stdout",
          "output_type": "stream",
          "text": [
            "Test Accuracy - Overall: 28.80% | Head: 49.15% | Mid: 27.51% | Tail: 10.53%\n",
            "[19/20] val acc: 0.288 train acc: 0.933\n"
          ]
        },
        {
          "name": "stderr",
          "output_type": "stream",
          "text": [
            "1it [00:00,  8.37it/s]"
          ]
        },
        {
          "name": "stdout",
          "output_type": "stream",
          "text": [
            "[20/20,     1/995] lr: 0.00006 loss: 0.001 acc: 0.938\n"
          ]
        },
        {
          "name": "stderr",
          "output_type": "stream",
          "text": [
            "202it [00:24,  8.32it/s]"
          ]
        },
        {
          "name": "stdout",
          "output_type": "stream",
          "text": [
            "[20/20,   201/995] lr: 0.00006 loss: 0.278 acc: 0.945\n"
          ]
        },
        {
          "name": "stderr",
          "output_type": "stream",
          "text": [
            "402it [00:48,  8.33it/s]"
          ]
        },
        {
          "name": "stdout",
          "output_type": "stream",
          "text": [
            "[20/20,   401/995] lr: 0.00006 loss: 0.270 acc: 0.952\n"
          ]
        },
        {
          "name": "stderr",
          "output_type": "stream",
          "text": [
            "602it [01:12,  8.27it/s]"
          ]
        },
        {
          "name": "stdout",
          "output_type": "stream",
          "text": [
            "[20/20,   601/995] lr: 0.00006 loss: 0.277 acc: 0.946\n"
          ]
        },
        {
          "name": "stderr",
          "output_type": "stream",
          "text": [
            "802it [01:36,  8.27it/s]"
          ]
        },
        {
          "name": "stdout",
          "output_type": "stream",
          "text": [
            "[20/20,   801/995] lr: 0.00006 loss: 0.278 acc: 0.947\n"
          ]
        },
        {
          "name": "stderr",
          "output_type": "stream",
          "text": [
            "995it [02:00,  8.29it/s]\n"
          ]
        },
        {
          "name": "stdout",
          "output_type": "stream",
          "text": [
            "Test Accuracy - Overall: 28.57% | Head: 49.49% | Mid: 27.27% | Tail: 9.77%\n",
            "[20/20] val acc: 0.286 train acc: 0.947\n"
          ]
        }
      ],
      "source": [
        "# Cifar-100 LT Accuracy\n",
        "\n",
        "# Model\n",
        "model = resnet50(num_classes=100)\n",
        "model.conv1 = nn.Conv2d(3, 64, kernel_size=3, stride=1, padding=1, bias=False)\n",
        "model.maxpool = nn.Identity()\n",
        "\n",
        "# Train/Val Set\n",
        "trainSet = torch.utils.data.TensorDataset(torch.Tensor(augmentedLT), torch.Tensor(augmentedLabelsLT).long())\n",
        "trainLoader = torch.utils.data.DataLoader(trainSet, batch_size=32, shuffle=True, num_workers=2)\n",
        "valSet = torch.utils.data.TensorDataset(torch.Tensor(valData), torch.Tensor(valLabel))\n",
        "valLoader = torch.utils.data.DataLoader(valSet, batch_size=32, shuffle=True, num_workers=2)\n",
        "\n",
        "# Params\n",
        "optimizer = torch.optim.Adam(model.parameters(), lr=0.01)\n",
        "scheduler = torch.optim.lr_scheduler.CosineAnnealingLR(optimizer, T_max=20)\n",
        "loss = nn.CrossEntropyLoss()\n",
        "\n",
        "# Train\n",
        "model.to(device)\n",
        "train_model(trainLoader, valLoader, 20, model, optimizer, scheduler, loss)"
      ]
    },
    {
      "cell_type": "code",
      "execution_count": null,
      "id": "c504712d",
      "metadata": {
        "id": "c504712d"
      },
      "outputs": [],
      "source": []
    },
    {
      "cell_type": "markdown",
      "id": "4a37a939",
      "metadata": {
        "id": "4a37a939"
      },
      "source": [
        "# DINO Implementation"
      ]
    },
    {
      "cell_type": "markdown",
      "source": [
        "## Dino/Data Setup"
      ],
      "metadata": {
        "id": "AM7K0A10mCOg"
      },
      "id": "AM7K0A10mCOg"
    },
    {
      "cell_type": "code",
      "execution_count": 81,
      "id": "4e165497",
      "metadata": {
        "id": "4e165497"
      },
      "outputs": [],
      "source": [
        "dinoTransform =  transforms.Compose([\n",
        "        transforms.RandomResizedCrop(32, scale=(0.4, 1.)),\n",
        "        transforms.RandomHorizontalFlip(),\n",
        "        transforms.ColorJitter(0.4, 0.4, 0.4, 0.1),\n",
        "        transforms.RandomGrayscale(p=0.2),\n",
        "        transforms.ToTensor(),\n",
        "        transforms.Normalize((0.5071, 0.4867, 0.4408), (0.2675, 0.2565, 0.2761))\n",
        "    ])\n",
        "\n",
        "def dinoAugment(baseImg):\n",
        "    img = Image.fromarray(np.transpose(baseImg, (1, 2, 0)).astype(np.uint8))\n",
        "    imgAug = dinoTransform(img)\n",
        "    return imgAug"
      ]
    },
    {
      "cell_type": "code",
      "execution_count": 82,
      "id": "2342255e",
      "metadata": {
        "id": "2342255e"
      },
      "outputs": [],
      "source": [
        "tempImages = [dinoAugment(img) for img in trainDataLT]\n",
        "tempImages = torch.stack(tempImages)\n",
        "dinoImage1 = tempImages.numpy()\n",
        "\n",
        "tempImages = [dinoAugment(img) for img in trainDataLT]\n",
        "tempImages = torch.stack(tempImages)\n",
        "dinoImage2 = tempImages.numpy()"
      ]
    },
    {
      "cell_type": "code",
      "execution_count": 83,
      "id": "266221cc",
      "metadata": {
        "id": "266221cc"
      },
      "outputs": [],
      "source": [
        "dinoData = torch.utils.data.TensorDataset(torch.tensor(dinoImage1, dtype=torch.float32),\n",
        "                                          torch.tensor(dinoImage2, dtype=torch.float32))\n",
        "dinoLoader = torch.utils.data.DataLoader(dinoData, batch_size=128, shuffle=True)"
      ]
    },
    {
      "cell_type": "code",
      "execution_count": 83,
      "id": "0f043903",
      "metadata": {
        "id": "0f043903"
      },
      "outputs": [],
      "source": []
    },
    {
      "cell_type": "code",
      "execution_count": 84,
      "id": "caecb108",
      "metadata": {
        "id": "caecb108"
      },
      "outputs": [],
      "source": [
        "class DINOHead(nn.Module):\n",
        "    def __init__(self, in_dim, out_dim=65536, hidden_dim=2048, bottleneck_dim=256):\n",
        "        super().__init__()\n",
        "        self.mlp = nn.Sequential(\n",
        "            nn.Linear(in_dim, hidden_dim),\n",
        "            nn.GELU(),\n",
        "            nn.Linear(hidden_dim, bottleneck_dim)\n",
        "        )\n",
        "        self.last_layer = nn.utils.weight_norm(nn.Linear(bottleneck_dim, out_dim, bias=False))\n",
        "        self.last_layer.weight_g.data.fill_(1)\n",
        "        self.last_layer.weight_g.requires_grad = False  # Freeze the norm\n",
        "\n",
        "    def forward(self, x):\n",
        "        x = self.mlp(x)\n",
        "        return self.last_layer(x)"
      ]
    },
    {
      "cell_type": "code",
      "source": [
        "def dino_loss(student_out, teacher_out, temp_student=0.1, temp_teacher=0.07):\n",
        "    student_out = torch.nn.functional.log_softmax(student_out / temp_student, dim=-1)\n",
        "    teacher_out = torch.nn.functional.softmax((teacher_out / temp_teacher).detach(), dim=-1)\n",
        "    return -torch.mean(torch.sum(teacher_out * student_out, dim=-1))"
      ],
      "metadata": {
        "id": "bZc4NjUZmI_2"
      },
      "id": "bZc4NjUZmI_2",
      "execution_count": 85,
      "outputs": []
    },
    {
      "cell_type": "markdown",
      "source": [
        "## Dino Resnet18"
      ],
      "metadata": {
        "id": "RyRSflT-mF-3"
      },
      "id": "RyRSflT-mF-3"
    },
    {
      "cell_type": "code",
      "source": [
        "class DINOBackbone(nn.Module):\n",
        "    def __init__(self):\n",
        "        super().__init__()\n",
        "        self.encoder = resnet18(pretrained=False)\n",
        "        self.encoder.fc = nn.Identity()\n",
        "\n",
        "    def forward(self, x):\n",
        "        return self.encoder(x)"
      ],
      "metadata": {
        "id": "y8-w9tVNBLuj"
      },
      "id": "y8-w9tVNBLuj",
      "execution_count": 86,
      "outputs": []
    },
    {
      "cell_type": "code",
      "execution_count": 87,
      "id": "fa873619",
      "metadata": {
        "id": "fa873619"
      },
      "outputs": [],
      "source": [
        "studentBackbone = DINOBackbone()\n",
        "teacherBackbone = DINOBackbone()\n",
        "\n",
        "studentHead = DINOHead(in_dim=512)\n",
        "teacherHead = DINOHead(in_dim=512)\n",
        "\n",
        "student = nn.Sequential(studentBackbone, studentHead)\n",
        "teacher = nn.Sequential(teacherBackbone, teacherHead)\n",
        "\n",
        "for p in teacher.parameters():\n",
        "    p.requires_grad = False"
      ]
    },
    {
      "cell_type": "code",
      "execution_count": 88,
      "id": "6364552b",
      "metadata": {
        "colab": {
          "base_uri": "https://localhost:8080/"
        },
        "id": "6364552b",
        "outputId": "1d7eb805-80a8-4cbe-cc79-d11c84a91da0"
      },
      "outputs": [
        {
          "output_type": "stream",
          "name": "stdout",
          "text": [
            "Epoch 1, Loss: 10.4884\n",
            "Epoch 2, Loss: 10.1708\n",
            "Epoch 3, Loss: 9.6675\n",
            "Epoch 4, Loss: 8.9057\n",
            "Epoch 5, Loss: 7.5450\n",
            "Epoch 6, Loss: 6.4026\n",
            "Epoch 7, Loss: 4.8257\n",
            "Epoch 8, Loss: 4.0079\n",
            "Epoch 9, Loss: 3.2707\n",
            "Epoch 10, Loss: 2.6940\n",
            "Epoch 11, Loss: 2.1856\n",
            "Epoch 12, Loss: 1.7794\n",
            "Epoch 13, Loss: 1.5184\n",
            "Epoch 14, Loss: 1.3187\n",
            "Epoch 15, Loss: 1.1498\n",
            "Epoch 16, Loss: 1.0028\n",
            "Epoch 17, Loss: 0.8849\n",
            "Epoch 18, Loss: 0.7316\n",
            "Epoch 19, Loss: 0.6310\n",
            "Epoch 20, Loss: 0.5455\n"
          ]
        }
      ],
      "source": [
        "student = student.to(device)\n",
        "teacher = teacher.to(device)\n",
        "\n",
        "optimizer = torch.optim.Adam(student.parameters(), lr=1e-3)\n",
        "\n",
        "for epoch in range(20):\n",
        "    for view1, view2 in dinoLoader:\n",
        "        view1, view2 = view1.to(device), view2.to(device)\n",
        "\n",
        "        student_out = student(view1)\n",
        "        with torch.no_grad():\n",
        "            teacher_out = teacher(view2)\n",
        "\n",
        "        loss = dino_loss(student_out, teacher_out)\n",
        "\n",
        "        optimizer.zero_grad()\n",
        "        loss.backward()\n",
        "        optimizer.step()\n",
        "\n",
        "        # EMA update of teacher\n",
        "        with torch.no_grad():\n",
        "            m = 0.996  # Momentum\n",
        "            for param_q, param_k in zip(student.parameters(), teacher.parameters()):\n",
        "                param_k.data = param_k.data * m + param_q.data * (1. - m)\n",
        "\n",
        "    print(f\"Epoch {epoch+1}, Loss: {loss.item():.4f}\")\n",
        "\n",
        "torch.save(studentBackbone.state_dict(), \"dinoBackbone.pth\")\n"
      ]
    },
    {
      "cell_type": "code",
      "source": [
        "class DinoClassifier(nn.Module):\n",
        "    def __init__(self, backbone, num_classes=100):\n",
        "        super().__init__()\n",
        "        self.backbone = backbone\n",
        "        self.classifier = nn.Linear(512, num_classes)\n",
        "\n",
        "    def forward(self, x):\n",
        "        features = self.backbone(x)\n",
        "        return self.classifier(features)"
      ],
      "metadata": {
        "id": "B2II9wH6aIcq"
      },
      "id": "B2II9wH6aIcq",
      "execution_count": 89,
      "outputs": []
    },
    {
      "cell_type": "code",
      "source": [
        "# Model\n",
        "backbone = DINOBackbone()\n",
        "backbone.load_state_dict(torch.load(\"dinoBackbone.pth\"))\n",
        "modelDino = DinoClassifier(backbone)\n",
        "\n",
        "# Train/Val Set\n",
        "trainSet = torch.utils.data.TensorDataset(torch.Tensor(trainDataLT), torch.Tensor(trainLabelLT).long())\n",
        "trainLoader = torch.utils.data.DataLoader(trainSet, batch_size=32, shuffle=True, num_workers=2)\n",
        "valSet = torch.utils.data.TensorDataset(torch.Tensor(valData), torch.Tensor(valLabel))\n",
        "valLoader = torch.utils.data.DataLoader(valSet, batch_size=32, shuffle=True, num_workers=2)\n",
        "\n",
        "# Params\n",
        "optimizer = torch.optim.Adam(modelDino.parameters(), lr=0.0001)\n",
        "scheduler = torch.optim.lr_scheduler.CosineAnnealingLR(optimizer, T_max=20)\n",
        "loss = nn.CrossEntropyLoss()\n",
        "\n",
        "# Train\n",
        "modelDino.to(device)\n",
        "train_model(trainLoader, valLoader, 20, modelDino, optimizer, scheduler, loss)"
      ],
      "metadata": {
        "colab": {
          "base_uri": "https://localhost:8080/"
        },
        "id": "Yp_kPIMAadrf",
        "outputId": "7e659317-f3eb-4e3b-c465-b9a0c24193a1"
      },
      "id": "Yp_kPIMAadrf",
      "execution_count": 90,
      "outputs": [
        {
          "output_type": "stream",
          "name": "stderr",
          "text": [
            "9it [00:00, 42.17it/s]"
          ]
        },
        {
          "output_type": "stream",
          "name": "stdout",
          "text": [
            "[1/20,     1/498] lr: 0.00010 loss: 0.023 acc: 0.031\n"
          ]
        },
        {
          "output_type": "stream",
          "name": "stderr",
          "text": [
            "211it [00:04, 52.93it/s]"
          ]
        },
        {
          "output_type": "stream",
          "name": "stdout",
          "text": [
            "[1/20,   201/498] lr: 0.00010 loss: 4.162 acc: 0.073\n"
          ]
        },
        {
          "output_type": "stream",
          "name": "stderr",
          "text": [
            "410it [00:08, 48.03it/s]"
          ]
        },
        {
          "output_type": "stream",
          "name": "stdout",
          "text": [
            "[1/20,   401/498] lr: 0.00010 loss: 3.659 acc: 0.149\n"
          ]
        },
        {
          "output_type": "stream",
          "name": "stderr",
          "text": [
            "498it [00:10, 49.70it/s]\n"
          ]
        },
        {
          "output_type": "stream",
          "name": "stdout",
          "text": [
            "Test Accuracy - Overall: 9.90% | Head: 28.85% | Mid: 3.17% | Tail: 0.00%\n",
            "[1/20] val acc: 0.099 train acc: 0.126\n"
          ]
        },
        {
          "output_type": "stream",
          "name": "stderr",
          "text": [
            "\r0it [00:00, ?it/s]"
          ]
        },
        {
          "output_type": "stream",
          "name": "stdout",
          "text": [
            "[2/20,     1/498] lr: 0.00010 loss: 0.014 acc: 0.344\n"
          ]
        },
        {
          "output_type": "stream",
          "name": "stderr",
          "text": [
            "208it [00:04, 51.97it/s]"
          ]
        },
        {
          "output_type": "stream",
          "name": "stdout",
          "text": [
            "[2/20,   201/498] lr: 0.00010 loss: 3.267 acc: 0.222\n"
          ]
        },
        {
          "output_type": "stream",
          "name": "stderr",
          "text": [
            "406it [00:08, 46.05it/s]"
          ]
        },
        {
          "output_type": "stream",
          "name": "stdout",
          "text": [
            "[2/20,   401/498] lr: 0.00010 loss: 3.113 acc: 0.255\n"
          ]
        },
        {
          "output_type": "stream",
          "name": "stderr",
          "text": [
            "498it [00:10, 49.50it/s]\n"
          ]
        },
        {
          "output_type": "stream",
          "name": "stdout",
          "text": [
            "Test Accuracy - Overall: 15.38% | Head: 39.80% | Mid: 7.71% | Tail: 1.25%\n",
            "[2/20] val acc: 0.154 train acc: 0.244\n"
          ]
        },
        {
          "output_type": "stream",
          "name": "stderr",
          "text": [
            "\r0it [00:00, ?it/s]"
          ]
        },
        {
          "output_type": "stream",
          "name": "stdout",
          "text": [
            "[3/20,     1/498] lr: 0.00010 loss: 0.011 acc: 0.500\n"
          ]
        },
        {
          "output_type": "stream",
          "name": "stderr",
          "text": [
            "207it [00:04, 52.57it/s]"
          ]
        },
        {
          "output_type": "stream",
          "name": "stdout",
          "text": [
            "[3/20,   201/498] lr: 0.00010 loss: 2.794 acc: 0.313\n"
          ]
        },
        {
          "output_type": "stream",
          "name": "stderr",
          "text": [
            "408it [00:07, 47.01it/s]"
          ]
        },
        {
          "output_type": "stream",
          "name": "stdout",
          "text": [
            "[3/20,   401/498] lr: 0.00010 loss: 2.733 acc: 0.325\n"
          ]
        },
        {
          "output_type": "stream",
          "name": "stderr",
          "text": [
            "498it [00:09, 49.83it/s]\n"
          ]
        },
        {
          "output_type": "stream",
          "name": "stdout",
          "text": [
            "Test Accuracy - Overall: 18.15% | Head: 43.73% | Mid: 11.07% | Tail: 2.09%\n",
            "[3/20] val acc: 0.181 train acc: 0.320\n"
          ]
        },
        {
          "output_type": "stream",
          "name": "stderr",
          "text": [
            "\r0it [00:00, ?it/s]"
          ]
        },
        {
          "output_type": "stream",
          "name": "stdout",
          "text": [
            "[4/20,     1/498] lr: 0.00009 loss: 0.010 acc: 0.375\n"
          ]
        },
        {
          "output_type": "stream",
          "name": "stderr",
          "text": [
            "206it [00:03, 52.90it/s]"
          ]
        },
        {
          "output_type": "stream",
          "name": "stdout",
          "text": [
            "[4/20,   201/498] lr: 0.00009 loss: 2.434 acc: 0.391\n"
          ]
        },
        {
          "output_type": "stream",
          "name": "stderr",
          "text": [
            "410it [00:07, 51.84it/s]"
          ]
        },
        {
          "output_type": "stream",
          "name": "stdout",
          "text": [
            "[4/20,   401/498] lr: 0.00009 loss: 2.437 acc: 0.386\n"
          ]
        },
        {
          "output_type": "stream",
          "name": "stderr",
          "text": [
            "498it [00:09, 50.39it/s]\n"
          ]
        },
        {
          "output_type": "stream",
          "name": "stdout",
          "text": [
            "Test Accuracy - Overall: 19.23% | Head: 44.23% | Mid: 11.94% | Tail: 4.01%\n",
            "[4/20] val acc: 0.192 train acc: 0.390\n"
          ]
        },
        {
          "output_type": "stream",
          "name": "stderr",
          "text": [
            "\r0it [00:00, ?it/s]"
          ]
        },
        {
          "output_type": "stream",
          "name": "stdout",
          "text": [
            "[5/20,     1/498] lr: 0.00009 loss: 0.010 acc: 0.406\n"
          ]
        },
        {
          "output_type": "stream",
          "name": "stderr",
          "text": [
            "207it [00:04, 52.86it/s]"
          ]
        },
        {
          "output_type": "stream",
          "name": "stdout",
          "text": [
            "[5/20,   201/498] lr: 0.00009 loss: 2.151 acc: 0.448\n"
          ]
        },
        {
          "output_type": "stream",
          "name": "stderr",
          "text": [
            "411it [00:07, 51.84it/s]"
          ]
        },
        {
          "output_type": "stream",
          "name": "stdout",
          "text": [
            "[5/20,   401/498] lr: 0.00009 loss: 2.108 acc: 0.450\n"
          ]
        },
        {
          "output_type": "stream",
          "name": "stderr",
          "text": [
            "498it [00:09, 50.80it/s]\n"
          ]
        },
        {
          "output_type": "stream",
          "name": "stdout",
          "text": [
            "Test Accuracy - Overall: 20.32% | Head: 44.40% | Mid: 14.37% | Tail: 4.26%\n",
            "[5/20] val acc: 0.203 train acc: 0.447\n"
          ]
        },
        {
          "output_type": "stream",
          "name": "stderr",
          "text": [
            "\r0it [00:00, ?it/s]"
          ]
        },
        {
          "output_type": "stream",
          "name": "stdout",
          "text": [
            "[6/20,     1/498] lr: 0.00009 loss: 0.008 acc: 0.531\n"
          ]
        },
        {
          "output_type": "stream",
          "name": "stderr",
          "text": [
            "207it [00:04, 52.27it/s]"
          ]
        },
        {
          "output_type": "stream",
          "name": "stdout",
          "text": [
            "[6/20,   201/498] lr: 0.00009 loss: 1.860 acc: 0.512\n"
          ]
        },
        {
          "output_type": "stream",
          "name": "stderr",
          "text": [
            "410it [00:07, 51.78it/s]"
          ]
        },
        {
          "output_type": "stream",
          "name": "stdout",
          "text": [
            "[6/20,   401/498] lr: 0.00009 loss: 1.847 acc: 0.517\n"
          ]
        },
        {
          "output_type": "stream",
          "name": "stderr",
          "text": [
            "498it [00:09, 51.14it/s]\n"
          ]
        },
        {
          "output_type": "stream",
          "name": "stdout",
          "text": [
            "Test Accuracy - Overall: 22.75% | Head: 45.99% | Mid: 18.41% | Tail: 5.35%\n",
            "[6/20] val acc: 0.228 train acc: 0.516\n"
          ]
        },
        {
          "output_type": "stream",
          "name": "stderr",
          "text": [
            "7it [00:00, 31.15it/s]"
          ]
        },
        {
          "output_type": "stream",
          "name": "stdout",
          "text": [
            "[7/20,     1/498] lr: 0.00008 loss: 0.006 acc: 0.688\n"
          ]
        },
        {
          "output_type": "stream",
          "name": "stderr",
          "text": [
            "210it [00:04, 51.48it/s]"
          ]
        },
        {
          "output_type": "stream",
          "name": "stdout",
          "text": [
            "[7/20,   201/498] lr: 0.00008 loss: 1.549 acc: 0.591\n"
          ]
        },
        {
          "output_type": "stream",
          "name": "stderr",
          "text": [
            "408it [00:08, 52.20it/s]"
          ]
        },
        {
          "output_type": "stream",
          "name": "stdout",
          "text": [
            "[7/20,   401/498] lr: 0.00008 loss: 1.551 acc: 0.588\n"
          ]
        },
        {
          "output_type": "stream",
          "name": "stderr",
          "text": [
            "498it [00:09, 50.46it/s]\n"
          ]
        },
        {
          "output_type": "stream",
          "name": "stdout",
          "text": [
            "Test Accuracy - Overall: 21.35% | Head: 45.23% | Mid: 14.86% | Tail: 6.19%\n",
            "[7/20] val acc: 0.213 train acc: 0.591\n"
          ]
        },
        {
          "output_type": "stream",
          "name": "stderr",
          "text": [
            "8it [00:00, 37.87it/s]"
          ]
        },
        {
          "output_type": "stream",
          "name": "stdout",
          "text": [
            "[8/20,     1/498] lr: 0.00007 loss: 0.006 acc: 0.656\n"
          ]
        },
        {
          "output_type": "stream",
          "name": "stderr",
          "text": [
            "206it [00:04, 51.89it/s]"
          ]
        },
        {
          "output_type": "stream",
          "name": "stdout",
          "text": [
            "[8/20,   201/498] lr: 0.00007 loss: 1.274 acc: 0.663\n"
          ]
        },
        {
          "output_type": "stream",
          "name": "stderr",
          "text": [
            "410it [00:08, 52.73it/s]"
          ]
        },
        {
          "output_type": "stream",
          "name": "stdout",
          "text": [
            "[8/20,   401/498] lr: 0.00007 loss: 1.233 acc: 0.675\n"
          ]
        },
        {
          "output_type": "stream",
          "name": "stderr",
          "text": [
            "498it [00:09, 50.33it/s]\n"
          ]
        },
        {
          "output_type": "stream",
          "name": "stdout",
          "text": [
            "Test Accuracy - Overall: 22.88% | Head: 46.49% | Mid: 17.66% | Tail: 6.27%\n",
            "[8/20] val acc: 0.229 train acc: 0.671\n"
          ]
        },
        {
          "output_type": "stream",
          "name": "stderr",
          "text": [
            "\r0it [00:00, ?it/s]"
          ]
        },
        {
          "output_type": "stream",
          "name": "stdout",
          "text": [
            "[9/20,     1/498] lr: 0.00007 loss: 0.005 acc: 0.781\n"
          ]
        },
        {
          "output_type": "stream",
          "name": "stderr",
          "text": [
            "208it [00:04, 51.48it/s]"
          ]
        },
        {
          "output_type": "stream",
          "name": "stdout",
          "text": [
            "[9/20,   201/498] lr: 0.00007 loss: 0.952 acc: 0.764\n"
          ]
        },
        {
          "output_type": "stream",
          "name": "stderr",
          "text": [
            "406it [00:08, 51.43it/s]"
          ]
        },
        {
          "output_type": "stream",
          "name": "stdout",
          "text": [
            "[9/20,   401/498] lr: 0.00007 loss: 0.971 acc: 0.749\n"
          ]
        },
        {
          "output_type": "stream",
          "name": "stderr",
          "text": [
            "498it [00:10, 49.17it/s]\n"
          ]
        },
        {
          "output_type": "stream",
          "name": "stdout",
          "text": [
            "Test Accuracy - Overall: 23.35% | Head: 42.98% | Mid: 18.91% | Tail: 9.70%\n",
            "[9/20] val acc: 0.234 train acc: 0.752\n"
          ]
        },
        {
          "output_type": "stream",
          "name": "stderr",
          "text": [
            "\r0it [00:00, ?it/s]"
          ]
        },
        {
          "output_type": "stream",
          "name": "stdout",
          "text": [
            "[10/20,     1/498] lr: 0.00006 loss: 0.002 acc: 0.906\n"
          ]
        },
        {
          "output_type": "stream",
          "name": "stderr",
          "text": [
            "209it [00:04, 51.63it/s]"
          ]
        },
        {
          "output_type": "stream",
          "name": "stdout",
          "text": [
            "[10/20,   201/498] lr: 0.00006 loss: 0.789 acc: 0.812\n"
          ]
        },
        {
          "output_type": "stream",
          "name": "stderr",
          "text": [
            "407it [00:08, 51.51it/s]"
          ]
        },
        {
          "output_type": "stream",
          "name": "stdout",
          "text": [
            "[10/20,   401/498] lr: 0.00006 loss: 0.755 acc: 0.812\n"
          ]
        },
        {
          "output_type": "stream",
          "name": "stderr",
          "text": [
            "498it [00:10, 49.77it/s]\n"
          ]
        },
        {
          "output_type": "stream",
          "name": "stdout",
          "text": [
            "Test Accuracy - Overall: 23.70% | Head: 44.65% | Mid: 19.96% | Tail: 7.78%\n",
            "[10/20] val acc: 0.237 train acc: 0.812\n"
          ]
        },
        {
          "output_type": "stream",
          "name": "stderr",
          "text": [
            "\r0it [00:00, ?it/s]"
          ]
        },
        {
          "output_type": "stream",
          "name": "stdout",
          "text": [
            "[11/20,     1/498] lr: 0.00005 loss: 0.002 acc: 0.906\n"
          ]
        },
        {
          "output_type": "stream",
          "name": "stderr",
          "text": [
            "207it [00:04, 47.63it/s]"
          ]
        },
        {
          "output_type": "stream",
          "name": "stdout",
          "text": [
            "[11/20,   201/498] lr: 0.00005 loss: 0.599 acc: 0.865\n"
          ]
        },
        {
          "output_type": "stream",
          "name": "stderr",
          "text": [
            "411it [00:08, 51.93it/s]"
          ]
        },
        {
          "output_type": "stream",
          "name": "stdout",
          "text": [
            "[11/20,   401/498] lr: 0.00005 loss: 0.545 acc: 0.875\n"
          ]
        },
        {
          "output_type": "stream",
          "name": "stderr",
          "text": [
            "498it [00:10, 49.44it/s]\n"
          ]
        },
        {
          "output_type": "stream",
          "name": "stdout",
          "text": [
            "Test Accuracy - Overall: 22.73% | Head: 45.07% | Mid: 18.35% | Tail: 6.27%\n",
            "[11/20] val acc: 0.227 train acc: 0.871\n"
          ]
        },
        {
          "output_type": "stream",
          "name": "stderr",
          "text": [
            "\r0it [00:00, ?it/s]"
          ]
        },
        {
          "output_type": "stream",
          "name": "stdout",
          "text": [
            "[12/20,     1/498] lr: 0.00004 loss: 0.002 acc: 0.844\n"
          ]
        },
        {
          "output_type": "stream",
          "name": "stderr",
          "text": [
            "207it [00:04, 42.53it/s]"
          ]
        },
        {
          "output_type": "stream",
          "name": "stdout",
          "text": [
            "[12/20,   201/498] lr: 0.00004 loss: 0.413 acc: 0.919\n"
          ]
        },
        {
          "output_type": "stream",
          "name": "stderr",
          "text": [
            "411it [00:08, 50.86it/s]"
          ]
        },
        {
          "output_type": "stream",
          "name": "stdout",
          "text": [
            "[12/20,   401/498] lr: 0.00004 loss: 0.413 acc: 0.917\n"
          ]
        },
        {
          "output_type": "stream",
          "name": "stderr",
          "text": [
            "498it [00:10, 49.59it/s]\n"
          ]
        },
        {
          "output_type": "stream",
          "name": "stdout",
          "text": [
            "Test Accuracy - Overall: 22.68% | Head: 42.56% | Mid: 18.91% | Tail: 7.86%\n",
            "[12/20] val acc: 0.227 train acc: 0.917\n"
          ]
        },
        {
          "output_type": "stream",
          "name": "stderr",
          "text": [
            "\r0it [00:00, ?it/s]"
          ]
        },
        {
          "output_type": "stream",
          "name": "stdout",
          "text": [
            "[13/20,     1/498] lr: 0.00003 loss: 0.001 acc: 1.000\n"
          ]
        },
        {
          "output_type": "stream",
          "name": "stderr",
          "text": [
            "205it [00:04, 47.23it/s]"
          ]
        },
        {
          "output_type": "stream",
          "name": "stdout",
          "text": [
            "[13/20,   201/498] lr: 0.00003 loss: 0.416 acc: 0.917\n"
          ]
        },
        {
          "output_type": "stream",
          "name": "stderr",
          "text": [
            "407it [00:08, 52.79it/s]"
          ]
        },
        {
          "output_type": "stream",
          "name": "stdout",
          "text": [
            "[13/20,   401/498] lr: 0.00003 loss: 0.338 acc: 0.937\n"
          ]
        },
        {
          "output_type": "stream",
          "name": "stderr",
          "text": [
            "498it [00:09, 50.04it/s]\n"
          ]
        },
        {
          "output_type": "stream",
          "name": "stdout",
          "text": [
            "Test Accuracy - Overall: 23.38% | Head: 43.14% | Mid: 19.53% | Tail: 8.78%\n",
            "[13/20] val acc: 0.234 train acc: 0.930\n"
          ]
        },
        {
          "output_type": "stream",
          "name": "stderr",
          "text": [
            "\r0it [00:00, ?it/s]"
          ]
        },
        {
          "output_type": "stream",
          "name": "stdout",
          "text": [
            "[14/20,     1/498] lr: 0.00003 loss: 0.001 acc: 1.000\n"
          ]
        },
        {
          "output_type": "stream",
          "name": "stderr",
          "text": [
            "207it [00:04, 52.26it/s]"
          ]
        },
        {
          "output_type": "stream",
          "name": "stdout",
          "text": [
            "[14/20,   201/498] lr: 0.00003 loss: 0.275 acc: 0.956\n"
          ]
        },
        {
          "output_type": "stream",
          "name": "stderr",
          "text": [
            "410it [00:08, 52.20it/s]"
          ]
        },
        {
          "output_type": "stream",
          "name": "stdout",
          "text": [
            "[14/20,   401/498] lr: 0.00003 loss: 0.256 acc: 0.959\n"
          ]
        },
        {
          "output_type": "stream",
          "name": "stderr",
          "text": [
            "498it [00:10, 49.36it/s]\n"
          ]
        },
        {
          "output_type": "stream",
          "name": "stdout",
          "text": [
            "Test Accuracy - Overall: 24.00% | Head: 43.90% | Mid: 19.59% | Tail: 10.03%\n",
            "[14/20] val acc: 0.240 train acc: 0.958\n"
          ]
        },
        {
          "output_type": "stream",
          "name": "stderr",
          "text": [
            "\r0it [00:00, ?it/s]"
          ]
        },
        {
          "output_type": "stream",
          "name": "stdout",
          "text": [
            "[15/20,     1/498] lr: 0.00002 loss: 0.001 acc: 0.969\n"
          ]
        },
        {
          "output_type": "stream",
          "name": "stderr",
          "text": [
            "207it [00:04, 51.72it/s]"
          ]
        },
        {
          "output_type": "stream",
          "name": "stdout",
          "text": [
            "[15/20,   201/498] lr: 0.00002 loss: 0.224 acc: 0.968\n"
          ]
        },
        {
          "output_type": "stream",
          "name": "stderr",
          "text": [
            "411it [00:08, 52.43it/s]"
          ]
        },
        {
          "output_type": "stream",
          "name": "stdout",
          "text": [
            "[15/20,   401/498] lr: 0.00002 loss: 0.201 acc: 0.973\n"
          ]
        },
        {
          "output_type": "stream",
          "name": "stderr",
          "text": [
            "498it [00:10, 49.60it/s]\n"
          ]
        },
        {
          "output_type": "stream",
          "name": "stdout",
          "text": [
            "Test Accuracy - Overall: 23.62% | Head: 44.57% | Mid: 19.28% | Tail: 8.53%\n",
            "[15/20] val acc: 0.236 train acc: 0.970\n"
          ]
        },
        {
          "output_type": "stream",
          "name": "stderr",
          "text": [
            "\r0it [00:00, ?it/s]"
          ]
        },
        {
          "output_type": "stream",
          "name": "stdout",
          "text": [
            "[16/20,     1/498] lr: 0.00001 loss: 0.000 acc: 1.000\n"
          ]
        },
        {
          "output_type": "stream",
          "name": "stderr",
          "text": [
            "207it [00:04, 52.35it/s]"
          ]
        },
        {
          "output_type": "stream",
          "name": "stdout",
          "text": [
            "[16/20,   201/498] lr: 0.00001 loss: 0.221 acc: 0.966\n"
          ]
        },
        {
          "output_type": "stream",
          "name": "stderr",
          "text": [
            "406it [00:08, 41.82it/s]"
          ]
        },
        {
          "output_type": "stream",
          "name": "stdout",
          "text": [
            "[16/20,   401/498] lr: 0.00001 loss: 0.212 acc: 0.970\n"
          ]
        },
        {
          "output_type": "stream",
          "name": "stderr",
          "text": [
            "498it [00:10, 49.77it/s]\n"
          ]
        },
        {
          "output_type": "stream",
          "name": "stdout",
          "text": [
            "Test Accuracy - Overall: 23.82% | Head: 43.98% | Mid: 19.22% | Tail: 9.87%\n",
            "[16/20] val acc: 0.238 train acc: 0.970\n"
          ]
        },
        {
          "output_type": "stream",
          "name": "stderr",
          "text": [
            "\r0it [00:00, ?it/s]"
          ]
        },
        {
          "output_type": "stream",
          "name": "stdout",
          "text": [
            "[17/20,     1/498] lr: 0.00001 loss: 0.001 acc: 1.000\n"
          ]
        },
        {
          "output_type": "stream",
          "name": "stderr",
          "text": [
            "206it [00:04, 51.27it/s]"
          ]
        },
        {
          "output_type": "stream",
          "name": "stdout",
          "text": [
            "[17/20,   201/498] lr: 0.00001 loss: 0.176 acc: 0.980\n"
          ]
        },
        {
          "output_type": "stream",
          "name": "stderr",
          "text": [
            "405it [00:08, 45.91it/s]"
          ]
        },
        {
          "output_type": "stream",
          "name": "stdout",
          "text": [
            "[17/20,   401/498] lr: 0.00001 loss: 0.171 acc: 0.979\n"
          ]
        },
        {
          "output_type": "stream",
          "name": "stderr",
          "text": [
            "498it [00:10, 48.89it/s]\n"
          ]
        },
        {
          "output_type": "stream",
          "name": "stdout",
          "text": [
            "Test Accuracy - Overall: 23.47% | Head: 43.90% | Mid: 19.15% | Tail: 8.86%\n",
            "[17/20] val acc: 0.235 train acc: 0.980\n"
          ]
        },
        {
          "output_type": "stream",
          "name": "stderr",
          "text": [
            "\r0it [00:00, ?it/s]"
          ]
        },
        {
          "output_type": "stream",
          "name": "stdout",
          "text": [
            "[18/20,     1/498] lr: 0.00001 loss: 0.000 acc: 1.000\n"
          ]
        },
        {
          "output_type": "stream",
          "name": "stderr",
          "text": [
            "207it [00:04, 51.72it/s]"
          ]
        },
        {
          "output_type": "stream",
          "name": "stdout",
          "text": [
            "[18/20,   201/498] lr: 0.00001 loss: 0.160 acc: 0.982\n"
          ]
        },
        {
          "output_type": "stream",
          "name": "stderr",
          "text": [
            "407it [00:08, 46.00it/s]"
          ]
        },
        {
          "output_type": "stream",
          "name": "stdout",
          "text": [
            "[18/20,   401/498] lr: 0.00001 loss: 0.155 acc: 0.985\n"
          ]
        },
        {
          "output_type": "stream",
          "name": "stderr",
          "text": [
            "498it [00:10, 49.11it/s]\n"
          ]
        },
        {
          "output_type": "stream",
          "name": "stdout",
          "text": [
            "Test Accuracy - Overall: 23.72% | Head: 43.39% | Mid: 19.34% | Tail: 9.95%\n",
            "[18/20] val acc: 0.237 train acc: 0.983\n"
          ]
        },
        {
          "output_type": "stream",
          "name": "stderr",
          "text": [
            "\r0it [00:00, ?it/s]"
          ]
        },
        {
          "output_type": "stream",
          "name": "stdout",
          "text": [
            "[19/20,     1/498] lr: 0.00000 loss: 0.001 acc: 1.000\n"
          ]
        },
        {
          "output_type": "stream",
          "name": "stderr",
          "text": [
            "207it [00:04, 51.32it/s]"
          ]
        },
        {
          "output_type": "stream",
          "name": "stdout",
          "text": [
            "[19/20,   201/498] lr: 0.00000 loss: 0.151 acc: 0.984\n"
          ]
        },
        {
          "output_type": "stream",
          "name": "stderr",
          "text": [
            "411it [00:08, 51.47it/s]"
          ]
        },
        {
          "output_type": "stream",
          "name": "stdout",
          "text": [
            "[19/20,   401/498] lr: 0.00000 loss: 0.141 acc: 0.988\n"
          ]
        },
        {
          "output_type": "stream",
          "name": "stderr",
          "text": [
            "498it [00:10, 49.22it/s]\n"
          ]
        },
        {
          "output_type": "stream",
          "name": "stdout",
          "text": [
            "Test Accuracy - Overall: 23.33% | Head: 42.47% | Mid: 19.65% | Tail: 9.11%\n",
            "[19/20] val acc: 0.233 train acc: 0.986\n"
          ]
        },
        {
          "output_type": "stream",
          "name": "stderr",
          "text": [
            "\r0it [00:00, ?it/s]"
          ]
        },
        {
          "output_type": "stream",
          "name": "stdout",
          "text": [
            "[20/20,     1/498] lr: 0.00000 loss: 0.001 acc: 0.969\n"
          ]
        },
        {
          "output_type": "stream",
          "name": "stderr",
          "text": [
            "207it [00:03, 52.26it/s]"
          ]
        },
        {
          "output_type": "stream",
          "name": "stdout",
          "text": [
            "[20/20,   201/498] lr: 0.00000 loss: 0.145 acc: 0.986\n"
          ]
        },
        {
          "output_type": "stream",
          "name": "stderr",
          "text": [
            "411it [00:07, 52.02it/s]"
          ]
        },
        {
          "output_type": "stream",
          "name": "stdout",
          "text": [
            "[20/20,   401/498] lr: 0.00000 loss: 0.142 acc: 0.985\n"
          ]
        },
        {
          "output_type": "stream",
          "name": "stderr",
          "text": [
            "498it [00:09, 50.64it/s]\n"
          ]
        },
        {
          "output_type": "stream",
          "name": "stdout",
          "text": [
            "Test Accuracy - Overall: 24.15% | Head: 43.23% | Mid: 20.21% | Tail: 10.37%\n",
            "[20/20] val acc: 0.241 train acc: 0.985\n"
          ]
        }
      ]
    },
    {
      "cell_type": "code",
      "source": [
        "# Model\n",
        "backbone = DINOBackbone()\n",
        "backbone.load_state_dict(torch.load(\"dinoBackbone.pth\"))\n",
        "modelDino = DinoClassifier(backbone)\n",
        "\n",
        "# Train/Val Set\n",
        "trainSet = torch.utils.data.TensorDataset(torch.Tensor(augmentedLT), torch.Tensor(augmentedLabelsLT).long())\n",
        "trainLoader = torch.utils.data.DataLoader(trainSet, batch_size=32, shuffle=True, num_workers=2)\n",
        "valSet = torch.utils.data.TensorDataset(torch.Tensor(valData), torch.Tensor(valLabel))\n",
        "valLoader = torch.utils.data.DataLoader(valSet, batch_size=32, shuffle=True, num_workers=2)\n",
        "\n",
        "# Params\n",
        "optimizer = torch.optim.Adam(modelDino.parameters(), lr=0.0001)\n",
        "scheduler = torch.optim.lr_scheduler.CosineAnnealingLR(optimizer, T_max=20)\n",
        "loss = nn.CrossEntropyLoss()\n",
        "\n",
        "# Train\n",
        "modelDino.to(device)\n",
        "train_model(trainLoader, valLoader, 20, modelDino, optimizer, scheduler, loss)"
      ],
      "metadata": {
        "colab": {
          "base_uri": "https://localhost:8080/"
        },
        "id": "UMrmxwr2d774",
        "outputId": "ff2b5b82-fc8d-48d1-8e89-7f61708bf200"
      },
      "id": "UMrmxwr2d774",
      "execution_count": 91,
      "outputs": [
        {
          "output_type": "stream",
          "name": "stderr",
          "text": [
            "8it [00:00, 39.48it/s]"
          ]
        },
        {
          "output_type": "stream",
          "name": "stdout",
          "text": [
            "[1/20,     1/995] lr: 0.00010 loss: 0.024 acc: 0.000\n"
          ]
        },
        {
          "output_type": "stream",
          "name": "stderr",
          "text": [
            "211it [00:04, 52.80it/s]"
          ]
        },
        {
          "output_type": "stream",
          "name": "stdout",
          "text": [
            "[1/20,   201/995] lr: 0.00010 loss: 4.339 acc: 0.044\n"
          ]
        },
        {
          "output_type": "stream",
          "name": "stderr",
          "text": [
            "409it [00:07, 53.30it/s]"
          ]
        },
        {
          "output_type": "stream",
          "name": "stdout",
          "text": [
            "[1/20,   401/995] lr: 0.00010 loss: 4.119 acc: 0.068\n"
          ]
        },
        {
          "output_type": "stream",
          "name": "stderr",
          "text": [
            "607it [00:11, 49.94it/s]"
          ]
        },
        {
          "output_type": "stream",
          "name": "stdout",
          "text": [
            "[1/20,   601/995] lr: 0.00010 loss: 3.987 acc: 0.092\n"
          ]
        },
        {
          "output_type": "stream",
          "name": "stderr",
          "text": [
            "811it [00:15, 52.00it/s]"
          ]
        },
        {
          "output_type": "stream",
          "name": "stdout",
          "text": [
            "[1/20,   801/995] lr: 0.00010 loss: 3.897 acc: 0.102\n"
          ]
        },
        {
          "output_type": "stream",
          "name": "stderr",
          "text": [
            "995it [00:19, 51.06it/s]\n"
          ]
        },
        {
          "output_type": "stream",
          "name": "stdout",
          "text": [
            "Test Accuracy - Overall: 9.80% | Head: 26.59% | Mid: 4.48% | Tail: 0.17%\n",
            "[1/20] val acc: 0.098 train acc: 0.085\n"
          ]
        },
        {
          "output_type": "stream",
          "name": "stderr",
          "text": [
            "\r0it [00:00, ?it/s]"
          ]
        },
        {
          "output_type": "stream",
          "name": "stdout",
          "text": [
            "[2/20,     1/995] lr: 0.00010 loss: 0.019 acc: 0.188\n"
          ]
        },
        {
          "output_type": "stream",
          "name": "stderr",
          "text": [
            "208it [00:04, 51.94it/s]"
          ]
        },
        {
          "output_type": "stream",
          "name": "stdout",
          "text": [
            "[2/20,   201/995] lr: 0.00010 loss: 3.662 acc: 0.135\n"
          ]
        },
        {
          "output_type": "stream",
          "name": "stderr",
          "text": [
            "406it [00:08, 52.08it/s]"
          ]
        },
        {
          "output_type": "stream",
          "name": "stdout",
          "text": [
            "[2/20,   401/995] lr: 0.00010 loss: 3.636 acc: 0.149\n"
          ]
        },
        {
          "output_type": "stream",
          "name": "stderr",
          "text": [
            "610it [00:12, 52.40it/s]"
          ]
        },
        {
          "output_type": "stream",
          "name": "stdout",
          "text": [
            "[2/20,   601/995] lr: 0.00010 loss: 3.568 acc: 0.158\n"
          ]
        },
        {
          "output_type": "stream",
          "name": "stderr",
          "text": [
            "809it [00:16, 52.03it/s]"
          ]
        },
        {
          "output_type": "stream",
          "name": "stdout",
          "text": [
            "[2/20,   801/995] lr: 0.00010 loss: 3.512 acc: 0.169\n"
          ]
        },
        {
          "output_type": "stream",
          "name": "stderr",
          "text": [
            "995it [00:19, 50.33it/s]\n"
          ]
        },
        {
          "output_type": "stream",
          "name": "stdout",
          "text": [
            "Test Accuracy - Overall: 14.82% | Head: 37.04% | Mid: 7.90% | Tail: 1.92%\n",
            "[2/20] val acc: 0.148 train acc: 0.155\n"
          ]
        },
        {
          "output_type": "stream",
          "name": "stderr",
          "text": [
            "\r0it [00:00, ?it/s]"
          ]
        },
        {
          "output_type": "stream",
          "name": "stdout",
          "text": [
            "[3/20,     1/995] lr: 0.00010 loss: 0.016 acc: 0.219\n"
          ]
        },
        {
          "output_type": "stream",
          "name": "stderr",
          "text": [
            "209it [00:04, 49.04it/s]"
          ]
        },
        {
          "output_type": "stream",
          "name": "stdout",
          "text": [
            "[3/20,   201/995] lr: 0.00010 loss: 3.399 acc: 0.188\n"
          ]
        },
        {
          "output_type": "stream",
          "name": "stderr",
          "text": [
            "407it [00:08, 51.50it/s]"
          ]
        },
        {
          "output_type": "stream",
          "name": "stdout",
          "text": [
            "[3/20,   401/995] lr: 0.00010 loss: 3.336 acc: 0.205\n"
          ]
        },
        {
          "output_type": "stream",
          "name": "stderr",
          "text": [
            "611it [00:12, 52.95it/s]"
          ]
        },
        {
          "output_type": "stream",
          "name": "stdout",
          "text": [
            "[3/20,   601/995] lr: 0.00010 loss: 3.336 acc: 0.199\n"
          ]
        },
        {
          "output_type": "stream",
          "name": "stderr",
          "text": [
            "809it [00:15, 53.08it/s]"
          ]
        },
        {
          "output_type": "stream",
          "name": "stdout",
          "text": [
            "[3/20,   801/995] lr: 0.00010 loss: 3.337 acc: 0.198\n"
          ]
        },
        {
          "output_type": "stream",
          "name": "stderr",
          "text": [
            "995it [00:19, 50.36it/s]\n"
          ]
        },
        {
          "output_type": "stream",
          "name": "stdout",
          "text": [
            "Test Accuracy - Overall: 17.72% | Head: 42.73% | Mid: 11.69% | Tail: 0.84%\n",
            "[3/20] val acc: 0.177 train acc: 0.198\n"
          ]
        },
        {
          "output_type": "stream",
          "name": "stderr",
          "text": [
            "\r0it [00:00, ?it/s]"
          ]
        },
        {
          "output_type": "stream",
          "name": "stdout",
          "text": [
            "[4/20,     1/995] lr: 0.00009 loss: 0.016 acc: 0.219\n"
          ]
        },
        {
          "output_type": "stream",
          "name": "stderr",
          "text": [
            "208it [00:04, 51.58it/s]"
          ]
        },
        {
          "output_type": "stream",
          "name": "stdout",
          "text": [
            "[4/20,   201/995] lr: 0.00009 loss: 3.171 acc: 0.227\n"
          ]
        },
        {
          "output_type": "stream",
          "name": "stderr",
          "text": [
            "407it [00:07, 46.63it/s]"
          ]
        },
        {
          "output_type": "stream",
          "name": "stdout",
          "text": [
            "[4/20,   401/995] lr: 0.00009 loss: 3.156 acc: 0.231\n"
          ]
        },
        {
          "output_type": "stream",
          "name": "stderr",
          "text": [
            "610it [00:12, 52.11it/s]"
          ]
        },
        {
          "output_type": "stream",
          "name": "stdout",
          "text": [
            "[4/20,   601/995] lr: 0.00009 loss: 3.161 acc: 0.235\n"
          ]
        },
        {
          "output_type": "stream",
          "name": "stderr",
          "text": [
            "808it [00:15, 52.44it/s]"
          ]
        },
        {
          "output_type": "stream",
          "name": "stdout",
          "text": [
            "[4/20,   801/995] lr: 0.00009 loss: 3.188 acc: 0.233\n"
          ]
        },
        {
          "output_type": "stream",
          "name": "stderr",
          "text": [
            "995it [00:19, 50.94it/s]\n"
          ]
        },
        {
          "output_type": "stream",
          "name": "stdout",
          "text": [
            "Test Accuracy - Overall: 19.10% | Head: 41.64% | Mid: 14.80% | Tail: 2.34%\n",
            "[4/20] val acc: 0.191 train acc: 0.231\n"
          ]
        },
        {
          "output_type": "stream",
          "name": "stderr",
          "text": [
            "7it [00:00, 30.40it/s]"
          ]
        },
        {
          "output_type": "stream",
          "name": "stdout",
          "text": [
            "[5/20,     1/995] lr: 0.00009 loss: 0.016 acc: 0.188\n"
          ]
        },
        {
          "output_type": "stream",
          "name": "stderr",
          "text": [
            "209it [00:04, 53.21it/s]"
          ]
        },
        {
          "output_type": "stream",
          "name": "stdout",
          "text": [
            "[5/20,   201/995] lr: 0.00009 loss: 3.006 acc: 0.261\n"
          ]
        },
        {
          "output_type": "stream",
          "name": "stderr",
          "text": [
            "407it [00:07, 52.98it/s]"
          ]
        },
        {
          "output_type": "stream",
          "name": "stdout",
          "text": [
            "[5/20,   401/995] lr: 0.00009 loss: 3.024 acc: 0.259\n"
          ]
        },
        {
          "output_type": "stream",
          "name": "stderr",
          "text": [
            "609it [00:11, 44.72it/s]"
          ]
        },
        {
          "output_type": "stream",
          "name": "stdout",
          "text": [
            "[5/20,   601/995] lr: 0.00009 loss: 3.017 acc: 0.259\n"
          ]
        },
        {
          "output_type": "stream",
          "name": "stderr",
          "text": [
            "809it [00:15, 51.96it/s]"
          ]
        },
        {
          "output_type": "stream",
          "name": "stdout",
          "text": [
            "[5/20,   801/995] lr: 0.00009 loss: 2.938 acc: 0.276\n"
          ]
        },
        {
          "output_type": "stream",
          "name": "stderr",
          "text": [
            "995it [00:19, 51.05it/s]\n"
          ]
        },
        {
          "output_type": "stream",
          "name": "stdout",
          "text": [
            "Test Accuracy - Overall: 21.35% | Head: 45.65% | Mid: 15.36% | Tail: 5.10%\n",
            "[5/20] val acc: 0.213 train acc: 0.269\n"
          ]
        },
        {
          "output_type": "stream",
          "name": "stderr",
          "text": [
            "\r0it [00:00, ?it/s]"
          ]
        },
        {
          "output_type": "stream",
          "name": "stdout",
          "text": [
            "[6/20,     1/995] lr: 0.00009 loss: 0.014 acc: 0.250\n"
          ]
        },
        {
          "output_type": "stream",
          "name": "stderr",
          "text": [
            "207it [00:04, 49.41it/s]"
          ]
        },
        {
          "output_type": "stream",
          "name": "stdout",
          "text": [
            "[6/20,   201/995] lr: 0.00009 loss: 2.817 acc: 0.314\n"
          ]
        },
        {
          "output_type": "stream",
          "name": "stderr",
          "text": [
            "411it [00:08, 53.54it/s]"
          ]
        },
        {
          "output_type": "stream",
          "name": "stdout",
          "text": [
            "[6/20,   401/995] lr: 0.00009 loss: 2.789 acc: 0.308\n"
          ]
        },
        {
          "output_type": "stream",
          "name": "stderr",
          "text": [
            "609it [00:11, 53.18it/s]"
          ]
        },
        {
          "output_type": "stream",
          "name": "stdout",
          "text": [
            "[6/20,   601/995] lr: 0.00009 loss: 2.803 acc: 0.305\n"
          ]
        },
        {
          "output_type": "stream",
          "name": "stderr",
          "text": [
            "808it [00:16, 43.68it/s]"
          ]
        },
        {
          "output_type": "stream",
          "name": "stdout",
          "text": [
            "[6/20,   801/995] lr: 0.00009 loss: 2.746 acc: 0.315\n"
          ]
        },
        {
          "output_type": "stream",
          "name": "stderr",
          "text": [
            "995it [00:19, 50.57it/s]\n"
          ]
        },
        {
          "output_type": "stream",
          "name": "stdout",
          "text": [
            "Test Accuracy - Overall: 23.52% | Head: 46.99% | Mid: 18.66% | Tail: 6.61%\n",
            "[6/20] val acc: 0.235 train acc: 0.310\n"
          ]
        },
        {
          "output_type": "stream",
          "name": "stderr",
          "text": [
            "\r0it [00:00, ?it/s]"
          ]
        },
        {
          "output_type": "stream",
          "name": "stdout",
          "text": [
            "[7/20,     1/995] lr: 0.00008 loss: 0.014 acc: 0.281\n"
          ]
        },
        {
          "output_type": "stream",
          "name": "stderr",
          "text": [
            "208it [00:03, 52.43it/s]"
          ]
        },
        {
          "output_type": "stream",
          "name": "stdout",
          "text": [
            "[7/20,   201/995] lr: 0.00008 loss: 2.603 acc: 0.351\n"
          ]
        },
        {
          "output_type": "stream",
          "name": "stderr",
          "text": [
            "411it [00:08, 51.26it/s]"
          ]
        },
        {
          "output_type": "stream",
          "name": "stdout",
          "text": [
            "[7/20,   401/995] lr: 0.00008 loss: 2.606 acc: 0.348\n"
          ]
        },
        {
          "output_type": "stream",
          "name": "stderr",
          "text": [
            "609it [00:12, 51.77it/s]"
          ]
        },
        {
          "output_type": "stream",
          "name": "stdout",
          "text": [
            "[7/20,   601/995] lr: 0.00008 loss: 2.637 acc: 0.343\n"
          ]
        },
        {
          "output_type": "stream",
          "name": "stderr",
          "text": [
            "807it [00:15, 52.64it/s]"
          ]
        },
        {
          "output_type": "stream",
          "name": "stdout",
          "text": [
            "[7/20,   801/995] lr: 0.00008 loss: 2.609 acc: 0.353\n"
          ]
        },
        {
          "output_type": "stream",
          "name": "stderr",
          "text": [
            "995it [00:19, 49.98it/s]\n"
          ]
        },
        {
          "output_type": "stream",
          "name": "stdout",
          "text": [
            "Test Accuracy - Overall: 24.10% | Head: 48.58% | Mid: 18.16% | Tail: 7.61%\n",
            "[7/20] val acc: 0.241 train acc: 0.348\n"
          ]
        },
        {
          "output_type": "stream",
          "name": "stderr",
          "text": [
            "\r0it [00:00, ?it/s]"
          ]
        },
        {
          "output_type": "stream",
          "name": "stdout",
          "text": [
            "[8/20,     1/995] lr: 0.00007 loss: 0.012 acc: 0.375\n"
          ]
        },
        {
          "output_type": "stream",
          "name": "stderr",
          "text": [
            "208it [00:03, 52.71it/s]"
          ]
        },
        {
          "output_type": "stream",
          "name": "stdout",
          "text": [
            "[8/20,   201/995] lr: 0.00007 loss: 2.420 acc: 0.397\n"
          ]
        },
        {
          "output_type": "stream",
          "name": "stderr",
          "text": [
            "406it [00:07, 52.71it/s]"
          ]
        },
        {
          "output_type": "stream",
          "name": "stdout",
          "text": [
            "[8/20,   401/995] lr: 0.00007 loss: 2.449 acc: 0.391\n"
          ]
        },
        {
          "output_type": "stream",
          "name": "stderr",
          "text": [
            "610it [00:11, 53.11it/s]"
          ]
        },
        {
          "output_type": "stream",
          "name": "stdout",
          "text": [
            "[8/20,   601/995] lr: 0.00007 loss: 2.465 acc: 0.380\n"
          ]
        },
        {
          "output_type": "stream",
          "name": "stderr",
          "text": [
            "808it [00:15, 52.39it/s]"
          ]
        },
        {
          "output_type": "stream",
          "name": "stdout",
          "text": [
            "[8/20,   801/995] lr: 0.00007 loss: 2.443 acc: 0.388\n"
          ]
        },
        {
          "output_type": "stream",
          "name": "stderr",
          "text": [
            "995it [00:19, 51.56it/s]\n"
          ]
        },
        {
          "output_type": "stream",
          "name": "stdout",
          "text": [
            "Test Accuracy - Overall: 25.20% | Head: 47.41% | Mid: 20.90% | Tail: 8.78%\n",
            "[8/20] val acc: 0.252 train acc: 0.388\n"
          ]
        },
        {
          "output_type": "stream",
          "name": "stderr",
          "text": [
            "8it [00:00, 36.78it/s]"
          ]
        },
        {
          "output_type": "stream",
          "name": "stdout",
          "text": [
            "[9/20,     1/995] lr: 0.00007 loss: 0.012 acc: 0.469\n"
          ]
        },
        {
          "output_type": "stream",
          "name": "stderr",
          "text": [
            "210it [00:04, 51.53it/s]"
          ]
        },
        {
          "output_type": "stream",
          "name": "stdout",
          "text": [
            "[9/20,   201/995] lr: 0.00007 loss: 2.279 acc: 0.429\n"
          ]
        },
        {
          "output_type": "stream",
          "name": "stderr",
          "text": [
            "408it [00:08, 50.78it/s]"
          ]
        },
        {
          "output_type": "stream",
          "name": "stdout",
          "text": [
            "[9/20,   401/995] lr: 0.00007 loss: 2.242 acc: 0.439\n"
          ]
        },
        {
          "output_type": "stream",
          "name": "stderr",
          "text": [
            "606it [00:11, 49.85it/s]"
          ]
        },
        {
          "output_type": "stream",
          "name": "stdout",
          "text": [
            "[9/20,   601/995] lr: 0.00007 loss: 2.312 acc: 0.414\n"
          ]
        },
        {
          "output_type": "stream",
          "name": "stderr",
          "text": [
            "811it [00:16, 53.14it/s]"
          ]
        },
        {
          "output_type": "stream",
          "name": "stdout",
          "text": [
            "[9/20,   801/995] lr: 0.00007 loss: 2.267 acc: 0.429\n"
          ]
        },
        {
          "output_type": "stream",
          "name": "stderr",
          "text": [
            "995it [00:19, 50.26it/s]\n"
          ]
        },
        {
          "output_type": "stream",
          "name": "stdout",
          "text": [
            "Test Accuracy - Overall: 24.88% | Head: 47.16% | Mid: 20.96% | Tail: 7.86%\n",
            "[9/20] val acc: 0.249 train acc: 0.429\n"
          ]
        },
        {
          "output_type": "stream",
          "name": "stderr",
          "text": [
            "\r0it [00:00, ?it/s]"
          ]
        },
        {
          "output_type": "stream",
          "name": "stdout",
          "text": [
            "[10/20,     1/995] lr: 0.00006 loss: 0.011 acc: 0.469\n"
          ]
        },
        {
          "output_type": "stream",
          "name": "stderr",
          "text": [
            "209it [00:04, 47.79it/s]"
          ]
        },
        {
          "output_type": "stream",
          "name": "stdout",
          "text": [
            "[10/20,   201/995] lr: 0.00006 loss: 2.124 acc: 0.473\n"
          ]
        },
        {
          "output_type": "stream",
          "name": "stderr",
          "text": [
            "406it [00:08, 52.56it/s]"
          ]
        },
        {
          "output_type": "stream",
          "name": "stdout",
          "text": [
            "[10/20,   401/995] lr: 0.00006 loss: 2.107 acc: 0.469\n"
          ]
        },
        {
          "output_type": "stream",
          "name": "stderr",
          "text": [
            "610it [00:12, 52.08it/s]"
          ]
        },
        {
          "output_type": "stream",
          "name": "stdout",
          "text": [
            "[10/20,   601/995] lr: 0.00006 loss: 2.147 acc: 0.467\n"
          ]
        },
        {
          "output_type": "stream",
          "name": "stderr",
          "text": [
            "806it [00:15, 47.25it/s]"
          ]
        },
        {
          "output_type": "stream",
          "name": "stdout",
          "text": [
            "[10/20,   801/995] lr: 0.00006 loss: 2.109 acc: 0.475\n"
          ]
        },
        {
          "output_type": "stream",
          "name": "stderr",
          "text": [
            "995it [00:19, 50.26it/s]\n"
          ]
        },
        {
          "output_type": "stream",
          "name": "stdout",
          "text": [
            "Test Accuracy - Overall: 24.57% | Head: 46.74% | Mid: 20.34% | Tail: 8.11%\n",
            "[10/20] val acc: 0.246 train acc: 0.469\n"
          ]
        },
        {
          "output_type": "stream",
          "name": "stderr",
          "text": [
            "\r0it [00:00, ?it/s]"
          ]
        },
        {
          "output_type": "stream",
          "name": "stdout",
          "text": [
            "[11/20,     1/995] lr: 0.00005 loss: 0.010 acc: 0.469\n"
          ]
        },
        {
          "output_type": "stream",
          "name": "stderr",
          "text": [
            "207it [00:03, 53.08it/s]"
          ]
        },
        {
          "output_type": "stream",
          "name": "stdout",
          "text": [
            "[11/20,   201/995] lr: 0.00005 loss: 1.976 acc: 0.509\n"
          ]
        },
        {
          "output_type": "stream",
          "name": "stderr",
          "text": [
            "407it [00:08, 43.72it/s]"
          ]
        },
        {
          "output_type": "stream",
          "name": "stdout",
          "text": [
            "[11/20,   401/995] lr: 0.00005 loss: 1.956 acc: 0.523\n"
          ]
        },
        {
          "output_type": "stream",
          "name": "stderr",
          "text": [
            "609it [00:11, 52.41it/s]"
          ]
        },
        {
          "output_type": "stream",
          "name": "stdout",
          "text": [
            "[11/20,   601/995] lr: 0.00005 loss: 1.975 acc: 0.516\n"
          ]
        },
        {
          "output_type": "stream",
          "name": "stderr",
          "text": [
            "807it [00:15, 52.84it/s]"
          ]
        },
        {
          "output_type": "stream",
          "name": "stdout",
          "text": [
            "[11/20,   801/995] lr: 0.00005 loss: 2.010 acc: 0.499\n"
          ]
        },
        {
          "output_type": "stream",
          "name": "stderr",
          "text": [
            "995it [00:19, 50.78it/s]\n"
          ]
        },
        {
          "output_type": "stream",
          "name": "stdout",
          "text": [
            "Test Accuracy - Overall: 24.98% | Head: 46.49% | Mid: 21.52% | Tail: 8.11%\n",
            "[11/20] val acc: 0.250 train acc: 0.512\n"
          ]
        },
        {
          "output_type": "stream",
          "name": "stderr",
          "text": [
            "\r0it [00:00, ?it/s]"
          ]
        },
        {
          "output_type": "stream",
          "name": "stdout",
          "text": [
            "[12/20,     1/995] lr: 0.00004 loss: 0.012 acc: 0.438\n"
          ]
        },
        {
          "output_type": "stream",
          "name": "stderr",
          "text": [
            "208it [00:03, 52.15it/s]"
          ]
        },
        {
          "output_type": "stream",
          "name": "stdout",
          "text": [
            "[12/20,   201/995] lr: 0.00004 loss: 1.861 acc: 0.540\n"
          ]
        },
        {
          "output_type": "stream",
          "name": "stderr",
          "text": [
            "406it [00:07, 52.96it/s]"
          ]
        },
        {
          "output_type": "stream",
          "name": "stdout",
          "text": [
            "[12/20,   401/995] lr: 0.00004 loss: 1.848 acc: 0.545\n"
          ]
        },
        {
          "output_type": "stream",
          "name": "stderr",
          "text": [
            "610it [00:11, 50.15it/s]"
          ]
        },
        {
          "output_type": "stream",
          "name": "stdout",
          "text": [
            "[12/20,   601/995] lr: 0.00004 loss: 1.851 acc: 0.547\n"
          ]
        },
        {
          "output_type": "stream",
          "name": "stderr",
          "text": [
            "808it [00:15, 52.18it/s]"
          ]
        },
        {
          "output_type": "stream",
          "name": "stdout",
          "text": [
            "[12/20,   801/995] lr: 0.00004 loss: 1.884 acc: 0.540\n"
          ]
        },
        {
          "output_type": "stream",
          "name": "stderr",
          "text": [
            "995it [00:19, 51.54it/s]\n"
          ]
        },
        {
          "output_type": "stream",
          "name": "stdout",
          "text": [
            "Test Accuracy - Overall: 26.15% | Head: 48.24% | Mid: 21.46% | Tail: 10.37%\n",
            "[12/20] val acc: 0.262 train acc: 0.541\n"
          ]
        },
        {
          "output_type": "stream",
          "name": "stderr",
          "text": [
            "\r0it [00:00, ?it/s]"
          ]
        },
        {
          "output_type": "stream",
          "name": "stdout",
          "text": [
            "[13/20,     1/995] lr: 0.00003 loss: 0.010 acc: 0.531\n"
          ]
        },
        {
          "output_type": "stream",
          "name": "stderr",
          "text": [
            "209it [00:04, 51.40it/s]"
          ]
        },
        {
          "output_type": "stream",
          "name": "stdout",
          "text": [
            "[13/20,   201/995] lr: 0.00003 loss: 1.766 acc: 0.571\n"
          ]
        },
        {
          "output_type": "stream",
          "name": "stderr",
          "text": [
            "407it [00:08, 52.99it/s]"
          ]
        },
        {
          "output_type": "stream",
          "name": "stdout",
          "text": [
            "[13/20,   401/995] lr: 0.00003 loss: 1.773 acc: 0.567\n"
          ]
        },
        {
          "output_type": "stream",
          "name": "stderr",
          "text": [
            "611it [00:12, 52.21it/s]"
          ]
        },
        {
          "output_type": "stream",
          "name": "stdout",
          "text": [
            "[13/20,   601/995] lr: 0.00003 loss: 1.755 acc: 0.567\n"
          ]
        },
        {
          "output_type": "stream",
          "name": "stderr",
          "text": [
            "810it [00:16, 51.84it/s]"
          ]
        },
        {
          "output_type": "stream",
          "name": "stdout",
          "text": [
            "[13/20,   801/995] lr: 0.00003 loss: 1.743 acc: 0.578\n"
          ]
        },
        {
          "output_type": "stream",
          "name": "stderr",
          "text": [
            "995it [00:19, 50.47it/s]\n"
          ]
        },
        {
          "output_type": "stream",
          "name": "stdout",
          "text": [
            "Test Accuracy - Overall: 25.60% | Head: 48.91% | Mid: 21.46% | Tail: 7.86%\n",
            "[13/20] val acc: 0.256 train acc: 0.570\n"
          ]
        },
        {
          "output_type": "stream",
          "name": "stderr",
          "text": [
            "\r0it [00:00, ?it/s]"
          ]
        },
        {
          "output_type": "stream",
          "name": "stdout",
          "text": [
            "[14/20,     1/995] lr: 0.00003 loss: 0.007 acc: 0.594\n"
          ]
        },
        {
          "output_type": "stream",
          "name": "stderr",
          "text": [
            "208it [00:03, 52.19it/s]"
          ]
        },
        {
          "output_type": "stream",
          "name": "stdout",
          "text": [
            "[14/20,   201/995] lr: 0.00003 loss: 1.686 acc: 0.593\n"
          ]
        },
        {
          "output_type": "stream",
          "name": "stderr",
          "text": [
            "407it [00:08, 50.74it/s]"
          ]
        },
        {
          "output_type": "stream",
          "name": "stdout",
          "text": [
            "[14/20,   401/995] lr: 0.00003 loss: 1.701 acc: 0.589\n"
          ]
        },
        {
          "output_type": "stream",
          "name": "stderr",
          "text": [
            "611it [00:12, 52.29it/s]"
          ]
        },
        {
          "output_type": "stream",
          "name": "stdout",
          "text": [
            "[14/20,   601/995] lr: 0.00003 loss: 1.696 acc: 0.594\n"
          ]
        },
        {
          "output_type": "stream",
          "name": "stderr",
          "text": [
            "809it [00:15, 52.66it/s]"
          ]
        },
        {
          "output_type": "stream",
          "name": "stdout",
          "text": [
            "[14/20,   801/995] lr: 0.00003 loss: 1.676 acc: 0.587\n"
          ]
        },
        {
          "output_type": "stream",
          "name": "stderr",
          "text": [
            "995it [00:19, 50.34it/s]\n"
          ]
        },
        {
          "output_type": "stream",
          "name": "stdout",
          "text": [
            "Test Accuracy - Overall: 25.57% | Head: 47.49% | Mid: 21.27% | Tail: 9.45%\n",
            "[14/20] val acc: 0.256 train acc: 0.593\n"
          ]
        },
        {
          "output_type": "stream",
          "name": "stderr",
          "text": [
            "\r0it [00:00, ?it/s]"
          ]
        },
        {
          "output_type": "stream",
          "name": "stdout",
          "text": [
            "[15/20,     1/995] lr: 0.00002 loss: 0.008 acc: 0.688\n"
          ]
        },
        {
          "output_type": "stream",
          "name": "stderr",
          "text": [
            "208it [00:04, 52.37it/s]"
          ]
        },
        {
          "output_type": "stream",
          "name": "stdout",
          "text": [
            "[15/20,   201/995] lr: 0.00002 loss: 1.622 acc: 0.613\n"
          ]
        },
        {
          "output_type": "stream",
          "name": "stderr",
          "text": [
            "409it [00:07, 45.76it/s]"
          ]
        },
        {
          "output_type": "stream",
          "name": "stdout",
          "text": [
            "[15/20,   401/995] lr: 0.00002 loss: 1.614 acc: 0.609\n"
          ]
        },
        {
          "output_type": "stream",
          "name": "stderr",
          "text": [
            "610it [00:11, 52.89it/s]"
          ]
        },
        {
          "output_type": "stream",
          "name": "stdout",
          "text": [
            "[15/20,   601/995] lr: 0.00002 loss: 1.632 acc: 0.609\n"
          ]
        },
        {
          "output_type": "stream",
          "name": "stderr",
          "text": [
            "808it [00:15, 52.73it/s]"
          ]
        },
        {
          "output_type": "stream",
          "name": "stdout",
          "text": [
            "[15/20,   801/995] lr: 0.00002 loss: 1.644 acc: 0.596\n"
          ]
        },
        {
          "output_type": "stream",
          "name": "stderr",
          "text": [
            "995it [00:19, 51.31it/s]\n"
          ]
        },
        {
          "output_type": "stream",
          "name": "stdout",
          "text": [
            "Test Accuracy - Overall: 26.00% | Head: 47.58% | Mid: 21.46% | Tail: 10.54%\n",
            "[15/20] val acc: 0.260 train acc: 0.607\n"
          ]
        },
        {
          "output_type": "stream",
          "name": "stderr",
          "text": [
            "7it [00:00, 34.33it/s]"
          ]
        },
        {
          "output_type": "stream",
          "name": "stdout",
          "text": [
            "[16/20,     1/995] lr: 0.00001 loss: 0.007 acc: 0.656\n"
          ]
        },
        {
          "output_type": "stream",
          "name": "stderr",
          "text": [
            "210it [00:04, 52.47it/s]"
          ]
        },
        {
          "output_type": "stream",
          "name": "stdout",
          "text": [
            "[16/20,   201/995] lr: 0.00001 loss: 1.587 acc: 0.618\n"
          ]
        },
        {
          "output_type": "stream",
          "name": "stderr",
          "text": [
            "408it [00:07, 52.14it/s]"
          ]
        },
        {
          "output_type": "stream",
          "name": "stdout",
          "text": [
            "[16/20,   401/995] lr: 0.00001 loss: 1.600 acc: 0.611\n"
          ]
        },
        {
          "output_type": "stream",
          "name": "stderr",
          "text": [
            "607it [00:11, 46.47it/s]"
          ]
        },
        {
          "output_type": "stream",
          "name": "stdout",
          "text": [
            "[16/20,   601/995] lr: 0.00001 loss: 1.546 acc: 0.625\n"
          ]
        },
        {
          "output_type": "stream",
          "name": "stderr",
          "text": [
            "810it [00:15, 52.56it/s]"
          ]
        },
        {
          "output_type": "stream",
          "name": "stdout",
          "text": [
            "[16/20,   801/995] lr: 0.00001 loss: 1.598 acc: 0.612\n"
          ]
        },
        {
          "output_type": "stream",
          "name": "stderr",
          "text": [
            "995it [00:19, 50.81it/s]\n"
          ]
        },
        {
          "output_type": "stream",
          "name": "stdout",
          "text": [
            "Test Accuracy - Overall: 25.35% | Head: 46.91% | Mid: 20.96% | Tail: 9.70%\n",
            "[16/20] val acc: 0.254 train acc: 0.617\n"
          ]
        },
        {
          "output_type": "stream",
          "name": "stderr",
          "text": [
            "\r0it [00:00, ?it/s]"
          ]
        },
        {
          "output_type": "stream",
          "name": "stdout",
          "text": [
            "[17/20,     1/995] lr: 0.00001 loss: 0.007 acc: 0.656\n"
          ]
        },
        {
          "output_type": "stream",
          "name": "stderr",
          "text": [
            "208it [00:04, 48.87it/s]"
          ]
        },
        {
          "output_type": "stream",
          "name": "stdout",
          "text": [
            "[17/20,   201/995] lr: 0.00001 loss: 1.546 acc: 0.628\n"
          ]
        },
        {
          "output_type": "stream",
          "name": "stderr",
          "text": [
            "406it [00:08, 52.42it/s]"
          ]
        },
        {
          "output_type": "stream",
          "name": "stdout",
          "text": [
            "[17/20,   401/995] lr: 0.00001 loss: 1.550 acc: 0.622\n"
          ]
        },
        {
          "output_type": "stream",
          "name": "stderr",
          "text": [
            "610it [00:12, 51.98it/s]"
          ]
        },
        {
          "output_type": "stream",
          "name": "stdout",
          "text": [
            "[17/20,   601/995] lr: 0.00001 loss: 1.542 acc: 0.626\n"
          ]
        },
        {
          "output_type": "stream",
          "name": "stderr",
          "text": [
            "804it [00:16, 39.63it/s]"
          ]
        },
        {
          "output_type": "stream",
          "name": "stdout",
          "text": [
            "[17/20,   801/995] lr: 0.00001 loss: 1.541 acc: 0.630\n"
          ]
        },
        {
          "output_type": "stream",
          "name": "stderr",
          "text": [
            "995it [00:19, 50.22it/s]\n"
          ]
        },
        {
          "output_type": "stream",
          "name": "stdout",
          "text": [
            "Test Accuracy - Overall: 25.77% | Head: 47.49% | Mid: 21.46% | Tail: 9.87%\n",
            "[17/20] val acc: 0.258 train acc: 0.627\n"
          ]
        },
        {
          "output_type": "stream",
          "name": "stderr",
          "text": [
            "\r0it [00:00, ?it/s]"
          ]
        },
        {
          "output_type": "stream",
          "name": "stdout",
          "text": [
            "[18/20,     1/995] lr: 0.00001 loss: 0.006 acc: 0.719\n"
          ]
        },
        {
          "output_type": "stream",
          "name": "stderr",
          "text": [
            "208it [00:04, 52.66it/s]"
          ]
        },
        {
          "output_type": "stream",
          "name": "stdout",
          "text": [
            "[18/20,   201/995] lr: 0.00001 loss: 1.514 acc: 0.630\n"
          ]
        },
        {
          "output_type": "stream",
          "name": "stderr",
          "text": [
            "406it [00:08, 51.32it/s]"
          ]
        },
        {
          "output_type": "stream",
          "name": "stdout",
          "text": [
            "[18/20,   401/995] lr: 0.00001 loss: 1.507 acc: 0.631\n"
          ]
        },
        {
          "output_type": "stream",
          "name": "stderr",
          "text": [
            "610it [00:12, 51.93it/s]"
          ]
        },
        {
          "output_type": "stream",
          "name": "stdout",
          "text": [
            "[18/20,   601/995] lr: 0.00001 loss: 1.511 acc: 0.633\n"
          ]
        },
        {
          "output_type": "stream",
          "name": "stderr",
          "text": [
            "808it [00:15, 52.13it/s]"
          ]
        },
        {
          "output_type": "stream",
          "name": "stdout",
          "text": [
            "[18/20,   801/995] lr: 0.00001 loss: 1.540 acc: 0.626\n"
          ]
        },
        {
          "output_type": "stream",
          "name": "stderr",
          "text": [
            "995it [00:19, 50.18it/s]\n"
          ]
        },
        {
          "output_type": "stream",
          "name": "stdout",
          "text": [
            "Test Accuracy - Overall: 25.27% | Head: 47.49% | Mid: 21.02% | Tail: 8.78%\n",
            "[18/20] val acc: 0.253 train acc: 0.630\n"
          ]
        },
        {
          "output_type": "stream",
          "name": "stderr",
          "text": [
            "\r0it [00:00, ?it/s]"
          ]
        },
        {
          "output_type": "stream",
          "name": "stdout",
          "text": [
            "[19/20,     1/995] lr: 0.00000 loss: 0.008 acc: 0.594\n"
          ]
        },
        {
          "output_type": "stream",
          "name": "stderr",
          "text": [
            "209it [00:04, 52.06it/s]"
          ]
        },
        {
          "output_type": "stream",
          "name": "stdout",
          "text": [
            "[19/20,   201/995] lr: 0.00000 loss: 1.498 acc: 0.637\n"
          ]
        },
        {
          "output_type": "stream",
          "name": "stderr",
          "text": [
            "407it [00:07, 52.45it/s]"
          ]
        },
        {
          "output_type": "stream",
          "name": "stdout",
          "text": [
            "[19/20,   401/995] lr: 0.00000 loss: 1.542 acc: 0.624\n"
          ]
        },
        {
          "output_type": "stream",
          "name": "stderr",
          "text": [
            "611it [00:12, 52.19it/s]"
          ]
        },
        {
          "output_type": "stream",
          "name": "stdout",
          "text": [
            "[19/20,   601/995] lr: 0.00000 loss: 1.474 acc: 0.645\n"
          ]
        },
        {
          "output_type": "stream",
          "name": "stderr",
          "text": [
            "809it [00:15, 52.78it/s]"
          ]
        },
        {
          "output_type": "stream",
          "name": "stdout",
          "text": [
            "[19/20,   801/995] lr: 0.00000 loss: 1.490 acc: 0.638\n"
          ]
        },
        {
          "output_type": "stream",
          "name": "stderr",
          "text": [
            "995it [00:19, 50.96it/s]\n"
          ]
        },
        {
          "output_type": "stream",
          "name": "stdout",
          "text": [
            "Test Accuracy - Overall: 25.80% | Head: 48.41% | Mid: 21.21% | Tail: 9.36%\n",
            "[19/20] val acc: 0.258 train acc: 0.636\n"
          ]
        },
        {
          "output_type": "stream",
          "name": "stderr",
          "text": [
            "\r0it [00:00, ?it/s]"
          ]
        },
        {
          "output_type": "stream",
          "name": "stdout",
          "text": [
            "[20/20,     1/995] lr: 0.00000 loss: 0.007 acc: 0.656\n"
          ]
        },
        {
          "output_type": "stream",
          "name": "stderr",
          "text": [
            "209it [00:04, 51.85it/s]"
          ]
        },
        {
          "output_type": "stream",
          "name": "stdout",
          "text": [
            "[20/20,   201/995] lr: 0.00000 loss: 1.504 acc: 0.635\n"
          ]
        },
        {
          "output_type": "stream",
          "name": "stderr",
          "text": [
            "407it [00:08, 52.40it/s]"
          ]
        },
        {
          "output_type": "stream",
          "name": "stdout",
          "text": [
            "[20/20,   401/995] lr: 0.00000 loss: 1.482 acc: 0.640\n"
          ]
        },
        {
          "output_type": "stream",
          "name": "stderr",
          "text": [
            "605it [00:11, 52.69it/s]"
          ]
        },
        {
          "output_type": "stream",
          "name": "stdout",
          "text": [
            "[20/20,   601/995] lr: 0.00000 loss: 1.480 acc: 0.638\n"
          ]
        },
        {
          "output_type": "stream",
          "name": "stderr",
          "text": [
            "809it [00:16, 51.50it/s]"
          ]
        },
        {
          "output_type": "stream",
          "name": "stdout",
          "text": [
            "[20/20,   801/995] lr: 0.00000 loss: 1.486 acc: 0.643\n"
          ]
        },
        {
          "output_type": "stream",
          "name": "stderr",
          "text": [
            "995it [00:19, 50.38it/s]\n"
          ]
        },
        {
          "output_type": "stream",
          "name": "stdout",
          "text": [
            "Test Accuracy - Overall: 25.27% | Head: 47.32% | Mid: 20.77% | Tail: 9.28%\n",
            "[20/20] val acc: 0.253 train acc: 0.639\n"
          ]
        }
      ]
    },
    {
      "cell_type": "markdown",
      "source": [
        "## Dino Resnet50"
      ],
      "metadata": {
        "id": "WSjJ5uoHlwkT"
      },
      "id": "WSjJ5uoHlwkT"
    },
    {
      "cell_type": "code",
      "source": [
        "class DINOBackbone(nn.Module):\n",
        "    def __init__(self):\n",
        "        super().__init__()\n",
        "        self.encoder = resnet50(pretrained=False)\n",
        "        self.encoder.fc = nn.Identity()\n",
        "\n",
        "    def forward(self, x):\n",
        "        return self.encoder(x)"
      ],
      "metadata": {
        "id": "xOz2X0dEl84z"
      },
      "id": "xOz2X0dEl84z",
      "execution_count": 92,
      "outputs": []
    },
    {
      "cell_type": "code",
      "source": [
        "studentBackbone = DINOBackbone()\n",
        "teacherBackbone = DINOBackbone()\n",
        "\n",
        "studentHead = DINOHead(in_dim=2048)\n",
        "teacherHead = DINOHead(in_dim=2048)\n",
        "\n",
        "student = nn.Sequential(studentBackbone, studentHead)\n",
        "teacher = nn.Sequential(teacherBackbone, teacherHead)\n",
        "\n",
        "for p in teacher.parameters():\n",
        "    p.requires_grad = False"
      ],
      "metadata": {
        "id": "Z86ps2qFmLN-"
      },
      "id": "Z86ps2qFmLN-",
      "execution_count": 93,
      "outputs": []
    },
    {
      "cell_type": "code",
      "source": [
        "student = student.to(device)\n",
        "teacher = teacher.to(device)\n",
        "\n",
        "optimizer = torch.optim.Adam(student.parameters(), lr=1e-3)\n",
        "\n",
        "for epoch in range(20):\n",
        "    for view1, view2 in dinoLoader:\n",
        "        view1, view2 = view1.to(device), view2.to(device)\n",
        "\n",
        "        student_out = student(view1)\n",
        "        with torch.no_grad():\n",
        "            teacher_out = teacher(view2)\n",
        "\n",
        "        loss = dino_loss(student_out, teacher_out)\n",
        "\n",
        "        optimizer.zero_grad()\n",
        "        loss.backward()\n",
        "        optimizer.step()\n",
        "\n",
        "        # EMA update of teacher\n",
        "        with torch.no_grad():\n",
        "            m = 0.996  # Momentum\n",
        "            for param_q, param_k in zip(student.parameters(), teacher.parameters()):\n",
        "                param_k.data = param_k.data * m + param_q.data * (1. - m)\n",
        "\n",
        "    print(f\"Epoch {epoch+1}, Loss: {loss.item():.4f}\")\n",
        "\n",
        "torch.save(studentBackbone.state_dict(), \"dinoBackbone1.pth\")"
      ],
      "metadata": {
        "colab": {
          "base_uri": "https://localhost:8080/"
        },
        "id": "PjWDyA_Vlz88",
        "outputId": "66f6a9ac-9c83-48be-ae42-c5978e557a50"
      },
      "id": "PjWDyA_Vlz88",
      "execution_count": null,
      "outputs": [
        {
          "output_type": "stream",
          "name": "stdout",
          "text": [
            "Epoch 1, Loss: 10.5437\n",
            "Epoch 2, Loss: 10.3859\n"
          ]
        }
      ]
    },
    {
      "cell_type": "code",
      "source": [
        "class DinoClassifier(nn.Module):\n",
        "    def __init__(self, backbone, num_classes=100):\n",
        "        super().__init__()\n",
        "        self.backbone = backbone\n",
        "        self.classifier = nn.Linear(2048, num_classes)\n",
        "\n",
        "    def forward(self, x):\n",
        "        features = self.backbone(x)\n",
        "        return self.classifier(features)"
      ],
      "metadata": {
        "id": "Ztmgs8XenH4B"
      },
      "id": "Ztmgs8XenH4B",
      "execution_count": null,
      "outputs": []
    },
    {
      "cell_type": "code",
      "source": [
        "# Model\n",
        "backbone = DINOBackbone()\n",
        "backbone.load_state_dict(torch.load(\"dinoBackbone1.pth\"))\n",
        "modelDino = DinoClassifier(backbone)\n",
        "\n",
        "# Train/Val Set\n",
        "trainSet = torch.utils.data.TensorDataset(torch.Tensor(trainDataLT), torch.Tensor(trainLabelLT).long())\n",
        "trainLoader = torch.utils.data.DataLoader(trainSet, batch_size=32, shuffle=True, num_workers=2)\n",
        "valSet = torch.utils.data.TensorDataset(torch.Tensor(valData), torch.Tensor(valLabel))\n",
        "valLoader = torch.utils.data.DataLoader(valSet, batch_size=32, shuffle=True, num_workers=2)\n",
        "\n",
        "# Params\n",
        "optimizer = torch.optim.Adam(modelDino.parameters(), lr=0.001)\n",
        "scheduler = torch.optim.lr_scheduler.CosineAnnealingLR(optimizer, T_max=20)\n",
        "loss = nn.CrossEntropyLoss()\n",
        "\n",
        "# Train\n",
        "modelDino.to(device)\n",
        "train_model(trainLoader, valLoader, 20, modelDino, optimizer, scheduler, loss)"
      ],
      "metadata": {
        "id": "U6t8XfIcm0xj"
      },
      "id": "U6t8XfIcm0xj",
      "execution_count": null,
      "outputs": []
    },
    {
      "cell_type": "code",
      "source": [
        "# Model\n",
        "backbone = DINOBackbone()\n",
        "backbone.load_state_dict(torch.load(\"dinoBackbone1.pth\"))\n",
        "modelDino = DinoClassifier(backbone)\n",
        "\n",
        "# Train/Val Set\n",
        "trainSet = torch.utils.data.TensorDataset(torch.Tensor(augmentedLT), torch.Tensor(augmentedLabelsLT).long())\n",
        "trainLoader = torch.utils.data.DataLoader(trainSet, batch_size=32, shuffle=True, num_workers=2)\n",
        "valSet = torch.utils.data.TensorDataset(torch.Tensor(valData), torch.Tensor(valLabel))\n",
        "valLoader = torch.utils.data.DataLoader(valSet, batch_size=32, shuffle=True, num_workers=2)\n",
        "\n",
        "# Params\n",
        "optimizer = torch.optim.Adam(modelDino.parameters(), lr=0.001)\n",
        "scheduler = torch.optim.lr_scheduler.CosineAnnealingLR(optimizer, T_max=20)\n",
        "loss = nn.CrossEntropyLoss()\n",
        "\n",
        "# Train\n",
        "modelDino.to(device)\n",
        "train_model(trainLoader, valLoader, 20, modelDino, optimizer, scheduler, loss)"
      ],
      "metadata": {
        "id": "6YRSgWa4m2fy"
      },
      "id": "6YRSgWa4m2fy",
      "execution_count": null,
      "outputs": []
    },
    {
      "cell_type": "markdown",
      "id": "27ce8e14",
      "metadata": {
        "id": "27ce8e14"
      },
      "source": [
        "# Next Section"
      ]
    },
    {
      "cell_type": "code",
      "source": [],
      "metadata": {
        "id": "pJR2_GKLly94"
      },
      "id": "pJR2_GKLly94",
      "execution_count": null,
      "outputs": []
    },
    {
      "cell_type": "markdown",
      "id": "11a4c840",
      "metadata": {
        "id": "11a4c840"
      },
      "source": []
    }
  ],
  "metadata": {
    "colab": {
      "provenance": [],
      "gpuType": "T4"
    },
    "kernelspec": {
      "display_name": "Python 3",
      "name": "python3"
    },
    "language_info": {
      "codemirror_mode": {
        "name": "ipython",
        "version": 3
      },
      "file_extension": ".py",
      "mimetype": "text/x-python",
      "name": "python",
      "nbconvert_exporter": "python",
      "pygments_lexer": "ipython3",
      "version": "3.11.1"
    },
    "accelerator": "GPU"
  },
  "nbformat": 4,
  "nbformat_minor": 5
}