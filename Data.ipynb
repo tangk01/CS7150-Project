{
  "cells": [
    {
      "cell_type": "markdown",
      "source": [
        "# Setup"
      ],
      "metadata": {
        "id": "uKGT2QZISaUx"
      },
      "id": "uKGT2QZISaUx"
    },
    {
      "cell_type": "markdown",
      "source": [
        "## Package Installation"
      ],
      "metadata": {
        "id": "623gXKPjSeH8"
      },
      "id": "623gXKPjSeH8"
    },
    {
      "cell_type": "code",
      "execution_count": null,
      "id": "05e23a2c",
      "metadata": {
        "collapsed": true,
        "id": "05e23a2c",
        "outputId": "be653837-d873-4f11-a149-fb1cd21986bb"
      },
      "outputs": [
        {
          "name": "stdout",
          "output_type": "stream",
          "text": [
            "Defaulting to user installation because normal site-packages is not writeable\n",
            "Collecting torchvision\n",
            "  Using cached torchvision-0.21.0-cp39-cp39-manylinux1_x86_64.whl (7.2 MB)\n",
            "Requirement already satisfied: pillow!=8.3.*,>=5.3.0 in /shared/centos7/anaconda3/2022.05/lib/python3.9/site-packages (from torchvision) (9.0.1)\n",
            "Requirement already satisfied: numpy in /shared/centos7/anaconda3/2022.05/lib/python3.9/site-packages (from torchvision) (1.21.5)\n",
            "Collecting torch==2.6.0\n",
            "  Using cached torch-2.6.0-cp39-cp39-manylinux1_x86_64.whl (766.7 MB)\n",
            "Collecting nvidia-curand-cu12==10.3.5.147\n",
            "  Using cached nvidia_curand_cu12-10.3.5.147-py3-none-manylinux2014_x86_64.whl (56.3 MB)\n",
            "Requirement already satisfied: nvidia-cusparse-cu12==12.3.1.170 in ./.local/lib/python3.9/site-packages (from torch==2.6.0->torchvision) (12.3.1.170)\n",
            "Requirement already satisfied: triton==3.2.0 in ./.local/lib/python3.9/site-packages (from torch==2.6.0->torchvision) (3.2.0)\n",
            "Collecting nvidia-cufft-cu12==11.2.1.3\n",
            "  Using cached nvidia_cufft_cu12-11.2.1.3-py3-none-manylinux2014_x86_64.whl (211.5 MB)\n",
            "Requirement already satisfied: networkx in /shared/centos7/anaconda3/2022.05/lib/python3.9/site-packages (from torch==2.6.0->torchvision) (2.7.1)\n",
            "Collecting nvidia-cusolver-cu12==11.6.1.9\n",
            "  Using cached nvidia_cusolver_cu12-11.6.1.9-py3-none-manylinux2014_x86_64.whl (127.9 MB)\n",
            "Collecting nvidia-nccl-cu12==2.21.5\n",
            "  Using cached nvidia_nccl_cu12-2.21.5-py3-none-manylinux2014_x86_64.whl (188.7 MB)\n",
            "Requirement already satisfied: sympy==1.13.1 in ./.local/lib/python3.9/site-packages (from torch==2.6.0->torchvision) (1.13.1)\n",
            "Requirement already satisfied: nvidia-cublas-cu12==12.4.5.8 in ./.local/lib/python3.9/site-packages (from torch==2.6.0->torchvision) (12.4.5.8)\n",
            "Collecting nvidia-nvtx-cu12==12.4.127\n",
            "  Using cached nvidia_nvtx_cu12-12.4.127-py3-none-manylinux2014_x86_64.whl (99 kB)\n",
            "Requirement already satisfied: fsspec in /shared/centos7/anaconda3/2022.05/lib/python3.9/site-packages (from torch==2.6.0->torchvision) (2022.2.0)\n",
            "Collecting nvidia-cuda-nvrtc-cu12==12.4.127\n",
            "  Using cached nvidia_cuda_nvrtc_cu12-12.4.127-py3-none-manylinux2014_x86_64.whl (24.6 MB)\n",
            "Requirement already satisfied: typing-extensions>=4.10.0 in ./.local/lib/python3.9/site-packages (from torch==2.6.0->torchvision) (4.13.2)\n",
            "Collecting nvidia-cuda-cupti-cu12==12.4.127\n",
            "  Using cached nvidia_cuda_cupti_cu12-12.4.127-py3-none-manylinux2014_x86_64.whl (13.8 MB)\n",
            "Requirement already satisfied: filelock in /shared/centos7/anaconda3/2022.05/lib/python3.9/site-packages (from torch==2.6.0->torchvision) (3.6.0)\n",
            "Requirement already satisfied: jinja2 in /shared/centos7/anaconda3/2022.05/lib/python3.9/site-packages (from torch==2.6.0->torchvision) (2.11.3)\n",
            "Requirement already satisfied: nvidia-nvjitlink-cu12==12.4.127 in ./.local/lib/python3.9/site-packages (from torch==2.6.0->torchvision) (12.4.127)\n",
            "Collecting nvidia-cuda-runtime-cu12==12.4.127\n",
            "  Using cached nvidia_cuda_runtime_cu12-12.4.127-py3-none-manylinux2014_x86_64.whl (883 kB)\n",
            "Collecting nvidia-cudnn-cu12==9.1.0.70\n",
            "  Using cached nvidia_cudnn_cu12-9.1.0.70-py3-none-manylinux2014_x86_64.whl (664.8 MB)\n",
            "Collecting nvidia-cusparselt-cu12==0.6.2\n",
            "  Using cached nvidia_cusparselt_cu12-0.6.2-py3-none-manylinux2014_x86_64.whl (150.1 MB)\n",
            "Requirement already satisfied: mpmath<1.4,>=1.1.0 in /shared/centos7/anaconda3/2022.05/lib/python3.9/site-packages (from sympy==1.13.1->torch==2.6.0->torchvision) (1.2.1)\n",
            "Requirement already satisfied: MarkupSafe>=0.23 in /shared/centos7/anaconda3/2022.05/lib/python3.9/site-packages (from jinja2->torch==2.6.0->torchvision) (2.0.1)\n",
            "Installing collected packages: nvidia-nvtx-cu12, nvidia-nccl-cu12, nvidia-cusparselt-cu12, nvidia-cusolver-cu12, nvidia-curand-cu12, nvidia-cufft-cu12, nvidia-cudnn-cu12, nvidia-cuda-runtime-cu12, nvidia-cuda-nvrtc-cu12, nvidia-cuda-cupti-cu12, torch, torchvision\n",
            "Successfully installed nvidia-cuda-cupti-cu12-12.4.127 nvidia-cuda-nvrtc-cu12-12.4.127 nvidia-cuda-runtime-cu12-12.4.127 nvidia-cudnn-cu12-9.1.0.70 nvidia-cufft-cu12-11.2.1.3 nvidia-curand-cu12-10.3.5.147 nvidia-cusolver-cu12-11.6.1.9 nvidia-cusparselt-cu12-0.6.2 nvidia-nccl-cu12-2.21.5 nvidia-nvtx-cu12-12.4.127 torch-2.6.0 torchvision-0.21.0\n",
            "Note: you may need to restart the kernel to use updated packages.\n"
          ]
        }
      ],
      "source": [
        "%pip install torchvision"
      ]
    },
    {
      "cell_type": "code",
      "execution_count": null,
      "id": "60ca5306",
      "metadata": {
        "id": "60ca5306",
        "outputId": "02283fb8-02f0-4ec8-8f6b-166301719eb6"
      },
      "outputs": [
        {
          "name": "stdout",
          "output_type": "stream",
          "text": [
            "Using device: cuda:0\n"
          ]
        }
      ],
      "source": [
        "import numpy as np\n",
        "from torchvision.datasets import CIFAR100\n",
        "from collections import defaultdict\n",
        "import random\n",
        "import pickle\n",
        "from tqdm import tqdm\n",
        "import torch\n",
        "import torch.nn as nn\n",
        "import matplotlib.pyplot as plt\n",
        "from collections import defaultdict\n",
        "from torchvision.models import resnet50\n",
        "\n",
        "print(torch.__version__)\n",
        "device = torch.device(\"cuda\" if torch.cuda.is_available() else \"cpu\")\n",
        "print('We are using the device {}.'.format(device))\n",
        "if torch.cuda.is_available():\n",
        "    print(f\"Device count: {torch.cuda.device_count()}\")\n",
        "    print(f\"Device name: {torch.cuda.get_device_name(0)}\")"
      ]
    },
    {
      "cell_type": "markdown",
      "source": [
        "## Utils"
      ],
      "metadata": {
        "id": "fmml7t9nUNXC"
      },
      "id": "fmml7t9nUNXC"
    },
    {
      "cell_type": "code",
      "source": [
        "def clear_gpu_memory():\n",
        "    gc.collect()\n",
        "    torch.cuda.empty_cache()\n",
        "    torch.cuda.ipc_collect()\n",
        "clear_gpu_memory()"
      ],
      "metadata": {
        "id": "Ha8mgAgkUO6_"
      },
      "id": "Ha8mgAgkUO6_",
      "execution_count": null,
      "outputs": []
    },
    {
      "cell_type": "code",
      "source": [
        "def display_gpu_memory():\n",
        "    # Display total GPU memory\n",
        "    print(f\"Total GPU memory: {torch.cuda.get_device_properties(0).total_memory / 1024**3:.2f} GB\")\n",
        "\n",
        "    # Display currently allocated memory\n",
        "    print(f\"Currently allocated: {torch.cuda.memory_allocated(0) / 1024**3:.2f} GB\")\n",
        "\n",
        "    # Display cached memory (reserved by PyTorch but not used)\n",
        "    print(f\"Cached: {torch.cuda.memory_reserved(0) / 1024**3:.2f} GB\")\n",
        "display_gpu_memory()"
      ],
      "metadata": {
        "id": "XirpoQIdURcv"
      },
      "id": "XirpoQIdURcv",
      "execution_count": null,
      "outputs": []
    },
    {
      "cell_type": "markdown",
      "source": [
        "## Dataset"
      ],
      "metadata": {
        "id": "541odjFlSgjj"
      },
      "id": "541odjFlSgjj"
    },
    {
      "cell_type": "code",
      "execution_count": null,
      "id": "d941f48b",
      "metadata": {
        "id": "d941f48b",
        "outputId": "b33276ce-9555-454b-b4bf-993ce8fbb090"
      },
      "outputs": [
        {
          "name": "stderr",
          "output_type": "stream",
          "text": [
            "100%|██████████| 169M/169M [00:01<00:00, 101MB/s]  \n"
          ]
        },
        {
          "name": "stdout",
          "output_type": "stream",
          "text": [
            "Dataset CIFAR100\n",
            "    Number of datapoints: 50000\n",
            "    Root location: ./data\n",
            "    Split: Train\n",
            "{0: b'apple', 1: b'aquarium_fish', 2: b'baby', 3: b'bear', 4: b'beaver', 5: b'bed', 6: b'bee', 7: b'beetle', 8: b'bicycle', 9: b'bottle', 10: b'bowl', 11: b'boy', 12: b'bridge', 13: b'bus', 14: b'butterfly', 15: b'camel', 16: b'can', 17: b'castle', 18: b'caterpillar', 19: b'cattle', 20: b'chair', 21: b'chimpanzee', 22: b'clock', 23: b'cloud', 24: b'cockroach', 25: b'couch', 26: b'crab', 27: b'crocodile', 28: b'cup', 29: b'dinosaur', 30: b'dolphin', 31: b'elephant', 32: b'flatfish', 33: b'forest', 34: b'fox', 35: b'girl', 36: b'hamster', 37: b'house', 38: b'kangaroo', 39: b'keyboard', 40: b'lamp', 41: b'lawn_mower', 42: b'leopard', 43: b'lion', 44: b'lizard', 45: b'lobster', 46: b'man', 47: b'maple_tree', 48: b'motorcycle', 49: b'mountain', 50: b'mouse', 51: b'mushroom', 52: b'oak_tree', 53: b'orange', 54: b'orchid', 55: b'otter', 56: b'palm_tree', 57: b'pear', 58: b'pickup_truck', 59: b'pine_tree', 60: b'plain', 61: b'plate', 62: b'poppy', 63: b'porcupine', 64: b'possum', 65: b'rabbit', 66: b'raccoon', 67: b'ray', 68: b'road', 69: b'rocket', 70: b'rose', 71: b'sea', 72: b'seal', 73: b'shark', 74: b'shrew', 75: b'skunk', 76: b'skyscraper', 77: b'snail', 78: b'snake', 79: b'spider', 80: b'squirrel', 81: b'streetcar', 82: b'sunflower', 83: b'sweet_pepper', 84: b'table', 85: b'tank', 86: b'telephone', 87: b'television', 88: b'tiger', 89: b'tractor', 90: b'train', 91: b'trout', 92: b'tulip', 93: b'turtle', 94: b'wardrobe', 95: b'whale', 96: b'willow_tree', 97: b'wolf', 98: b'woman', 99: b'worm'}\n"
          ]
        }
      ],
      "source": [
        "# Get Dataset\n",
        "dataset = CIFAR100(root='./data', train=True, download=True)\n",
        "print(dataset)\n",
        "\n",
        "with open('data/cifar-100-python/meta', 'rb') as fo:\n",
        "    metadata = pickle.load(fo, encoding='bytes')\n",
        "\n",
        "classLabels = dict(list(enumerate(metadata[b'fine_label_names'])))\n",
        "print(classLabels)"
      ]
    },
    {
      "cell_type": "code",
      "execution_count": null,
      "id": "47acab89",
      "metadata": {
        "id": "47acab89"
      },
      "outputs": [],
      "source": [
        "with open('data/cifar-100-python/train', 'rb') as fo:\n",
        "    trainMeta = pickle.load(fo, encoding='bytes')\n",
        "\n",
        "with open('data/cifar-100-python/test', 'rb') as fo:\n",
        "    testMeta = pickle.load(fo, encoding='bytes')\n",
        "\n",
        "\n",
        "totalTest = len(testMeta[b'data'])\n",
        "valNum = 4000\n",
        "\n",
        "# Get training/testing data and labels\n",
        "trainData = trainMeta[b'data']\n",
        "trainData = trainData.reshape((len(trainData), 3, 32, 32))\n",
        "trainLabel = np.array(trainMeta[b'fine_labels'])\n",
        "\n",
        "mask = list(range(valNum))\n",
        "valData = testMeta[b'data'][mask]\n",
        "valData = valData.reshape((len(valData), 3, 32, 32))\n",
        "valLabel = np.array(testMeta[b'fine_labels'])[mask]\n",
        "\n",
        "mask = list(range(valNum, totalTest))\n",
        "testData = testMeta[b'data'][mask]\n",
        "testData = testData.reshape((len(testData), 3, 32, 32))\n",
        "testLabel = np.array(testMeta[b'fine_labels'])[mask]"
      ]
    },
    {
      "cell_type": "code",
      "execution_count": null,
      "id": "3a641d35",
      "metadata": {
        "id": "3a641d35",
        "outputId": "5e92637e-9de7-46b6-8402-aee40dfc090d"
      },
      "outputs": [
        {
          "name": "stdout",
          "output_type": "stream",
          "text": [
            "[500, 485, 470, 456, 442, 429, 416, 404, 392, 380, 369, 358, 347, 337, 327, 317, 308, 298, 290, 281, 272, 264, 256, 249, 241, 234, 227, 220, 214, 207, 201, 195, 189, 184, 178, 173, 168, 163, 158, 153, 149, 144, 140, 136, 132, 128, 124, 120, 116, 113, 110, 106, 103, 100, 97, 94, 91, 89, 86, 83, 81, 78, 76, 74, 72, 69, 67, 65, 63, 61, 60, 58, 56, 54, 53, 51, 50, 48, 47, 45, 44, 43, 41, 40, 39, 38, 37, 35, 34, 33, 32, 31, 30, 29, 29, 28, 27, 26, 25, 25]\n",
            "15907\n"
          ]
        },
        {
          "data": {
            "image/png": "[encoded data removed]",
            "text/plain": [
              "<Figure size 432x288 with 1 Axes>"
            ]
          },
          "metadata": {},
          "output_type": "display_data"
        }
      ],
      "source": [
        "# Get the number of images per class\n",
        "imgPerClass = []\n",
        "\n",
        "for cls in range(100):\n",
        "    num = 500 * (0.05 ** (cls / 99))\n",
        "    imgPerClass.append(int(num))\n",
        "\n",
        "print(imgPerClass)\n",
        "print(np.sum(imgPerClass))\n",
        "plt.plot(imgPerClass)\n",
        "plt.xlabel(\"Class Index\")\n",
        "plt.ylabel(\"Number of Images\")\n",
        "plt.title(\"Long-Tailed Class Distribution (CIFAR-100)\")\n",
        "plt.grid(True)\n",
        "plt.show()"
      ]
    },
    {
      "cell_type": "code",
      "execution_count": null,
      "id": "28e550f1",
      "metadata": {
        "id": "28e550f1"
      },
      "outputs": [],
      "source": [
        "# Get LT training data\n",
        "trainDataLT, trainLabelLT = [], []\n",
        "clsList = list(range(100))\n",
        "random.shuffle(clsList)\n",
        "\n",
        "for cls, numImg in enumerate(imgPerClass):\n",
        "    clsIndx = np.where(trainLabel == clsList[cls])[0]\n",
        "    numSampledImages = np.random.choice(clsIndx, numImg, replace=False)\n",
        "\n",
        "    trainDataLT.append(trainData[numSampledImages])\n",
        "    trainLabelLT.append(trainLabel[numSampledImages])\n",
        "\n",
        "trainDataLT, trainLabelLT = np.concatenate(trainDataLT), np.concatenate(trainLabelLT)"
      ]
    },
    {
      "cell_type": "markdown",
      "source": [
        "# Training"
      ],
      "metadata": {
        "id": "DPtHG98UTU_z"
      },
      "id": "DPtHG98UTU_z"
    },
    {
      "cell_type": "code",
      "execution_count": null,
      "id": "8efc8768",
      "metadata": {
        "id": "8efc8768"
      },
      "outputs": [],
      "source": [
        "def train_model(trainData, valData, epochs: int, model=None, optimizer=None, scheduler=None, lossFunc=None, freq=200) -> None:\n",
        "\n",
        "    for epoch in range(epochs):\n",
        "        model.train()\n",
        "\n",
        "        avgLoss = 0\n",
        "        batchCorrect = 0\n",
        "        batchNum = 0\n",
        "\n",
        "        totalCorrect = 0\n",
        "        totalNum = 0\n",
        "\n",
        "        for i, batch in tqdm(enumerate(trainData)):\n",
        "            data, labels = batch\n",
        "\n",
        "            data = data.to(device)\n",
        "            labels = labels.to(device)\n",
        "\n",
        "            optimizer.zero_grad()\n",
        "            output = model(data)\n",
        "\n",
        "            loss = lossFunc(output, labels)\n",
        "            loss.backward()\n",
        "            optimizer.step()\n",
        "\n",
        "            avgLoss += loss.item()\n",
        "            pred = torch.argmax(output, 1)\n",
        "\n",
        "            batchCorrect += (pred == labels).sum().item()\n",
        "            totalCorrect += (pred == labels).sum().item()\n",
        "            totalNum += labels.size(0)\n",
        "            batchNum += labels.size(0)\n",
        "\n",
        "            if i % freq == 0:    # print every certain number of mini-batches\n",
        "                avgLoss = avgLoss / freq\n",
        "                accuracy = batchCorrect / batchNum\n",
        "                last_lr = scheduler.get_last_lr()[0]\n",
        "                print(f'[{epoch + 1}/{epochs}, {i + 1:5d}/{len(trainData)}] lr: {last_lr:.5f} loss: {avgLoss:.3f} acc: {accuracy:.3f}')\n",
        "                avgLoss = 0.0\n",
        "                batchCorrect = 0.0\n",
        "                batchNum = 0.0\n",
        "\n",
        "        scheduler.step()\n",
        "\n",
        "        valAcc, _, _, _ = test_model(model, valData, True)\n",
        "        trainAcc = totalCorrect / totalNum\n",
        "        print(f'[{epoch + 1}/{epochs}] val acc: {valAcc:.3f} train acc: {trainAcc:.3f}')\n",
        "\n",
        "        totalCorrect = 0\n",
        "        totalNum = 0"
      ]
    },
    {
      "cell_type": "markdown",
      "source": [
        "# Testing"
      ],
      "metadata": {
        "id": "0fCDGGRyTRm4"
      },
      "id": "0fCDGGRyTRm4"
    },
    {
      "cell_type": "code",
      "execution_count": null,
      "id": "7ee01555",
      "metadata": {
        "id": "7ee01555"
      },
      "outputs": [],
      "source": [
        "def test_model(model, dataSet, classAcc=False):\n",
        "\n",
        "    model.eval()\n",
        "    correct = 0\n",
        "    total = 0\n",
        "\n",
        "    classCorrect = defaultdict(int)\n",
        "    classTotal = defaultdict(int)\n",
        "\n",
        "    with torch.no_grad():\n",
        "        for batch_data in dataSet:\n",
        "            images, labels = batch_data\n",
        "\n",
        "            images = images.to(device)\n",
        "            labels = labels.to(device)\n",
        "\n",
        "            output = model(images)\n",
        "            predicted = torch.argmax(output, 1)\n",
        "\n",
        "            for label, pred in zip(labels, predicted):\n",
        "                classTotal[label.item()] += 1\n",
        "                if pred == label:\n",
        "                    classCorrect[label.item()] += 1\n",
        "\n",
        "                total += 1\n",
        "                correct += (pred == label).item()\n",
        "\n",
        "    acc = correct / total\n",
        "\n",
        "    if classAcc:\n",
        "        head = clsList[:30]\n",
        "        mid = clsList[30:70]\n",
        "        tail = clsList[70:]\n",
        "\n",
        "        def groupAcc(group):\n",
        "            return sum(classCorrect[c] for c in group) / sum(classTotal[c] for c in group)\n",
        "\n",
        "        headAcc = groupAcc(head)\n",
        "        midAcc = groupAcc(mid)\n",
        "        tailAcc = groupAcc(tail)\n",
        "\n",
        "        print(f\"Test Accuracy - Overall: {100*acc:.2f}% | Head: {100*headAcc:.2f}% | Mid: {100*midAcc:.2f}% | Tail: {100*tailAcc:.2f}%\")\n",
        "        return acc, headAcc, midAcc, tailAcc\n",
        "\n",
        "    return acc"
      ]
    },
    {
      "cell_type": "markdown",
      "source": [
        "# Base Model (ResNet-50)"
      ],
      "metadata": {
        "id": "mSMaMCpDTYZx"
      },
      "id": "mSMaMCpDTYZx"
    },
    {
      "cell_type": "code",
      "execution_count": null,
      "id": "44ed9233",
      "metadata": {
        "id": "44ed9233",
        "outputId": "cd9d22e0-3a4f-4420-c162-ad520045a76d"
      },
      "outputs": [
        {
          "name": "stderr",
          "output_type": "stream",
          "text": [
            "7it [00:00, 32.74it/s]"
          ]
        },
        {
          "name": "stdout",
          "output_type": "stream",
          "text": [
            "[1/10,     1/498] lr: 0.00010 loss: 0.024 acc: 0.000\n"
          ]
        },
        {
          "name": "stderr",
          "output_type": "stream",
          "text": [
            "210it [00:04, 47.25it/s]"
          ]
        },
        {
          "name": "stdout",
          "output_type": "stream",
          "text": [
            "[1/10,   201/498] lr: 0.00010 loss: 4.482 acc: 0.030\n"
          ]
        },
        {
          "name": "stderr",
          "output_type": "stream",
          "text": [
            "410it [00:08, 46.16it/s]"
          ]
        },
        {
          "name": "stdout",
          "output_type": "stream",
          "text": [
            "[1/10,   401/498] lr: 0.00010 loss: 4.315 acc: 0.035\n"
          ]
        },
        {
          "name": "stderr",
          "output_type": "stream",
          "text": [
            "498it [00:10, 46.00it/s]\n"
          ]
        },
        {
          "name": "stdout",
          "output_type": "stream",
          "text": [
            "Test Accuracy - Overall: 1.27% | Head: 4.13% | Mid: 0.06% | Tail: 0.00%\n",
            "[1/10] val acc: 0.013 train acc: 0.034\n"
          ]
        },
        {
          "name": "stderr",
          "output_type": "stream",
          "text": [
            "4it [00:00, 39.92it/s]"
          ]
        },
        {
          "name": "stdout",
          "output_type": "stream",
          "text": [
            "[2/10,     1/498] lr: 0.00010 loss: 0.022 acc: 0.031\n"
          ]
        },
        {
          "name": "stderr",
          "output_type": "stream",
          "text": [
            "210it [00:04, 49.44it/s]"
          ]
        },
        {
          "name": "stdout",
          "output_type": "stream",
          "text": [
            "[2/10,   201/498] lr: 0.00010 loss: 4.278 acc: 0.036\n"
          ]
        },
        {
          "name": "stderr",
          "output_type": "stream",
          "text": [
            "407it [00:08, 48.63it/s]"
          ]
        },
        {
          "name": "stdout",
          "output_type": "stream",
          "text": [
            "[2/10,   401/498] lr: 0.00010 loss: 4.260 acc: 0.044\n"
          ]
        },
        {
          "name": "stderr",
          "output_type": "stream",
          "text": [
            "498it [00:10, 49.16it/s]\n"
          ]
        },
        {
          "name": "stdout",
          "output_type": "stream",
          "text": [
            "Test Accuracy - Overall: 2.15% | Head: 7.10% | Mid: 0.00% | Tail: 0.00%\n",
            "[2/10] val acc: 0.021 train acc: 0.040\n"
          ]
        },
        {
          "name": "stderr",
          "output_type": "stream",
          "text": [
            "5it [00:00, 42.85it/s]"
          ]
        },
        {
          "name": "stdout",
          "output_type": "stream",
          "text": [
            "[3/10,     1/498] lr: 0.00009 loss: 0.022 acc: 0.000\n"
          ]
        },
        {
          "name": "stderr",
          "output_type": "stream",
          "text": [
            "205it [00:04, 41.87it/s]"
          ]
        },
        {
          "name": "stdout",
          "output_type": "stream",
          "text": [
            "[3/10,   201/498] lr: 0.00009 loss: 4.244 acc: 0.045\n"
          ]
        },
        {
          "name": "stderr",
          "output_type": "stream",
          "text": [
            "405it [00:09, 41.58it/s]"
          ]
        },
        {
          "name": "stdout",
          "output_type": "stream",
          "text": [
            "[3/10,   401/498] lr: 0.00009 loss: 4.252 acc: 0.040\n"
          ]
        },
        {
          "name": "stderr",
          "output_type": "stream",
          "text": [
            "498it [00:11, 41.99it/s]\n"
          ]
        },
        {
          "name": "stdout",
          "output_type": "stream",
          "text": [
            "Test Accuracy - Overall: 1.52% | Head: 5.03% | Mid: 0.00% | Tail: 0.00%\n",
            "[3/10] val acc: 0.015 train acc: 0.042\n"
          ]
        },
        {
          "name": "stderr",
          "output_type": "stream",
          "text": [
            "0it [00:00, ?it/s]"
          ]
        },
        {
          "name": "stdout",
          "output_type": "stream",
          "text": [
            "[4/10,     1/498] lr: 0.00008 loss: 0.021 acc: 0.125\n"
          ]
        },
        {
          "name": "stderr",
          "output_type": "stream",
          "text": [
            "210it [00:04, 45.44it/s]"
          ]
        },
        {
          "name": "stdout",
          "output_type": "stream",
          "text": [
            "[4/10,   201/498] lr: 0.00008 loss: 4.238 acc: 0.045\n"
          ]
        },
        {
          "name": "stderr",
          "output_type": "stream",
          "text": [
            "410it [00:09, 45.79it/s]"
          ]
        },
        {
          "name": "stdout",
          "output_type": "stream",
          "text": [
            "[4/10,   401/498] lr: 0.00008 loss: 4.220 acc: 0.048\n"
          ]
        },
        {
          "name": "stderr",
          "output_type": "stream",
          "text": [
            "498it [00:11, 44.40it/s]\n"
          ]
        },
        {
          "name": "stdout",
          "output_type": "stream",
          "text": [
            "Test Accuracy - Overall: 1.82% | Head: 6.02% | Mid: 0.00% | Tail: 0.00%\n",
            "[4/10] val acc: 0.018 train acc: 0.047\n"
          ]
        },
        {
          "name": "stderr",
          "output_type": "stream",
          "text": [
            "4it [00:00, 37.93it/s]"
          ]
        },
        {
          "name": "stdout",
          "output_type": "stream",
          "text": [
            "[5/10,     1/498] lr: 0.00007 loss: 0.020 acc: 0.062\n"
          ]
        },
        {
          "name": "stderr",
          "output_type": "stream",
          "text": [
            "209it [00:04, 44.86it/s]"
          ]
        },
        {
          "name": "stdout",
          "output_type": "stream",
          "text": [
            "[5/10,   201/498] lr: 0.00007 loss: 4.219 acc: 0.046\n"
          ]
        },
        {
          "name": "stderr",
          "output_type": "stream",
          "text": [
            "409it [00:09, 43.67it/s]"
          ]
        },
        {
          "name": "stdout",
          "output_type": "stream",
          "text": [
            "[5/10,   401/498] lr: 0.00007 loss: 4.203 acc: 0.048\n"
          ]
        },
        {
          "name": "stderr",
          "output_type": "stream",
          "text": [
            "498it [00:11, 43.47it/s]\n"
          ]
        },
        {
          "name": "stdout",
          "output_type": "stream",
          "text": [
            "Test Accuracy - Overall: 1.70% | Head: 5.61% | Mid: 0.00% | Tail: 0.00%\n",
            "[5/10] val acc: 0.017 train acc: 0.047\n"
          ]
        },
        {
          "name": "stderr",
          "output_type": "stream",
          "text": [
            "0it [00:00, ?it/s]"
          ]
        },
        {
          "name": "stdout",
          "output_type": "stream",
          "text": [
            "[6/10,     1/498] lr: 0.00005 loss: 0.020 acc: 0.094\n"
          ]
        },
        {
          "name": "stderr",
          "output_type": "stream",
          "text": [
            "209it [00:04, 45.32it/s]"
          ]
        },
        {
          "name": "stdout",
          "output_type": "stream",
          "text": [
            "[6/10,   201/498] lr: 0.00005 loss: 4.203 acc: 0.052\n"
          ]
        },
        {
          "name": "stderr",
          "output_type": "stream",
          "text": [
            "409it [00:09, 44.78it/s]"
          ]
        },
        {
          "name": "stdout",
          "output_type": "stream",
          "text": [
            "[6/10,   401/498] lr: 0.00005 loss: 4.197 acc: 0.047\n"
          ]
        },
        {
          "name": "stderr",
          "output_type": "stream",
          "text": [
            "498it [00:11, 44.50it/s]\n"
          ]
        },
        {
          "name": "stdout",
          "output_type": "stream",
          "text": [
            "Test Accuracy - Overall: 2.08% | Head: 6.85% | Mid: 0.00% | Tail: 0.00%\n",
            "[6/10] val acc: 0.021 train acc: 0.049\n"
          ]
        },
        {
          "name": "stderr",
          "output_type": "stream",
          "text": [
            "0it [00:00, ?it/s]"
          ]
        },
        {
          "name": "stdout",
          "output_type": "stream",
          "text": [
            "[7/10,     1/498] lr: 0.00003 loss: 0.021 acc: 0.062\n"
          ]
        },
        {
          "name": "stderr",
          "output_type": "stream",
          "text": [
            "210it [00:04, 48.04it/s]"
          ]
        },
        {
          "name": "stdout",
          "output_type": "stream",
          "text": [
            "[7/10,   201/498] lr: 0.00003 loss: 4.185 acc: 0.050\n"
          ]
        },
        {
          "name": "stderr",
          "output_type": "stream",
          "text": [
            "410it [00:08, 48.86it/s]"
          ]
        },
        {
          "name": "stdout",
          "output_type": "stream",
          "text": [
            "[7/10,   401/498] lr: 0.00003 loss: 4.188 acc: 0.050\n"
          ]
        },
        {
          "name": "stderr",
          "output_type": "stream",
          "text": [
            "498it [00:10, 48.05it/s]\n"
          ]
        },
        {
          "name": "stdout",
          "output_type": "stream",
          "text": [
            "Test Accuracy - Overall: 1.85% | Head: 6.11% | Mid: 0.00% | Tail: 0.00%\n",
            "[7/10] val acc: 0.018 train acc: 0.049\n"
          ]
        },
        {
          "name": "stderr",
          "output_type": "stream",
          "text": [
            "0it [00:00, ?it/s]"
          ]
        },
        {
          "name": "stdout",
          "output_type": "stream",
          "text": [
            "[8/10,     1/498] lr: 0.00002 loss: 0.021 acc: 0.031\n"
          ]
        },
        {
          "name": "stderr",
          "output_type": "stream",
          "text": [
            "209it [00:04, 43.60it/s]"
          ]
        },
        {
          "name": "stdout",
          "output_type": "stream",
          "text": [
            "[8/10,   201/498] lr: 0.00002 loss: 4.184 acc: 0.050\n"
          ]
        },
        {
          "name": "stderr",
          "output_type": "stream",
          "text": [
            "409it [00:09, 43.31it/s]"
          ]
        },
        {
          "name": "stdout",
          "output_type": "stream",
          "text": [
            "[8/10,   401/498] lr: 0.00002 loss: 4.192 acc: 0.050\n"
          ]
        },
        {
          "name": "stderr",
          "output_type": "stream",
          "text": [
            "498it [00:11, 43.78it/s]\n"
          ]
        },
        {
          "name": "stdout",
          "output_type": "stream",
          "text": [
            "Test Accuracy - Overall: 2.17% | Head: 7.10% | Mid: 0.06% | Tail: 0.00%\n",
            "[8/10] val acc: 0.022 train acc: 0.050\n"
          ]
        },
        {
          "name": "stderr",
          "output_type": "stream",
          "text": [
            "0it [00:00, ?it/s]"
          ]
        },
        {
          "name": "stdout",
          "output_type": "stream",
          "text": [
            "[9/10,     1/498] lr: 0.00001 loss: 0.021 acc: 0.031\n"
          ]
        },
        {
          "name": "stderr",
          "output_type": "stream",
          "text": [
            "209it [00:04, 43.63it/s]"
          ]
        },
        {
          "name": "stdout",
          "output_type": "stream",
          "text": [
            "[9/10,   201/498] lr: 0.00001 loss: 4.184 acc: 0.055\n"
          ]
        },
        {
          "name": "stderr",
          "output_type": "stream",
          "text": [
            "409it [00:09, 45.53it/s]"
          ]
        },
        {
          "name": "stdout",
          "output_type": "stream",
          "text": [
            "[9/10,   401/498] lr: 0.00001 loss: 4.175 acc: 0.051\n"
          ]
        },
        {
          "name": "stderr",
          "output_type": "stream",
          "text": [
            "498it [00:11, 43.92it/s]\n"
          ]
        },
        {
          "name": "stdout",
          "output_type": "stream",
          "text": [
            "Test Accuracy - Overall: 2.10% | Head: 6.85% | Mid: 0.06% | Tail: 0.00%\n",
            "[9/10] val acc: 0.021 train acc: 0.051\n"
          ]
        },
        {
          "name": "stderr",
          "output_type": "stream",
          "text": [
            "4it [00:00, 33.22it/s]"
          ]
        },
        {
          "name": "stdout",
          "output_type": "stream",
          "text": [
            "[10/10,     1/498] lr: 0.00000 loss: 0.021 acc: 0.062\n"
          ]
        },
        {
          "name": "stderr",
          "output_type": "stream",
          "text": [
            "209it [00:04, 43.94it/s]"
          ]
        },
        {
          "name": "stdout",
          "output_type": "stream",
          "text": [
            "[10/10,   201/498] lr: 0.00000 loss: 4.186 acc: 0.051\n"
          ]
        },
        {
          "name": "stderr",
          "output_type": "stream",
          "text": [
            "409it [00:09, 44.16it/s]"
          ]
        },
        {
          "name": "stdout",
          "output_type": "stream",
          "text": [
            "[10/10,   401/498] lr: 0.00000 loss: 4.187 acc: 0.052\n"
          ]
        },
        {
          "name": "stderr",
          "output_type": "stream",
          "text": [
            "498it [00:11, 43.67it/s]\n"
          ]
        },
        {
          "name": "stdout",
          "output_type": "stream",
          "text": [
            "Test Accuracy - Overall: 1.77% | Head: 5.69% | Mid: 0.12% | Tail: 0.00%\n",
            "[10/10] val acc: 0.018 train acc: 0.051\n"
          ]
        }
      ],
      "source": [
        "# LT Base Accuracy\n",
        "\n",
        "# Model\n",
        "modelLT = resnet50(num_classes=100)\n",
        "modelLT.conv1 = nn.Conv2d(3, 64, kernel_size=3, stride=1, padding=1, bias=False)\n",
        "modelLT.maxpool = nn.Identity()\n",
        "\n",
        "# Train/Val Set\n",
        "trainSet = torch.utils.data.TensorDataset(torch.Tensor(trainDataLT), torch.Tensor(trainLabelLT).long())\n",
        "trainLoader = torch.utils.data.DataLoader(trainSet, batch_size=32, shuffle=True, num_workers=2)\n",
        "valSet = torch.utils.data.TensorDataset(torch.Tensor(valData), torch.Tensor(valLabel))\n",
        "valLoader = torch.utils.data.DataLoader(valSet, batch_size=32, shuffle=True, num_workers=2)\n",
        "\n",
        "# Params\n",
        "optimizer = torch.optim.SGD(modelLT.parameters(), lr=0.0001, momentum=0.7, weight_decay=5e-4)\n",
        "scheduler = torch.optim.lr_scheduler.CosineAnnealingLR(optimizer, T_max=10)\n",
        "loss = nn.CrossEntropyLoss()\n",
        "\n",
        "# Train\n",
        "modelLT.to(device)\n",
        "train_model(trainLoader, valLoader, 10, modelLT, optimizer, scheduler, loss)"
      ]
    },
    {
      "cell_type": "code",
      "execution_count": null,
      "id": "348ef37a",
      "metadata": {
        "id": "348ef37a",
        "outputId": "9d300b4e-b6b1-4275-fb6e-b9a28013c710"
      },
      "outputs": [
        {
          "name": "stderr",
          "output_type": "stream",
          "text": [
            "9it [00:00, 42.99it/s]"
          ]
        },
        {
          "name": "stdout",
          "output_type": "stream",
          "text": [
            "[1/20,     1/498] lr: 0.01000 loss: 0.023 acc: 0.000\n"
          ]
        },
        {
          "name": "stderr",
          "output_type": "stream",
          "text": [
            "210it [00:04, 48.04it/s]"
          ]
        },
        {
          "name": "stdout",
          "output_type": "stream",
          "text": [
            "[1/20,   201/498] lr: 0.01000 loss: 5.200 acc: 0.038\n"
          ]
        },
        {
          "name": "stderr",
          "output_type": "stream",
          "text": [
            "410it [00:08, 48.92it/s]"
          ]
        },
        {
          "name": "stdout",
          "output_type": "stream",
          "text": [
            "[1/20,   401/498] lr: 0.01000 loss: 4.050 acc: 0.070\n"
          ]
        },
        {
          "name": "stderr",
          "output_type": "stream",
          "text": [
            "498it [00:10, 47.83it/s]\n"
          ]
        },
        {
          "name": "stdout",
          "output_type": "stream",
          "text": [
            "Test Accuracy - Overall: 3.15% | Head: 10.40% | Mid: 0.00% | Tail: 0.00%\n",
            "[1/20] val acc: 0.032 train acc: 0.064\n"
          ]
        },
        {
          "name": "stderr",
          "output_type": "stream",
          "text": [
            "0it [00:00, ?it/s]"
          ]
        },
        {
          "name": "stdout",
          "output_type": "stream",
          "text": [
            "[2/20,     1/498] lr: 0.00994 loss: 0.019 acc: 0.156\n"
          ]
        },
        {
          "name": "stderr",
          "output_type": "stream",
          "text": [
            "205it [00:04, 41.20it/s]"
          ]
        },
        {
          "name": "stdout",
          "output_type": "stream",
          "text": [
            "[2/20,   201/498] lr: 0.00994 loss: 3.936 acc: 0.083\n"
          ]
        },
        {
          "name": "stderr",
          "output_type": "stream",
          "text": [
            "405it [00:09, 43.68it/s]"
          ]
        },
        {
          "name": "stdout",
          "output_type": "stream",
          "text": [
            "[2/20,   401/498] lr: 0.00994 loss: 3.832 acc: 0.100\n"
          ]
        },
        {
          "name": "stderr",
          "output_type": "stream",
          "text": [
            "498it [00:11, 41.71it/s]\n"
          ]
        },
        {
          "name": "stdout",
          "output_type": "stream",
          "text": [
            "Test Accuracy - Overall: 6.00% | Head: 18.89% | Mid: 0.69% | Tail: 0.00%\n",
            "[2/20] val acc: 0.060 train acc: 0.094\n"
          ]
        },
        {
          "name": "stderr",
          "output_type": "stream",
          "text": [
            "5it [00:00, 41.57it/s]"
          ]
        },
        {
          "name": "stdout",
          "output_type": "stream",
          "text": [
            "[3/20,     1/498] lr: 0.00976 loss: 0.018 acc: 0.125\n"
          ]
        },
        {
          "name": "stderr",
          "output_type": "stream",
          "text": [
            "210it [00:04, 47.73it/s]"
          ]
        },
        {
          "name": "stdout",
          "output_type": "stream",
          "text": [
            "[3/20,   201/498] lr: 0.00976 loss: 3.724 acc: 0.113\n"
          ]
        },
        {
          "name": "stderr",
          "output_type": "stream",
          "text": [
            "410it [00:08, 47.52it/s]"
          ]
        },
        {
          "name": "stdout",
          "output_type": "stream",
          "text": [
            "[3/20,   401/498] lr: 0.00976 loss: 3.684 acc: 0.119\n"
          ]
        },
        {
          "name": "stderr",
          "output_type": "stream",
          "text": [
            "498it [00:10, 47.15it/s]\n"
          ]
        },
        {
          "name": "stdout",
          "output_type": "stream",
          "text": [
            "Test Accuracy - Overall: 5.62% | Head: 17.49% | Mid: 0.81% | Tail: 0.00%\n",
            "[3/20] val acc: 0.056 train acc: 0.119\n"
          ]
        },
        {
          "name": "stderr",
          "output_type": "stream",
          "text": [
            "0it [00:00, ?it/s]"
          ]
        },
        {
          "name": "stdout",
          "output_type": "stream",
          "text": [
            "[4/20,     1/498] lr: 0.00946 loss: 0.017 acc: 0.156\n"
          ]
        },
        {
          "name": "stderr",
          "output_type": "stream",
          "text": [
            "209it [00:04, 46.97it/s]"
          ]
        },
        {
          "name": "stdout",
          "output_type": "stream",
          "text": [
            "[4/20,   201/498] lr: 0.00946 loss: 3.631 acc: 0.128\n"
          ]
        },
        {
          "name": "stderr",
          "output_type": "stream",
          "text": [
            "409it [00:08, 48.12it/s]"
          ]
        },
        {
          "name": "stdout",
          "output_type": "stream",
          "text": [
            "[4/20,   401/498] lr: 0.00946 loss: 3.555 acc: 0.148\n"
          ]
        },
        {
          "name": "stderr",
          "output_type": "stream",
          "text": [
            "498it [00:10, 46.72it/s]\n"
          ]
        },
        {
          "name": "stdout",
          "output_type": "stream",
          "text": [
            "Test Accuracy - Overall: 7.58% | Head: 20.96% | Mid: 3.06% | Tail: 0.00%\n",
            "[4/20] val acc: 0.076 train acc: 0.140\n"
          ]
        },
        {
          "name": "stderr",
          "output_type": "stream",
          "text": [
            "0it [00:00, ?it/s]"
          ]
        },
        {
          "name": "stdout",
          "output_type": "stream",
          "text": [
            "[5/20,     1/498] lr: 0.00905 loss: 0.019 acc: 0.188\n"
          ]
        },
        {
          "name": "stderr",
          "output_type": "stream",
          "text": [
            "210it [00:04, 47.68it/s]"
          ]
        },
        {
          "name": "stdout",
          "output_type": "stream",
          "text": [
            "[5/20,   201/498] lr: 0.00905 loss: 3.487 acc: 0.158\n"
          ]
        },
        {
          "name": "stderr",
          "output_type": "stream",
          "text": [
            "410it [00:08, 48.06it/s]"
          ]
        },
        {
          "name": "stdout",
          "output_type": "stream",
          "text": [
            "[5/20,   401/498] lr: 0.00905 loss: 3.409 acc: 0.175\n"
          ]
        },
        {
          "name": "stderr",
          "output_type": "stream",
          "text": [
            "498it [00:10, 47.34it/s]\n"
          ]
        },
        {
          "name": "stdout",
          "output_type": "stream",
          "text": [
            "Test Accuracy - Overall: 8.95% | Head: 24.17% | Mid: 4.00% | Tail: 0.08%\n",
            "[5/20] val acc: 0.089 train acc: 0.169\n"
          ]
        },
        {
          "name": "stderr",
          "output_type": "stream",
          "text": [
            "0it [00:00, ?it/s]"
          ]
        },
        {
          "name": "stdout",
          "output_type": "stream",
          "text": [
            "[6/20,     1/498] lr: 0.00854 loss: 0.015 acc: 0.188\n"
          ]
        },
        {
          "name": "stderr",
          "output_type": "stream",
          "text": [
            "209it [00:04, 43.81it/s]"
          ]
        },
        {
          "name": "stdout",
          "output_type": "stream",
          "text": [
            "[6/20,   201/498] lr: 0.00854 loss: 3.314 acc: 0.188\n"
          ]
        },
        {
          "name": "stderr",
          "output_type": "stream",
          "text": [
            "409it [00:09, 44.66it/s]"
          ]
        },
        {
          "name": "stdout",
          "output_type": "stream",
          "text": [
            "[6/20,   401/498] lr: 0.00854 loss: 3.274 acc: 0.198\n"
          ]
        },
        {
          "name": "stderr",
          "output_type": "stream",
          "text": [
            "498it [00:11, 43.99it/s]\n"
          ]
        },
        {
          "name": "stdout",
          "output_type": "stream",
          "text": [
            "Test Accuracy - Overall: 11.55% | Head: 25.08% | Mid: 9.61% | Tail: 0.34%\n",
            "[6/20] val acc: 0.116 train acc: 0.195\n"
          ]
        },
        {
          "name": "stderr",
          "output_type": "stream",
          "text": [
            "0it [00:00, ?it/s]"
          ]
        },
        {
          "name": "stdout",
          "output_type": "stream",
          "text": [
            "[7/20,     1/498] lr: 0.00794 loss: 0.016 acc: 0.250\n"
          ]
        },
        {
          "name": "stderr",
          "output_type": "stream",
          "text": [
            "209it [00:04, 40.55it/s]"
          ]
        },
        {
          "name": "stdout",
          "output_type": "stream",
          "text": [
            "[7/20,   201/498] lr: 0.00794 loss: 3.173 acc: 0.210\n"
          ]
        },
        {
          "name": "stderr",
          "output_type": "stream",
          "text": [
            "409it [00:09, 42.01it/s]"
          ]
        },
        {
          "name": "stdout",
          "output_type": "stream",
          "text": [
            "[7/20,   401/498] lr: 0.00794 loss: 3.137 acc: 0.227\n"
          ]
        },
        {
          "name": "stderr",
          "output_type": "stream",
          "text": [
            "498it [00:11, 42.00it/s]\n"
          ]
        },
        {
          "name": "stdout",
          "output_type": "stream",
          "text": [
            "Test Accuracy - Overall: 14.30% | Head: 29.46% | Mid: 11.86% | Tail: 2.11%\n",
            "[7/20] val acc: 0.143 train acc: 0.222\n"
          ]
        },
        {
          "name": "stderr",
          "output_type": "stream",
          "text": [
            "0it [00:00, ?it/s]"
          ]
        },
        {
          "name": "stdout",
          "output_type": "stream",
          "text": [
            "[8/20,     1/498] lr: 0.00727 loss: 0.014 acc: 0.344\n"
          ]
        },
        {
          "name": "stderr",
          "output_type": "stream",
          "text": [
            "205it [00:04, 41.63it/s]"
          ]
        },
        {
          "name": "stdout",
          "output_type": "stream",
          "text": [
            "[8/20,   201/498] lr: 0.00727 loss: 3.024 acc: 0.247\n"
          ]
        },
        {
          "name": "stderr",
          "output_type": "stream",
          "text": [
            "405it [00:09, 41.60it/s]"
          ]
        },
        {
          "name": "stdout",
          "output_type": "stream",
          "text": [
            "[8/20,   401/498] lr: 0.00727 loss: 2.941 acc: 0.260\n"
          ]
        },
        {
          "name": "stderr",
          "output_type": "stream",
          "text": [
            "498it [00:11, 41.63it/s]\n"
          ]
        },
        {
          "name": "stdout",
          "output_type": "stream",
          "text": [
            "Test Accuracy - Overall: 14.62% | Head: 29.46% | Mid: 12.11% | Tail: 2.87%\n",
            "[8/20] val acc: 0.146 train acc: 0.255\n"
          ]
        },
        {
          "name": "stderr",
          "output_type": "stream",
          "text": [
            "0it [00:00, ?it/s]"
          ]
        },
        {
          "name": "stdout",
          "output_type": "stream",
          "text": [
            "[9/20,     1/498] lr: 0.00655 loss: 0.014 acc: 0.250\n"
          ]
        },
        {
          "name": "stderr",
          "output_type": "stream",
          "text": [
            "210it [00:04, 48.26it/s]"
          ]
        },
        {
          "name": "stdout",
          "output_type": "stream",
          "text": [
            "[9/20,   201/498] lr: 0.00655 loss: 2.839 acc: 0.280\n"
          ]
        },
        {
          "name": "stderr",
          "output_type": "stream",
          "text": [
            "410it [00:08, 47.87it/s]"
          ]
        },
        {
          "name": "stdout",
          "output_type": "stream",
          "text": [
            "[9/20,   401/498] lr: 0.00655 loss: 2.822 acc: 0.283\n"
          ]
        },
        {
          "name": "stderr",
          "output_type": "stream",
          "text": [
            "498it [00:10, 46.93it/s]\n"
          ]
        },
        {
          "name": "stdout",
          "output_type": "stream",
          "text": [
            "Test Accuracy - Overall: 15.57% | Head: 33.91% | Mid: 12.11% | Tail: 1.52%\n",
            "[9/20] val acc: 0.156 train acc: 0.282\n"
          ]
        },
        {
          "name": "stderr",
          "output_type": "stream",
          "text": [
            "0it [00:00, ?it/s]"
          ]
        },
        {
          "name": "stdout",
          "output_type": "stream",
          "text": [
            "[10/20,     1/498] lr: 0.00578 loss: 0.012 acc: 0.375\n"
          ]
        },
        {
          "name": "stderr",
          "output_type": "stream",
          "text": [
            "205it [00:04, 40.87it/s]"
          ]
        },
        {
          "name": "stdout",
          "output_type": "stream",
          "text": [
            "[10/20,   201/498] lr: 0.00578 loss: 2.723 acc: 0.306\n"
          ]
        },
        {
          "name": "stderr",
          "output_type": "stream",
          "text": [
            "405it [00:09, 42.93it/s]"
          ]
        },
        {
          "name": "stdout",
          "output_type": "stream",
          "text": [
            "[10/20,   401/498] lr: 0.00578 loss: 2.690 acc: 0.315\n"
          ]
        },
        {
          "name": "stderr",
          "output_type": "stream",
          "text": [
            "498it [00:12, 41.29it/s]\n"
          ]
        },
        {
          "name": "stdout",
          "output_type": "stream",
          "text": [
            "Test Accuracy - Overall: 17.15% | Head: 36.63% | Mid: 13.80% | Tail: 1.77%\n",
            "[10/20] val acc: 0.172 train acc: 0.311\n"
          ]
        },
        {
          "name": "stderr",
          "output_type": "stream",
          "text": [
            "4it [00:00, 36.47it/s]"
          ]
        },
        {
          "name": "stdout",
          "output_type": "stream",
          "text": [
            "[11/20,     1/498] lr: 0.00500 loss: 0.013 acc: 0.250\n"
          ]
        },
        {
          "name": "stderr",
          "output_type": "stream",
          "text": [
            "209it [00:04, 41.38it/s]"
          ]
        },
        {
          "name": "stdout",
          "output_type": "stream",
          "text": [
            "[11/20,   201/498] lr: 0.00500 loss: 2.527 acc: 0.353\n"
          ]
        },
        {
          "name": "stderr",
          "output_type": "stream",
          "text": [
            "409it [00:09, 42.73it/s]"
          ]
        },
        {
          "name": "stdout",
          "output_type": "stream",
          "text": [
            "[11/20,   401/498] lr: 0.00500 loss: 2.530 acc: 0.348\n"
          ]
        },
        {
          "name": "stderr",
          "output_type": "stream",
          "text": [
            "498it [00:11, 42.38it/s]\n"
          ]
        },
        {
          "name": "stdout",
          "output_type": "stream",
          "text": [
            "Test Accuracy - Overall: 20.32% | Head: 34.90% | Mid: 21.29% | Tail: 4.13%\n",
            "[11/20] val acc: 0.203 train acc: 0.350\n"
          ]
        },
        {
          "name": "stderr",
          "output_type": "stream",
          "text": [
            "4it [00:00, 39.20it/s]"
          ]
        },
        {
          "name": "stdout",
          "output_type": "stream",
          "text": [
            "[12/20,     1/498] lr: 0.00422 loss: 0.013 acc: 0.344\n"
          ]
        },
        {
          "name": "stderr",
          "output_type": "stream",
          "text": [
            "209it [00:04, 44.39it/s]"
          ]
        },
        {
          "name": "stdout",
          "output_type": "stream",
          "text": [
            "[12/20,   201/498] lr: 0.00422 loss: 2.318 acc: 0.389\n"
          ]
        },
        {
          "name": "stderr",
          "output_type": "stream",
          "text": [
            "409it [00:09, 44.31it/s]"
          ]
        },
        {
          "name": "stdout",
          "output_type": "stream",
          "text": [
            "[12/20,   401/498] lr: 0.00422 loss: 2.317 acc: 0.390\n"
          ]
        },
        {
          "name": "stderr",
          "output_type": "stream",
          "text": [
            "498it [00:11, 43.91it/s]\n"
          ]
        },
        {
          "name": "stdout",
          "output_type": "stream",
          "text": [
            "Test Accuracy - Overall: 20.70% | Head: 36.80% | Mid: 19.98% | Tail: 5.23%\n",
            "[12/20] val acc: 0.207 train acc: 0.388\n"
          ]
        },
        {
          "name": "stderr",
          "output_type": "stream",
          "text": [
            "4it [00:00, 33.66it/s]"
          ]
        },
        {
          "name": "stdout",
          "output_type": "stream",
          "text": [
            "[13/20,     1/498] lr: 0.00345 loss: 0.010 acc: 0.406\n"
          ]
        },
        {
          "name": "stderr",
          "output_type": "stream",
          "text": [
            "209it [00:04, 41.55it/s]"
          ]
        },
        {
          "name": "stdout",
          "output_type": "stream",
          "text": [
            "[13/20,   201/498] lr: 0.00345 loss: 2.093 acc: 0.435\n"
          ]
        },
        {
          "name": "stderr",
          "output_type": "stream",
          "text": [
            "409it [00:09, 43.42it/s]"
          ]
        },
        {
          "name": "stdout",
          "output_type": "stream",
          "text": [
            "[13/20,   401/498] lr: 0.00345 loss: 2.122 acc: 0.435\n"
          ]
        },
        {
          "name": "stderr",
          "output_type": "stream",
          "text": [
            "498it [00:11, 42.48it/s]\n"
          ]
        },
        {
          "name": "stdout",
          "output_type": "stream",
          "text": [
            "Test Accuracy - Overall: 24.15% | Head: 40.35% | Mid: 24.09% | Tail: 7.67%\n",
            "[13/20] val acc: 0.241 train acc: 0.436\n"
          ]
        },
        {
          "name": "stderr",
          "output_type": "stream",
          "text": [
            "0it [00:00, ?it/s]"
          ]
        },
        {
          "name": "stdout",
          "output_type": "stream",
          "text": [
            "[14/20,     1/498] lr: 0.00273 loss: 0.009 acc: 0.469\n"
          ]
        },
        {
          "name": "stderr",
          "output_type": "stream",
          "text": [
            "209it [00:04, 44.31it/s]"
          ]
        },
        {
          "name": "stdout",
          "output_type": "stream",
          "text": [
            "[14/20,   201/498] lr: 0.00273 loss: 1.820 acc: 0.507\n"
          ]
        },
        {
          "name": "stderr",
          "output_type": "stream",
          "text": [
            "409it [00:09, 43.74it/s]"
          ]
        },
        {
          "name": "stdout",
          "output_type": "stream",
          "text": [
            "[14/20,   401/498] lr: 0.00273 loss: 1.821 acc: 0.500\n"
          ]
        },
        {
          "name": "stderr",
          "output_type": "stream",
          "text": [
            "498it [00:11, 43.42it/s]\n"
          ]
        },
        {
          "name": "stdout",
          "output_type": "stream",
          "text": [
            "Test Accuracy - Overall: 24.75% | Head: 41.67% | Mid: 23.91% | Tail: 8.60%\n",
            "[14/20] val acc: 0.247 train acc: 0.502\n"
          ]
        },
        {
          "name": "stderr",
          "output_type": "stream",
          "text": [
            "0it [00:00, ?it/s]"
          ]
        },
        {
          "name": "stdout",
          "output_type": "stream",
          "text": [
            "[15/20,     1/498] lr: 0.00206 loss: 0.008 acc: 0.531\n"
          ]
        },
        {
          "name": "stderr",
          "output_type": "stream",
          "text": [
            "209it [00:04, 44.56it/s]"
          ]
        },
        {
          "name": "stdout",
          "output_type": "stream",
          "text": [
            "[15/20,   201/498] lr: 0.00206 loss: 1.484 acc: 0.586\n"
          ]
        },
        {
          "name": "stderr",
          "output_type": "stream",
          "text": [
            "409it [00:09, 44.66it/s]"
          ]
        },
        {
          "name": "stdout",
          "output_type": "stream",
          "text": [
            "[15/20,   401/498] lr: 0.00206 loss: 1.515 acc: 0.572\n"
          ]
        },
        {
          "name": "stderr",
          "output_type": "stream",
          "text": [
            "498it [00:11, 43.92it/s]\n"
          ]
        },
        {
          "name": "stdout",
          "output_type": "stream",
          "text": [
            "Test Accuracy - Overall: 24.80% | Head: 41.34% | Mid: 24.84% | Tail: 7.84%\n",
            "[15/20] val acc: 0.248 train acc: 0.577\n"
          ]
        },
        {
          "name": "stderr",
          "output_type": "stream",
          "text": [
            "0it [00:00, ?it/s]"
          ]
        },
        {
          "name": "stdout",
          "output_type": "stream",
          "text": [
            "[16/20,     1/498] lr: 0.00146 loss: 0.005 acc: 0.781\n"
          ]
        },
        {
          "name": "stderr",
          "output_type": "stream",
          "text": [
            "209it [00:05, 41.57it/s]"
          ]
        },
        {
          "name": "stdout",
          "output_type": "stream",
          "text": [
            "[16/20,   201/498] lr: 0.00146 loss: 1.116 acc: 0.695\n"
          ]
        },
        {
          "name": "stderr",
          "output_type": "stream",
          "text": [
            "409it [00:09, 44.66it/s]"
          ]
        },
        {
          "name": "stdout",
          "output_type": "stream",
          "text": [
            "[16/20,   401/498] lr: 0.00146 loss: 1.127 acc: 0.680\n"
          ]
        },
        {
          "name": "stderr",
          "output_type": "stream",
          "text": [
            "498it [00:11, 42.40it/s]\n"
          ]
        },
        {
          "name": "stdout",
          "output_type": "stream",
          "text": [
            "Test Accuracy - Overall: 25.25% | Head: 42.90% | Mid: 24.72% | Tail: 7.93%\n",
            "[16/20] val acc: 0.253 train acc: 0.687\n"
          ]
        },
        {
          "name": "stderr",
          "output_type": "stream",
          "text": [
            "5it [00:00, 44.03it/s]"
          ]
        },
        {
          "name": "stdout",
          "output_type": "stream",
          "text": [
            "[17/20,     1/498] lr: 0.00095 loss: 0.003 acc: 0.906\n"
          ]
        },
        {
          "name": "stderr",
          "output_type": "stream",
          "text": [
            "205it [00:04, 42.25it/s]"
          ]
        },
        {
          "name": "stdout",
          "output_type": "stream",
          "text": [
            "[17/20,   201/498] lr: 0.00095 loss: 0.770 acc: 0.800\n"
          ]
        },
        {
          "name": "stderr",
          "output_type": "stream",
          "text": [
            "405it [00:09, 43.27it/s]"
          ]
        },
        {
          "name": "stdout",
          "output_type": "stream",
          "text": [
            "[17/20,   401/498] lr: 0.00095 loss: 0.766 acc: 0.790\n"
          ]
        },
        {
          "name": "stderr",
          "output_type": "stream",
          "text": [
            "498it [00:11, 43.23it/s]\n"
          ]
        },
        {
          "name": "stdout",
          "output_type": "stream",
          "text": [
            "Test Accuracy - Overall: 25.37% | Head: 40.92% | Mid: 25.66% | Tail: 9.11%\n",
            "[17/20] val acc: 0.254 train acc: 0.793\n"
          ]
        },
        {
          "name": "stderr",
          "output_type": "stream",
          "text": [
            "0it [00:00, ?it/s]"
          ]
        },
        {
          "name": "stdout",
          "output_type": "stream",
          "text": [
            "[18/20,     1/498] lr: 0.00054 loss: 0.004 acc: 0.719\n"
          ]
        },
        {
          "name": "stderr",
          "output_type": "stream",
          "text": [
            "209it [00:04, 43.61it/s]"
          ]
        },
        {
          "name": "stdout",
          "output_type": "stream",
          "text": [
            "[18/20,   201/498] lr: 0.00054 loss: 0.530 acc: 0.874\n"
          ]
        },
        {
          "name": "stderr",
          "output_type": "stream",
          "text": [
            "409it [00:09, 44.91it/s]"
          ]
        },
        {
          "name": "stdout",
          "output_type": "stream",
          "text": [
            "[18/20,   401/498] lr: 0.00054 loss: 0.508 acc: 0.871\n"
          ]
        },
        {
          "name": "stderr",
          "output_type": "stream",
          "text": [
            "498it [00:11, 43.77it/s]\n"
          ]
        },
        {
          "name": "stdout",
          "output_type": "stream",
          "text": [
            "Test Accuracy - Overall: 25.92% | Head: 41.67% | Mid: 25.84% | Tail: 9.95%\n",
            "[18/20] val acc: 0.259 train acc: 0.872\n"
          ]
        },
        {
          "name": "stderr",
          "output_type": "stream",
          "text": [
            "0it [00:00, ?it/s]"
          ]
        },
        {
          "name": "stdout",
          "output_type": "stream",
          "text": [
            "[19/20,     1/498] lr: 0.00024 loss: 0.003 acc: 0.875\n"
          ]
        },
        {
          "name": "stderr",
          "output_type": "stream",
          "text": [
            "209it [00:04, 44.09it/s]"
          ]
        },
        {
          "name": "stdout",
          "output_type": "stream",
          "text": [
            "[19/20,   201/498] lr: 0.00024 loss: 0.357 acc: 0.929\n"
          ]
        },
        {
          "name": "stderr",
          "output_type": "stream",
          "text": [
            "409it [00:09, 44.81it/s]"
          ]
        },
        {
          "name": "stdout",
          "output_type": "stream",
          "text": [
            "[19/20,   401/498] lr: 0.00024 loss: 0.361 acc: 0.923\n"
          ]
        },
        {
          "name": "stderr",
          "output_type": "stream",
          "text": [
            "498it [00:11, 43.71it/s]\n"
          ]
        },
        {
          "name": "stdout",
          "output_type": "stream",
          "text": [
            "Test Accuracy - Overall: 25.97% | Head: 43.15% | Mid: 25.66% | Tail: 8.85%\n",
            "[19/20] val acc: 0.260 train acc: 0.925\n"
          ]
        },
        {
          "name": "stderr",
          "output_type": "stream",
          "text": [
            "4it [00:00, 38.77it/s]"
          ]
        },
        {
          "name": "stdout",
          "output_type": "stream",
          "text": [
            "[20/20,     1/498] lr: 0.00006 loss: 0.002 acc: 0.969\n"
          ]
        },
        {
          "name": "stderr",
          "output_type": "stream",
          "text": [
            "209it [00:04, 44.97it/s]"
          ]
        },
        {
          "name": "stdout",
          "output_type": "stream",
          "text": [
            "[20/20,   201/498] lr: 0.00006 loss: 0.303 acc: 0.943\n"
          ]
        },
        {
          "name": "stderr",
          "output_type": "stream",
          "text": [
            "409it [00:09, 44.99it/s]"
          ]
        },
        {
          "name": "stdout",
          "output_type": "stream",
          "text": [
            "[20/20,   401/498] lr: 0.00006 loss: 0.300 acc: 0.947\n"
          ]
        },
        {
          "name": "stderr",
          "output_type": "stream",
          "text": [
            "498it [00:11, 44.36it/s]\n"
          ]
        },
        {
          "name": "stdout",
          "output_type": "stream",
          "text": [
            "Test Accuracy - Overall: 25.57% | Head: 42.33% | Mid: 25.28% | Tail: 8.85%\n",
            "[20/20] val acc: 0.256 train acc: 0.944\n"
          ]
        }
      ],
      "source": [
        "# Cifar-100 LT Accuracy\n",
        "\n",
        "# Model\n",
        "model = resnet50(num_classes=100)\n",
        "model.conv1 = nn.Conv2d(3, 64, kernel_size=3, stride=1, padding=1, bias=False)\n",
        "model.maxpool = nn.Identity()\n",
        "\n",
        "# Train/Val Set\n",
        "trainSet = torch.utils.data.TensorDataset(torch.Tensor(trainDataLT), torch.Tensor(trainLabelLT).long())\n",
        "trainLoader = torch.utils.data.DataLoader(trainSet, batch_size=32, shuffle=True, num_workers=2)\n",
        "valSet = torch.utils.data.TensorDataset(torch.Tensor(valData), torch.Tensor(valLabel))\n",
        "valLoader = torch.utils.data.DataLoader(valSet, batch_size=32, shuffle=True, num_workers=2)\n",
        "\n",
        "# Params\n",
        "optimizer = torch.optim.Adam(model.parameters(), lr=0.01)\n",
        "scheduler = torch.optim.lr_scheduler.CosineAnnealingLR(optimizer, T_max=20)\n",
        "loss = nn.CrossEntropyLoss()\n",
        "\n",
        "# Train\n",
        "model.to(device)\n",
        "train_model(trainLoader, valLoader, 20, model, optimizer, scheduler, loss)"
      ]
    },
    {
      "cell_type": "code",
      "execution_count": null,
      "id": "810016e6",
      "metadata": {
        "id": "810016e6",
        "outputId": "63e2f191-8bff-42d3-8e0b-ddf22038b41c"
      },
      "outputs": [
        {
          "name": "stderr",
          "output_type": "stream",
          "text": [
            "9it [00:00, 40.17it/s]"
          ]
        },
        {
          "name": "stdout",
          "output_type": "stream",
          "text": [
            "[1/20,     1/1563] lr: 0.01000 loss: 0.024 acc: 0.000\n"
          ]
        },
        {
          "name": "stderr",
          "output_type": "stream",
          "text": [
            "209it [00:04, 47.77it/s]"
          ]
        },
        {
          "name": "stdout",
          "output_type": "stream",
          "text": [
            "[1/20,   201/1563] lr: 0.01000 loss: 5.207 acc: 0.022\n"
          ]
        },
        {
          "name": "stderr",
          "output_type": "stream",
          "text": [
            "409it [00:08, 48.04it/s]"
          ]
        },
        {
          "name": "stdout",
          "output_type": "stream",
          "text": [
            "[1/20,   401/1563] lr: 0.01000 loss: 4.499 acc: 0.023\n"
          ]
        },
        {
          "name": "stderr",
          "output_type": "stream",
          "text": [
            "609it [00:12, 45.58it/s]"
          ]
        },
        {
          "name": "stdout",
          "output_type": "stream",
          "text": [
            "[1/20,   601/1563] lr: 0.01000 loss: 4.399 acc: 0.032\n"
          ]
        },
        {
          "name": "stderr",
          "output_type": "stream",
          "text": [
            "809it [00:17, 45.60it/s]"
          ]
        },
        {
          "name": "stdout",
          "output_type": "stream",
          "text": [
            "[1/20,   801/1563] lr: 0.01000 loss: 4.306 acc: 0.042\n"
          ]
        },
        {
          "name": "stderr",
          "output_type": "stream",
          "text": [
            "1006it [00:21, 46.73it/s]"
          ]
        },
        {
          "name": "stdout",
          "output_type": "stream",
          "text": [
            "[1/20,  1001/1563] lr: 0.01000 loss: 4.190 acc: 0.050\n"
          ]
        },
        {
          "name": "stderr",
          "output_type": "stream",
          "text": [
            "1206it [00:25, 47.96it/s]"
          ]
        },
        {
          "name": "stdout",
          "output_type": "stream",
          "text": [
            "[1/20,  1201/1563] lr: 0.01000 loss: 4.109 acc: 0.059\n"
          ]
        },
        {
          "name": "stderr",
          "output_type": "stream",
          "text": [
            "1406it [00:29, 42.75it/s]"
          ]
        },
        {
          "name": "stdout",
          "output_type": "stream",
          "text": [
            "[1/20,  1401/1563] lr: 0.01000 loss: 4.023 acc: 0.068\n"
          ]
        },
        {
          "name": "stderr",
          "output_type": "stream",
          "text": [
            "1563it [00:33, 46.44it/s]\n"
          ]
        },
        {
          "name": "stdout",
          "output_type": "stream",
          "text": [
            "Test Accuracy - Overall: 8.05% | Head: 9.82% | Mid: 6.87% | Tail: 7.84%\n",
            "[1/20] val acc: 0.081 train acc: 0.046\n"
          ]
        },
        {
          "name": "stderr",
          "output_type": "stream",
          "text": [
            "7it [00:00, 32.75it/s]"
          ]
        },
        {
          "name": "stdout",
          "output_type": "stream",
          "text": [
            "[2/20,     1/1563] lr: 0.00994 loss: 0.018 acc: 0.094\n"
          ]
        },
        {
          "name": "stderr",
          "output_type": "stream",
          "text": [
            "206it [00:05, 40.97it/s]"
          ]
        },
        {
          "name": "stdout",
          "output_type": "stream",
          "text": [
            "[2/20,   201/1563] lr: 0.00994 loss: 3.950 acc: 0.083\n"
          ]
        },
        {
          "name": "stderr",
          "output_type": "stream",
          "text": [
            "406it [00:09, 40.87it/s]"
          ]
        },
        {
          "name": "stdout",
          "output_type": "stream",
          "text": [
            "[2/20,   401/1563] lr: 0.00994 loss: 3.892 acc: 0.088\n"
          ]
        },
        {
          "name": "stderr",
          "output_type": "stream",
          "text": [
            "606it [00:14, 41.34it/s]"
          ]
        },
        {
          "name": "stdout",
          "output_type": "stream",
          "text": [
            "[2/20,   601/1563] lr: 0.00994 loss: 3.878 acc: 0.089\n"
          ]
        },
        {
          "name": "stderr",
          "output_type": "stream",
          "text": [
            "806it [00:19, 40.76it/s]"
          ]
        },
        {
          "name": "stdout",
          "output_type": "stream",
          "text": [
            "[2/20,   801/1563] lr: 0.00994 loss: 3.815 acc: 0.098\n"
          ]
        },
        {
          "name": "stderr",
          "output_type": "stream",
          "text": [
            "1006it [00:24, 41.65it/s]"
          ]
        },
        {
          "name": "stdout",
          "output_type": "stream",
          "text": [
            "[2/20,  1001/1563] lr: 0.00994 loss: 3.774 acc: 0.103\n"
          ]
        },
        {
          "name": "stderr",
          "output_type": "stream",
          "text": [
            "1206it [00:29, 41.53it/s]"
          ]
        },
        {
          "name": "stdout",
          "output_type": "stream",
          "text": [
            "[2/20,  1201/1563] lr: 0.00994 loss: 3.747 acc: 0.117\n"
          ]
        },
        {
          "name": "stderr",
          "output_type": "stream",
          "text": [
            "1406it [00:34, 41.24it/s]"
          ]
        },
        {
          "name": "stdout",
          "output_type": "stream",
          "text": [
            "[2/20,  1401/1563] lr: 0.00994 loss: 3.722 acc: 0.120\n"
          ]
        },
        {
          "name": "stderr",
          "output_type": "stream",
          "text": [
            "1563it [00:37, 41.19it/s]\n"
          ]
        },
        {
          "name": "stdout",
          "output_type": "stream",
          "text": [
            "Test Accuracy - Overall: 14.37% | Head: 13.37% | Mid: 14.98% | Tail: 14.59%\n",
            "[2/20] val acc: 0.144 train acc: 0.103\n"
          ]
        },
        {
          "name": "stderr",
          "output_type": "stream",
          "text": [
            "0it [00:00, ?it/s]"
          ]
        },
        {
          "name": "stdout",
          "output_type": "stream",
          "text": [
            "[3/20,     1/1563] lr: 0.00976 loss: 0.022 acc: 0.062\n"
          ]
        },
        {
          "name": "stderr",
          "output_type": "stream",
          "text": [
            "209it [00:04, 48.28it/s]"
          ]
        },
        {
          "name": "stdout",
          "output_type": "stream",
          "text": [
            "[3/20,   201/1563] lr: 0.00976 loss: 3.655 acc: 0.133\n"
          ]
        },
        {
          "name": "stderr",
          "output_type": "stream",
          "text": [
            "410it [00:08, 48.30it/s]"
          ]
        },
        {
          "name": "stdout",
          "output_type": "stream",
          "text": [
            "[3/20,   401/1563] lr: 0.00976 loss: 3.607 acc: 0.138\n"
          ]
        },
        {
          "name": "stderr",
          "output_type": "stream",
          "text": [
            "609it [00:12, 49.95it/s]"
          ]
        },
        {
          "name": "stdout",
          "output_type": "stream",
          "text": [
            "[3/20,   601/1563] lr: 0.00976 loss: 3.578 acc: 0.145\n"
          ]
        },
        {
          "name": "stderr",
          "output_type": "stream",
          "text": [
            "809it [00:17, 48.22it/s]"
          ]
        },
        {
          "name": "stdout",
          "output_type": "stream",
          "text": [
            "[3/20,   801/1563] lr: 0.00976 loss: 3.525 acc: 0.154\n"
          ]
        },
        {
          "name": "stderr",
          "output_type": "stream",
          "text": [
            "1009it [00:21, 45.94it/s]"
          ]
        },
        {
          "name": "stdout",
          "output_type": "stream",
          "text": [
            "[3/20,  1001/1563] lr: 0.00976 loss: 3.533 acc: 0.154\n"
          ]
        },
        {
          "name": "stderr",
          "output_type": "stream",
          "text": [
            "1209it [00:25, 48.27it/s]"
          ]
        },
        {
          "name": "stdout",
          "output_type": "stream",
          "text": [
            "[3/20,  1201/1563] lr: 0.00976 loss: 3.471 acc: 0.170\n"
          ]
        },
        {
          "name": "stderr",
          "output_type": "stream",
          "text": [
            "1409it [00:30, 41.81it/s]"
          ]
        },
        {
          "name": "stdout",
          "output_type": "stream",
          "text": [
            "[3/20,  1401/1563] lr: 0.00976 loss: 3.473 acc: 0.163\n"
          ]
        },
        {
          "name": "stderr",
          "output_type": "stream",
          "text": [
            "1563it [00:33, 46.02it/s]\n"
          ]
        },
        {
          "name": "stdout",
          "output_type": "stream",
          "text": [
            "Test Accuracy - Overall: 17.85% | Head: 15.26% | Mid: 19.10% | Tail: 18.80%\n",
            "[3/20] val acc: 0.178 train acc: 0.153\n"
          ]
        },
        {
          "name": "stderr",
          "output_type": "stream",
          "text": [
            "0it [00:00, ?it/s]"
          ]
        },
        {
          "name": "stdout",
          "output_type": "stream",
          "text": [
            "[4/20,     1/1563] lr: 0.00946 loss: 0.020 acc: 0.000\n"
          ]
        },
        {
          "name": "stderr",
          "output_type": "stream",
          "text": [
            "209it [00:04, 42.68it/s]"
          ]
        },
        {
          "name": "stdout",
          "output_type": "stream",
          "text": [
            "[4/20,   201/1563] lr: 0.00946 loss: 3.362 acc: 0.182\n"
          ]
        },
        {
          "name": "stderr",
          "output_type": "stream",
          "text": [
            "409it [00:09, 45.76it/s]"
          ]
        },
        {
          "name": "stdout",
          "output_type": "stream",
          "text": [
            "[4/20,   401/1563] lr: 0.00946 loss: 3.294 acc: 0.193\n"
          ]
        },
        {
          "name": "stderr",
          "output_type": "stream",
          "text": [
            "609it [00:13, 48.01it/s]"
          ]
        },
        {
          "name": "stdout",
          "output_type": "stream",
          "text": [
            "[4/20,   601/1563] lr: 0.00946 loss: 3.288 acc: 0.192\n"
          ]
        },
        {
          "name": "stderr",
          "output_type": "stream",
          "text": [
            "809it [00:17, 45.67it/s]"
          ]
        },
        {
          "name": "stdout",
          "output_type": "stream",
          "text": [
            "[4/20,   801/1563] lr: 0.00946 loss: 3.258 acc: 0.195\n"
          ]
        },
        {
          "name": "stderr",
          "output_type": "stream",
          "text": [
            "1009it [00:22, 42.94it/s]"
          ]
        },
        {
          "name": "stdout",
          "output_type": "stream",
          "text": [
            "[4/20,  1001/1563] lr: 0.00946 loss: 3.196 acc: 0.215\n"
          ]
        },
        {
          "name": "stderr",
          "output_type": "stream",
          "text": [
            "1209it [00:27, 41.59it/s]"
          ]
        },
        {
          "name": "stdout",
          "output_type": "stream",
          "text": [
            "[4/20,  1201/1563] lr: 0.00946 loss: 3.208 acc: 0.207\n"
          ]
        },
        {
          "name": "stderr",
          "output_type": "stream",
          "text": [
            "1410it [00:31, 45.82it/s]"
          ]
        },
        {
          "name": "stdout",
          "output_type": "stream",
          "text": [
            "[4/20,  1401/1563] lr: 0.00946 loss: 3.136 acc: 0.221\n"
          ]
        },
        {
          "name": "stderr",
          "output_type": "stream",
          "text": [
            "1563it [00:35, 44.32it/s]\n"
          ]
        },
        {
          "name": "stdout",
          "output_type": "stream",
          "text": [
            "Test Accuracy - Overall: 24.55% | Head: 21.20% | Mid: 27.40% | Tail: 24.11%\n",
            "[4/20] val acc: 0.245 train acc: 0.204\n"
          ]
        },
        {
          "name": "stderr",
          "output_type": "stream",
          "text": [
            "9it [00:00, 39.08it/s]"
          ]
        },
        {
          "name": "stdout",
          "output_type": "stream",
          "text": [
            "[5/20,     1/1563] lr: 0.00905 loss: 0.013 acc: 0.312\n"
          ]
        },
        {
          "name": "stderr",
          "output_type": "stream",
          "text": [
            "209it [00:05, 41.33it/s]"
          ]
        },
        {
          "name": "stdout",
          "output_type": "stream",
          "text": [
            "[5/20,   201/1563] lr: 0.00905 loss: 3.036 acc: 0.240\n"
          ]
        },
        {
          "name": "stderr",
          "output_type": "stream",
          "text": [
            "409it [00:09, 41.59it/s]"
          ]
        },
        {
          "name": "stdout",
          "output_type": "stream",
          "text": [
            "[5/20,   401/1563] lr: 0.00905 loss: 3.034 acc: 0.252\n"
          ]
        },
        {
          "name": "stderr",
          "output_type": "stream",
          "text": [
            "609it [00:14, 43.92it/s]"
          ]
        },
        {
          "name": "stdout",
          "output_type": "stream",
          "text": [
            "[5/20,   601/1563] lr: 0.00905 loss: 2.986 acc: 0.255\n"
          ]
        },
        {
          "name": "stderr",
          "output_type": "stream",
          "text": [
            "809it [00:19, 44.50it/s]"
          ]
        },
        {
          "name": "stdout",
          "output_type": "stream",
          "text": [
            "[5/20,   801/1563] lr: 0.00905 loss: 2.907 acc: 0.272\n"
          ]
        },
        {
          "name": "stderr",
          "output_type": "stream",
          "text": [
            "1009it [00:23, 44.81it/s]"
          ]
        },
        {
          "name": "stdout",
          "output_type": "stream",
          "text": [
            "[5/20,  1001/1563] lr: 0.00905 loss: 2.879 acc: 0.279\n"
          ]
        },
        {
          "name": "stderr",
          "output_type": "stream",
          "text": [
            "1209it [00:27, 46.48it/s]"
          ]
        },
        {
          "name": "stdout",
          "output_type": "stream",
          "text": [
            "[5/20,  1201/1563] lr: 0.00905 loss: 2.879 acc: 0.269\n"
          ]
        },
        {
          "name": "stderr",
          "output_type": "stream",
          "text": [
            "1409it [00:32, 47.56it/s]"
          ]
        },
        {
          "name": "stdout",
          "output_type": "stream",
          "text": [
            "[5/20,  1401/1563] lr: 0.00905 loss: 2.820 acc: 0.280\n"
          ]
        },
        {
          "name": "stderr",
          "output_type": "stream",
          "text": [
            "1563it [00:35, 44.12it/s]\n"
          ]
        },
        {
          "name": "stdout",
          "output_type": "stream",
          "text": [
            "Test Accuracy - Overall: 29.80% | Head: 24.67% | Mid: 31.65% | Tail: 32.55%\n",
            "[5/20] val acc: 0.298 train acc: 0.266\n"
          ]
        },
        {
          "name": "stderr",
          "output_type": "stream",
          "text": [
            "0it [00:00, ?it/s]"
          ]
        },
        {
          "name": "stdout",
          "output_type": "stream",
          "text": [
            "[6/20,     1/1563] lr: 0.00854 loss: 0.015 acc: 0.281\n"
          ]
        },
        {
          "name": "stderr",
          "output_type": "stream",
          "text": [
            "207it [00:05, 42.06it/s]"
          ]
        },
        {
          "name": "stdout",
          "output_type": "stream",
          "text": [
            "[6/20,   201/1563] lr: 0.00854 loss: 2.611 acc: 0.325\n"
          ]
        },
        {
          "name": "stderr",
          "output_type": "stream",
          "text": [
            "407it [00:09, 42.45it/s]"
          ]
        },
        {
          "name": "stdout",
          "output_type": "stream",
          "text": [
            "[6/20,   401/1563] lr: 0.00854 loss: 2.640 acc: 0.322\n"
          ]
        },
        {
          "name": "stderr",
          "output_type": "stream",
          "text": [
            "607it [00:14, 41.07it/s]"
          ]
        },
        {
          "name": "stdout",
          "output_type": "stream",
          "text": [
            "[6/20,   601/1563] lr: 0.00854 loss: 2.639 acc: 0.315\n"
          ]
        },
        {
          "name": "stderr",
          "output_type": "stream",
          "text": [
            "807it [00:19, 42.33it/s]"
          ]
        },
        {
          "name": "stdout",
          "output_type": "stream",
          "text": [
            "[6/20,   801/1563] lr: 0.00854 loss: 2.582 acc: 0.334\n"
          ]
        },
        {
          "name": "stderr",
          "output_type": "stream",
          "text": [
            "1007it [00:24, 41.42it/s]"
          ]
        },
        {
          "name": "stdout",
          "output_type": "stream",
          "text": [
            "[6/20,  1001/1563] lr: 0.00854 loss: 2.571 acc: 0.329\n"
          ]
        },
        {
          "name": "stderr",
          "output_type": "stream",
          "text": [
            "1207it [00:28, 46.82it/s]"
          ]
        },
        {
          "name": "stdout",
          "output_type": "stream",
          "text": [
            "[6/20,  1201/1563] lr: 0.00854 loss: 2.601 acc: 0.323\n"
          ]
        },
        {
          "name": "stderr",
          "output_type": "stream",
          "text": [
            "1407it [00:32, 46.50it/s]"
          ]
        },
        {
          "name": "stdout",
          "output_type": "stream",
          "text": [
            "[6/20,  1401/1563] lr: 0.00854 loss: 2.516 acc: 0.347\n"
          ]
        },
        {
          "name": "stderr",
          "output_type": "stream",
          "text": [
            "1563it [00:36, 43.02it/s]\n"
          ]
        },
        {
          "name": "stdout",
          "output_type": "stream",
          "text": [
            "Test Accuracy - Overall: 33.15% | Head: 26.73% | Mid: 36.33% | Tail: 35.41%\n",
            "[6/20] val acc: 0.332 train acc: 0.329\n"
          ]
        },
        {
          "name": "stderr",
          "output_type": "stream",
          "text": [
            "0it [00:00, ?it/s]"
          ]
        },
        {
          "name": "stdout",
          "output_type": "stream",
          "text": [
            "[7/20,     1/1563] lr: 0.00794 loss: 0.012 acc: 0.281\n"
          ]
        },
        {
          "name": "stderr",
          "output_type": "stream",
          "text": [
            "209it [00:04, 41.78it/s]"
          ]
        },
        {
          "name": "stdout",
          "output_type": "stream",
          "text": [
            "[7/20,   201/1563] lr: 0.00794 loss: 2.327 acc: 0.382\n"
          ]
        },
        {
          "name": "stderr",
          "output_type": "stream",
          "text": [
            "409it [00:09, 41.79it/s]"
          ]
        },
        {
          "name": "stdout",
          "output_type": "stream",
          "text": [
            "[7/20,   401/1563] lr: 0.00794 loss: 2.358 acc: 0.372\n"
          ]
        },
        {
          "name": "stderr",
          "output_type": "stream",
          "text": [
            "609it [00:14, 41.23it/s]"
          ]
        },
        {
          "name": "stdout",
          "output_type": "stream",
          "text": [
            "[7/20,   601/1563] lr: 0.00794 loss: 2.319 acc: 0.388\n"
          ]
        },
        {
          "name": "stderr",
          "output_type": "stream",
          "text": [
            "809it [00:19, 41.04it/s]"
          ]
        },
        {
          "name": "stdout",
          "output_type": "stream",
          "text": [
            "[7/20,   801/1563] lr: 0.00794 loss: 2.348 acc: 0.372\n"
          ]
        },
        {
          "name": "stderr",
          "output_type": "stream",
          "text": [
            "1009it [00:24, 41.06it/s]"
          ]
        },
        {
          "name": "stdout",
          "output_type": "stream",
          "text": [
            "[7/20,  1001/1563] lr: 0.00794 loss: 2.335 acc: 0.376\n"
          ]
        },
        {
          "name": "stderr",
          "output_type": "stream",
          "text": [
            "1209it [00:28, 42.96it/s]"
          ]
        },
        {
          "name": "stdout",
          "output_type": "stream",
          "text": [
            "[7/20,  1201/1563] lr: 0.00794 loss: 2.299 acc: 0.393\n"
          ]
        },
        {
          "name": "stderr",
          "output_type": "stream",
          "text": [
            "1409it [00:33, 40.67it/s]"
          ]
        },
        {
          "name": "stdout",
          "output_type": "stream",
          "text": [
            "[7/20,  1401/1563] lr: 0.00794 loss: 2.315 acc: 0.396\n"
          ]
        },
        {
          "name": "stderr",
          "output_type": "stream",
          "text": [
            "1563it [00:37, 41.52it/s]\n"
          ]
        },
        {
          "name": "stdout",
          "output_type": "stream",
          "text": [
            "Test Accuracy - Overall: 39.35% | Head: 33.25% | Mid: 42.07% | Tail: 41.91%\n",
            "[7/20] val acc: 0.394 train acc: 0.384\n"
          ]
        },
        {
          "name": "stderr",
          "output_type": "stream",
          "text": [
            "0it [00:00, ?it/s]"
          ]
        },
        {
          "name": "stdout",
          "output_type": "stream",
          "text": [
            "[8/20,     1/1563] lr: 0.00727 loss: 0.009 acc: 0.375\n"
          ]
        },
        {
          "name": "stderr",
          "output_type": "stream",
          "text": [
            "209it [00:04, 46.22it/s]"
          ]
        },
        {
          "name": "stdout",
          "output_type": "stream",
          "text": [
            "[8/20,   201/1563] lr: 0.00727 loss: 2.072 acc: 0.444\n"
          ]
        },
        {
          "name": "stderr",
          "output_type": "stream",
          "text": [
            "409it [00:08, 46.11it/s]"
          ]
        },
        {
          "name": "stdout",
          "output_type": "stream",
          "text": [
            "[8/20,   401/1563] lr: 0.00727 loss: 2.078 acc: 0.434\n"
          ]
        },
        {
          "name": "stderr",
          "output_type": "stream",
          "text": [
            "610it [00:13, 45.12it/s]"
          ]
        },
        {
          "name": "stdout",
          "output_type": "stream",
          "text": [
            "[8/20,   601/1563] lr: 0.00727 loss: 2.089 acc: 0.438\n"
          ]
        },
        {
          "name": "stderr",
          "output_type": "stream",
          "text": [
            "810it [00:17, 48.39it/s]"
          ]
        },
        {
          "name": "stdout",
          "output_type": "stream",
          "text": [
            "[8/20,   801/1563] lr: 0.00727 loss: 2.080 acc: 0.431\n"
          ]
        },
        {
          "name": "stderr",
          "output_type": "stream",
          "text": [
            "1010it [00:21, 47.97it/s]"
          ]
        },
        {
          "name": "stdout",
          "output_type": "stream",
          "text": [
            "[8/20,  1001/1563] lr: 0.00727 loss: 2.089 acc: 0.428\n"
          ]
        },
        {
          "name": "stderr",
          "output_type": "stream",
          "text": [
            "1210it [00:25, 48.06it/s]"
          ]
        },
        {
          "name": "stdout",
          "output_type": "stream",
          "text": [
            "[8/20,  1201/1563] lr: 0.00727 loss: 2.027 acc: 0.443\n"
          ]
        },
        {
          "name": "stderr",
          "output_type": "stream",
          "text": [
            "1410it [00:29, 48.22it/s]"
          ]
        },
        {
          "name": "stdout",
          "output_type": "stream",
          "text": [
            "[8/20,  1401/1563] lr: 0.00727 loss: 2.074 acc: 0.438\n"
          ]
        },
        {
          "name": "stderr",
          "output_type": "stream",
          "text": [
            "1563it [00:33, 47.22it/s]\n"
          ]
        },
        {
          "name": "stdout",
          "output_type": "stream",
          "text": [
            "Test Accuracy - Overall: 40.33% | Head: 35.15% | Mid: 42.88% | Tail: 42.16%\n",
            "[8/20] val acc: 0.403 train acc: 0.438\n"
          ]
        },
        {
          "name": "stderr",
          "output_type": "stream",
          "text": [
            "0it [00:00, ?it/s]"
          ]
        },
        {
          "name": "stdout",
          "output_type": "stream",
          "text": [
            "[9/20,     1/1563] lr: 0.00655 loss: 0.009 acc: 0.500\n"
          ]
        },
        {
          "name": "stderr",
          "output_type": "stream",
          "text": [
            "209it [00:04, 43.79it/s]"
          ]
        },
        {
          "name": "stdout",
          "output_type": "stream",
          "text": [
            "[9/20,   201/1563] lr: 0.00655 loss: 1.793 acc: 0.500\n"
          ]
        },
        {
          "name": "stderr",
          "output_type": "stream",
          "text": [
            "409it [00:09, 43.04it/s]"
          ]
        },
        {
          "name": "stdout",
          "output_type": "stream",
          "text": [
            "[9/20,   401/1563] lr: 0.00655 loss: 1.811 acc: 0.504\n"
          ]
        },
        {
          "name": "stderr",
          "output_type": "stream",
          "text": [
            "609it [00:14, 42.89it/s]"
          ]
        },
        {
          "name": "stdout",
          "output_type": "stream",
          "text": [
            "[9/20,   601/1563] lr: 0.00655 loss: 1.808 acc: 0.497\n"
          ]
        },
        {
          "name": "stderr",
          "output_type": "stream",
          "text": [
            "809it [00:18, 43.89it/s]"
          ]
        },
        {
          "name": "stdout",
          "output_type": "stream",
          "text": [
            "[9/20,   801/1563] lr: 0.00655 loss: 1.831 acc: 0.495\n"
          ]
        },
        {
          "name": "stderr",
          "output_type": "stream",
          "text": [
            "1009it [00:23, 42.04it/s]"
          ]
        },
        {
          "name": "stdout",
          "output_type": "stream",
          "text": [
            "[9/20,  1001/1563] lr: 0.00655 loss: 1.832 acc: 0.494\n"
          ]
        },
        {
          "name": "stderr",
          "output_type": "stream",
          "text": [
            "1209it [00:28, 41.40it/s]"
          ]
        },
        {
          "name": "stdout",
          "output_type": "stream",
          "text": [
            "[9/20,  1201/1563] lr: 0.00655 loss: 1.808 acc: 0.500\n"
          ]
        },
        {
          "name": "stderr",
          "output_type": "stream",
          "text": [
            "1409it [00:32, 43.57it/s]"
          ]
        },
        {
          "name": "stdout",
          "output_type": "stream",
          "text": [
            "[9/20,  1401/1563] lr: 0.00655 loss: 1.797 acc: 0.504\n"
          ]
        },
        {
          "name": "stderr",
          "output_type": "stream",
          "text": [
            "1563it [00:36, 42.78it/s]\n"
          ]
        },
        {
          "name": "stdout",
          "output_type": "stream",
          "text": [
            "Test Accuracy - Overall: 45.70% | Head: 38.70% | Mid: 47.63% | Tail: 50.25%\n",
            "[9/20] val acc: 0.457 train acc: 0.500\n"
          ]
        },
        {
          "name": "stderr",
          "output_type": "stream",
          "text": [
            "0it [00:00, ?it/s]"
          ]
        },
        {
          "name": "stdout",
          "output_type": "stream",
          "text": [
            "[10/20,     1/1563] lr: 0.00578 loss: 0.005 acc: 0.625\n"
          ]
        },
        {
          "name": "stderr",
          "output_type": "stream",
          "text": [
            "207it [00:04, 43.61it/s]"
          ]
        },
        {
          "name": "stdout",
          "output_type": "stream",
          "text": [
            "[10/20,   201/1563] lr: 0.00578 loss: 1.527 acc: 0.565\n"
          ]
        },
        {
          "name": "stderr",
          "output_type": "stream",
          "text": [
            "407it [00:09, 44.09it/s]"
          ]
        },
        {
          "name": "stdout",
          "output_type": "stream",
          "text": [
            "[10/20,   401/1563] lr: 0.00578 loss: 1.528 acc: 0.570\n"
          ]
        },
        {
          "name": "stderr",
          "output_type": "stream",
          "text": [
            "607it [00:13, 44.17it/s]"
          ]
        },
        {
          "name": "stdout",
          "output_type": "stream",
          "text": [
            "[10/20,   601/1563] lr: 0.00578 loss: 1.542 acc: 0.561\n"
          ]
        },
        {
          "name": "stderr",
          "output_type": "stream",
          "text": [
            "807it [00:18, 43.83it/s]"
          ]
        },
        {
          "name": "stdout",
          "output_type": "stream",
          "text": [
            "[10/20,   801/1563] lr: 0.00578 loss: 1.552 acc: 0.564\n"
          ]
        },
        {
          "name": "stderr",
          "output_type": "stream",
          "text": [
            "1007it [00:23, 44.92it/s]"
          ]
        },
        {
          "name": "stdout",
          "output_type": "stream",
          "text": [
            "[10/20,  1001/1563] lr: 0.00578 loss: 1.585 acc: 0.552\n"
          ]
        },
        {
          "name": "stderr",
          "output_type": "stream",
          "text": [
            "1207it [00:27, 44.65it/s]"
          ]
        },
        {
          "name": "stdout",
          "output_type": "stream",
          "text": [
            "[10/20,  1201/1563] lr: 0.00578 loss: 1.537 acc: 0.563\n"
          ]
        },
        {
          "name": "stderr",
          "output_type": "stream",
          "text": [
            "1407it [00:32, 43.06it/s]"
          ]
        },
        {
          "name": "stdout",
          "output_type": "stream",
          "text": [
            "[10/20,  1401/1563] lr: 0.00578 loss: 1.570 acc: 0.557\n"
          ]
        },
        {
          "name": "stderr",
          "output_type": "stream",
          "text": [
            "1563it [00:35, 43.61it/s]\n"
          ]
        },
        {
          "name": "stdout",
          "output_type": "stream",
          "text": [
            "Test Accuracy - Overall: 47.25% | Head: 42.24% | Mid: 48.69% | Tail: 50.42%\n",
            "[10/20] val acc: 0.472 train acc: 0.562\n"
          ]
        },
        {
          "name": "stderr",
          "output_type": "stream",
          "text": [
            "9it [00:00, 42.32it/s]"
          ]
        },
        {
          "name": "stdout",
          "output_type": "stream",
          "text": [
            "[11/20,     1/1563] lr: 0.00500 loss: 0.005 acc: 0.719\n"
          ]
        },
        {
          "name": "stderr",
          "output_type": "stream",
          "text": [
            "209it [00:04, 48.44it/s]"
          ]
        },
        {
          "name": "stdout",
          "output_type": "stream",
          "text": [
            "[11/20,   201/1563] lr: 0.00500 loss: 1.200 acc: 0.649\n"
          ]
        },
        {
          "name": "stderr",
          "output_type": "stream",
          "text": [
            "409it [00:08, 48.95it/s]"
          ]
        },
        {
          "name": "stdout",
          "output_type": "stream",
          "text": [
            "[11/20,   401/1563] lr: 0.00500 loss: 1.239 acc: 0.643\n"
          ]
        },
        {
          "name": "stderr",
          "output_type": "stream",
          "text": [
            "609it [00:12, 48.78it/s]"
          ]
        },
        {
          "name": "stdout",
          "output_type": "stream",
          "text": [
            "[11/20,   601/1563] lr: 0.00500 loss: 1.255 acc: 0.628\n"
          ]
        },
        {
          "name": "stderr",
          "output_type": "stream",
          "text": [
            "809it [00:17, 40.89it/s]"
          ]
        },
        {
          "name": "stdout",
          "output_type": "stream",
          "text": [
            "[11/20,   801/1563] lr: 0.00500 loss: 1.277 acc: 0.633\n"
          ]
        },
        {
          "name": "stderr",
          "output_type": "stream",
          "text": [
            "1009it [00:21, 43.44it/s]"
          ]
        },
        {
          "name": "stdout",
          "output_type": "stream",
          "text": [
            "[11/20,  1001/1563] lr: 0.00500 loss: 1.267 acc: 0.636\n"
          ]
        },
        {
          "name": "stderr",
          "output_type": "stream",
          "text": [
            "1209it [00:26, 42.37it/s]"
          ]
        },
        {
          "name": "stdout",
          "output_type": "stream",
          "text": [
            "[11/20,  1201/1563] lr: 0.00500 loss: 1.304 acc: 0.625\n"
          ]
        },
        {
          "name": "stderr",
          "output_type": "stream",
          "text": [
            "1409it [00:31, 40.93it/s]"
          ]
        },
        {
          "name": "stdout",
          "output_type": "stream",
          "text": [
            "[11/20,  1401/1563] lr: 0.00500 loss: 1.320 acc: 0.624\n"
          ]
        },
        {
          "name": "stderr",
          "output_type": "stream",
          "text": [
            "1563it [00:34, 44.73it/s]\n"
          ]
        },
        {
          "name": "stdout",
          "output_type": "stream",
          "text": [
            "Test Accuracy - Overall: 49.68% | Head: 42.33% | Mid: 51.50% | Tail: 54.72%\n",
            "[11/20] val acc: 0.497 train acc: 0.633\n"
          ]
        },
        {
          "name": "stderr",
          "output_type": "stream",
          "text": [
            "0it [00:00, ?it/s]"
          ]
        },
        {
          "name": "stdout",
          "output_type": "stream",
          "text": [
            "[12/20,     1/1563] lr: 0.00422 loss: 0.005 acc: 0.688\n"
          ]
        },
        {
          "name": "stderr",
          "output_type": "stream",
          "text": [
            "209it [00:04, 41.69it/s]"
          ]
        },
        {
          "name": "stdout",
          "output_type": "stream",
          "text": [
            "[12/20,   201/1563] lr: 0.00422 loss: 0.912 acc: 0.737\n"
          ]
        },
        {
          "name": "stderr",
          "output_type": "stream",
          "text": [
            "409it [00:09, 42.59it/s]"
          ]
        },
        {
          "name": "stdout",
          "output_type": "stream",
          "text": [
            "[12/20,   401/1563] lr: 0.00422 loss: 0.894 acc: 0.733\n"
          ]
        },
        {
          "name": "stderr",
          "output_type": "stream",
          "text": [
            "609it [00:14, 41.31it/s]"
          ]
        },
        {
          "name": "stdout",
          "output_type": "stream",
          "text": [
            "[12/20,   601/1563] lr: 0.00422 loss: 0.940 acc: 0.729\n"
          ]
        },
        {
          "name": "stderr",
          "output_type": "stream",
          "text": [
            "809it [00:19, 42.17it/s]"
          ]
        },
        {
          "name": "stdout",
          "output_type": "stream",
          "text": [
            "[12/20,   801/1563] lr: 0.00422 loss: 0.934 acc: 0.720\n"
          ]
        },
        {
          "name": "stderr",
          "output_type": "stream",
          "text": [
            "1009it [00:23, 44.84it/s]"
          ]
        },
        {
          "name": "stdout",
          "output_type": "stream",
          "text": [
            "[12/20,  1001/1563] lr: 0.00422 loss: 1.001 acc: 0.697\n"
          ]
        },
        {
          "name": "stderr",
          "output_type": "stream",
          "text": [
            "1209it [00:28, 43.14it/s]"
          ]
        },
        {
          "name": "stdout",
          "output_type": "stream",
          "text": [
            "[12/20,  1201/1563] lr: 0.00422 loss: 1.007 acc: 0.703\n"
          ]
        },
        {
          "name": "stderr",
          "output_type": "stream",
          "text": [
            "1409it [00:33, 41.40it/s]"
          ]
        },
        {
          "name": "stdout",
          "output_type": "stream",
          "text": [
            "[12/20,  1401/1563] lr: 0.00422 loss: 1.004 acc: 0.706\n"
          ]
        },
        {
          "name": "stderr",
          "output_type": "stream",
          "text": [
            "1563it [00:36, 42.39it/s]\n"
          ]
        },
        {
          "name": "stdout",
          "output_type": "stream",
          "text": [
            "Test Accuracy - Overall: 49.93% | Head: 42.49% | Mid: 51.50% | Tail: 55.40%\n",
            "[12/20] val acc: 0.499 train acc: 0.716\n"
          ]
        },
        {
          "name": "stderr",
          "output_type": "stream",
          "text": [
            "0it [00:00, ?it/s]"
          ]
        },
        {
          "name": "stdout",
          "output_type": "stream",
          "text": [
            "[13/20,     1/1563] lr: 0.00345 loss: 0.002 acc: 0.844\n"
          ]
        },
        {
          "name": "stderr",
          "output_type": "stream",
          "text": [
            "208it [00:04, 42.65it/s]"
          ]
        },
        {
          "name": "stdout",
          "output_type": "stream",
          "text": [
            "[13/20,   201/1563] lr: 0.00345 loss: 0.636 acc: 0.812\n"
          ]
        },
        {
          "name": "stderr",
          "output_type": "stream",
          "text": [
            "408it [00:09, 40.09it/s]"
          ]
        },
        {
          "name": "stdout",
          "output_type": "stream",
          "text": [
            "[13/20,   401/1563] lr: 0.00345 loss: 0.632 acc: 0.810\n"
          ]
        },
        {
          "name": "stderr",
          "output_type": "stream",
          "text": [
            "608it [00:14, 44.58it/s]"
          ]
        },
        {
          "name": "stdout",
          "output_type": "stream",
          "text": [
            "[13/20,   601/1563] lr: 0.00345 loss: 0.643 acc: 0.805\n"
          ]
        },
        {
          "name": "stderr",
          "output_type": "stream",
          "text": [
            "808it [00:18, 42.89it/s]"
          ]
        },
        {
          "name": "stdout",
          "output_type": "stream",
          "text": [
            "[13/20,   801/1563] lr: 0.00345 loss: 0.673 acc: 0.796\n"
          ]
        },
        {
          "name": "stderr",
          "output_type": "stream",
          "text": [
            "1008it [00:23, 43.16it/s]"
          ]
        },
        {
          "name": "stdout",
          "output_type": "stream",
          "text": [
            "[13/20,  1001/1563] lr: 0.00345 loss: 0.655 acc: 0.803\n"
          ]
        },
        {
          "name": "stderr",
          "output_type": "stream",
          "text": [
            "1208it [00:28, 43.13it/s]"
          ]
        },
        {
          "name": "stdout",
          "output_type": "stream",
          "text": [
            "[13/20,  1201/1563] lr: 0.00345 loss: 0.694 acc: 0.787\n"
          ]
        },
        {
          "name": "stderr",
          "output_type": "stream",
          "text": [
            "1408it [00:33, 41.47it/s]"
          ]
        },
        {
          "name": "stdout",
          "output_type": "stream",
          "text": [
            "[13/20,  1401/1563] lr: 0.00345 loss: 0.705 acc: 0.787\n"
          ]
        },
        {
          "name": "stderr",
          "output_type": "stream",
          "text": [
            "1563it [00:36, 42.39it/s]\n"
          ]
        },
        {
          "name": "stdout",
          "output_type": "stream",
          "text": [
            "Test Accuracy - Overall: 50.12% | Head: 44.97% | Mid: 51.12% | Tail: 54.05%\n",
            "[13/20] val acc: 0.501 train acc: 0.798\n"
          ]
        },
        {
          "name": "stderr",
          "output_type": "stream",
          "text": [
            "0it [00:00, ?it/s]"
          ]
        },
        {
          "name": "stdout",
          "output_type": "stream",
          "text": [
            "[14/20,     1/1563] lr: 0.00273 loss: 0.001 acc: 0.906\n"
          ]
        },
        {
          "name": "stderr",
          "output_type": "stream",
          "text": [
            "209it [00:04, 45.17it/s]"
          ]
        },
        {
          "name": "stdout",
          "output_type": "stream",
          "text": [
            "[14/20,   201/1563] lr: 0.00273 loss: 0.399 acc: 0.887\n"
          ]
        },
        {
          "name": "stderr",
          "output_type": "stream",
          "text": [
            "409it [00:09, 44.92it/s]"
          ]
        },
        {
          "name": "stdout",
          "output_type": "stream",
          "text": [
            "[14/20,   401/1563] lr: 0.00273 loss: 0.384 acc: 0.885\n"
          ]
        },
        {
          "name": "stderr",
          "output_type": "stream",
          "text": [
            "606it [00:13, 46.82it/s]"
          ]
        },
        {
          "name": "stdout",
          "output_type": "stream",
          "text": [
            "[14/20,   601/1563] lr: 0.00273 loss: 0.419 acc: 0.880\n"
          ]
        },
        {
          "name": "stderr",
          "output_type": "stream",
          "text": [
            "806it [00:17, 47.85it/s]"
          ]
        },
        {
          "name": "stdout",
          "output_type": "stream",
          "text": [
            "[14/20,   801/1563] lr: 0.00273 loss: 0.403 acc: 0.883\n"
          ]
        },
        {
          "name": "stderr",
          "output_type": "stream",
          "text": [
            "1006it [00:21, 44.96it/s]"
          ]
        },
        {
          "name": "stdout",
          "output_type": "stream",
          "text": [
            "[14/20,  1001/1563] lr: 0.00273 loss: 0.419 acc: 0.876\n"
          ]
        },
        {
          "name": "stderr",
          "output_type": "stream",
          "text": [
            "1206it [00:26, 44.95it/s]"
          ]
        },
        {
          "name": "stdout",
          "output_type": "stream",
          "text": [
            "[14/20,  1201/1563] lr: 0.00273 loss: 0.417 acc: 0.872\n"
          ]
        },
        {
          "name": "stderr",
          "output_type": "stream",
          "text": [
            "1406it [00:30, 47.75it/s]"
          ]
        },
        {
          "name": "stdout",
          "output_type": "stream",
          "text": [
            "[14/20,  1401/1563] lr: 0.00273 loss: 0.427 acc: 0.870\n"
          ]
        },
        {
          "name": "stderr",
          "output_type": "stream",
          "text": [
            "1563it [00:34, 45.79it/s]\n"
          ]
        },
        {
          "name": "stdout",
          "output_type": "stream",
          "text": [
            "Test Accuracy - Overall: 49.45% | Head: 41.58% | Mid: 52.12% | Tail: 53.88%\n",
            "[14/20] val acc: 0.494 train acc: 0.876\n"
          ]
        },
        {
          "name": "stderr",
          "output_type": "stream",
          "text": [
            "8it [00:00, 36.97it/s]"
          ]
        },
        {
          "name": "stdout",
          "output_type": "stream",
          "text": [
            "[15/20,     1/1563] lr: 0.00206 loss: 0.001 acc: 0.938\n"
          ]
        },
        {
          "name": "stderr",
          "output_type": "stream",
          "text": [
            "207it [00:04, 43.03it/s]"
          ]
        },
        {
          "name": "stdout",
          "output_type": "stream",
          "text": [
            "[15/20,   201/1563] lr: 0.00206 loss: 0.237 acc: 0.937\n"
          ]
        },
        {
          "name": "stderr",
          "output_type": "stream",
          "text": [
            "407it [00:09, 43.34it/s]"
          ]
        },
        {
          "name": "stdout",
          "output_type": "stream",
          "text": [
            "[15/20,   401/1563] lr: 0.00206 loss: 0.215 acc: 0.944\n"
          ]
        },
        {
          "name": "stderr",
          "output_type": "stream",
          "text": [
            "607it [00:14, 42.93it/s]"
          ]
        },
        {
          "name": "stdout",
          "output_type": "stream",
          "text": [
            "[15/20,   601/1563] lr: 0.00206 loss: 0.221 acc: 0.938\n"
          ]
        },
        {
          "name": "stderr",
          "output_type": "stream",
          "text": [
            "807it [00:19, 42.58it/s]"
          ]
        },
        {
          "name": "stdout",
          "output_type": "stream",
          "text": [
            "[15/20,   801/1563] lr: 0.00206 loss: 0.226 acc: 0.938\n"
          ]
        },
        {
          "name": "stderr",
          "output_type": "stream",
          "text": [
            "1007it [00:23, 42.15it/s]"
          ]
        },
        {
          "name": "stdout",
          "output_type": "stream",
          "text": [
            "[15/20,  1001/1563] lr: 0.00206 loss: 0.240 acc: 0.929\n"
          ]
        },
        {
          "name": "stderr",
          "output_type": "stream",
          "text": [
            "1207it [00:28, 40.54it/s]"
          ]
        },
        {
          "name": "stdout",
          "output_type": "stream",
          "text": [
            "[15/20,  1201/1563] lr: 0.00206 loss: 0.251 acc: 0.928\n"
          ]
        },
        {
          "name": "stderr",
          "output_type": "stream",
          "text": [
            "1407it [00:33, 42.40it/s]"
          ]
        },
        {
          "name": "stdout",
          "output_type": "stream",
          "text": [
            "[15/20,  1401/1563] lr: 0.00206 loss: 0.240 acc: 0.931\n"
          ]
        },
        {
          "name": "stderr",
          "output_type": "stream",
          "text": [
            "1563it [00:37, 41.95it/s]\n"
          ]
        },
        {
          "name": "stdout",
          "output_type": "stream",
          "text": [
            "Test Accuracy - Overall: 49.93% | Head: 43.98% | Mid: 50.19% | Tail: 55.65%\n",
            "[15/20] val acc: 0.499 train acc: 0.934\n"
          ]
        },
        {
          "name": "stderr",
          "output_type": "stream",
          "text": [
            "0it [00:00, ?it/s]"
          ]
        },
        {
          "name": "stdout",
          "output_type": "stream",
          "text": [
            "[16/20,     1/1563] lr: 0.00146 loss: 0.000 acc: 1.000\n"
          ]
        },
        {
          "name": "stderr",
          "output_type": "stream",
          "text": [
            "205it [00:04, 41.04it/s]"
          ]
        },
        {
          "name": "stdout",
          "output_type": "stream",
          "text": [
            "[16/20,   201/1563] lr: 0.00146 loss: 0.133 acc: 0.968\n"
          ]
        },
        {
          "name": "stderr",
          "output_type": "stream",
          "text": [
            "405it [00:09, 43.12it/s]"
          ]
        },
        {
          "name": "stdout",
          "output_type": "stream",
          "text": [
            "[16/20,   401/1563] lr: 0.00146 loss: 0.122 acc: 0.972\n"
          ]
        },
        {
          "name": "stderr",
          "output_type": "stream",
          "text": [
            "607it [00:14, 47.52it/s]"
          ]
        },
        {
          "name": "stdout",
          "output_type": "stream",
          "text": [
            "[16/20,   601/1563] lr: 0.00146 loss: 0.121 acc: 0.971\n"
          ]
        },
        {
          "name": "stderr",
          "output_type": "stream",
          "text": [
            "807it [00:18, 41.21it/s]"
          ]
        },
        {
          "name": "stdout",
          "output_type": "stream",
          "text": [
            "[16/20,   801/1563] lr: 0.00146 loss: 0.132 acc: 0.967\n"
          ]
        },
        {
          "name": "stderr",
          "output_type": "stream",
          "text": [
            "1007it [00:23, 43.63it/s]"
          ]
        },
        {
          "name": "stdout",
          "output_type": "stream",
          "text": [
            "[16/20,  1001/1563] lr: 0.00146 loss: 0.116 acc: 0.971\n"
          ]
        },
        {
          "name": "stderr",
          "output_type": "stream",
          "text": [
            "1207it [00:28, 39.75it/s]"
          ]
        },
        {
          "name": "stdout",
          "output_type": "stream",
          "text": [
            "[16/20,  1201/1563] lr: 0.00146 loss: 0.144 acc: 0.961\n"
          ]
        },
        {
          "name": "stderr",
          "output_type": "stream",
          "text": [
            "1407it [00:32, 47.20it/s]"
          ]
        },
        {
          "name": "stdout",
          "output_type": "stream",
          "text": [
            "[16/20,  1401/1563] lr: 0.00146 loss: 0.132 acc: 0.964\n"
          ]
        },
        {
          "name": "stderr",
          "output_type": "stream",
          "text": [
            "1563it [00:36, 43.35it/s]\n"
          ]
        },
        {
          "name": "stdout",
          "output_type": "stream",
          "text": [
            "Test Accuracy - Overall: 50.48% | Head: 44.47% | Mid: 51.19% | Tail: 55.65%\n",
            "[16/20] val acc: 0.505 train acc: 0.967\n"
          ]
        },
        {
          "name": "stderr",
          "output_type": "stream",
          "text": [
            "0it [00:00, ?it/s]"
          ]
        },
        {
          "name": "stdout",
          "output_type": "stream",
          "text": [
            "[17/20,     1/1563] lr: 0.00095 loss: 0.000 acc: 1.000\n"
          ]
        },
        {
          "name": "stderr",
          "output_type": "stream",
          "text": [
            "209it [00:04, 47.75it/s]"
          ]
        },
        {
          "name": "stdout",
          "output_type": "stream",
          "text": [
            "[17/20,   201/1563] lr: 0.00095 loss: 0.076 acc: 0.985\n"
          ]
        },
        {
          "name": "stderr",
          "output_type": "stream",
          "text": [
            "409it [00:08, 47.68it/s]"
          ]
        },
        {
          "name": "stdout",
          "output_type": "stream",
          "text": [
            "[17/20,   401/1563] lr: 0.00095 loss: 0.068 acc: 0.987\n"
          ]
        },
        {
          "name": "stderr",
          "output_type": "stream",
          "text": [
            "609it [00:13, 47.10it/s]"
          ]
        },
        {
          "name": "stdout",
          "output_type": "stream",
          "text": [
            "[17/20,   601/1563] lr: 0.00095 loss: 0.070 acc: 0.987\n"
          ]
        },
        {
          "name": "stderr",
          "output_type": "stream",
          "text": [
            "809it [00:17, 48.50it/s]"
          ]
        },
        {
          "name": "stdout",
          "output_type": "stream",
          "text": [
            "[17/20,   801/1563] lr: 0.00095 loss: 0.069 acc: 0.985\n"
          ]
        },
        {
          "name": "stderr",
          "output_type": "stream",
          "text": [
            "1009it [00:21, 46.34it/s]"
          ]
        },
        {
          "name": "stdout",
          "output_type": "stream",
          "text": [
            "[17/20,  1001/1563] lr: 0.00095 loss: 0.064 acc: 0.988\n"
          ]
        },
        {
          "name": "stderr",
          "output_type": "stream",
          "text": [
            "1209it [00:25, 47.37it/s]"
          ]
        },
        {
          "name": "stdout",
          "output_type": "stream",
          "text": [
            "[17/20,  1201/1563] lr: 0.00095 loss: 0.064 acc: 0.989\n"
          ]
        },
        {
          "name": "stderr",
          "output_type": "stream",
          "text": [
            "1409it [00:29, 47.26it/s]"
          ]
        },
        {
          "name": "stdout",
          "output_type": "stream",
          "text": [
            "[17/20,  1401/1563] lr: 0.00095 loss: 0.073 acc: 0.985\n"
          ]
        },
        {
          "name": "stderr",
          "output_type": "stream",
          "text": [
            "1563it [00:33, 46.85it/s]\n"
          ]
        },
        {
          "name": "stdout",
          "output_type": "stream",
          "text": [
            "Test Accuracy - Overall: 50.85% | Head: 44.64% | Mid: 51.87% | Tail: 55.82%\n",
            "[17/20] val acc: 0.508 train acc: 0.987\n"
          ]
        },
        {
          "name": "stderr",
          "output_type": "stream",
          "text": [
            "8it [00:00, 37.02it/s]"
          ]
        },
        {
          "name": "stdout",
          "output_type": "stream",
          "text": [
            "[18/20,     1/1563] lr: 0.00054 loss: 0.000 acc: 1.000\n"
          ]
        },
        {
          "name": "stderr",
          "output_type": "stream",
          "text": [
            "206it [00:05, 39.75it/s]"
          ]
        },
        {
          "name": "stdout",
          "output_type": "stream",
          "text": [
            "[18/20,   201/1563] lr: 0.00054 loss: 0.046 acc: 0.993\n"
          ]
        },
        {
          "name": "stderr",
          "output_type": "stream",
          "text": [
            "407it [00:10, 42.00it/s]"
          ]
        },
        {
          "name": "stdout",
          "output_type": "stream",
          "text": [
            "[18/20,   401/1563] lr: 0.00054 loss: 0.047 acc: 0.993\n"
          ]
        },
        {
          "name": "stderr",
          "output_type": "stream",
          "text": [
            "607it [00:14, 41.27it/s]"
          ]
        },
        {
          "name": "stdout",
          "output_type": "stream",
          "text": [
            "[18/20,   601/1563] lr: 0.00054 loss: 0.043 acc: 0.993\n"
          ]
        },
        {
          "name": "stderr",
          "output_type": "stream",
          "text": [
            "807it [00:19, 42.75it/s]"
          ]
        },
        {
          "name": "stdout",
          "output_type": "stream",
          "text": [
            "[18/20,   801/1563] lr: 0.00054 loss: 0.041 acc: 0.993\n"
          ]
        },
        {
          "name": "stderr",
          "output_type": "stream",
          "text": [
            "1007it [00:24, 43.81it/s]"
          ]
        },
        {
          "name": "stdout",
          "output_type": "stream",
          "text": [
            "[18/20,  1001/1563] lr: 0.00054 loss: 0.042 acc: 0.994\n"
          ]
        },
        {
          "name": "stderr",
          "output_type": "stream",
          "text": [
            "1207it [00:28, 43.38it/s]"
          ]
        },
        {
          "name": "stdout",
          "output_type": "stream",
          "text": [
            "[18/20,  1201/1563] lr: 0.00054 loss: 0.045 acc: 0.992\n"
          ]
        },
        {
          "name": "stderr",
          "output_type": "stream",
          "text": [
            "1407it [00:33, 40.82it/s]"
          ]
        },
        {
          "name": "stdout",
          "output_type": "stream",
          "text": [
            "[18/20,  1401/1563] lr: 0.00054 loss: 0.045 acc: 0.993\n"
          ]
        },
        {
          "name": "stderr",
          "output_type": "stream",
          "text": [
            "1563it [00:37, 41.56it/s]\n"
          ]
        },
        {
          "name": "stdout",
          "output_type": "stream",
          "text": [
            "Test Accuracy - Overall: 51.08% | Head: 45.13% | Mid: 52.06% | Tail: 55.82%\n",
            "[18/20] val acc: 0.511 train acc: 0.993\n"
          ]
        },
        {
          "name": "stderr",
          "output_type": "stream",
          "text": [
            "0it [00:00, ?it/s]"
          ]
        },
        {
          "name": "stdout",
          "output_type": "stream",
          "text": [
            "[19/20,     1/1563] lr: 0.00024 loss: 0.000 acc: 1.000\n"
          ]
        },
        {
          "name": "stderr",
          "output_type": "stream",
          "text": [
            "209it [00:04, 42.29it/s]"
          ]
        },
        {
          "name": "stdout",
          "output_type": "stream",
          "text": [
            "[19/20,   201/1563] lr: 0.00024 loss: 0.037 acc: 0.993\n"
          ]
        },
        {
          "name": "stderr",
          "output_type": "stream",
          "text": [
            "409it [00:09, 43.18it/s]"
          ]
        },
        {
          "name": "stdout",
          "output_type": "stream",
          "text": [
            "[19/20,   401/1563] lr: 0.00024 loss: 0.031 acc: 0.997\n"
          ]
        },
        {
          "name": "stderr",
          "output_type": "stream",
          "text": [
            "609it [00:14, 41.83it/s]"
          ]
        },
        {
          "name": "stdout",
          "output_type": "stream",
          "text": [
            "[19/20,   601/1563] lr: 0.00024 loss: 0.030 acc: 0.997\n"
          ]
        },
        {
          "name": "stderr",
          "output_type": "stream",
          "text": [
            "809it [00:19, 41.72it/s]"
          ]
        },
        {
          "name": "stdout",
          "output_type": "stream",
          "text": [
            "[19/20,   801/1563] lr: 0.00024 loss: 0.032 acc: 0.995\n"
          ]
        },
        {
          "name": "stderr",
          "output_type": "stream",
          "text": [
            "1004it [00:23, 40.44it/s]"
          ]
        },
        {
          "name": "stdout",
          "output_type": "stream",
          "text": [
            "[19/20,  1001/1563] lr: 0.00024 loss: 0.029 acc: 0.997\n"
          ]
        },
        {
          "name": "stderr",
          "output_type": "stream",
          "text": [
            "1209it [00:28, 44.33it/s]"
          ]
        },
        {
          "name": "stdout",
          "output_type": "stream",
          "text": [
            "[19/20,  1201/1563] lr: 0.00024 loss: 0.031 acc: 0.995\n"
          ]
        },
        {
          "name": "stderr",
          "output_type": "stream",
          "text": [
            "1409it [00:33, 44.48it/s]"
          ]
        },
        {
          "name": "stdout",
          "output_type": "stream",
          "text": [
            "[19/20,  1401/1563] lr: 0.00024 loss: 0.033 acc: 0.996\n"
          ]
        },
        {
          "name": "stderr",
          "output_type": "stream",
          "text": [
            "1563it [00:37, 42.22it/s]\n"
          ]
        },
        {
          "name": "stdout",
          "output_type": "stream",
          "text": [
            "Test Accuracy - Overall: 50.72% | Head: 44.14% | Mid: 52.43% | Tail: 55.14%\n",
            "[19/20] val acc: 0.507 train acc: 0.996\n"
          ]
        },
        {
          "name": "stderr",
          "output_type": "stream",
          "text": [
            "0it [00:00, ?it/s]"
          ]
        },
        {
          "name": "stdout",
          "output_type": "stream",
          "text": [
            "[20/20,     1/1563] lr: 0.00006 loss: 0.000 acc: 1.000\n"
          ]
        },
        {
          "name": "stderr",
          "output_type": "stream",
          "text": [
            "207it [00:04, 47.54it/s]"
          ]
        },
        {
          "name": "stdout",
          "output_type": "stream",
          "text": [
            "[20/20,   201/1563] lr: 0.00006 loss: 0.024 acc: 0.998\n"
          ]
        },
        {
          "name": "stderr",
          "output_type": "stream",
          "text": [
            "409it [00:08, 43.44it/s]"
          ]
        },
        {
          "name": "stdout",
          "output_type": "stream",
          "text": [
            "[20/20,   401/1563] lr: 0.00006 loss: 0.025 acc: 0.998\n"
          ]
        },
        {
          "name": "stderr",
          "output_type": "stream",
          "text": [
            "609it [00:13, 45.91it/s]"
          ]
        },
        {
          "name": "stdout",
          "output_type": "stream",
          "text": [
            "[20/20,   601/1563] lr: 0.00006 loss: 0.028 acc: 0.997\n"
          ]
        },
        {
          "name": "stderr",
          "output_type": "stream",
          "text": [
            "809it [00:17, 40.48it/s]"
          ]
        },
        {
          "name": "stdout",
          "output_type": "stream",
          "text": [
            "[20/20,   801/1563] lr: 0.00006 loss: 0.027 acc: 0.998\n"
          ]
        },
        {
          "name": "stderr",
          "output_type": "stream",
          "text": [
            "1009it [00:22, 42.31it/s]"
          ]
        },
        {
          "name": "stdout",
          "output_type": "stream",
          "text": [
            "[20/20,  1001/1563] lr: 0.00006 loss: 0.025 acc: 0.997\n"
          ]
        },
        {
          "name": "stderr",
          "output_type": "stream",
          "text": [
            "1207it [00:27, 43.39it/s]"
          ]
        },
        {
          "name": "stdout",
          "output_type": "stream",
          "text": [
            "[20/20,  1201/1563] lr: 0.00006 loss: 0.024 acc: 0.998\n"
          ]
        },
        {
          "name": "stderr",
          "output_type": "stream",
          "text": [
            "1407it [00:31, 44.43it/s]"
          ]
        },
        {
          "name": "stdout",
          "output_type": "stream",
          "text": [
            "[20/20,  1401/1563] lr: 0.00006 loss: 0.027 acc: 0.997\n"
          ]
        },
        {
          "name": "stderr",
          "output_type": "stream",
          "text": [
            "1563it [00:35, 44.36it/s]\n"
          ]
        },
        {
          "name": "stdout",
          "output_type": "stream",
          "text": [
            "Test Accuracy - Overall: 50.82% | Head: 44.14% | Mid: 52.43% | Tail: 55.48%\n",
            "[20/20] val acc: 0.508 train acc: 0.997\n"
          ]
        }
      ],
      "source": [
        "# Cifar-100 Accuracy\n",
        "\n",
        "# Model\n",
        "model = resnet50(num_classes=100)\n",
        "model.conv1 = nn.Conv2d(3, 64, kernel_size=3, stride=1, padding=1, bias=False)\n",
        "model.maxpool = nn.Identity()\n",
        "\n",
        "# Train/Val Set\n",
        "trainSet = torch.utils.data.TensorDataset(torch.Tensor(trainData), torch.Tensor(trainLabel).long())\n",
        "trainLoader = torch.utils.data.DataLoader(trainSet, batch_size=32, shuffle=True, num_workers=2)\n",
        "valSet = torch.utils.data.TensorDataset(torch.Tensor(valData), torch.Tensor(valLabel))\n",
        "valLoader = torch.utils.data.DataLoader(valSet, batch_size=32, shuffle=True, num_workers=2)\n",
        "\n",
        "# Params\n",
        "optimizer = torch.optim.Adam(model.parameters(), lr=0.01)\n",
        "scheduler = torch.optim.lr_scheduler.CosineAnnealingLR(optimizer, T_max=20)\n",
        "loss = nn.CrossEntropyLoss()\n",
        "\n",
        "# Train\n",
        "model.to(device)\n",
        "train_model(trainLoader, valLoader, 20, model, optimizer, scheduler, loss)"
      ]
    },
    {
      "cell_type": "markdown",
      "source": [
        "# CNN"
      ],
      "metadata": {
        "id": "KgoIRrlqTgN3"
      },
      "id": "KgoIRrlqTgN3"
    },
    {
      "cell_type": "code",
      "execution_count": null,
      "id": "f8bd9e53",
      "metadata": {
        "id": "f8bd9e53",
        "outputId": "5b0ba4cf-0350-4f10-f2c8-a18842b9560c"
      },
      "outputs": [
        {
          "name": "stderr",
          "output_type": "stream",
          "text": [
            "41it [00:00, 203.00it/s]"
          ]
        },
        {
          "name": "stdout",
          "output_type": "stream",
          "text": [
            "[1/30,     1/1563] lr: 0.01000 loss: 0.023 acc: 0.031\n"
          ]
        },
        {
          "name": "stderr",
          "output_type": "stream",
          "text": [
            "235it [00:01, 234.32it/s]"
          ]
        },
        {
          "name": "stdout",
          "output_type": "stream",
          "text": [
            "[1/30,   201/1563] lr: 0.01000 loss: 4.627 acc: 0.011\n"
          ]
        },
        {
          "name": "stderr",
          "output_type": "stream",
          "text": [
            "434it [00:01, 240.73it/s]"
          ]
        },
        {
          "name": "stdout",
          "output_type": "stream",
          "text": [
            "[1/30,   401/1563] lr: 0.01000 loss: 4.610 acc: 0.009\n"
          ]
        },
        {
          "name": "stderr",
          "output_type": "stream",
          "text": [
            "634it [00:02, 243.28it/s]"
          ]
        },
        {
          "name": "stdout",
          "output_type": "stream",
          "text": [
            "[1/30,   601/1563] lr: 0.01000 loss: 4.611 acc: 0.011\n"
          ]
        },
        {
          "name": "stderr",
          "output_type": "stream",
          "text": [
            "834it [00:03, 241.92it/s]"
          ]
        },
        {
          "name": "stdout",
          "output_type": "stream",
          "text": [
            "[1/30,   801/1563] lr: 0.01000 loss: 4.609 acc: 0.011\n"
          ]
        },
        {
          "name": "stderr",
          "output_type": "stream",
          "text": [
            "1034it [00:04, 245.74it/s]"
          ]
        },
        {
          "name": "stdout",
          "output_type": "stream",
          "text": [
            "[1/30,  1001/1563] lr: 0.01000 loss: 4.611 acc: 0.008\n"
          ]
        },
        {
          "name": "stderr",
          "output_type": "stream",
          "text": [
            "1234it [00:05, 243.24it/s]"
          ]
        },
        {
          "name": "stdout",
          "output_type": "stream",
          "text": [
            "[1/30,  1201/1563] lr: 0.01000 loss: 4.610 acc: 0.007\n"
          ]
        },
        {
          "name": "stderr",
          "output_type": "stream",
          "text": [
            "1434it [00:06, 240.17it/s]"
          ]
        },
        {
          "name": "stdout",
          "output_type": "stream",
          "text": [
            "[1/30,  1401/1563] lr: 0.01000 loss: 4.611 acc: 0.011\n"
          ]
        },
        {
          "name": "stderr",
          "output_type": "stream",
          "text": [
            "1563it [00:06, 235.92it/s]\n"
          ]
        },
        {
          "name": "stdout",
          "output_type": "stream",
          "text": [
            "Test Accuracy - Overall: 0.90% | Head: 0.00% | Mid: 2.25% | Tail: 0.00%\n",
            "[1/30] val acc: 0.009 train acc: 0.010\n"
          ]
        },
        {
          "name": "stderr",
          "output_type": "stream",
          "text": [
            "0it [00:00, ?it/s]"
          ]
        },
        {
          "name": "stdout",
          "output_type": "stream",
          "text": [
            "[2/30,     1/1563] lr: 0.01000 loss: 0.023 acc: 0.000\n"
          ]
        },
        {
          "name": "stderr",
          "output_type": "stream",
          "text": [
            "239it [00:01, 205.29it/s]"
          ]
        },
        {
          "name": "stdout",
          "output_type": "stream",
          "text": [
            "[2/30,   201/1563] lr: 0.01000 loss: 4.609 acc: 0.009\n"
          ]
        },
        {
          "name": "stderr",
          "output_type": "stream",
          "text": [
            "432it [00:02, 211.85it/s]"
          ]
        },
        {
          "name": "stdout",
          "output_type": "stream",
          "text": [
            "[2/30,   401/1563] lr: 0.01000 loss: 4.612 acc: 0.007\n"
          ]
        },
        {
          "name": "stderr",
          "output_type": "stream",
          "text": [
            "625it [00:03, 198.38it/s]"
          ]
        },
        {
          "name": "stdout",
          "output_type": "stream",
          "text": [
            "[2/30,   601/1563] lr: 0.01000 loss: 4.610 acc: 0.011\n"
          ]
        },
        {
          "name": "stderr",
          "output_type": "stream",
          "text": [
            "826it [00:04, 192.37it/s]"
          ]
        },
        {
          "name": "stdout",
          "output_type": "stream",
          "text": [
            "[2/30,   801/1563] lr: 0.01000 loss: 4.612 acc: 0.008\n"
          ]
        },
        {
          "name": "stderr",
          "output_type": "stream",
          "text": [
            "1024it [00:05, 179.06it/s]"
          ]
        },
        {
          "name": "stdout",
          "output_type": "stream",
          "text": [
            "[2/30,  1001/1563] lr: 0.01000 loss: 4.611 acc: 0.009\n"
          ]
        },
        {
          "name": "stderr",
          "output_type": "stream",
          "text": [
            "1235it [00:06, 180.13it/s]"
          ]
        },
        {
          "name": "stdout",
          "output_type": "stream",
          "text": [
            "[2/30,  1201/1563] lr: 0.01000 loss: 4.610 acc: 0.009\n"
          ]
        },
        {
          "name": "stderr",
          "output_type": "stream",
          "text": [
            "1419it [00:07, 195.41it/s]"
          ]
        },
        {
          "name": "stdout",
          "output_type": "stream",
          "text": [
            "[2/30,  1401/1563] lr: 0.01000 loss: 4.610 acc: 0.010\n"
          ]
        },
        {
          "name": "stderr",
          "output_type": "stream",
          "text": [
            "1563it [00:08, 194.35it/s]\n"
          ]
        },
        {
          "name": "stdout",
          "output_type": "stream",
          "text": [
            "Test Accuracy - Overall: 0.90% | Head: 2.97% | Mid: 0.00% | Tail: 0.00%\n",
            "[2/30] val acc: 0.009 train acc: 0.009\n"
          ]
        },
        {
          "name": "stderr",
          "output_type": "stream",
          "text": [
            "0it [00:00, ?it/s]"
          ]
        },
        {
          "name": "stdout",
          "output_type": "stream",
          "text": [
            "[3/30,     1/1563] lr: 0.01000 loss: 0.023 acc: 0.000\n"
          ]
        },
        {
          "name": "stderr",
          "output_type": "stream",
          "text": [
            "233it [00:01, 179.16it/s]"
          ]
        },
        {
          "name": "stdout",
          "output_type": "stream",
          "text": [
            "[3/30,   201/1563] lr: 0.01000 loss: 4.611 acc: 0.006\n"
          ]
        },
        {
          "name": "stderr",
          "output_type": "stream",
          "text": [
            "427it [00:02, 194.68it/s]"
          ]
        },
        {
          "name": "stdout",
          "output_type": "stream",
          "text": [
            "[3/30,   401/1563] lr: 0.01000 loss: 4.610 acc: 0.010\n"
          ]
        },
        {
          "name": "stderr",
          "output_type": "stream",
          "text": [
            "643it [00:03, 214.83it/s]"
          ]
        },
        {
          "name": "stdout",
          "output_type": "stream",
          "text": [
            "[3/30,   601/1563] lr: 0.01000 loss: 4.611 acc: 0.010\n"
          ]
        },
        {
          "name": "stderr",
          "output_type": "stream",
          "text": [
            "820it [00:04, 190.79it/s]"
          ]
        },
        {
          "name": "stdout",
          "output_type": "stream",
          "text": [
            "[3/30,   801/1563] lr: 0.01000 loss: 4.614 acc: 0.010\n"
          ]
        },
        {
          "name": "stderr",
          "output_type": "stream",
          "text": [
            "1020it [00:05, 183.98it/s]"
          ]
        },
        {
          "name": "stdout",
          "output_type": "stream",
          "text": [
            "[3/30,  1001/1563] lr: 0.01000 loss: 4.610 acc: 0.008\n"
          ]
        },
        {
          "name": "stderr",
          "output_type": "stream",
          "text": [
            "1232it [00:06, 184.71it/s]"
          ]
        },
        {
          "name": "stdout",
          "output_type": "stream",
          "text": [
            "[3/30,  1201/1563] lr: 0.01000 loss: 4.611 acc: 0.011\n"
          ]
        },
        {
          "name": "stderr",
          "output_type": "stream",
          "text": [
            "1424it [00:07, 189.04it/s]"
          ]
        },
        {
          "name": "stdout",
          "output_type": "stream",
          "text": [
            "[3/30,  1401/1563] lr: 0.01000 loss: 4.611 acc: 0.009\n"
          ]
        },
        {
          "name": "stderr",
          "output_type": "stream",
          "text": [
            "1563it [00:08, 191.25it/s]\n"
          ]
        },
        {
          "name": "stdout",
          "output_type": "stream",
          "text": [
            "Test Accuracy - Overall: 0.70% | Head: 0.00% | Mid: 1.75% | Tail: 0.00%\n",
            "[3/30] val acc: 0.007 train acc: 0.009\n"
          ]
        },
        {
          "name": "stderr",
          "output_type": "stream",
          "text": [
            "0it [00:00, ?it/s]"
          ]
        },
        {
          "name": "stdout",
          "output_type": "stream",
          "text": [
            "[4/30,     1/1563] lr: 0.01000 loss: 0.023 acc: 0.000\n"
          ]
        },
        {
          "name": "stderr",
          "output_type": "stream",
          "text": [
            "231it [00:01, 208.02it/s]"
          ]
        },
        {
          "name": "stdout",
          "output_type": "stream",
          "text": [
            "[4/30,   201/1563] lr: 0.01000 loss: 4.610 acc: 0.010\n"
          ]
        },
        {
          "name": "stderr",
          "output_type": "stream",
          "text": [
            "424it [00:02, 200.48it/s]"
          ]
        },
        {
          "name": "stdout",
          "output_type": "stream",
          "text": [
            "[4/30,   401/1563] lr: 0.01000 loss: 4.611 acc: 0.010\n"
          ]
        },
        {
          "name": "stderr",
          "output_type": "stream",
          "text": [
            "629it [00:03, 202.50it/s]"
          ]
        },
        {
          "name": "stdout",
          "output_type": "stream",
          "text": [
            "[4/30,   601/1563] lr: 0.01000 loss: 4.611 acc: 0.010\n"
          ]
        },
        {
          "name": "stderr",
          "output_type": "stream",
          "text": [
            "834it [00:04, 195.37it/s]"
          ]
        },
        {
          "name": "stdout",
          "output_type": "stream",
          "text": [
            "[4/30,   801/1563] lr: 0.01000 loss: 4.610 acc: 0.009\n"
          ]
        },
        {
          "name": "stderr",
          "output_type": "stream",
          "text": [
            "1029it [00:05, 186.76it/s]"
          ]
        },
        {
          "name": "stdout",
          "output_type": "stream",
          "text": [
            "[4/30,  1001/1563] lr: 0.01000 loss: 4.610 acc: 0.009\n"
          ]
        },
        {
          "name": "stderr",
          "output_type": "stream",
          "text": [
            "1235it [00:06, 184.22it/s]"
          ]
        },
        {
          "name": "stdout",
          "output_type": "stream",
          "text": [
            "[4/30,  1201/1563] lr: 0.01000 loss: 4.611 acc: 0.009\n"
          ]
        },
        {
          "name": "stderr",
          "output_type": "stream",
          "text": [
            "1433it [00:07, 192.83it/s]"
          ]
        },
        {
          "name": "stdout",
          "output_type": "stream",
          "text": [
            "[4/30,  1401/1563] lr: 0.01000 loss: 4.610 acc: 0.010\n"
          ]
        },
        {
          "name": "stderr",
          "output_type": "stream",
          "text": [
            "1563it [00:08, 188.67it/s]\n"
          ]
        },
        {
          "name": "stdout",
          "output_type": "stream",
          "text": [
            "Test Accuracy - Overall: 1.12% | Head: 3.71% | Mid: 0.00% | Tail: 0.00%\n",
            "[4/30] val acc: 0.011 train acc: 0.010\n"
          ]
        },
        {
          "name": "stderr",
          "output_type": "stream",
          "text": [
            "0it [00:00, ?it/s]"
          ]
        },
        {
          "name": "stdout",
          "output_type": "stream",
          "text": [
            "[5/30,     1/1563] lr: 0.01000 loss: 0.023 acc: 0.031\n"
          ]
        },
        {
          "name": "stderr",
          "output_type": "stream",
          "text": [
            "229it [00:01, 202.15it/s]"
          ]
        },
        {
          "name": "stdout",
          "output_type": "stream",
          "text": [
            "[5/30,   201/1563] lr: 0.01000 loss: 4.609 acc: 0.011\n"
          ]
        },
        {
          "name": "stderr",
          "output_type": "stream",
          "text": [
            "427it [00:02, 202.63it/s]"
          ]
        },
        {
          "name": "stdout",
          "output_type": "stream",
          "text": [
            "[5/30,   401/1563] lr: 0.01000 loss: 4.610 acc: 0.008\n"
          ]
        },
        {
          "name": "stderr",
          "output_type": "stream",
          "text": [
            "634it [00:03, 198.77it/s]"
          ]
        },
        {
          "name": "stdout",
          "output_type": "stream",
          "text": [
            "[5/30,   601/1563] lr: 0.01000 loss: 4.611 acc: 0.010\n"
          ]
        },
        {
          "name": "stderr",
          "output_type": "stream",
          "text": [
            "826it [00:04, 213.26it/s]"
          ]
        },
        {
          "name": "stdout",
          "output_type": "stream",
          "text": [
            "[5/30,   801/1563] lr: 0.01000 loss: 4.610 acc: 0.011\n"
          ]
        },
        {
          "name": "stderr",
          "output_type": "stream",
          "text": [
            "1038it [00:05, 202.04it/s]"
          ]
        },
        {
          "name": "stdout",
          "output_type": "stream",
          "text": [
            "[5/30,  1001/1563] lr: 0.01000 loss: 4.610 acc: 0.011\n"
          ]
        },
        {
          "name": "stderr",
          "output_type": "stream",
          "text": [
            "1228it [00:06, 202.01it/s]"
          ]
        },
        {
          "name": "stdout",
          "output_type": "stream",
          "text": [
            "[5/30,  1201/1563] lr: 0.01000 loss: 4.612 acc: 0.008\n"
          ]
        },
        {
          "name": "stderr",
          "output_type": "stream",
          "text": [
            "1439it [00:07, 202.75it/s]"
          ]
        },
        {
          "name": "stdout",
          "output_type": "stream",
          "text": [
            "[5/30,  1401/1563] lr: 0.01000 loss: 4.611 acc: 0.010\n"
          ]
        },
        {
          "name": "stderr",
          "output_type": "stream",
          "text": [
            "1563it [00:07, 200.01it/s]\n"
          ]
        },
        {
          "name": "stdout",
          "output_type": "stream",
          "text": [
            "Test Accuracy - Overall: 0.80% | Head: 0.00% | Mid: 2.00% | Tail: 0.00%\n",
            "[5/30] val acc: 0.008 train acc: 0.010\n"
          ]
        },
        {
          "name": "stderr",
          "output_type": "stream",
          "text": [
            "0it [00:00, ?it/s]"
          ]
        },
        {
          "name": "stdout",
          "output_type": "stream",
          "text": [
            "[6/30,     1/1563] lr: 0.01000 loss: 0.023 acc: 0.031\n"
          ]
        },
        {
          "name": "stderr",
          "output_type": "stream",
          "text": [
            "229it [00:01, 200.14it/s]"
          ]
        },
        {
          "name": "stdout",
          "output_type": "stream",
          "text": [
            "[6/30,   201/1563] lr: 0.01000 loss: 4.610 acc: 0.010\n"
          ]
        },
        {
          "name": "stderr",
          "output_type": "stream",
          "text": [
            "426it [00:02, 213.05it/s]"
          ]
        },
        {
          "name": "stdout",
          "output_type": "stream",
          "text": [
            "[6/30,   401/1563] lr: 0.01000 loss: 4.611 acc: 0.008\n"
          ]
        },
        {
          "name": "stderr",
          "output_type": "stream",
          "text": [
            "635it [00:03, 200.75it/s]"
          ]
        },
        {
          "name": "stdout",
          "output_type": "stream",
          "text": [
            "[6/30,   601/1563] lr: 0.01000 loss: 4.611 acc: 0.010\n"
          ]
        },
        {
          "name": "stderr",
          "output_type": "stream",
          "text": [
            "837it [00:04, 190.79it/s]"
          ]
        },
        {
          "name": "stdout",
          "output_type": "stream",
          "text": [
            "[6/30,   801/1563] lr: 0.01000 loss: 4.610 acc: 0.011\n"
          ]
        },
        {
          "name": "stderr",
          "output_type": "stream",
          "text": [
            "1033it [00:05, 179.02it/s]"
          ]
        },
        {
          "name": "stdout",
          "output_type": "stream",
          "text": [
            "[6/30,  1001/1563] lr: 0.01000 loss: 4.610 acc: 0.009\n"
          ]
        },
        {
          "name": "stderr",
          "output_type": "stream",
          "text": [
            "1221it [00:06, 181.36it/s]"
          ]
        },
        {
          "name": "stdout",
          "output_type": "stream",
          "text": [
            "[6/30,  1201/1563] lr: 0.01000 loss: 4.612 acc: 0.010\n"
          ]
        },
        {
          "name": "stderr",
          "output_type": "stream",
          "text": [
            "1432it [00:07, 175.25it/s]"
          ]
        },
        {
          "name": "stdout",
          "output_type": "stream",
          "text": [
            "[6/30,  1401/1563] lr: 0.01000 loss: 4.611 acc: 0.010\n"
          ]
        },
        {
          "name": "stderr",
          "output_type": "stream",
          "text": [
            "1563it [00:08, 189.28it/s]\n"
          ]
        },
        {
          "name": "stdout",
          "output_type": "stream",
          "text": [
            "Test Accuracy - Overall: 0.95% | Head: 0.00% | Mid: 0.00% | Tail: 3.20%\n",
            "[6/30] val acc: 0.009 train acc: 0.010\n"
          ]
        },
        {
          "name": "stderr",
          "output_type": "stream",
          "text": [
            "0it [00:00, ?it/s]"
          ]
        },
        {
          "name": "stdout",
          "output_type": "stream",
          "text": [
            "[7/30,     1/1563] lr: 0.01000 loss: 0.023 acc: 0.000\n"
          ]
        },
        {
          "name": "stderr",
          "output_type": "stream",
          "text": [
            "226it [00:00, 257.93it/s]"
          ]
        },
        {
          "name": "stdout",
          "output_type": "stream",
          "text": [
            "[7/30,   201/1563] lr: 0.01000 loss: 4.611 acc: 0.009\n"
          ]
        },
        {
          "name": "stderr",
          "output_type": "stream",
          "text": [
            "436it [00:01, 219.54it/s]"
          ]
        },
        {
          "name": "stdout",
          "output_type": "stream",
          "text": [
            "[7/30,   401/1563] lr: 0.01000 loss: 4.610 acc: 0.009\n"
          ]
        },
        {
          "name": "stderr",
          "output_type": "stream",
          "text": [
            "635it [00:02, 214.63it/s]"
          ]
        },
        {
          "name": "stdout",
          "output_type": "stream",
          "text": [
            "[7/30,   601/1563] lr: 0.01000 loss: 4.611 acc: 0.009\n"
          ]
        },
        {
          "name": "stderr",
          "output_type": "stream",
          "text": [
            "836it [00:03, 219.40it/s]"
          ]
        },
        {
          "name": "stdout",
          "output_type": "stream",
          "text": [
            "[7/30,   801/1563] lr: 0.01000 loss: 4.611 acc: 0.009\n"
          ]
        },
        {
          "name": "stderr",
          "output_type": "stream",
          "text": [
            "1043it [00:04, 221.51it/s]"
          ]
        },
        {
          "name": "stdout",
          "output_type": "stream",
          "text": [
            "[7/30,  1001/1563] lr: 0.01000 loss: 4.610 acc: 0.010\n"
          ]
        },
        {
          "name": "stderr",
          "output_type": "stream",
          "text": [
            "1224it [00:05, 216.65it/s]"
          ]
        },
        {
          "name": "stdout",
          "output_type": "stream",
          "text": [
            "[7/30,  1201/1563] lr: 0.01000 loss: 4.611 acc: 0.009\n"
          ]
        },
        {
          "name": "stderr",
          "output_type": "stream",
          "text": [
            "1426it [00:06, 214.70it/s]"
          ]
        },
        {
          "name": "stdout",
          "output_type": "stream",
          "text": [
            "[7/30,  1401/1563] lr: 0.01000 loss: 4.610 acc: 0.010\n"
          ]
        },
        {
          "name": "stderr",
          "output_type": "stream",
          "text": [
            "1563it [00:07, 215.33it/s]\n"
          ]
        },
        {
          "name": "stdout",
          "output_type": "stream",
          "text": [
            "Test Accuracy - Overall: 1.23% | Head: 0.00% | Mid: 3.06% | Tail: 0.00%\n",
            "[7/30] val acc: 0.012 train acc: 0.010\n"
          ]
        },
        {
          "name": "stderr",
          "output_type": "stream",
          "text": [
            "0it [00:00, ?it/s]"
          ]
        },
        {
          "name": "stdout",
          "output_type": "stream",
          "text": [
            "[8/30,     1/1563] lr: 0.01000 loss: 0.023 acc: 0.000\n"
          ]
        },
        {
          "name": "stderr",
          "output_type": "stream",
          "text": [
            "226it [00:01, 222.90it/s]"
          ]
        },
        {
          "name": "stdout",
          "output_type": "stream",
          "text": [
            "[8/30,   201/1563] lr: 0.01000 loss: 4.609 acc: 0.008\n"
          ]
        },
        {
          "name": "stderr",
          "output_type": "stream",
          "text": [
            "433it [00:01, 220.09it/s]"
          ]
        },
        {
          "name": "stdout",
          "output_type": "stream",
          "text": [
            "[8/30,   401/1563] lr: 0.01000 loss: 4.611 acc: 0.009\n"
          ]
        },
        {
          "name": "stderr",
          "output_type": "stream",
          "text": [
            "636it [00:02, 220.08it/s]"
          ]
        },
        {
          "name": "stdout",
          "output_type": "stream",
          "text": [
            "[8/30,   601/1563] lr: 0.01000 loss: 4.610 acc: 0.011\n"
          ]
        },
        {
          "name": "stderr",
          "output_type": "stream",
          "text": [
            "837it [00:03, 217.52it/s]"
          ]
        },
        {
          "name": "stdout",
          "output_type": "stream",
          "text": [
            "[8/30,   801/1563] lr: 0.01000 loss: 4.611 acc: 0.010\n"
          ]
        },
        {
          "name": "stderr",
          "output_type": "stream",
          "text": [
            "1040it [00:04, 218.95it/s]"
          ]
        },
        {
          "name": "stdout",
          "output_type": "stream",
          "text": [
            "[8/30,  1001/1563] lr: 0.01000 loss: 4.611 acc: 0.009\n"
          ]
        },
        {
          "name": "stderr",
          "output_type": "stream",
          "text": [
            "1240it [00:05, 218.24it/s]"
          ]
        },
        {
          "name": "stdout",
          "output_type": "stream",
          "text": [
            "[8/30,  1201/1563] lr: 0.01000 loss: 4.611 acc: 0.009\n"
          ]
        },
        {
          "name": "stderr",
          "output_type": "stream",
          "text": [
            "1440it [00:06, 219.18it/s]"
          ]
        },
        {
          "name": "stdout",
          "output_type": "stream",
          "text": [
            "[8/30,  1401/1563] lr: 0.01000 loss: 4.610 acc: 0.011\n"
          ]
        },
        {
          "name": "stderr",
          "output_type": "stream",
          "text": [
            "1563it [00:07, 215.58it/s]\n"
          ]
        },
        {
          "name": "stdout",
          "output_type": "stream",
          "text": [
            "Test Accuracy - Overall: 1.15% | Head: 0.00% | Mid: 2.87% | Tail: 0.00%\n",
            "[8/30] val acc: 0.011 train acc: 0.010\n"
          ]
        },
        {
          "name": "stderr",
          "output_type": "stream",
          "text": [
            "0it [00:00, ?it/s]"
          ]
        },
        {
          "name": "stdout",
          "output_type": "stream",
          "text": [
            "[9/30,     1/1563] lr: 0.01000 loss: 0.023 acc: 0.000\n"
          ]
        },
        {
          "name": "stderr",
          "output_type": "stream",
          "text": [
            "242it [00:01, 240.38it/s]"
          ]
        },
        {
          "name": "stdout",
          "output_type": "stream",
          "text": [
            "[9/30,   201/1563] lr: 0.01000 loss: 4.611 acc: 0.009\n"
          ]
        },
        {
          "name": "stderr",
          "output_type": "stream",
          "text": [
            "442it [00:01, 243.65it/s]"
          ]
        },
        {
          "name": "stdout",
          "output_type": "stream",
          "text": [
            "[9/30,   401/1563] lr: 0.01000 loss: 4.610 acc: 0.011\n"
          ]
        },
        {
          "name": "stderr",
          "output_type": "stream",
          "text": [
            "642it [00:02, 245.82it/s]"
          ]
        },
        {
          "name": "stdout",
          "output_type": "stream",
          "text": [
            "[9/30,   601/1563] lr: 0.01000 loss: 4.610 acc: 0.009\n"
          ]
        },
        {
          "name": "stderr",
          "output_type": "stream",
          "text": [
            "842it [00:03, 244.61it/s]"
          ]
        },
        {
          "name": "stdout",
          "output_type": "stream",
          "text": [
            "[9/30,   801/1563] lr: 0.01000 loss: 4.610 acc: 0.010\n"
          ]
        },
        {
          "name": "stderr",
          "output_type": "stream",
          "text": [
            "1041it [00:04, 238.87it/s]"
          ]
        },
        {
          "name": "stdout",
          "output_type": "stream",
          "text": [
            "[9/30,  1001/1563] lr: 0.01000 loss: 4.612 acc: 0.011\n"
          ]
        },
        {
          "name": "stderr",
          "output_type": "stream",
          "text": [
            "1241it [00:05, 237.23it/s]"
          ]
        },
        {
          "name": "stdout",
          "output_type": "stream",
          "text": [
            "[9/30,  1201/1563] lr: 0.01000 loss: 4.611 acc: 0.009\n"
          ]
        },
        {
          "name": "stderr",
          "output_type": "stream",
          "text": [
            "1441it [00:05, 245.34it/s]"
          ]
        },
        {
          "name": "stdout",
          "output_type": "stream",
          "text": [
            "[9/30,  1401/1563] lr: 0.01000 loss: 4.610 acc: 0.008\n"
          ]
        },
        {
          "name": "stderr",
          "output_type": "stream",
          "text": [
            "1563it [00:06, 238.80it/s]\n"
          ]
        },
        {
          "name": "stdout",
          "output_type": "stream",
          "text": [
            "Test Accuracy - Overall: 1.00% | Head: 3.30% | Mid: 0.00% | Tail: 0.00%\n",
            "[9/30] val acc: 0.010 train acc: 0.010\n"
          ]
        },
        {
          "name": "stderr",
          "output_type": "stream",
          "text": [
            "0it [00:00, ?it/s]"
          ]
        },
        {
          "name": "stdout",
          "output_type": "stream",
          "text": [
            "[10/30,     1/1563] lr: 0.01000 loss: 0.023 acc: 0.000\n"
          ]
        },
        {
          "name": "stderr",
          "output_type": "stream",
          "text": [
            "229it [00:00, 247.59it/s]"
          ]
        },
        {
          "name": "stdout",
          "output_type": "stream",
          "text": [
            "[10/30,   201/1563] lr: 0.01000 loss: 4.611 acc: 0.011\n"
          ]
        },
        {
          "name": "stderr",
          "output_type": "stream",
          "text": [
            "446it [00:01, 228.37it/s]"
          ]
        },
        {
          "name": "stdout",
          "output_type": "stream",
          "text": [
            "[10/30,   401/1563] lr: 0.01000 loss: 4.610 acc: 0.011\n"
          ]
        },
        {
          "name": "stderr",
          "output_type": "stream",
          "text": [
            "631it [00:02, 228.22it/s]"
          ]
        },
        {
          "name": "stdout",
          "output_type": "stream",
          "text": [
            "[10/30,   601/1563] lr: 0.01000 loss: 4.611 acc: 0.010\n"
          ]
        },
        {
          "name": "stderr",
          "output_type": "stream",
          "text": [
            "837it [00:03, 217.91it/s]"
          ]
        },
        {
          "name": "stdout",
          "output_type": "stream",
          "text": [
            "[10/30,   801/1563] lr: 0.01000 loss: 4.611 acc: 0.008\n"
          ]
        },
        {
          "name": "stderr",
          "output_type": "stream",
          "text": [
            "1035it [00:04, 203.68it/s]"
          ]
        },
        {
          "name": "stdout",
          "output_type": "stream",
          "text": [
            "[10/30,  1001/1563] lr: 0.01000 loss: 4.609 acc: 0.010\n"
          ]
        },
        {
          "name": "stderr",
          "output_type": "stream",
          "text": [
            "1231it [00:05, 217.63it/s]"
          ]
        },
        {
          "name": "stdout",
          "output_type": "stream",
          "text": [
            "[10/30,  1201/1563] lr: 0.01000 loss: 4.611 acc: 0.009\n"
          ]
        },
        {
          "name": "stderr",
          "output_type": "stream",
          "text": [
            "1428it [00:06, 209.68it/s]"
          ]
        },
        {
          "name": "stdout",
          "output_type": "stream",
          "text": [
            "[10/30,  1401/1563] lr: 0.01000 loss: 4.610 acc: 0.008\n"
          ]
        },
        {
          "name": "stderr",
          "output_type": "stream",
          "text": [
            "1563it [00:07, 214.35it/s]\n"
          ]
        },
        {
          "name": "stdout",
          "output_type": "stream",
          "text": [
            "Test Accuracy - Overall: 0.60% | Head: 0.00% | Mid: 0.00% | Tail: 2.02%\n",
            "[10/30] val acc: 0.006 train acc: 0.010\n"
          ]
        },
        {
          "name": "stderr",
          "output_type": "stream",
          "text": [
            "0it [00:00, ?it/s]"
          ]
        },
        {
          "name": "stdout",
          "output_type": "stream",
          "text": [
            "[11/30,     1/1563] lr: 0.00300 loss: 0.023 acc: 0.000\n"
          ]
        },
        {
          "name": "stderr",
          "output_type": "stream",
          "text": [
            "237it [00:01, 188.14it/s]"
          ]
        },
        {
          "name": "stdout",
          "output_type": "stream",
          "text": [
            "[11/30,   201/1563] lr: 0.00300 loss: 4.607 acc: 0.013\n"
          ]
        },
        {
          "name": "stderr",
          "output_type": "stream",
          "text": [
            "430it [00:02, 187.38it/s]"
          ]
        },
        {
          "name": "stdout",
          "output_type": "stream",
          "text": [
            "[11/30,   401/1563] lr: 0.00300 loss: 4.608 acc: 0.011\n"
          ]
        },
        {
          "name": "stderr",
          "output_type": "stream",
          "text": [
            "633it [00:03, 217.27it/s]"
          ]
        },
        {
          "name": "stdout",
          "output_type": "stream",
          "text": [
            "[11/30,   601/1563] lr: 0.00300 loss: 4.608 acc: 0.008\n"
          ]
        },
        {
          "name": "stderr",
          "output_type": "stream",
          "text": [
            "840it [00:04, 224.27it/s]"
          ]
        },
        {
          "name": "stdout",
          "output_type": "stream",
          "text": [
            "[11/30,   801/1563] lr: 0.00300 loss: 4.607 acc: 0.010\n"
          ]
        },
        {
          "name": "stderr",
          "output_type": "stream",
          "text": [
            "1024it [00:04, 222.15it/s]"
          ]
        },
        {
          "name": "stdout",
          "output_type": "stream",
          "text": [
            "[11/30,  1001/1563] lr: 0.00300 loss: 4.608 acc: 0.007\n"
          ]
        },
        {
          "name": "stderr",
          "output_type": "stream",
          "text": [
            "1224it [00:05, 202.55it/s]"
          ]
        },
        {
          "name": "stdout",
          "output_type": "stream",
          "text": [
            "[11/30,  1201/1563] lr: 0.00300 loss: 4.607 acc: 0.011\n"
          ]
        },
        {
          "name": "stderr",
          "output_type": "stream",
          "text": [
            "1431it [00:06, 200.67it/s]"
          ]
        },
        {
          "name": "stdout",
          "output_type": "stream",
          "text": [
            "[11/30,  1401/1563] lr: 0.00300 loss: 4.607 acc: 0.010\n"
          ]
        },
        {
          "name": "stderr",
          "output_type": "stream",
          "text": [
            "1563it [00:07, 199.13it/s]\n"
          ]
        },
        {
          "name": "stdout",
          "output_type": "stream",
          "text": [
            "Test Accuracy - Overall: 1.03% | Head: 3.38% | Mid: 0.00% | Tail: 0.00%\n",
            "[11/30] val acc: 0.010 train acc: 0.009\n"
          ]
        },
        {
          "name": "stderr",
          "output_type": "stream",
          "text": [
            "0it [00:00, ?it/s]"
          ]
        },
        {
          "name": "stdout",
          "output_type": "stream",
          "text": [
            "[12/30,     1/1563] lr: 0.00300 loss: 0.023 acc: 0.062\n"
          ]
        },
        {
          "name": "stderr",
          "output_type": "stream",
          "text": [
            "241it [00:00, 270.24it/s]"
          ]
        },
        {
          "name": "stdout",
          "output_type": "stream",
          "text": [
            "[12/30,   201/1563] lr: 0.00300 loss: 4.606 acc: 0.009\n"
          ]
        },
        {
          "name": "stderr",
          "output_type": "stream",
          "text": [
            "438it [00:01, 274.01it/s]"
          ]
        },
        {
          "name": "stdout",
          "output_type": "stream",
          "text": [
            "[12/30,   401/1563] lr: 0.00300 loss: 4.607 acc: 0.007\n"
          ]
        },
        {
          "name": "stderr",
          "output_type": "stream",
          "text": [
            "637it [00:02, 277.83it/s]"
          ]
        },
        {
          "name": "stdout",
          "output_type": "stream",
          "text": [
            "[12/30,   601/1563] lr: 0.00300 loss: 4.607 acc: 0.009\n"
          ]
        },
        {
          "name": "stderr",
          "output_type": "stream",
          "text": [
            "837it [00:03, 278.33it/s]"
          ]
        },
        {
          "name": "stdout",
          "output_type": "stream",
          "text": [
            "[12/30,   801/1563] lr: 0.00300 loss: 4.607 acc: 0.012\n"
          ]
        },
        {
          "name": "stderr",
          "output_type": "stream",
          "text": [
            "1038it [00:03, 278.08it/s]"
          ]
        },
        {
          "name": "stdout",
          "output_type": "stream",
          "text": [
            "[12/30,  1001/1563] lr: 0.00300 loss: 4.607 acc: 0.010\n"
          ]
        },
        {
          "name": "stderr",
          "output_type": "stream",
          "text": [
            "1234it [00:04, 268.28it/s]"
          ]
        },
        {
          "name": "stdout",
          "output_type": "stream",
          "text": [
            "[12/30,  1201/1563] lr: 0.00300 loss: 4.608 acc: 0.010\n"
          ]
        },
        {
          "name": "stderr",
          "output_type": "stream",
          "text": [
            "1436it [00:05, 272.80it/s]"
          ]
        },
        {
          "name": "stdout",
          "output_type": "stream",
          "text": [
            "[12/30,  1401/1563] lr: 0.00300 loss: 4.607 acc: 0.009\n"
          ]
        },
        {
          "name": "stderr",
          "output_type": "stream",
          "text": [
            "1563it [00:05, 268.02it/s]\n"
          ]
        },
        {
          "name": "stdout",
          "output_type": "stream",
          "text": [
            "Test Accuracy - Overall: 1.03% | Head: 0.00% | Mid: 2.56% | Tail: 0.00%\n",
            "[12/30] val acc: 0.010 train acc: 0.009\n"
          ]
        },
        {
          "name": "stderr",
          "output_type": "stream",
          "text": [
            "0it [00:00, ?it/s]"
          ]
        },
        {
          "name": "stdout",
          "output_type": "stream",
          "text": [
            "[13/30,     1/1563] lr: 0.00300 loss: 0.023 acc: 0.031\n"
          ]
        },
        {
          "name": "stderr",
          "output_type": "stream",
          "text": [
            "243it [00:01, 222.65it/s]"
          ]
        },
        {
          "name": "stdout",
          "output_type": "stream",
          "text": [
            "[13/30,   201/1563] lr: 0.00300 loss: 4.606 acc: 0.010\n"
          ]
        },
        {
          "name": "stderr",
          "output_type": "stream",
          "text": [
            "427it [00:01, 221.63it/s]"
          ]
        },
        {
          "name": "stdout",
          "output_type": "stream",
          "text": [
            "[13/30,   401/1563] lr: 0.00300 loss: 4.607 acc: 0.009\n"
          ]
        },
        {
          "name": "stderr",
          "output_type": "stream",
          "text": [
            "634it [00:02, 224.72it/s]"
          ]
        },
        {
          "name": "stdout",
          "output_type": "stream",
          "text": [
            "[13/30,   601/1563] lr: 0.00300 loss: 4.606 acc: 0.010\n"
          ]
        },
        {
          "name": "stderr",
          "output_type": "stream",
          "text": [
            "839it [00:03, 213.93it/s]"
          ]
        },
        {
          "name": "stdout",
          "output_type": "stream",
          "text": [
            "[13/30,   801/1563] lr: 0.00300 loss: 4.608 acc: 0.008\n"
          ]
        },
        {
          "name": "stderr",
          "output_type": "stream",
          "text": [
            "1030it [00:04, 203.38it/s]"
          ]
        },
        {
          "name": "stdout",
          "output_type": "stream",
          "text": [
            "[13/30,  1001/1563] lr: 0.00300 loss: 4.608 acc: 0.008\n"
          ]
        },
        {
          "name": "stderr",
          "output_type": "stream",
          "text": [
            "1236it [00:05, 191.02it/s]"
          ]
        },
        {
          "name": "stdout",
          "output_type": "stream",
          "text": [
            "[13/30,  1201/1563] lr: 0.00300 loss: 4.607 acc: 0.009\n"
          ]
        },
        {
          "name": "stderr",
          "output_type": "stream",
          "text": [
            "1426it [00:06, 210.49it/s]"
          ]
        },
        {
          "name": "stdout",
          "output_type": "stream",
          "text": [
            "[13/30,  1401/1563] lr: 0.00300 loss: 4.607 acc: 0.010\n"
          ]
        },
        {
          "name": "stderr",
          "output_type": "stream",
          "text": [
            "1563it [00:07, 205.70it/s]\n"
          ]
        },
        {
          "name": "stdout",
          "output_type": "stream",
          "text": [
            "Test Accuracy - Overall: 1.05% | Head: 3.47% | Mid: 0.00% | Tail: 0.00%\n",
            "[13/30] val acc: 0.011 train acc: 0.009\n"
          ]
        },
        {
          "name": "stderr",
          "output_type": "stream",
          "text": [
            "0it [00:00, ?it/s]"
          ]
        },
        {
          "name": "stdout",
          "output_type": "stream",
          "text": [
            "[14/30,     1/1563] lr: 0.00300 loss: 0.023 acc: 0.000\n"
          ]
        },
        {
          "name": "stderr",
          "output_type": "stream",
          "text": [
            "225it [00:00, 251.75it/s]"
          ]
        },
        {
          "name": "stdout",
          "output_type": "stream",
          "text": [
            "[14/30,   201/1563] lr: 0.00300 loss: 4.606 acc: 0.010\n"
          ]
        },
        {
          "name": "stderr",
          "output_type": "stream",
          "text": [
            "443it [00:01, 227.02it/s]"
          ]
        },
        {
          "name": "stdout",
          "output_type": "stream",
          "text": [
            "[14/30,   401/1563] lr: 0.00300 loss: 4.607 acc: 0.010\n"
          ]
        },
        {
          "name": "stderr",
          "output_type": "stream",
          "text": [
            "624it [00:02, 215.78it/s]"
          ]
        },
        {
          "name": "stdout",
          "output_type": "stream",
          "text": [
            "[14/30,   601/1563] lr: 0.00300 loss: 4.607 acc: 0.009\n"
          ]
        },
        {
          "name": "stderr",
          "output_type": "stream",
          "text": [
            "830it [00:03, 230.22it/s]"
          ]
        },
        {
          "name": "stdout",
          "output_type": "stream",
          "text": [
            "[14/30,   801/1563] lr: 0.00300 loss: 4.606 acc: 0.006\n"
          ]
        },
        {
          "name": "stderr",
          "output_type": "stream",
          "text": [
            "1024it [00:04, 232.25it/s]"
          ]
        },
        {
          "name": "stdout",
          "output_type": "stream",
          "text": [
            "[14/30,  1001/1563] lr: 0.00300 loss: 4.608 acc: 0.010\n"
          ]
        },
        {
          "name": "stderr",
          "output_type": "stream",
          "text": [
            "1240it [00:05, 223.08it/s]"
          ]
        },
        {
          "name": "stdout",
          "output_type": "stream",
          "text": [
            "[14/30,  1201/1563] lr: 0.00300 loss: 4.607 acc: 0.010\n"
          ]
        },
        {
          "name": "stderr",
          "output_type": "stream",
          "text": [
            "1431it [00:06, 223.00it/s]"
          ]
        },
        {
          "name": "stdout",
          "output_type": "stream",
          "text": [
            "[14/30,  1401/1563] lr: 0.00300 loss: 4.607 acc: 0.009\n"
          ]
        },
        {
          "name": "stderr",
          "output_type": "stream",
          "text": [
            "1563it [00:06, 225.16it/s]\n"
          ]
        },
        {
          "name": "stdout",
          "output_type": "stream",
          "text": [
            "Test Accuracy - Overall: 0.95% | Head: 0.00% | Mid: 0.00% | Tail: 3.20%\n",
            "[14/30] val acc: 0.009 train acc: 0.009\n"
          ]
        },
        {
          "name": "stderr",
          "output_type": "stream",
          "text": [
            "0it [00:00, ?it/s]"
          ]
        },
        {
          "name": "stdout",
          "output_type": "stream",
          "text": [
            "[15/30,     1/1563] lr: 0.00300 loss: 0.023 acc: 0.000\n"
          ]
        },
        {
          "name": "stderr",
          "output_type": "stream",
          "text": [
            "236it [00:01, 182.85it/s]"
          ]
        },
        {
          "name": "stdout",
          "output_type": "stream",
          "text": [
            "[15/30,   201/1563] lr: 0.00300 loss: 4.607 acc: 0.008\n"
          ]
        },
        {
          "name": "stderr",
          "output_type": "stream",
          "text": [
            "422it [00:02, 193.48it/s]"
          ]
        },
        {
          "name": "stdout",
          "output_type": "stream",
          "text": [
            "[15/30,   401/1563] lr: 0.00300 loss: 4.606 acc: 0.009\n"
          ]
        },
        {
          "name": "stderr",
          "output_type": "stream",
          "text": [
            "632it [00:03, 202.14it/s]"
          ]
        },
        {
          "name": "stdout",
          "output_type": "stream",
          "text": [
            "[15/30,   601/1563] lr: 0.00300 loss: 4.607 acc: 0.010\n"
          ]
        },
        {
          "name": "stderr",
          "output_type": "stream",
          "text": [
            "828it [00:04, 212.74it/s]"
          ]
        },
        {
          "name": "stdout",
          "output_type": "stream",
          "text": [
            "[15/30,   801/1563] lr: 0.00300 loss: 4.607 acc: 0.008\n"
          ]
        },
        {
          "name": "stderr",
          "output_type": "stream",
          "text": [
            "1039it [00:05, 198.57it/s]"
          ]
        },
        {
          "name": "stdout",
          "output_type": "stream",
          "text": [
            "[15/30,  1001/1563] lr: 0.00300 loss: 4.607 acc: 0.009\n"
          ]
        },
        {
          "name": "stderr",
          "output_type": "stream",
          "text": [
            "1230it [00:06, 193.12it/s]"
          ]
        },
        {
          "name": "stdout",
          "output_type": "stream",
          "text": [
            "[15/30,  1201/1563] lr: 0.00300 loss: 4.607 acc: 0.008\n"
          ]
        },
        {
          "name": "stderr",
          "output_type": "stream",
          "text": [
            "1428it [00:07, 194.40it/s]"
          ]
        },
        {
          "name": "stdout",
          "output_type": "stream",
          "text": [
            "[15/30,  1401/1563] lr: 0.00300 loss: 4.608 acc: 0.007\n"
          ]
        },
        {
          "name": "stderr",
          "output_type": "stream",
          "text": [
            "1563it [00:08, 193.92it/s]\n"
          ]
        },
        {
          "name": "stdout",
          "output_type": "stream",
          "text": [
            "Test Accuracy - Overall: 1.23% | Head: 0.00% | Mid: 3.06% | Tail: 0.00%\n",
            "[15/30] val acc: 0.012 train acc: 0.008\n"
          ]
        },
        {
          "name": "stderr",
          "output_type": "stream",
          "text": [
            "0it [00:00, ?it/s]"
          ]
        },
        {
          "name": "stdout",
          "output_type": "stream",
          "text": [
            "[16/30,     1/1563] lr: 0.00300 loss: 0.023 acc: 0.000\n"
          ]
        },
        {
          "name": "stderr",
          "output_type": "stream",
          "text": [
            "231it [00:00, 266.61it/s]"
          ]
        },
        {
          "name": "stdout",
          "output_type": "stream",
          "text": [
            "[16/30,   201/1563] lr: 0.00300 loss: 4.606 acc: 0.009\n"
          ]
        },
        {
          "name": "stderr",
          "output_type": "stream",
          "text": [
            "453it [00:01, 275.34it/s]"
          ]
        },
        {
          "name": "stdout",
          "output_type": "stream",
          "text": [
            "[16/30,   401/1563] lr: 0.00300 loss: 4.607 acc: 0.011\n"
          ]
        },
        {
          "name": "stderr",
          "output_type": "stream",
          "text": [
            "637it [00:02, 248.94it/s]"
          ]
        },
        {
          "name": "stdout",
          "output_type": "stream",
          "text": [
            "[16/30,   601/1563] lr: 0.00300 loss: 4.607 acc: 0.008\n"
          ]
        },
        {
          "name": "stderr",
          "output_type": "stream",
          "text": [
            "841it [00:03, 228.04it/s]"
          ]
        },
        {
          "name": "stdout",
          "output_type": "stream",
          "text": [
            "[16/30,   801/1563] lr: 0.00300 loss: 4.607 acc: 0.008\n"
          ]
        },
        {
          "name": "stderr",
          "output_type": "stream",
          "text": [
            "1033it [00:04, 222.90it/s]"
          ]
        },
        {
          "name": "stdout",
          "output_type": "stream",
          "text": [
            "[16/30,  1001/1563] lr: 0.00300 loss: 4.608 acc: 0.010\n"
          ]
        },
        {
          "name": "stderr",
          "output_type": "stream",
          "text": [
            "1243it [00:05, 217.28it/s]"
          ]
        },
        {
          "name": "stdout",
          "output_type": "stream",
          "text": [
            "[16/30,  1201/1563] lr: 0.00300 loss: 4.607 acc: 0.008\n"
          ]
        },
        {
          "name": "stderr",
          "output_type": "stream",
          "text": [
            "1427it [00:05, 227.70it/s]"
          ]
        },
        {
          "name": "stdout",
          "output_type": "stream",
          "text": [
            "[16/30,  1401/1563] lr: 0.00300 loss: 4.607 acc: 0.010\n"
          ]
        },
        {
          "name": "stderr",
          "output_type": "stream",
          "text": [
            "1563it [00:06, 234.66it/s]\n"
          ]
        },
        {
          "name": "stdout",
          "output_type": "stream",
          "text": [
            "Test Accuracy - Overall: 1.23% | Head: 0.00% | Mid: 3.06% | Tail: 0.00%\n",
            "[16/30] val acc: 0.012 train acc: 0.009\n"
          ]
        },
        {
          "name": "stderr",
          "output_type": "stream",
          "text": [
            "0it [00:00, ?it/s]"
          ]
        },
        {
          "name": "stdout",
          "output_type": "stream",
          "text": [
            "[17/30,     1/1563] lr: 0.00300 loss: 0.023 acc: 0.000\n"
          ]
        },
        {
          "name": "stderr",
          "output_type": "stream",
          "text": [
            "227it [00:01, 188.98it/s]"
          ]
        },
        {
          "name": "stdout",
          "output_type": "stream",
          "text": [
            "[17/30,   201/1563] lr: 0.00300 loss: 4.607 acc: 0.010\n"
          ]
        },
        {
          "name": "stderr",
          "output_type": "stream",
          "text": [
            "426it [00:02, 204.80it/s]"
          ]
        },
        {
          "name": "stdout",
          "output_type": "stream",
          "text": [
            "[17/30,   401/1563] lr: 0.00300 loss: 4.607 acc: 0.008\n"
          ]
        },
        {
          "name": "stderr",
          "output_type": "stream",
          "text": [
            "636it [00:03, 194.98it/s]"
          ]
        },
        {
          "name": "stdout",
          "output_type": "stream",
          "text": [
            "[17/30,   601/1563] lr: 0.00300 loss: 4.607 acc: 0.010\n"
          ]
        },
        {
          "name": "stderr",
          "output_type": "stream",
          "text": [
            "834it [00:04, 201.07it/s]"
          ]
        },
        {
          "name": "stdout",
          "output_type": "stream",
          "text": [
            "[17/30,   801/1563] lr: 0.00300 loss: 4.607 acc: 0.007\n"
          ]
        },
        {
          "name": "stderr",
          "output_type": "stream",
          "text": [
            "1032it [00:05, 189.87it/s]"
          ]
        },
        {
          "name": "stdout",
          "output_type": "stream",
          "text": [
            "[17/30,  1001/1563] lr: 0.00300 loss: 4.607 acc: 0.010\n"
          ]
        },
        {
          "name": "stderr",
          "output_type": "stream",
          "text": [
            "1228it [00:06, 188.91it/s]"
          ]
        },
        {
          "name": "stdout",
          "output_type": "stream",
          "text": [
            "[17/30,  1201/1563] lr: 0.00300 loss: 4.607 acc: 0.009\n"
          ]
        },
        {
          "name": "stderr",
          "output_type": "stream",
          "text": [
            "1420it [00:07, 184.01it/s]"
          ]
        },
        {
          "name": "stdout",
          "output_type": "stream",
          "text": [
            "[17/30,  1401/1563] lr: 0.00300 loss: 4.607 acc: 0.010\n"
          ]
        },
        {
          "name": "stderr",
          "output_type": "stream",
          "text": [
            "1563it [00:08, 187.60it/s]\n"
          ]
        },
        {
          "name": "stdout",
          "output_type": "stream",
          "text": [
            "Test Accuracy - Overall: 0.85% | Head: 0.00% | Mid: 2.12% | Tail: 0.00%\n",
            "[17/30] val acc: 0.009 train acc: 0.009\n"
          ]
        },
        {
          "name": "stderr",
          "output_type": "stream",
          "text": [
            "0it [00:00, ?it/s]"
          ]
        },
        {
          "name": "stdout",
          "output_type": "stream",
          "text": [
            "[18/30,     1/1563] lr: 0.00300 loss: 0.023 acc: 0.000\n"
          ]
        },
        {
          "name": "stderr",
          "output_type": "stream",
          "text": [
            "224it [00:01, 207.81it/s]"
          ]
        },
        {
          "name": "stdout",
          "output_type": "stream",
          "text": [
            "[18/30,   201/1563] lr: 0.00300 loss: 4.606 acc: 0.010\n"
          ]
        },
        {
          "name": "stderr",
          "output_type": "stream",
          "text": [
            "424it [00:02, 215.85it/s]"
          ]
        },
        {
          "name": "stdout",
          "output_type": "stream",
          "text": [
            "[18/30,   401/1563] lr: 0.00300 loss: 4.607 acc: 0.009\n"
          ]
        },
        {
          "name": "stderr",
          "output_type": "stream",
          "text": [
            "623it [00:02, 217.23it/s]"
          ]
        },
        {
          "name": "stdout",
          "output_type": "stream",
          "text": [
            "[18/30,   601/1563] lr: 0.00300 loss: 4.607 acc: 0.011\n"
          ]
        },
        {
          "name": "stderr",
          "output_type": "stream",
          "text": [
            "825it [00:03, 219.01it/s]"
          ]
        },
        {
          "name": "stdout",
          "output_type": "stream",
          "text": [
            "[18/30,   801/1563] lr: 0.00300 loss: 4.607 acc: 0.009\n"
          ]
        },
        {
          "name": "stderr",
          "output_type": "stream",
          "text": [
            "1025it [00:04, 217.27it/s]"
          ]
        },
        {
          "name": "stdout",
          "output_type": "stream",
          "text": [
            "[18/30,  1001/1563] lr: 0.00300 loss: 4.608 acc: 0.009\n"
          ]
        },
        {
          "name": "stderr",
          "output_type": "stream",
          "text": [
            "1227it [00:05, 219.15it/s]"
          ]
        },
        {
          "name": "stdout",
          "output_type": "stream",
          "text": [
            "[18/30,  1201/1563] lr: 0.00300 loss: 4.607 acc: 0.009\n"
          ]
        },
        {
          "name": "stderr",
          "output_type": "stream",
          "text": [
            "1429it [00:06, 217.59it/s]"
          ]
        },
        {
          "name": "stdout",
          "output_type": "stream",
          "text": [
            "[18/30,  1401/1563] lr: 0.00300 loss: 4.607 acc: 0.010\n"
          ]
        },
        {
          "name": "stderr",
          "output_type": "stream",
          "text": [
            "1563it [00:07, 210.94it/s]\n"
          ]
        },
        {
          "name": "stdout",
          "output_type": "stream",
          "text": [
            "Test Accuracy - Overall: 1.00% | Head: 3.30% | Mid: 0.00% | Tail: 0.00%\n",
            "[18/30] val acc: 0.010 train acc: 0.010\n"
          ]
        },
        {
          "name": "stderr",
          "output_type": "stream",
          "text": [
            "0it [00:00, ?it/s]"
          ]
        },
        {
          "name": "stdout",
          "output_type": "stream",
          "text": [
            "[19/30,     1/1563] lr: 0.00300 loss: 0.023 acc: 0.000\n"
          ]
        },
        {
          "name": "stderr",
          "output_type": "stream",
          "text": [
            "224it [00:01, 216.70it/s]"
          ]
        },
        {
          "name": "stdout",
          "output_type": "stream",
          "text": [
            "[19/30,   201/1563] lr: 0.00300 loss: 4.606 acc: 0.009\n"
          ]
        },
        {
          "name": "stderr",
          "output_type": "stream",
          "text": [
            "422it [00:01, 209.27it/s]"
          ]
        },
        {
          "name": "stdout",
          "output_type": "stream",
          "text": [
            "[19/30,   401/1563] lr: 0.00300 loss: 4.606 acc: 0.010\n"
          ]
        },
        {
          "name": "stderr",
          "output_type": "stream",
          "text": [
            "630it [00:02, 224.83it/s]"
          ]
        },
        {
          "name": "stdout",
          "output_type": "stream",
          "text": [
            "[19/30,   601/1563] lr: 0.00300 loss: 4.607 acc: 0.010\n"
          ]
        },
        {
          "name": "stderr",
          "output_type": "stream",
          "text": [
            "826it [00:03, 203.21it/s]"
          ]
        },
        {
          "name": "stdout",
          "output_type": "stream",
          "text": [
            "[19/30,   801/1563] lr: 0.00300 loss: 4.607 acc: 0.008\n"
          ]
        },
        {
          "name": "stderr",
          "output_type": "stream",
          "text": [
            "1041it [00:04, 205.11it/s]"
          ]
        },
        {
          "name": "stdout",
          "output_type": "stream",
          "text": [
            "[19/30,  1001/1563] lr: 0.00300 loss: 4.608 acc: 0.010\n"
          ]
        },
        {
          "name": "stderr",
          "output_type": "stream",
          "text": [
            "1234it [00:05, 202.86it/s]"
          ]
        },
        {
          "name": "stdout",
          "output_type": "stream",
          "text": [
            "[19/30,  1201/1563] lr: 0.00300 loss: 4.607 acc: 0.009\n"
          ]
        },
        {
          "name": "stderr",
          "output_type": "stream",
          "text": [
            "1431it [00:06, 212.00it/s]"
          ]
        },
        {
          "name": "stdout",
          "output_type": "stream",
          "text": [
            "[19/30,  1401/1563] lr: 0.00300 loss: 4.608 acc: 0.006\n"
          ]
        },
        {
          "name": "stderr",
          "output_type": "stream",
          "text": [
            "1563it [00:07, 208.69it/s]\n"
          ]
        },
        {
          "name": "stdout",
          "output_type": "stream",
          "text": [
            "Test Accuracy - Overall: 0.95% | Head: 0.00% | Mid: 2.37% | Tail: 0.00%\n",
            "[19/30] val acc: 0.009 train acc: 0.009\n"
          ]
        },
        {
          "name": "stderr",
          "output_type": "stream",
          "text": [
            "0it [00:00, ?it/s]"
          ]
        },
        {
          "name": "stdout",
          "output_type": "stream",
          "text": [
            "[20/30,     1/1563] lr: 0.00300 loss: 0.023 acc: 0.000\n"
          ]
        },
        {
          "name": "stderr",
          "output_type": "stream",
          "text": [
            "231it [00:01, 210.66it/s]"
          ]
        },
        {
          "name": "stdout",
          "output_type": "stream",
          "text": [
            "[20/30,   201/1563] lr: 0.00300 loss: 4.607 acc: 0.009\n"
          ]
        },
        {
          "name": "stderr",
          "output_type": "stream",
          "text": [
            "429it [00:02, 206.63it/s]"
          ]
        },
        {
          "name": "stdout",
          "output_type": "stream",
          "text": [
            "[20/30,   401/1563] lr: 0.00300 loss: 4.607 acc: 0.010\n"
          ]
        },
        {
          "name": "stderr",
          "output_type": "stream",
          "text": [
            "631it [00:03, 194.47it/s]"
          ]
        },
        {
          "name": "stdout",
          "output_type": "stream",
          "text": [
            "[20/30,   601/1563] lr: 0.00300 loss: 4.607 acc: 0.009\n"
          ]
        },
        {
          "name": "stderr",
          "output_type": "stream",
          "text": [
            "825it [00:04, 185.01it/s]"
          ]
        },
        {
          "name": "stdout",
          "output_type": "stream",
          "text": [
            "[20/30,   801/1563] lr: 0.00300 loss: 4.607 acc: 0.008\n"
          ]
        },
        {
          "name": "stderr",
          "output_type": "stream",
          "text": [
            "1022it [00:05, 194.55it/s]"
          ]
        },
        {
          "name": "stdout",
          "output_type": "stream",
          "text": [
            "[20/30,  1001/1563] lr: 0.00300 loss: 4.607 acc: 0.010\n"
          ]
        },
        {
          "name": "stderr",
          "output_type": "stream",
          "text": [
            "1222it [00:06, 188.42it/s]"
          ]
        },
        {
          "name": "stdout",
          "output_type": "stream",
          "text": [
            "[20/30,  1201/1563] lr: 0.00300 loss: 4.607 acc: 0.009\n"
          ]
        },
        {
          "name": "stderr",
          "output_type": "stream",
          "text": [
            "1427it [00:07, 200.62it/s]"
          ]
        },
        {
          "name": "stdout",
          "output_type": "stream",
          "text": [
            "[20/30,  1401/1563] lr: 0.00300 loss: 4.607 acc: 0.009\n"
          ]
        },
        {
          "name": "stderr",
          "output_type": "stream",
          "text": [
            "1563it [00:08, 192.59it/s]\n"
          ]
        },
        {
          "name": "stdout",
          "output_type": "stream",
          "text": [
            "Test Accuracy - Overall: 1.05% | Head: 0.00% | Mid: 2.62% | Tail: 0.00%\n",
            "[20/30] val acc: 0.011 train acc: 0.009\n"
          ]
        },
        {
          "name": "stderr",
          "output_type": "stream",
          "text": [
            "0it [00:00, ?it/s]"
          ]
        },
        {
          "name": "stdout",
          "output_type": "stream",
          "text": [
            "[21/30,     1/1563] lr: 0.00090 loss: 0.023 acc: 0.000\n"
          ]
        },
        {
          "name": "stderr",
          "output_type": "stream",
          "text": [
            "223it [00:01, 214.94it/s]"
          ]
        },
        {
          "name": "stdout",
          "output_type": "stream",
          "text": [
            "[21/30,   201/1563] lr: 0.00090 loss: 4.605 acc: 0.011\n"
          ]
        },
        {
          "name": "stderr",
          "output_type": "stream",
          "text": [
            "431it [00:02, 188.23it/s]"
          ]
        },
        {
          "name": "stdout",
          "output_type": "stream",
          "text": [
            "[21/30,   401/1563] lr: 0.00090 loss: 4.606 acc: 0.010\n"
          ]
        },
        {
          "name": "stderr",
          "output_type": "stream",
          "text": [
            "629it [00:03, 203.32it/s]"
          ]
        },
        {
          "name": "stdout",
          "output_type": "stream",
          "text": [
            "[21/30,   601/1563] lr: 0.00090 loss: 4.606 acc: 0.008\n"
          ]
        },
        {
          "name": "stderr",
          "output_type": "stream",
          "text": [
            "831it [00:04, 196.56it/s]"
          ]
        },
        {
          "name": "stdout",
          "output_type": "stream",
          "text": [
            "[21/30,   801/1563] lr: 0.00090 loss: 4.606 acc: 0.009\n"
          ]
        },
        {
          "name": "stderr",
          "output_type": "stream",
          "text": [
            "1033it [00:05, 195.88it/s]"
          ]
        },
        {
          "name": "stdout",
          "output_type": "stream",
          "text": [
            "[21/30,  1001/1563] lr: 0.00090 loss: 4.606 acc: 0.006\n"
          ]
        },
        {
          "name": "stderr",
          "output_type": "stream",
          "text": [
            "1236it [00:06, 191.04it/s]"
          ]
        },
        {
          "name": "stdout",
          "output_type": "stream",
          "text": [
            "[21/30,  1201/1563] lr: 0.00090 loss: 4.606 acc: 0.009\n"
          ]
        },
        {
          "name": "stderr",
          "output_type": "stream",
          "text": [
            "1423it [00:07, 193.54it/s]"
          ]
        },
        {
          "name": "stdout",
          "output_type": "stream",
          "text": [
            "[21/30,  1401/1563] lr: 0.00090 loss: 4.607 acc: 0.008\n"
          ]
        },
        {
          "name": "stderr",
          "output_type": "stream",
          "text": [
            "1563it [00:08, 195.33it/s]\n"
          ]
        },
        {
          "name": "stdout",
          "output_type": "stream",
          "text": [
            "Test Accuracy - Overall: 1.00% | Head: 0.00% | Mid: 2.50% | Tail: 0.00%\n",
            "[21/30] val acc: 0.010 train acc: 0.009\n"
          ]
        },
        {
          "name": "stderr",
          "output_type": "stream",
          "text": [
            "0it [00:00, ?it/s]"
          ]
        },
        {
          "name": "stdout",
          "output_type": "stream",
          "text": [
            "[22/30,     1/1563] lr: 0.00090 loss: 0.023 acc: 0.062\n"
          ]
        },
        {
          "name": "stderr",
          "output_type": "stream",
          "text": [
            "225it [00:01, 197.47it/s]"
          ]
        },
        {
          "name": "stdout",
          "output_type": "stream",
          "text": [
            "[22/30,   201/1563] lr: 0.00090 loss: 4.605 acc: 0.009\n"
          ]
        },
        {
          "name": "stderr",
          "output_type": "stream",
          "text": [
            "428it [00:02, 177.98it/s]"
          ]
        },
        {
          "name": "stdout",
          "output_type": "stream",
          "text": [
            "[22/30,   401/1563] lr: 0.00090 loss: 4.605 acc: 0.012\n"
          ]
        },
        {
          "name": "stderr",
          "output_type": "stream",
          "text": [
            "622it [00:03, 173.30it/s]"
          ]
        },
        {
          "name": "stdout",
          "output_type": "stream",
          "text": [
            "[22/30,   601/1563] lr: 0.00090 loss: 4.606 acc: 0.009\n"
          ]
        },
        {
          "name": "stderr",
          "output_type": "stream",
          "text": [
            "836it [00:04, 178.92it/s]"
          ]
        },
        {
          "name": "stdout",
          "output_type": "stream",
          "text": [
            "[22/30,   801/1563] lr: 0.00090 loss: 4.606 acc: 0.009\n"
          ]
        },
        {
          "name": "stderr",
          "output_type": "stream",
          "text": [
            "1029it [00:05, 184.67it/s]"
          ]
        },
        {
          "name": "stdout",
          "output_type": "stream",
          "text": [
            "[22/30,  1001/1563] lr: 0.00090 loss: 4.606 acc: 0.009\n"
          ]
        },
        {
          "name": "stderr",
          "output_type": "stream",
          "text": [
            "1217it [00:06, 162.28it/s]"
          ]
        },
        {
          "name": "stdout",
          "output_type": "stream",
          "text": [
            "[22/30,  1201/1563] lr: 0.00090 loss: 4.606 acc: 0.008\n"
          ]
        },
        {
          "name": "stderr",
          "output_type": "stream",
          "text": [
            "1428it [00:08, 187.69it/s]"
          ]
        },
        {
          "name": "stdout",
          "output_type": "stream",
          "text": [
            "[22/30,  1401/1563] lr: 0.00090 loss: 4.606 acc: 0.007\n"
          ]
        },
        {
          "name": "stderr",
          "output_type": "stream",
          "text": [
            "1563it [00:08, 175.14it/s]\n"
          ]
        },
        {
          "name": "stdout",
          "output_type": "stream",
          "text": [
            "Test Accuracy - Overall: 1.07% | Head: 0.00% | Mid: 0.00% | Tail: 3.63%\n",
            "[22/30] val acc: 0.011 train acc: 0.009\n"
          ]
        },
        {
          "name": "stderr",
          "output_type": "stream",
          "text": [
            "0it [00:00, ?it/s]"
          ]
        },
        {
          "name": "stdout",
          "output_type": "stream",
          "text": [
            "[23/30,     1/1563] lr: 0.00090 loss: 0.023 acc: 0.000\n"
          ]
        },
        {
          "name": "stderr",
          "output_type": "stream",
          "text": [
            "239it [00:01, 192.58it/s]"
          ]
        },
        {
          "name": "stdout",
          "output_type": "stream",
          "text": [
            "[23/30,   201/1563] lr: 0.00090 loss: 4.605 acc: 0.011\n"
          ]
        },
        {
          "name": "stderr",
          "output_type": "stream",
          "text": [
            "422it [00:02, 168.13it/s]"
          ]
        },
        {
          "name": "stdout",
          "output_type": "stream",
          "text": [
            "[23/30,   401/1563] lr: 0.00090 loss: 4.606 acc: 0.007\n"
          ]
        },
        {
          "name": "stderr",
          "output_type": "stream",
          "text": [
            "630it [00:03, 210.67it/s]"
          ]
        },
        {
          "name": "stdout",
          "output_type": "stream",
          "text": [
            "[23/30,   601/1563] lr: 0.00090 loss: 4.606 acc: 0.010\n"
          ]
        },
        {
          "name": "stderr",
          "output_type": "stream",
          "text": [
            "829it [00:04, 159.87it/s]"
          ]
        },
        {
          "name": "stdout",
          "output_type": "stream",
          "text": [
            "[23/30,   801/1563] lr: 0.00090 loss: 4.606 acc: 0.009\n"
          ]
        },
        {
          "name": "stderr",
          "output_type": "stream",
          "text": [
            "1026it [00:05, 211.37it/s]"
          ]
        },
        {
          "name": "stdout",
          "output_type": "stream",
          "text": [
            "[23/30,  1001/1563] lr: 0.00090 loss: 4.606 acc: 0.009\n"
          ]
        },
        {
          "name": "stderr",
          "output_type": "stream",
          "text": [
            "1222it [00:06, 165.77it/s]"
          ]
        },
        {
          "name": "stdout",
          "output_type": "stream",
          "text": [
            "[23/30,  1201/1563] lr: 0.00090 loss: 4.606 acc: 0.010\n"
          ]
        },
        {
          "name": "stderr",
          "output_type": "stream",
          "text": [
            "1426it [00:07, 166.96it/s]"
          ]
        },
        {
          "name": "stdout",
          "output_type": "stream",
          "text": [
            "[23/30,  1401/1563] lr: 0.00090 loss: 4.606 acc: 0.007\n"
          ]
        },
        {
          "name": "stderr",
          "output_type": "stream",
          "text": [
            "1563it [00:08, 179.18it/s]\n"
          ]
        },
        {
          "name": "stdout",
          "output_type": "stream",
          "text": [
            "Test Accuracy - Overall: 0.92% | Head: 0.00% | Mid: 2.31% | Tail: 0.00%\n",
            "[23/30] val acc: 0.009 train acc: 0.009\n"
          ]
        },
        {
          "name": "stderr",
          "output_type": "stream",
          "text": [
            "0it [00:00, ?it/s]"
          ]
        },
        {
          "name": "stdout",
          "output_type": "stream",
          "text": [
            "[24/30,     1/1563] lr: 0.00090 loss: 0.023 acc: 0.000\n"
          ]
        },
        {
          "name": "stderr",
          "output_type": "stream",
          "text": [
            "241it [00:01, 213.81it/s]"
          ]
        },
        {
          "name": "stdout",
          "output_type": "stream",
          "text": [
            "[24/30,   201/1563] lr: 0.00090 loss: 4.605 acc: 0.011\n"
          ]
        },
        {
          "name": "stderr",
          "output_type": "stream",
          "text": [
            "433it [00:02, 178.45it/s]"
          ]
        },
        {
          "name": "stdout",
          "output_type": "stream",
          "text": [
            "[24/30,   401/1563] lr: 0.00090 loss: 4.606 acc: 0.009\n"
          ]
        },
        {
          "name": "stderr",
          "output_type": "stream",
          "text": [
            "619it [00:03, 159.01it/s]"
          ]
        },
        {
          "name": "stdout",
          "output_type": "stream",
          "text": [
            "[24/30,   601/1563] lr: 0.00090 loss: 4.606 acc: 0.009\n"
          ]
        },
        {
          "name": "stderr",
          "output_type": "stream",
          "text": [
            "828it [00:04, 155.10it/s]"
          ]
        },
        {
          "name": "stdout",
          "output_type": "stream",
          "text": [
            "[24/30,   801/1563] lr: 0.00090 loss: 4.606 acc: 0.009\n"
          ]
        },
        {
          "name": "stderr",
          "output_type": "stream",
          "text": [
            "1021it [00:05, 157.69it/s]"
          ]
        },
        {
          "name": "stdout",
          "output_type": "stream",
          "text": [
            "[24/30,  1001/1563] lr: 0.00090 loss: 4.606 acc: 0.009\n"
          ]
        },
        {
          "name": "stderr",
          "output_type": "stream",
          "text": [
            "1230it [00:07, 156.78it/s]"
          ]
        },
        {
          "name": "stdout",
          "output_type": "stream",
          "text": [
            "[24/30,  1201/1563] lr: 0.00090 loss: 4.606 acc: 0.010\n"
          ]
        },
        {
          "name": "stderr",
          "output_type": "stream",
          "text": [
            "1423it [00:08, 151.43it/s]"
          ]
        },
        {
          "name": "stdout",
          "output_type": "stream",
          "text": [
            "[24/30,  1401/1563] lr: 0.00090 loss: 4.606 acc: 0.006\n"
          ]
        },
        {
          "name": "stderr",
          "output_type": "stream",
          "text": [
            "1563it [00:09, 167.10it/s]\n"
          ]
        },
        {
          "name": "stdout",
          "output_type": "stream",
          "text": [
            "Test Accuracy - Overall: 1.00% | Head: 0.00% | Mid: 2.50% | Tail: 0.00%\n",
            "[24/30] val acc: 0.010 train acc: 0.009\n"
          ]
        },
        {
          "name": "stderr",
          "output_type": "stream",
          "text": [
            "0it [00:00, ?it/s]"
          ]
        },
        {
          "name": "stdout",
          "output_type": "stream",
          "text": [
            "[25/30,     1/1563] lr: 0.00090 loss: 0.023 acc: 0.000\n"
          ]
        },
        {
          "name": "stderr",
          "output_type": "stream",
          "text": [
            "237it [00:01, 211.34it/s]"
          ]
        },
        {
          "name": "stdout",
          "output_type": "stream",
          "text": [
            "[25/30,   201/1563] lr: 0.00090 loss: 4.605 acc: 0.010\n"
          ]
        },
        {
          "name": "stderr",
          "output_type": "stream",
          "text": [
            "426it [00:01, 232.27it/s]"
          ]
        },
        {
          "name": "stdout",
          "output_type": "stream",
          "text": [
            "[25/30,   401/1563] lr: 0.00090 loss: 4.606 acc: 0.009\n"
          ]
        },
        {
          "name": "stderr",
          "output_type": "stream",
          "text": [
            "639it [00:02, 209.78it/s]"
          ]
        },
        {
          "name": "stdout",
          "output_type": "stream",
          "text": [
            "[25/30,   601/1563] lr: 0.00090 loss: 4.606 acc: 0.010\n"
          ]
        },
        {
          "name": "stderr",
          "output_type": "stream",
          "text": [
            "830it [00:03, 199.29it/s]"
          ]
        },
        {
          "name": "stdout",
          "output_type": "stream",
          "text": [
            "[25/30,   801/1563] lr: 0.00090 loss: 4.606 acc: 0.009\n"
          ]
        },
        {
          "name": "stderr",
          "output_type": "stream",
          "text": [
            "1027it [00:04, 213.96it/s]"
          ]
        },
        {
          "name": "stdout",
          "output_type": "stream",
          "text": [
            "[25/30,  1001/1563] lr: 0.00090 loss: 4.606 acc: 0.009\n"
          ]
        },
        {
          "name": "stderr",
          "output_type": "stream",
          "text": [
            "1227it [00:05, 211.45it/s]"
          ]
        },
        {
          "name": "stdout",
          "output_type": "stream",
          "text": [
            "[25/30,  1201/1563] lr: 0.00090 loss: 4.606 acc: 0.008\n"
          ]
        },
        {
          "name": "stderr",
          "output_type": "stream",
          "text": [
            "1426it [00:06, 217.11it/s]"
          ]
        },
        {
          "name": "stdout",
          "output_type": "stream",
          "text": [
            "[25/30,  1401/1563] lr: 0.00090 loss: 4.606 acc: 0.008\n"
          ]
        },
        {
          "name": "stderr",
          "output_type": "stream",
          "text": [
            "1563it [00:07, 210.66it/s]\n"
          ]
        },
        {
          "name": "stdout",
          "output_type": "stream",
          "text": [
            "Test Accuracy - Overall: 1.00% | Head: 0.00% | Mid: 2.50% | Tail: 0.00%\n",
            "[25/30] val acc: 0.010 train acc: 0.009\n"
          ]
        },
        {
          "name": "stderr",
          "output_type": "stream",
          "text": [
            "0it [00:00, ?it/s]"
          ]
        },
        {
          "name": "stdout",
          "output_type": "stream",
          "text": [
            "[26/30,     1/1563] lr: 0.00090 loss: 0.023 acc: 0.000\n"
          ]
        },
        {
          "name": "stderr",
          "output_type": "stream",
          "text": [
            "232it [00:01, 216.06it/s]"
          ]
        },
        {
          "name": "stdout",
          "output_type": "stream",
          "text": [
            "[26/30,   201/1563] lr: 0.00090 loss: 4.605 acc: 0.010\n"
          ]
        },
        {
          "name": "stderr",
          "output_type": "stream",
          "text": [
            "432it [00:02, 213.20it/s]"
          ]
        },
        {
          "name": "stdout",
          "output_type": "stream",
          "text": [
            "[26/30,   401/1563] lr: 0.00090 loss: 4.606 acc: 0.009\n"
          ]
        },
        {
          "name": "stderr",
          "output_type": "stream",
          "text": [
            "631it [00:02, 213.50it/s]"
          ]
        },
        {
          "name": "stdout",
          "output_type": "stream",
          "text": [
            "[26/30,   601/1563] lr: 0.00090 loss: 4.606 acc: 0.008\n"
          ]
        },
        {
          "name": "stderr",
          "output_type": "stream",
          "text": [
            "830it [00:03, 213.08it/s]"
          ]
        },
        {
          "name": "stdout",
          "output_type": "stream",
          "text": [
            "[26/30,   801/1563] lr: 0.00090 loss: 4.606 acc: 0.009\n"
          ]
        },
        {
          "name": "stderr",
          "output_type": "stream",
          "text": [
            "1025it [00:04, 212.45it/s]"
          ]
        },
        {
          "name": "stdout",
          "output_type": "stream",
          "text": [
            "[26/30,  1001/1563] lr: 0.00090 loss: 4.606 acc: 0.008\n"
          ]
        },
        {
          "name": "stderr",
          "output_type": "stream",
          "text": [
            "1240it [00:05, 206.44it/s]"
          ]
        },
        {
          "name": "stdout",
          "output_type": "stream",
          "text": [
            "[26/30,  1201/1563] lr: 0.00090 loss: 4.606 acc: 0.007\n"
          ]
        },
        {
          "name": "stderr",
          "output_type": "stream",
          "text": [
            "1429it [00:06, 199.22it/s]"
          ]
        },
        {
          "name": "stdout",
          "output_type": "stream",
          "text": [
            "[26/30,  1401/1563] lr: 0.00090 loss: 4.606 acc: 0.007\n"
          ]
        },
        {
          "name": "stderr",
          "output_type": "stream",
          "text": [
            "1563it [00:07, 204.25it/s]\n"
          ]
        },
        {
          "name": "stdout",
          "output_type": "stream",
          "text": [
            "Test Accuracy - Overall: 0.90% | Head: 0.00% | Mid: 0.00% | Tail: 3.04%\n",
            "[26/30] val acc: 0.009 train acc: 0.008\n"
          ]
        },
        {
          "name": "stderr",
          "output_type": "stream",
          "text": [
            "0it [00:00, ?it/s]"
          ]
        },
        {
          "name": "stdout",
          "output_type": "stream",
          "text": [
            "[27/30,     1/1563] lr: 0.00090 loss: 0.023 acc: 0.062\n"
          ]
        },
        {
          "name": "stderr",
          "output_type": "stream",
          "text": [
            "238it [00:01, 213.45it/s]"
          ]
        },
        {
          "name": "stdout",
          "output_type": "stream",
          "text": [
            "[27/30,   201/1563] lr: 0.00090 loss: 4.605 acc: 0.009\n"
          ]
        },
        {
          "name": "stderr",
          "output_type": "stream",
          "text": [
            "444it [00:02, 224.04it/s]"
          ]
        },
        {
          "name": "stdout",
          "output_type": "stream",
          "text": [
            "[27/30,   401/1563] lr: 0.00090 loss: 4.605 acc: 0.011\n"
          ]
        },
        {
          "name": "stderr",
          "output_type": "stream",
          "text": [
            "628it [00:02, 222.06it/s]"
          ]
        },
        {
          "name": "stdout",
          "output_type": "stream",
          "text": [
            "[27/30,   601/1563] lr: 0.00090 loss: 4.606 acc: 0.009\n"
          ]
        },
        {
          "name": "stderr",
          "output_type": "stream",
          "text": [
            "839it [00:03, 225.58it/s]"
          ]
        },
        {
          "name": "stdout",
          "output_type": "stream",
          "text": [
            "[27/30,   801/1563] lr: 0.00090 loss: 4.606 acc: 0.010\n"
          ]
        },
        {
          "name": "stderr",
          "output_type": "stream",
          "text": [
            "1020it [00:04, 206.96it/s]"
          ]
        },
        {
          "name": "stdout",
          "output_type": "stream",
          "text": [
            "[27/30,  1001/1563] lr: 0.00090 loss: 4.606 acc: 0.008\n"
          ]
        },
        {
          "name": "stderr",
          "output_type": "stream",
          "text": [
            "1217it [00:05, 169.52it/s]"
          ]
        },
        {
          "name": "stdout",
          "output_type": "stream",
          "text": [
            "[27/30,  1201/1563] lr: 0.00090 loss: 4.606 acc: 0.009\n"
          ]
        },
        {
          "name": "stderr",
          "output_type": "stream",
          "text": [
            "1434it [00:07, 177.47it/s]"
          ]
        },
        {
          "name": "stdout",
          "output_type": "stream",
          "text": [
            "[27/30,  1401/1563] lr: 0.00090 loss: 4.606 acc: 0.008\n"
          ]
        },
        {
          "name": "stderr",
          "output_type": "stream",
          "text": [
            "1563it [00:07, 197.86it/s]\n"
          ]
        },
        {
          "name": "stdout",
          "output_type": "stream",
          "text": [
            "Test Accuracy - Overall: 1.23% | Head: 0.00% | Mid: 0.00% | Tail: 4.13%\n",
            "[27/30] val acc: 0.012 train acc: 0.009\n"
          ]
        },
        {
          "name": "stderr",
          "output_type": "stream",
          "text": [
            "0it [00:00, ?it/s]"
          ]
        },
        {
          "name": "stdout",
          "output_type": "stream",
          "text": [
            "[28/30,     1/1563] lr: 0.00090 loss: 0.023 acc: 0.000\n"
          ]
        },
        {
          "name": "stderr",
          "output_type": "stream",
          "text": [
            "225it [00:01, 208.77it/s]"
          ]
        },
        {
          "name": "stdout",
          "output_type": "stream",
          "text": [
            "[28/30,   201/1563] lr: 0.00090 loss: 4.605 acc: 0.010\n"
          ]
        },
        {
          "name": "stderr",
          "output_type": "stream",
          "text": [
            "421it [00:02, 197.06it/s]"
          ]
        },
        {
          "name": "stdout",
          "output_type": "stream",
          "text": [
            "[28/30,   401/1563] lr: 0.00090 loss: 4.606 acc: 0.009\n"
          ]
        },
        {
          "name": "stderr",
          "output_type": "stream",
          "text": [
            "626it [00:03, 205.56it/s]"
          ]
        },
        {
          "name": "stdout",
          "output_type": "stream",
          "text": [
            "[28/30,   601/1563] lr: 0.00090 loss: 4.606 acc: 0.010\n"
          ]
        },
        {
          "name": "stderr",
          "output_type": "stream",
          "text": [
            "829it [00:03, 215.58it/s]"
          ]
        },
        {
          "name": "stdout",
          "output_type": "stream",
          "text": [
            "[28/30,   801/1563] lr: 0.00090 loss: 4.606 acc: 0.008\n"
          ]
        },
        {
          "name": "stderr",
          "output_type": "stream",
          "text": [
            "1033it [00:04, 212.16it/s]"
          ]
        },
        {
          "name": "stdout",
          "output_type": "stream",
          "text": [
            "[28/30,  1001/1563] lr: 0.00090 loss: 4.606 acc: 0.009\n"
          ]
        },
        {
          "name": "stderr",
          "output_type": "stream",
          "text": [
            "1235it [00:05, 222.74it/s]"
          ]
        },
        {
          "name": "stdout",
          "output_type": "stream",
          "text": [
            "[28/30,  1201/1563] lr: 0.00090 loss: 4.606 acc: 0.008\n"
          ]
        },
        {
          "name": "stderr",
          "output_type": "stream",
          "text": [
            "1437it [00:06, 216.49it/s]"
          ]
        },
        {
          "name": "stdout",
          "output_type": "stream",
          "text": [
            "[28/30,  1401/1563] lr: 0.00090 loss: 4.606 acc: 0.008\n"
          ]
        },
        {
          "name": "stderr",
          "output_type": "stream",
          "text": [
            "1563it [00:07, 204.91it/s]\n"
          ]
        },
        {
          "name": "stdout",
          "output_type": "stream",
          "text": [
            "Test Accuracy - Overall: 1.05% | Head: 0.00% | Mid: 0.00% | Tail: 3.54%\n",
            "[28/30] val acc: 0.011 train acc: 0.009\n"
          ]
        },
        {
          "name": "stderr",
          "output_type": "stream",
          "text": [
            "0it [00:00, ?it/s]"
          ]
        },
        {
          "name": "stdout",
          "output_type": "stream",
          "text": [
            "[29/30,     1/1563] lr: 0.00090 loss: 0.023 acc: 0.000\n"
          ]
        },
        {
          "name": "stderr",
          "output_type": "stream",
          "text": [
            "229it [00:01, 200.33it/s]"
          ]
        },
        {
          "name": "stdout",
          "output_type": "stream",
          "text": [
            "[29/30,   201/1563] lr: 0.00090 loss: 4.605 acc: 0.010\n"
          ]
        },
        {
          "name": "stderr",
          "output_type": "stream",
          "text": [
            "447it [00:02, 238.06it/s]"
          ]
        },
        {
          "name": "stdout",
          "output_type": "stream",
          "text": [
            "[29/30,   401/1563] lr: 0.00090 loss: 4.606 acc: 0.011\n"
          ]
        },
        {
          "name": "stderr",
          "output_type": "stream",
          "text": [
            "645it [00:02, 233.18it/s]"
          ]
        },
        {
          "name": "stdout",
          "output_type": "stream",
          "text": [
            "[29/30,   601/1563] lr: 0.00090 loss: 4.606 acc: 0.008\n"
          ]
        },
        {
          "name": "stderr",
          "output_type": "stream",
          "text": [
            "841it [00:03, 236.22it/s]"
          ]
        },
        {
          "name": "stdout",
          "output_type": "stream",
          "text": [
            "[29/30,   801/1563] lr: 0.00090 loss: 4.606 acc: 0.009\n"
          ]
        },
        {
          "name": "stderr",
          "output_type": "stream",
          "text": [
            "1048it [00:04, 253.12it/s]"
          ]
        },
        {
          "name": "stdout",
          "output_type": "stream",
          "text": [
            "[29/30,  1001/1563] lr: 0.00090 loss: 4.606 acc: 0.011\n"
          ]
        },
        {
          "name": "stderr",
          "output_type": "stream",
          "text": [
            "1231it [00:05, 255.15it/s]"
          ]
        },
        {
          "name": "stdout",
          "output_type": "stream",
          "text": [
            "[29/30,  1201/1563] lr: 0.00090 loss: 4.606 acc: 0.007\n"
          ]
        },
        {
          "name": "stderr",
          "output_type": "stream",
          "text": [
            "1439it [00:06, 234.94it/s]"
          ]
        },
        {
          "name": "stdout",
          "output_type": "stream",
          "text": [
            "[29/30,  1401/1563] lr: 0.00090 loss: 4.606 acc: 0.006\n"
          ]
        },
        {
          "name": "stderr",
          "output_type": "stream",
          "text": [
            "1563it [00:06, 230.77it/s]\n"
          ]
        },
        {
          "name": "stdout",
          "output_type": "stream",
          "text": [
            "Test Accuracy - Overall: 1.05% | Head: 0.00% | Mid: 0.00% | Tail: 3.54%\n",
            "[29/30] val acc: 0.011 train acc: 0.009\n"
          ]
        },
        {
          "name": "stderr",
          "output_type": "stream",
          "text": [
            "0it [00:00, ?it/s]"
          ]
        },
        {
          "name": "stdout",
          "output_type": "stream",
          "text": [
            "[30/30,     1/1563] lr: 0.00090 loss: 0.023 acc: 0.000\n"
          ]
        },
        {
          "name": "stderr",
          "output_type": "stream",
          "text": [
            "224it [00:01, 193.72it/s]"
          ]
        },
        {
          "name": "stdout",
          "output_type": "stream",
          "text": [
            "[30/30,   201/1563] lr: 0.00090 loss: 4.605 acc: 0.012\n"
          ]
        },
        {
          "name": "stderr",
          "output_type": "stream",
          "text": [
            "433it [00:02, 208.61it/s]"
          ]
        },
        {
          "name": "stdout",
          "output_type": "stream",
          "text": [
            "[30/30,   401/1563] lr: 0.00090 loss: 4.606 acc: 0.010\n"
          ]
        },
        {
          "name": "stderr",
          "output_type": "stream",
          "text": [
            "643it [00:03, 225.17it/s]"
          ]
        },
        {
          "name": "stdout",
          "output_type": "stream",
          "text": [
            "[30/30,   601/1563] lr: 0.00090 loss: 4.606 acc: 0.009\n"
          ]
        },
        {
          "name": "stderr",
          "output_type": "stream",
          "text": [
            "834it [00:04, 195.15it/s]"
          ]
        },
        {
          "name": "stdout",
          "output_type": "stream",
          "text": [
            "[30/30,   801/1563] lr: 0.00090 loss: 4.606 acc: 0.011\n"
          ]
        },
        {
          "name": "stderr",
          "output_type": "stream",
          "text": [
            "1038it [00:05, 195.07it/s]"
          ]
        },
        {
          "name": "stdout",
          "output_type": "stream",
          "text": [
            "[30/30,  1001/1563] lr: 0.00090 loss: 4.606 acc: 0.009\n"
          ]
        },
        {
          "name": "stderr",
          "output_type": "stream",
          "text": [
            "1222it [00:06, 197.59it/s]"
          ]
        },
        {
          "name": "stdout",
          "output_type": "stream",
          "text": [
            "[30/30,  1201/1563] lr: 0.00090 loss: 4.606 acc: 0.006\n"
          ]
        },
        {
          "name": "stderr",
          "output_type": "stream",
          "text": [
            "1430it [00:07, 202.68it/s]"
          ]
        },
        {
          "name": "stdout",
          "output_type": "stream",
          "text": [
            "[30/30,  1401/1563] lr: 0.00090 loss: 4.606 acc: 0.008\n"
          ]
        },
        {
          "name": "stderr",
          "output_type": "stream",
          "text": [
            "1563it [00:07, 198.61it/s]\n"
          ]
        },
        {
          "name": "stdout",
          "output_type": "stream",
          "text": [
            "Test Accuracy - Overall: 0.95% | Head: 3.14% | Mid: 0.00% | Tail: 0.00%\n",
            "[30/30] val acc: 0.009 train acc: 0.009\n"
          ]
        }
      ],
      "source": [
        "import torch\n",
        "import torch.nn as nn\n",
        "import torch.nn.functional as F\n",
        "\n",
        "class tempModel(nn.Module):\n",
        "    def __init__(self):\n",
        "        super(tempModel, self).__init__()\n",
        "\n",
        "        self.features = nn.Sequential(\n",
        "            nn.Conv2d(in_channels=3, out_channels=32, kernel_size=2),\n",
        "            nn.ReLU(),\n",
        "            nn.MaxPool2d(kernel_size=2),\n",
        "            nn.BatchNorm2d(32),\n",
        "\n",
        "            nn.Conv2d(in_channels=32, out_channels=64, kernel_size=2),\n",
        "            nn.ReLU(),\n",
        "            nn.MaxPool2d(kernel_size=2),\n",
        "            nn.BatchNorm2d(64),\n",
        "\n",
        "            nn.Conv2d(in_channels=64, out_channels=128, kernel_size=2),\n",
        "            nn.ReLU(),\n",
        "            nn.MaxPool2d(kernel_size=2),\n",
        "            nn.BatchNorm2d(128)\n",
        "        )\n",
        "\n",
        "        self.classifier = nn.Sequential(\n",
        "            nn.Flatten(),\n",
        "            nn.Linear(128 * 3 * 3, 256),  # CIFAR-100 32x32 input with 3x3 feature map after pooling\n",
        "            nn.ReLU(),\n",
        "            nn.Dropout(0.2),\n",
        "            nn.Linear(256, 128),\n",
        "            nn.ReLU(),\n",
        "            nn.Dropout(0.2),\n",
        "            nn.Linear(128, 100)  # 100 classes\n",
        "        )\n",
        "\n",
        "    def forward(self, x):\n",
        "        x = self.features(x)\n",
        "        x = self.classifier(x)\n",
        "        return F.log_softmax(x, dim=1)  # equivalent to softmax + cross-entropy\n",
        "\n",
        "\n",
        "model = tempModel()\n",
        "model.to(device)\n",
        "\n",
        "# Train/Val Set\n",
        "trainSet = torch.utils.data.TensorDataset(torch.Tensor(trainData), torch.Tensor(trainLabel).long())\n",
        "trainLoader = torch.utils.data.DataLoader(trainSet, batch_size=32, shuffle=True, num_workers=2)\n",
        "valSet = torch.utils.data.TensorDataset(torch.Tensor(valData), torch.Tensor(valLabel))\n",
        "valLoader = torch.utils.data.DataLoader(valSet, batch_size=32, shuffle=True, num_workers=2)\n",
        "\n",
        "# Params\n",
        "optimizer = torch.optim.Adam(model.parameters(), lr=0.01)\n",
        "scheduler = torch.optim.lr_scheduler.StepLR(optimizer, step_size=10, gamma=0.3)\n",
        "loss = nn.CrossEntropyLoss()\n",
        "\n",
        "# Train\n",
        "cifar100_model.to(device)\n",
        "train_model(trainLoader, valLoader, 30, model, optimizer, scheduler, loss)"
      ]
    },
    {
      "cell_type": "code",
      "execution_count": null,
      "id": "7dce19a4",
      "metadata": {
        "id": "7dce19a4"
      },
      "outputs": [],
      "source": []
    }
  ],
  "metadata": {
    "colab": {
      "provenance": []
    },
    "kernelspec": {
      "display_name": "Python 3",
      "name": "python3"
    },
    "language_info": {
      "codemirror_mode": {
        "name": "ipython",
        "version": 3
      },
      "file_extension": ".py",
      "mimetype": "text/x-python",
      "name": "python",
      "nbconvert_exporter": "python",
      "pygments_lexer": "ipython3",
      "version": "3.11.1"
    }
  },
  "nbformat": 4,
  "nbformat_minor": 5
}